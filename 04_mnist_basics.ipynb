{
  "cells": [
    {
      "cell_type": "markdown",
      "metadata": {
        "id": "view-in-github",
        "colab_type": "text"
      },
      "source": [
        "<a href=\"https://colab.research.google.com/github/cozzin/Practical-Deep-Learning-for-Coders/blob/main/04_mnist_basics.ipynb\" target=\"_parent\"><img src=\"https://colab.research.google.com/assets/colab-badge.svg\" alt=\"Open In Colab\"/></a>"
      ]
    },
    {
      "cell_type": "code",
      "execution_count": null,
      "metadata": {
        "id": "M0S3bFVwLffm",
        "colab": {
          "base_uri": "https://localhost:8080/"
        },
        "outputId": "6cb85cb5-c80e-4461-9138-4f1acc9ef8f4"
      },
      "outputs": [
        {
          "output_type": "stream",
          "name": "stdout",
          "text": [
            "\u001b[K     |████████████████████████████████| 720 kB 5.1 MB/s \n",
            "\u001b[K     |████████████████████████████████| 189 kB 49.5 MB/s \n",
            "\u001b[K     |████████████████████████████████| 1.2 MB 24.3 MB/s \n",
            "\u001b[K     |████████████████████████████████| 46 kB 3.7 MB/s \n",
            "\u001b[K     |████████████████████████████████| 56 kB 4.1 MB/s \n",
            "\u001b[K     |████████████████████████████████| 51 kB 277 kB/s \n",
            "\u001b[?25hMounted at /content/gdrive\n"
          ]
        }
      ],
      "source": [
        "#hide\n",
        "!pip install -Uqq fastbook\n",
        "import fastbook\n",
        "fastbook.setup_book()"
      ]
    },
    {
      "cell_type": "code",
      "execution_count": null,
      "metadata": {
        "id": "WEpQc1s7Lffs"
      },
      "outputs": [],
      "source": [
        "#hide\n",
        "from fastai.vision.all import *\n",
        "from fastbook import *\n",
        "\n",
        "matplotlib.rc('image', cmap='Greys')"
      ]
    },
    {
      "cell_type": "raw",
      "metadata": {
        "id": "fKIy38HkLfft"
      },
      "source": [
        "[[chapter_mnist_basics]]"
      ]
    },
    {
      "cell_type": "markdown",
      "source": [
        "# Under the Hood: Training a Digit Classifier\n",
        "\n",
        "이번챕터 배울 배용\n",
        "\n",
        "- 학습이 처리되는 내부 살펴봄\n",
        "- 딥러닝 개념\n",
        "- 딥러닝 기초 도구\n",
        "- 배열과 텐서의 역할\n",
        "- 브로드캐스팅\n",
        "    \n",
        "    배열과 텐서를 효과적으로 사용하는 기법\n",
        "    \n",
        "- 확률적 경사 하강법\n",
        "    \n",
        "    Stochastic Gradient Descent\n",
        "    \n",
        "    파라미터의 가중치를 자동으로 갱신\n",
        "    \n",
        "- 손실 함수의 종류\n",
        "    \n",
        "    기본적인 분류작업에서 선택 가능\n",
        "    \n",
        "- 미니배치의 역할\n",
        "- 신경망의 기본 작동\n",
        "- 배운 내용 종합"
      ],
      "metadata": {
        "id": "VVRasbKkL8x4"
      }
    },
    {
      "cell_type": "markdown",
      "metadata": {
        "id": "3rcZWqPGLffx"
      },
      "source": [
        "## Pixels: The Foundations of Computer Vision"
      ]
    },
    {
      "cell_type": "markdown",
      "source": [
        "* 컴퓨터가 이미지를 다루는 방식 이해하기\n",
        "* MINST: 손글씨 데이터셋"
      ],
      "metadata": {
        "id": "0gd45V_YMuwd"
      }
    },
    {
      "cell_type": "markdown",
      "metadata": {
        "id": "IZMPaEYBLffx"
      },
      "source": [
        "In order to understand what happens in a computer vision model, we first have to understand how computers handle images. We'll use one of the most famous datasets in computer vision, [MNIST](https://en.wikipedia.org/wiki/MNIST_database), for our experiments. MNIST contains images of handwritten digits, collected by the National Institute of Standards and Technology and collated into a machine learning dataset by Yann Lecun and his colleagues. Lecun used MNIST in 1998 in [Lenet-5](http://yann.lecun.com/exdb/lenet/), the first computer system to demonstrate practically useful recognition of handwritten digit sequences. This was one of the most important breakthroughs in the history of AI."
      ]
    },
    {
      "cell_type": "markdown",
      "metadata": {
        "id": "2pRp5to7Lffz"
      },
      "source": [
        "## Sidebar: Tenacity and Deep Learning"
      ]
    },
    {
      "cell_type": "markdown",
      "metadata": {
        "id": "9Qy7zGISLff0"
      },
      "source": [
        "(좋은 내용인데 핵심은 아님)\n",
        "\n",
        "The story of deep learning is one of tenacity and grit by a handful of dedicated researchers. After early hopes (and hype!) neural networks went out of favor in the 1990's and 2000's, and just a handful of researchers kept trying to make them work well. Three of them, Yann Lecun, Yoshua Bengio, and Geoffrey Hinton, were awarded the highest honor in computer science, the Turing Award (generally considered the \"Nobel Prize of computer science\"), in 2018 after triumphing despite the deep skepticism and disinterest of the wider machine learning and statistics community.\n",
        "\n",
        "Geoff Hinton has told of how even academic papers showing dramatically better results than anything previously published would be rejected by top journals and conferences, just because they used a neural network. Yann Lecun's work on convolutional neural networks, which we will study in the next section, showed that these models could read handwritten text—something that had never been achieved before. However, his breakthrough was ignored by most researchers, even as it was used commercially to read 10% of the checks in the US!\n",
        "\n",
        "In addition to these three Turing Award winners, there are many other researchers who have battled to get us to where we are today. For instance, Jurgen Schmidhuber (who many believe should have shared in the Turing Award) pioneered many important ideas, including working with his student Sepp Hochreiter on the long short-term memory (LSTM) architecture (widely used for speech recognition and other text modeling tasks, and used in the IMDb example in <<chapter_intro>>). Perhaps most important of all, Paul Werbos in 1974 invented back-propagation for neural networks, the technique shown in this chapter and used universally for training neural networks ([Werbos 1994](https://books.google.com/books/about/The_Roots_of_Backpropagation.html?id=WdR3OOM2gBwC)). His development was almost entirely ignored for decades, but today it is considered the most important foundation of modern AI.\n",
        "\n",
        "There is a lesson here for all of us! On your deep learning journey you will face many obstacles, both technical, and (even more difficult) posed by people around you who don't believe you'll be successful. There's one *guaranteed* way to fail, and that's to stop trying. We've seen that the only consistent trait amongst every fast.ai student that's gone on to be a world-class practitioner is that they are all very tenacious."
      ]
    },
    {
      "cell_type": "markdown",
      "metadata": {
        "id": "CXEtwNy8Lff1"
      },
      "source": [
        "## End sidebar"
      ]
    },
    {
      "cell_type": "markdown",
      "metadata": {
        "id": "hxU-ZuTOLff2"
      },
      "source": [
        "## 3, 7 이미지 분류 모델 만들기\n",
        "\n",
        "For this initial tutorial we are just going to try to create a model that can classify any image as a 3 or a 7. So let's download a sample of MNIST that contains images of just these digits:"
      ]
    },
    {
      "cell_type": "code",
      "execution_count": null,
      "metadata": {
        "id": "UQXmFBtWLff3",
        "colab": {
          "base_uri": "https://localhost:8080/"
        },
        "outputId": "325cc423-c7a0-4694-c915-6f57e09cc2ac"
      },
      "outputs": [
        {
          "output_type": "display_data",
          "data": {
            "text/html": [
              "\n",
              "    <div>\n",
              "        <style>\n",
              "            /* Turns off some styling */\n",
              "            progress {\n",
              "                /* gets rid of default border in Firefox and Opera. */\n",
              "                border: none;\n",
              "                /* Needs to be in here for Safari polyfill so background images work as expected. */\n",
              "                background-size: auto;\n",
              "            }\n",
              "            .progress-bar-interrupted, .progress-bar-interrupted::-webkit-progress-bar {\n",
              "                background: #F44336;\n",
              "            }\n",
              "        </style>\n",
              "      <progress value='3219456' class='' max='3214948' style='width:300px; height:20px; vertical-align: middle;'></progress>\n",
              "      100.14% [3219456/3214948 00:00<00:00]\n",
              "    </div>\n",
              "    "
            ],
            "text/plain": [
              "<IPython.core.display.HTML object>"
            ]
          },
          "metadata": {}
        }
      ],
      "source": [
        "# MINST 샘플 데이터셋 다운로드\n",
        "path = untar_data(URLs.MNIST_SAMPLE)"
      ]
    },
    {
      "cell_type": "code",
      "execution_count": null,
      "metadata": {
        "id": "SPXiu1gpLff3"
      },
      "outputs": [],
      "source": [
        "#hide\n",
        "Path.BASE_PATH = path"
      ]
    },
    {
      "cell_type": "markdown",
      "metadata": {
        "id": "hLIDLQoyLff4"
      },
      "source": [
        "We can see what's in this directory by using `ls`, a method added by fastai. This method returns an object of a special fastai class called `L`, which has all the same functionality of Python's built-in `list`, plus a lot more. One of its handy features is that, when printed, it displays the count of items, before listing the items themselves (if there are more than 10 items, it just shows the first few):"
      ]
    },
    {
      "cell_type": "code",
      "execution_count": null,
      "metadata": {
        "id": "OVQCC1Z5Lff4",
        "outputId": "4ba954f6-d93e-4349-918a-c4d5dba2ef99",
        "colab": {
          "base_uri": "https://localhost:8080/"
        }
      },
      "outputs": [
        {
          "output_type": "execute_result",
          "data": {
            "text/plain": [
              "(#3) [Path('train'),Path('valid'),Path('labels.csv')]"
            ]
          },
          "metadata": {},
          "execution_count": 5
        }
      ],
      "source": [
        "# 디렉토리 내용 확인\n",
        "path.ls()"
      ]
    },
    {
      "cell_type": "markdown",
      "metadata": {
        "id": "juRBy2XOLff5"
      },
      "source": [
        "The MNIST dataset follows a common layout for machine learning datasets: separate folders for the training set and the validation set (and/or test set). Let's see what's inside the training set:"
      ]
    },
    {
      "cell_type": "code",
      "execution_count": null,
      "metadata": {
        "id": "R4dDg5vaLff6",
        "outputId": "a09ef4a4-ec39-4d20-8e4b-f79aa9e4032a",
        "colab": {
          "base_uri": "https://localhost:8080/"
        }
      },
      "outputs": [
        {
          "output_type": "execute_result",
          "data": {
            "text/plain": [
              "(#2) [Path('train/7'),Path('train/3')]"
            ]
          },
          "metadata": {},
          "execution_count": 6
        }
      ],
      "source": [
        "# 학습, 검증 데이터셋 별도 폴더에 있음\n",
        "(path/'train').ls() # 학습 데이터 폴더 확인"
      ]
    },
    {
      "cell_type": "markdown",
      "metadata": {
        "id": "h2e537X9Lff6"
      },
      "source": [
        "There's a folder of 3s, and a folder of 7s. In machine learning parlance, we say that \"3\" and \"7\" are the *labels* (or targets) in this dataset. Let's take a look in one of these folders (using `sorted` to ensure we all get the same order of files):"
      ]
    },
    {
      "cell_type": "code",
      "execution_count": null,
      "metadata": {
        "id": "N0oBhzK-Lff7",
        "outputId": "057a6637-b70d-43a0-eee4-9e5a2501c642",
        "colab": {
          "base_uri": "https://localhost:8080/"
        }
      },
      "outputs": [
        {
          "output_type": "execute_result",
          "data": {
            "text/plain": [
              "(#6131) [Path('train/3/10.png'),Path('train/3/10000.png'),Path('train/3/10011.png'),Path('train/3/10031.png'),Path('train/3/10034.png'),Path('train/3/10042.png'),Path('train/3/10052.png'),Path('train/3/1007.png'),Path('train/3/10074.png'),Path('train/3/10091.png')...]"
            ]
          },
          "metadata": {},
          "execution_count": 7
        }
      ],
      "source": [
        "# '3', '7'을 레이블 or 타겟 이라고 부름\n",
        "threes = (path/'train'/'3').ls().sorted()\n",
        "sevens = (path/'train'/'7').ls().sorted()\n",
        "threes"
      ]
    },
    {
      "cell_type": "markdown",
      "metadata": {
        "id": "WFuDDtllLff7"
      },
      "source": [
        "As we might expect, it's full of image files. Let’s take a look at one now. Here’s an image of a handwritten number 3, taken from the famous MNIST dataset of handwritten numbers:"
      ]
    },
    {
      "cell_type": "code",
      "execution_count": null,
      "metadata": {
        "id": "dl-rAkAaLff8",
        "outputId": "ad13b19f-596e-42f2-ccec-a5091114d1ef",
        "colab": {
          "base_uri": "https://localhost:8080/"
        }
      },
      "outputs": [
        {
          "output_type": "execute_result",
          "data": {
            "image/png": "[encoded data removed]",
            "text/plain": [
              "<PIL.PngImagePlugin.PngImageFile image mode=L size=28x28 at 0x7F4AAEEC5790>"
            ]
          },
          "metadata": {},
          "execution_count": 8
        }
      ],
      "source": [
        "# 어떤 이미지 파일이 있나 살펴보기\n",
        "im3_path = threes[1]\n",
        "im3 = Image.open(im3_path) # 파이썬 영상 처리 라이브러리 `PIL`에 있는 `Image` 클래스 사용\n",
        "im3"
      ]
    },
    {
      "cell_type": "markdown",
      "metadata": {
        "id": "KTefC11gLff8"
      },
      "source": [
        "Here we are using the `Image` class from the *Python Imaging Library* (PIL), which is the most widely used Python package for opening, manipulating, and viewing images. Jupyter knows about PIL images, so it displays the image for us automatically.\n",
        "\n",
        "In a computer, everything is represented as a number. To view the numbers that make up this image, we have to convert it to a *NumPy array* or a *PyTorch tensor*. For instance, here's what a section of the image looks like, converted to a NumPy array:"
      ]
    },
    {
      "cell_type": "code",
      "execution_count": null,
      "metadata": {
        "id": "qsGMlEuaLff8",
        "outputId": "f48ed92a-6818-47fa-a78b-fb03d9baaa10",
        "colab": {
          "base_uri": "https://localhost:8080/"
        }
      },
      "outputs": [
        {
          "output_type": "execute_result",
          "data": {
            "text/plain": [
              "array([[  0,   0,   0,   0,   0,   0],\n",
              "       [  0,   0,   0,   0,   0,  29],\n",
              "       [  0,   0,   0,  48, 166, 224],\n",
              "       [  0,  93, 244, 249, 253, 187],\n",
              "       [  0, 107, 253, 253, 230,  48],\n",
              "       [  0,   3,  20,  20,  15,   0]], dtype=uint8)"
            ]
          },
          "metadata": {},
          "execution_count": 9
        }
      ],
      "source": [
        "# NumPy.array 사용해서 \n",
        "# 이미지를 구성하는 숫자 확인\n",
        "array(im3)[4:10,4:10] # 4~9 범위의 데이터 표현"
      ]
    },
    {
      "cell_type": "markdown",
      "metadata": {
        "id": "6OvxDpCMLff9"
      },
      "source": [
        "The `4:10` indicates we requested the rows from index 4 (included) to 10 (not included) and the same for the columns. NumPy indexes from top to bottom and left to right, so this section is located in the top-left corner of the image. Here's the same thing as a PyTorch tensor:"
      ]
    },
    {
      "cell_type": "code",
      "execution_count": null,
      "metadata": {
        "id": "6Vv-wE7uLff9",
        "outputId": "ee6b5e5a-c377-430a-ffca-18a001fff59e",
        "colab": {
          "base_uri": "https://localhost:8080/"
        }
      },
      "outputs": [
        {
          "output_type": "execute_result",
          "data": {
            "text/plain": [
              "tensor([[  0,   0,   0,   0,   0,   0],\n",
              "        [  0,   0,   0,   0,   0,  29],\n",
              "        [  0,   0,   0,  48, 166, 224],\n",
              "        [  0,  93, 244, 249, 253, 187],\n",
              "        [  0, 107, 253, 253, 230,  48],\n",
              "        [  0,   3,  20,  20,  15,   0]], dtype=torch.uint8)"
            ]
          },
          "metadata": {},
          "execution_count": 10
        }
      ],
      "source": [
        "# PyTorch.tensor 사용해서\n",
        "# 이미지를 구성하는 숫자 확인\n",
        "tensor(im3)[4:10,4:10]"
      ]
    },
    {
      "cell_type": "markdown",
      "metadata": {
        "id": "62SawSC6Lff-"
      },
      "source": [
        "We can slice the array to pick just the part with the top of the digit in it, and then use a Pandas DataFrame to color-code the values using a gradient, which shows us clearly how the image is created from the pixel values:"
      ]
    },
    {
      "cell_type": "code",
      "execution_count": null,
      "metadata": {
        "id": "V3CxgdpaLff-",
        "outputId": "8bae1fe0-fc45-45a3-b16f-6a6a475a03b3",
        "colab": {
          "base_uri": "https://localhost:8080/"
        }
      },
      "outputs": [
        {
          "output_type": "execute_result",
          "data": {
            "text/html": [
              "<style  type=\"text/css\" >\n",
              "#T_c6501a24_6133_11ec_ac9c_0242ac1c0002row0_col0,#T_c6501a24_6133_11ec_ac9c_0242ac1c0002row0_col1,#T_c6501a24_6133_11ec_ac9c_0242ac1c0002row0_col2,#T_c6501a24_6133_11ec_ac9c_0242ac1c0002row0_col3,#T_c6501a24_6133_11ec_ac9c_0242ac1c0002row0_col4,#T_c6501a24_6133_11ec_ac9c_0242ac1c0002row0_col5,#T_c6501a24_6133_11ec_ac9c_0242ac1c0002row0_col6,#T_c6501a24_6133_11ec_ac9c_0242ac1c0002row0_col7,#T_c6501a24_6133_11ec_ac9c_0242ac1c0002row0_col8,#T_c6501a24_6133_11ec_ac9c_0242ac1c0002row0_col9,#T_c6501a24_6133_11ec_ac9c_0242ac1c0002row0_col10,#T_c6501a24_6133_11ec_ac9c_0242ac1c0002row0_col11,#T_c6501a24_6133_11ec_ac9c_0242ac1c0002row0_col12,#T_c6501a24_6133_11ec_ac9c_0242ac1c0002row0_col13,#T_c6501a24_6133_11ec_ac9c_0242ac1c0002row0_col14,#T_c6501a24_6133_11ec_ac9c_0242ac1c0002row0_col15,#T_c6501a24_6133_11ec_ac9c_0242ac1c0002row0_col16,#T_c6501a24_6133_11ec_ac9c_0242ac1c0002row0_col17,#T_c6501a24_6133_11ec_ac9c_0242ac1c0002row1_col0,#T_c6501a24_6133_11ec_ac9c_0242ac1c0002row1_col1,#T_c6501a24_6133_11ec_ac9c_0242ac1c0002row1_col2,#T_c6501a24_6133_11ec_ac9c_0242ac1c0002row1_col3,#T_c6501a24_6133_11ec_ac9c_0242ac1c0002row1_col4,#T_c6501a24_6133_11ec_ac9c_0242ac1c0002row1_col15,#T_c6501a24_6133_11ec_ac9c_0242ac1c0002row1_col16,#T_c6501a24_6133_11ec_ac9c_0242ac1c0002row1_col17,#T_c6501a24_6133_11ec_ac9c_0242ac1c0002row2_col0,#T_c6501a24_6133_11ec_ac9c_0242ac1c0002row2_col1,#T_c6501a24_6133_11ec_ac9c_0242ac1c0002row2_col2,#T_c6501a24_6133_11ec_ac9c_0242ac1c0002row2_col15,#T_c6501a24_6133_11ec_ac9c_0242ac1c0002row2_col16,#T_c6501a24_6133_11ec_ac9c_0242ac1c0002row2_col17,#T_c6501a24_6133_11ec_ac9c_0242ac1c0002row3_col0,#T_c6501a24_6133_11ec_ac9c_0242ac1c0002row3_col15,#T_c6501a24_6133_11ec_ac9c_0242ac1c0002row3_col16,#T_c6501a24_6133_11ec_ac9c_0242ac1c0002row3_col17,#T_c6501a24_6133_11ec_ac9c_0242ac1c0002row4_col0,#T_c6501a24_6133_11ec_ac9c_0242ac1c0002row4_col6,#T_c6501a24_6133_11ec_ac9c_0242ac1c0002row4_col7,#T_c6501a24_6133_11ec_ac9c_0242ac1c0002row4_col8,#T_c6501a24_6133_11ec_ac9c_0242ac1c0002row4_col9,#T_c6501a24_6133_11ec_ac9c_0242ac1c0002row4_col10,#T_c6501a24_6133_11ec_ac9c_0242ac1c0002row4_col15,#T_c6501a24_6133_11ec_ac9c_0242ac1c0002row4_col16,#T_c6501a24_6133_11ec_ac9c_0242ac1c0002row4_col17,#T_c6501a24_6133_11ec_ac9c_0242ac1c0002row5_col0,#T_c6501a24_6133_11ec_ac9c_0242ac1c0002row5_col5,#T_c6501a24_6133_11ec_ac9c_0242ac1c0002row5_col6,#T_c6501a24_6133_11ec_ac9c_0242ac1c0002row5_col7,#T_c6501a24_6133_11ec_ac9c_0242ac1c0002row5_col8,#T_c6501a24_6133_11ec_ac9c_0242ac1c0002row5_col9,#T_c6501a24_6133_11ec_ac9c_0242ac1c0002row5_col15,#T_c6501a24_6133_11ec_ac9c_0242ac1c0002row5_col16,#T_c6501a24_6133_11ec_ac9c_0242ac1c0002row5_col17,#T_c6501a24_6133_11ec_ac9c_0242ac1c0002row6_col0,#T_c6501a24_6133_11ec_ac9c_0242ac1c0002row6_col1,#T_c6501a24_6133_11ec_ac9c_0242ac1c0002row6_col2,#T_c6501a24_6133_11ec_ac9c_0242ac1c0002row6_col3,#T_c6501a24_6133_11ec_ac9c_0242ac1c0002row6_col4,#T_c6501a24_6133_11ec_ac9c_0242ac1c0002row6_col5,#T_c6501a24_6133_11ec_ac9c_0242ac1c0002row6_col6,#T_c6501a24_6133_11ec_ac9c_0242ac1c0002row6_col7,#T_c6501a24_6133_11ec_ac9c_0242ac1c0002row6_col8,#T_c6501a24_6133_11ec_ac9c_0242ac1c0002row6_col9,#T_c6501a24_6133_11ec_ac9c_0242ac1c0002row6_col14,#T_c6501a24_6133_11ec_ac9c_0242ac1c0002row6_col15,#T_c6501a24_6133_11ec_ac9c_0242ac1c0002row6_col16,#T_c6501a24_6133_11ec_ac9c_0242ac1c0002row6_col17,#T_c6501a24_6133_11ec_ac9c_0242ac1c0002row7_col0,#T_c6501a24_6133_11ec_ac9c_0242ac1c0002row7_col1,#T_c6501a24_6133_11ec_ac9c_0242ac1c0002row7_col2,#T_c6501a24_6133_11ec_ac9c_0242ac1c0002row7_col3,#T_c6501a24_6133_11ec_ac9c_0242ac1c0002row7_col4,#T_c6501a24_6133_11ec_ac9c_0242ac1c0002row7_col5,#T_c6501a24_6133_11ec_ac9c_0242ac1c0002row7_col6,#T_c6501a24_6133_11ec_ac9c_0242ac1c0002row7_col13,#T_c6501a24_6133_11ec_ac9c_0242ac1c0002row7_col14,#T_c6501a24_6133_11ec_ac9c_0242ac1c0002row7_col15,#T_c6501a24_6133_11ec_ac9c_0242ac1c0002row7_col16,#T_c6501a24_6133_11ec_ac9c_0242ac1c0002row7_col17,#T_c6501a24_6133_11ec_ac9c_0242ac1c0002row8_col0,#T_c6501a24_6133_11ec_ac9c_0242ac1c0002row8_col1,#T_c6501a24_6133_11ec_ac9c_0242ac1c0002row8_col2,#T_c6501a24_6133_11ec_ac9c_0242ac1c0002row8_col3,#T_c6501a24_6133_11ec_ac9c_0242ac1c0002row8_col4,#T_c6501a24_6133_11ec_ac9c_0242ac1c0002row8_col13,#T_c6501a24_6133_11ec_ac9c_0242ac1c0002row8_col14,#T_c6501a24_6133_11ec_ac9c_0242ac1c0002row8_col15,#T_c6501a24_6133_11ec_ac9c_0242ac1c0002row8_col16,#T_c6501a24_6133_11ec_ac9c_0242ac1c0002row8_col17,#T_c6501a24_6133_11ec_ac9c_0242ac1c0002row9_col0,#T_c6501a24_6133_11ec_ac9c_0242ac1c0002row9_col1,#T_c6501a24_6133_11ec_ac9c_0242ac1c0002row9_col2,#T_c6501a24_6133_11ec_ac9c_0242ac1c0002row9_col3,#T_c6501a24_6133_11ec_ac9c_0242ac1c0002row9_col4,#T_c6501a24_6133_11ec_ac9c_0242ac1c0002row9_col16,#T_c6501a24_6133_11ec_ac9c_0242ac1c0002row9_col17,#T_c6501a24_6133_11ec_ac9c_0242ac1c0002row10_col0,#T_c6501a24_6133_11ec_ac9c_0242ac1c0002row10_col1,#T_c6501a24_6133_11ec_ac9c_0242ac1c0002row10_col2,#T_c6501a24_6133_11ec_ac9c_0242ac1c0002row10_col3,#T_c6501a24_6133_11ec_ac9c_0242ac1c0002row10_col4,#T_c6501a24_6133_11ec_ac9c_0242ac1c0002row10_col5,#T_c6501a24_6133_11ec_ac9c_0242ac1c0002row10_col6,#T_c6501a24_6133_11ec_ac9c_0242ac1c0002row10_col17{\n",
              "            font-size:  6pt;\n",
              "            background-color:  #ffffff;\n",
              "            color:  #000000;\n",
              "        }#T_c6501a24_6133_11ec_ac9c_0242ac1c0002row1_col5{\n",
              "            font-size:  6pt;\n",
              "            background-color:  #efefef;\n",
              "            color:  #000000;\n",
              "        }#T_c6501a24_6133_11ec_ac9c_0242ac1c0002row1_col6,#T_c6501a24_6133_11ec_ac9c_0242ac1c0002row1_col13{\n",
              "            font-size:  6pt;\n",
              "            background-color:  #7c7c7c;\n",
              "            color:  #000000;\n",
              "        }#T_c6501a24_6133_11ec_ac9c_0242ac1c0002row1_col7{\n",
              "            font-size:  6pt;\n",
              "            background-color:  #4a4a4a;\n",
              "            color:  #f1f1f1;\n",
              "        }#T_c6501a24_6133_11ec_ac9c_0242ac1c0002row1_col8,#T_c6501a24_6133_11ec_ac9c_0242ac1c0002row1_col9,#T_c6501a24_6133_11ec_ac9c_0242ac1c0002row1_col10,#T_c6501a24_6133_11ec_ac9c_0242ac1c0002row2_col5,#T_c6501a24_6133_11ec_ac9c_0242ac1c0002row2_col6,#T_c6501a24_6133_11ec_ac9c_0242ac1c0002row2_col7,#T_c6501a24_6133_11ec_ac9c_0242ac1c0002row2_col11,#T_c6501a24_6133_11ec_ac9c_0242ac1c0002row2_col12,#T_c6501a24_6133_11ec_ac9c_0242ac1c0002row2_col13,#T_c6501a24_6133_11ec_ac9c_0242ac1c0002row3_col4,#T_c6501a24_6133_11ec_ac9c_0242ac1c0002row3_col12,#T_c6501a24_6133_11ec_ac9c_0242ac1c0002row3_col13,#T_c6501a24_6133_11ec_ac9c_0242ac1c0002row4_col1,#T_c6501a24_6133_11ec_ac9c_0242ac1c0002row4_col2,#T_c6501a24_6133_11ec_ac9c_0242ac1c0002row4_col3,#T_c6501a24_6133_11ec_ac9c_0242ac1c0002row4_col12,#T_c6501a24_6133_11ec_ac9c_0242ac1c0002row4_col13,#T_c6501a24_6133_11ec_ac9c_0242ac1c0002row5_col12,#T_c6501a24_6133_11ec_ac9c_0242ac1c0002row6_col11,#T_c6501a24_6133_11ec_ac9c_0242ac1c0002row9_col11,#T_c6501a24_6133_11ec_ac9c_0242ac1c0002row10_col11,#T_c6501a24_6133_11ec_ac9c_0242ac1c0002row10_col12,#T_c6501a24_6133_11ec_ac9c_0242ac1c0002row10_col13,#T_c6501a24_6133_11ec_ac9c_0242ac1c0002row10_col14,#T_c6501a24_6133_11ec_ac9c_0242ac1c0002row10_col15,#T_c6501a24_6133_11ec_ac9c_0242ac1c0002row10_col16{\n",
              "            font-size:  6pt;\n",
              "            background-color:  #000000;\n",
              "            color:  #f1f1f1;\n",
              "        }#T_c6501a24_6133_11ec_ac9c_0242ac1c0002row1_col11{\n",
              "            font-size:  6pt;\n",
              "            background-color:  #606060;\n",
              "            color:  #f1f1f1;\n",
              "        }#T_c6501a24_6133_11ec_ac9c_0242ac1c0002row1_col12{\n",
              "            font-size:  6pt;\n",
              "            background-color:  #4d4d4d;\n",
              "            color:  #f1f1f1;\n",
              "        }#T_c6501a24_6133_11ec_ac9c_0242ac1c0002row1_col14{\n",
              "            font-size:  6pt;\n",
              "            background-color:  #bbbbbb;\n",
              "            color:  #000000;\n",
              "        }#T_c6501a24_6133_11ec_ac9c_0242ac1c0002row2_col3{\n",
              "            font-size:  6pt;\n",
              "            background-color:  #e4e4e4;\n",
              "            color:  #000000;\n",
              "        }#T_c6501a24_6133_11ec_ac9c_0242ac1c0002row2_col4,#T_c6501a24_6133_11ec_ac9c_0242ac1c0002row8_col6{\n",
              "            font-size:  6pt;\n",
              "            background-color:  #6b6b6b;\n",
              "            color:  #000000;\n",
              "        }#T_c6501a24_6133_11ec_ac9c_0242ac1c0002row2_col8,#T_c6501a24_6133_11ec_ac9c_0242ac1c0002row2_col14,#T_c6501a24_6133_11ec_ac9c_0242ac1c0002row3_col14{\n",
              "            font-size:  6pt;\n",
              "            background-color:  #171717;\n",
              "            color:  #f1f1f1;\n",
              "        }#T_c6501a24_6133_11ec_ac9c_0242ac1c0002row2_col9,#T_c6501a24_6133_11ec_ac9c_0242ac1c0002row3_col11{\n",
              "            font-size:  6pt;\n",
              "            background-color:  #4b4b4b;\n",
              "            color:  #f1f1f1;\n",
              "        }#T_c6501a24_6133_11ec_ac9c_0242ac1c0002row2_col10,#T_c6501a24_6133_11ec_ac9c_0242ac1c0002row7_col10,#T_c6501a24_6133_11ec_ac9c_0242ac1c0002row8_col8,#T_c6501a24_6133_11ec_ac9c_0242ac1c0002row8_col10,#T_c6501a24_6133_11ec_ac9c_0242ac1c0002row9_col8,#T_c6501a24_6133_11ec_ac9c_0242ac1c0002row9_col10{\n",
              "            font-size:  6pt;\n",
              "            background-color:  #010101;\n",
              "            color:  #f1f1f1;\n",
              "        }#T_c6501a24_6133_11ec_ac9c_0242ac1c0002row3_col1{\n",
              "            font-size:  6pt;\n",
              "            background-color:  #272727;\n",
              "            color:  #f1f1f1;\n",
              "        }#T_c6501a24_6133_11ec_ac9c_0242ac1c0002row3_col2{\n",
              "            font-size:  6pt;\n",
              "            background-color:  #0a0a0a;\n",
              "            color:  #f1f1f1;\n",
              "        }#T_c6501a24_6133_11ec_ac9c_0242ac1c0002row3_col3{\n",
              "            font-size:  6pt;\n",
              "            background-color:  #050505;\n",
              "            color:  #f1f1f1;\n",
              "        }#T_c6501a24_6133_11ec_ac9c_0242ac1c0002row3_col5{\n",
              "            font-size:  6pt;\n",
              "            background-color:  #333333;\n",
              "            color:  #f1f1f1;\n",
              "        }#T_c6501a24_6133_11ec_ac9c_0242ac1c0002row3_col6{\n",
              "            font-size:  6pt;\n",
              "            background-color:  #e6e6e6;\n",
              "            color:  #000000;\n",
              "        }#T_c6501a24_6133_11ec_ac9c_0242ac1c0002row3_col7,#T_c6501a24_6133_11ec_ac9c_0242ac1c0002row3_col10{\n",
              "            font-size:  6pt;\n",
              "            background-color:  #fafafa;\n",
              "            color:  #000000;\n",
              "        }#T_c6501a24_6133_11ec_ac9c_0242ac1c0002row3_col8{\n",
              "            font-size:  6pt;\n",
              "            background-color:  #fbfbfb;\n",
              "            color:  #000000;\n",
              "        }#T_c6501a24_6133_11ec_ac9c_0242ac1c0002row3_col9{\n",
              "            font-size:  6pt;\n",
              "            background-color:  #fdfdfd;\n",
              "            color:  #000000;\n",
              "        }#T_c6501a24_6133_11ec_ac9c_0242ac1c0002row4_col4{\n",
              "            font-size:  6pt;\n",
              "            background-color:  #1b1b1b;\n",
              "            color:  #f1f1f1;\n",
              "        }#T_c6501a24_6133_11ec_ac9c_0242ac1c0002row4_col5{\n",
              "            font-size:  6pt;\n",
              "            background-color:  #e0e0e0;\n",
              "            color:  #000000;\n",
              "        }#T_c6501a24_6133_11ec_ac9c_0242ac1c0002row4_col11{\n",
              "            font-size:  6pt;\n",
              "            background-color:  #4e4e4e;\n",
              "            color:  #f1f1f1;\n",
              "        }#T_c6501a24_6133_11ec_ac9c_0242ac1c0002row4_col14{\n",
              "            font-size:  6pt;\n",
              "            background-color:  #767676;\n",
              "            color:  #000000;\n",
              "        }#T_c6501a24_6133_11ec_ac9c_0242ac1c0002row5_col1{\n",
              "            font-size:  6pt;\n",
              "            background-color:  #fcfcfc;\n",
              "            color:  #000000;\n",
              "        }#T_c6501a24_6133_11ec_ac9c_0242ac1c0002row5_col2,#T_c6501a24_6133_11ec_ac9c_0242ac1c0002row5_col3{\n",
              "            font-size:  6pt;\n",
              "            background-color:  #f6f6f6;\n",
              "            color:  #000000;\n",
              "        }#T_c6501a24_6133_11ec_ac9c_0242ac1c0002row5_col4,#T_c6501a24_6133_11ec_ac9c_0242ac1c0002row7_col7{\n",
              "            font-size:  6pt;\n",
              "            background-color:  #f8f8f8;\n",
              "            color:  #000000;\n",
              "        }#T_c6501a24_6133_11ec_ac9c_0242ac1c0002row5_col10,#T_c6501a24_6133_11ec_ac9c_0242ac1c0002row10_col7{\n",
              "            font-size:  6pt;\n",
              "            background-color:  #e8e8e8;\n",
              "            color:  #000000;\n",
              "        }#T_c6501a24_6133_11ec_ac9c_0242ac1c0002row5_col11{\n",
              "            font-size:  6pt;\n",
              "            background-color:  #222222;\n",
              "            color:  #f1f1f1;\n",
              "        }#T_c6501a24_6133_11ec_ac9c_0242ac1c0002row5_col13,#T_c6501a24_6133_11ec_ac9c_0242ac1c0002row6_col12{\n",
              "            font-size:  6pt;\n",
              "            background-color:  #090909;\n",
              "            color:  #f1f1f1;\n",
              "        }#T_c6501a24_6133_11ec_ac9c_0242ac1c0002row5_col14{\n",
              "            font-size:  6pt;\n",
              "            background-color:  #d0d0d0;\n",
              "            color:  #000000;\n",
              "        }#T_c6501a24_6133_11ec_ac9c_0242ac1c0002row6_col10,#T_c6501a24_6133_11ec_ac9c_0242ac1c0002row7_col11,#T_c6501a24_6133_11ec_ac9c_0242ac1c0002row9_col6{\n",
              "            font-size:  6pt;\n",
              "            background-color:  #060606;\n",
              "            color:  #f1f1f1;\n",
              "        }#T_c6501a24_6133_11ec_ac9c_0242ac1c0002row6_col13{\n",
              "            font-size:  6pt;\n",
              "            background-color:  #979797;\n",
              "            color:  #000000;\n",
              "        }#T_c6501a24_6133_11ec_ac9c_0242ac1c0002row7_col8{\n",
              "            font-size:  6pt;\n",
              "            background-color:  #b6b6b6;\n",
              "            color:  #000000;\n",
              "        }#T_c6501a24_6133_11ec_ac9c_0242ac1c0002row7_col9{\n",
              "            font-size:  6pt;\n",
              "            background-color:  #252525;\n",
              "            color:  #f1f1f1;\n",
              "        }#T_c6501a24_6133_11ec_ac9c_0242ac1c0002row7_col12{\n",
              "            font-size:  6pt;\n",
              "            background-color:  #999999;\n",
              "            color:  #000000;\n",
              "        }#T_c6501a24_6133_11ec_ac9c_0242ac1c0002row8_col5{\n",
              "            font-size:  6pt;\n",
              "            background-color:  #f9f9f9;\n",
              "            color:  #000000;\n",
              "        }#T_c6501a24_6133_11ec_ac9c_0242ac1c0002row8_col7{\n",
              "            font-size:  6pt;\n",
              "            background-color:  #101010;\n",
              "            color:  #f1f1f1;\n",
              "        }#T_c6501a24_6133_11ec_ac9c_0242ac1c0002row8_col9,#T_c6501a24_6133_11ec_ac9c_0242ac1c0002row9_col9{\n",
              "            font-size:  6pt;\n",
              "            background-color:  #020202;\n",
              "            color:  #f1f1f1;\n",
              "        }#T_c6501a24_6133_11ec_ac9c_0242ac1c0002row8_col11{\n",
              "            font-size:  6pt;\n",
              "            background-color:  #545454;\n",
              "            color:  #f1f1f1;\n",
              "        }#T_c6501a24_6133_11ec_ac9c_0242ac1c0002row8_col12{\n",
              "            font-size:  6pt;\n",
              "            background-color:  #f1f1f1;\n",
              "            color:  #000000;\n",
              "        }#T_c6501a24_6133_11ec_ac9c_0242ac1c0002row9_col5{\n",
              "            font-size:  6pt;\n",
              "            background-color:  #f7f7f7;\n",
              "            color:  #000000;\n",
              "        }#T_c6501a24_6133_11ec_ac9c_0242ac1c0002row9_col7{\n",
              "            font-size:  6pt;\n",
              "            background-color:  #030303;\n",
              "            color:  #f1f1f1;\n",
              "        }#T_c6501a24_6133_11ec_ac9c_0242ac1c0002row9_col12{\n",
              "            font-size:  6pt;\n",
              "            background-color:  #181818;\n",
              "            color:  #f1f1f1;\n",
              "        }#T_c6501a24_6133_11ec_ac9c_0242ac1c0002row9_col13{\n",
              "            font-size:  6pt;\n",
              "            background-color:  #303030;\n",
              "            color:  #f1f1f1;\n",
              "        }#T_c6501a24_6133_11ec_ac9c_0242ac1c0002row9_col14{\n",
              "            font-size:  6pt;\n",
              "            background-color:  #a9a9a9;\n",
              "            color:  #000000;\n",
              "        }#T_c6501a24_6133_11ec_ac9c_0242ac1c0002row9_col15{\n",
              "            font-size:  6pt;\n",
              "            background-color:  #fefefe;\n",
              "            color:  #000000;\n",
              "        }#T_c6501a24_6133_11ec_ac9c_0242ac1c0002row10_col8,#T_c6501a24_6133_11ec_ac9c_0242ac1c0002row10_col9{\n",
              "            font-size:  6pt;\n",
              "            background-color:  #bababa;\n",
              "            color:  #000000;\n",
              "        }#T_c6501a24_6133_11ec_ac9c_0242ac1c0002row10_col10{\n",
              "            font-size:  6pt;\n",
              "            background-color:  #393939;\n",
              "            color:  #f1f1f1;\n",
              "        }</style><table id=\"T_c6501a24_6133_11ec_ac9c_0242ac1c0002\" class=\"dataframe\"><thead>    <tr>        <th class=\"blank level0\" ></th>        <th class=\"col_heading level0 col0\" >0</th>        <th class=\"col_heading level0 col1\" >1</th>        <th class=\"col_heading level0 col2\" >2</th>        <th class=\"col_heading level0 col3\" >3</th>        <th class=\"col_heading level0 col4\" >4</th>        <th class=\"col_heading level0 col5\" >5</th>        <th class=\"col_heading level0 col6\" >6</th>        <th class=\"col_heading level0 col7\" >7</th>        <th class=\"col_heading level0 col8\" >8</th>        <th class=\"col_heading level0 col9\" >9</th>        <th class=\"col_heading level0 col10\" >10</th>        <th class=\"col_heading level0 col11\" >11</th>        <th class=\"col_heading level0 col12\" >12</th>        <th class=\"col_heading level0 col13\" >13</th>        <th class=\"col_heading level0 col14\" >14</th>        <th class=\"col_heading level0 col15\" >15</th>        <th class=\"col_heading level0 col16\" >16</th>        <th class=\"col_heading level0 col17\" >17</th>    </tr></thead><tbody>\n",
              "                <tr>\n",
              "                        <th id=\"T_c6501a24_6133_11ec_ac9c_0242ac1c0002level0_row0\" class=\"row_heading level0 row0\" >0</th>\n",
              "                        <td id=\"T_c6501a24_6133_11ec_ac9c_0242ac1c0002row0_col0\" class=\"data row0 col0\" >0</td>\n",
              "                        <td id=\"T_c6501a24_6133_11ec_ac9c_0242ac1c0002row0_col1\" class=\"data row0 col1\" >0</td>\n",
              "                        <td id=\"T_c6501a24_6133_11ec_ac9c_0242ac1c0002row0_col2\" class=\"data row0 col2\" >0</td>\n",
              "                        <td id=\"T_c6501a24_6133_11ec_ac9c_0242ac1c0002row0_col3\" class=\"data row0 col3\" >0</td>\n",
              "                        <td id=\"T_c6501a24_6133_11ec_ac9c_0242ac1c0002row0_col4\" class=\"data row0 col4\" >0</td>\n",
              "                        <td id=\"T_c6501a24_6133_11ec_ac9c_0242ac1c0002row0_col5\" class=\"data row0 col5\" >0</td>\n",
              "                        <td id=\"T_c6501a24_6133_11ec_ac9c_0242ac1c0002row0_col6\" class=\"data row0 col6\" >0</td>\n",
              "                        <td id=\"T_c6501a24_6133_11ec_ac9c_0242ac1c0002row0_col7\" class=\"data row0 col7\" >0</td>\n",
              "                        <td id=\"T_c6501a24_6133_11ec_ac9c_0242ac1c0002row0_col8\" class=\"data row0 col8\" >0</td>\n",
              "                        <td id=\"T_c6501a24_6133_11ec_ac9c_0242ac1c0002row0_col9\" class=\"data row0 col9\" >0</td>\n",
              "                        <td id=\"T_c6501a24_6133_11ec_ac9c_0242ac1c0002row0_col10\" class=\"data row0 col10\" >0</td>\n",
              "                        <td id=\"T_c6501a24_6133_11ec_ac9c_0242ac1c0002row0_col11\" class=\"data row0 col11\" >0</td>\n",
              "                        <td id=\"T_c6501a24_6133_11ec_ac9c_0242ac1c0002row0_col12\" class=\"data row0 col12\" >0</td>\n",
              "                        <td id=\"T_c6501a24_6133_11ec_ac9c_0242ac1c0002row0_col13\" class=\"data row0 col13\" >0</td>\n",
              "                        <td id=\"T_c6501a24_6133_11ec_ac9c_0242ac1c0002row0_col14\" class=\"data row0 col14\" >0</td>\n",
              "                        <td id=\"T_c6501a24_6133_11ec_ac9c_0242ac1c0002row0_col15\" class=\"data row0 col15\" >0</td>\n",
              "                        <td id=\"T_c6501a24_6133_11ec_ac9c_0242ac1c0002row0_col16\" class=\"data row0 col16\" >0</td>\n",
              "                        <td id=\"T_c6501a24_6133_11ec_ac9c_0242ac1c0002row0_col17\" class=\"data row0 col17\" >0</td>\n",
              "            </tr>\n",
              "            <tr>\n",
              "                        <th id=\"T_c6501a24_6133_11ec_ac9c_0242ac1c0002level0_row1\" class=\"row_heading level0 row1\" >1</th>\n",
              "                        <td id=\"T_c6501a24_6133_11ec_ac9c_0242ac1c0002row1_col0\" class=\"data row1 col0\" >0</td>\n",
              "                        <td id=\"T_c6501a24_6133_11ec_ac9c_0242ac1c0002row1_col1\" class=\"data row1 col1\" >0</td>\n",
              "                        <td id=\"T_c6501a24_6133_11ec_ac9c_0242ac1c0002row1_col2\" class=\"data row1 col2\" >0</td>\n",
              "                        <td id=\"T_c6501a24_6133_11ec_ac9c_0242ac1c0002row1_col3\" class=\"data row1 col3\" >0</td>\n",
              "                        <td id=\"T_c6501a24_6133_11ec_ac9c_0242ac1c0002row1_col4\" class=\"data row1 col4\" >0</td>\n",
              "                        <td id=\"T_c6501a24_6133_11ec_ac9c_0242ac1c0002row1_col5\" class=\"data row1 col5\" >29</td>\n",
              "                        <td id=\"T_c6501a24_6133_11ec_ac9c_0242ac1c0002row1_col6\" class=\"data row1 col6\" >150</td>\n",
              "                        <td id=\"T_c6501a24_6133_11ec_ac9c_0242ac1c0002row1_col7\" class=\"data row1 col7\" >195</td>\n",
              "                        <td id=\"T_c6501a24_6133_11ec_ac9c_0242ac1c0002row1_col8\" class=\"data row1 col8\" >254</td>\n",
              "                        <td id=\"T_c6501a24_6133_11ec_ac9c_0242ac1c0002row1_col9\" class=\"data row1 col9\" >255</td>\n",
              "                        <td id=\"T_c6501a24_6133_11ec_ac9c_0242ac1c0002row1_col10\" class=\"data row1 col10\" >254</td>\n",
              "                        <td id=\"T_c6501a24_6133_11ec_ac9c_0242ac1c0002row1_col11\" class=\"data row1 col11\" >176</td>\n",
              "                        <td id=\"T_c6501a24_6133_11ec_ac9c_0242ac1c0002row1_col12\" class=\"data row1 col12\" >193</td>\n",
              "                        <td id=\"T_c6501a24_6133_11ec_ac9c_0242ac1c0002row1_col13\" class=\"data row1 col13\" >150</td>\n",
              "                        <td id=\"T_c6501a24_6133_11ec_ac9c_0242ac1c0002row1_col14\" class=\"data row1 col14\" >96</td>\n",
              "                        <td id=\"T_c6501a24_6133_11ec_ac9c_0242ac1c0002row1_col15\" class=\"data row1 col15\" >0</td>\n",
              "                        <td id=\"T_c6501a24_6133_11ec_ac9c_0242ac1c0002row1_col16\" class=\"data row1 col16\" >0</td>\n",
              "                        <td id=\"T_c6501a24_6133_11ec_ac9c_0242ac1c0002row1_col17\" class=\"data row1 col17\" >0</td>\n",
              "            </tr>\n",
              "            <tr>\n",
              "                        <th id=\"T_c6501a24_6133_11ec_ac9c_0242ac1c0002level0_row2\" class=\"row_heading level0 row2\" >2</th>\n",
              "                        <td id=\"T_c6501a24_6133_11ec_ac9c_0242ac1c0002row2_col0\" class=\"data row2 col0\" >0</td>\n",
              "                        <td id=\"T_c6501a24_6133_11ec_ac9c_0242ac1c0002row2_col1\" class=\"data row2 col1\" >0</td>\n",
              "                        <td id=\"T_c6501a24_6133_11ec_ac9c_0242ac1c0002row2_col2\" class=\"data row2 col2\" >0</td>\n",
              "                        <td id=\"T_c6501a24_6133_11ec_ac9c_0242ac1c0002row2_col3\" class=\"data row2 col3\" >48</td>\n",
              "                        <td id=\"T_c6501a24_6133_11ec_ac9c_0242ac1c0002row2_col4\" class=\"data row2 col4\" >166</td>\n",
              "                        <td id=\"T_c6501a24_6133_11ec_ac9c_0242ac1c0002row2_col5\" class=\"data row2 col5\" >224</td>\n",
              "                        <td id=\"T_c6501a24_6133_11ec_ac9c_0242ac1c0002row2_col6\" class=\"data row2 col6\" >253</td>\n",
              "                        <td id=\"T_c6501a24_6133_11ec_ac9c_0242ac1c0002row2_col7\" class=\"data row2 col7\" >253</td>\n",
              "                        <td id=\"T_c6501a24_6133_11ec_ac9c_0242ac1c0002row2_col8\" class=\"data row2 col8\" >234</td>\n",
              "                        <td id=\"T_c6501a24_6133_11ec_ac9c_0242ac1c0002row2_col9\" class=\"data row2 col9\" >196</td>\n",
              "                        <td id=\"T_c6501a24_6133_11ec_ac9c_0242ac1c0002row2_col10\" class=\"data row2 col10\" >253</td>\n",
              "                        <td id=\"T_c6501a24_6133_11ec_ac9c_0242ac1c0002row2_col11\" class=\"data row2 col11\" >253</td>\n",
              "                        <td id=\"T_c6501a24_6133_11ec_ac9c_0242ac1c0002row2_col12\" class=\"data row2 col12\" >253</td>\n",
              "                        <td id=\"T_c6501a24_6133_11ec_ac9c_0242ac1c0002row2_col13\" class=\"data row2 col13\" >253</td>\n",
              "                        <td id=\"T_c6501a24_6133_11ec_ac9c_0242ac1c0002row2_col14\" class=\"data row2 col14\" >233</td>\n",
              "                        <td id=\"T_c6501a24_6133_11ec_ac9c_0242ac1c0002row2_col15\" class=\"data row2 col15\" >0</td>\n",
              "                        <td id=\"T_c6501a24_6133_11ec_ac9c_0242ac1c0002row2_col16\" class=\"data row2 col16\" >0</td>\n",
              "                        <td id=\"T_c6501a24_6133_11ec_ac9c_0242ac1c0002row2_col17\" class=\"data row2 col17\" >0</td>\n",
              "            </tr>\n",
              "            <tr>\n",
              "                        <th id=\"T_c6501a24_6133_11ec_ac9c_0242ac1c0002level0_row3\" class=\"row_heading level0 row3\" >3</th>\n",
              "                        <td id=\"T_c6501a24_6133_11ec_ac9c_0242ac1c0002row3_col0\" class=\"data row3 col0\" >0</td>\n",
              "                        <td id=\"T_c6501a24_6133_11ec_ac9c_0242ac1c0002row3_col1\" class=\"data row3 col1\" >93</td>\n",
              "                        <td id=\"T_c6501a24_6133_11ec_ac9c_0242ac1c0002row3_col2\" class=\"data row3 col2\" >244</td>\n",
              "                        <td id=\"T_c6501a24_6133_11ec_ac9c_0242ac1c0002row3_col3\" class=\"data row3 col3\" >249</td>\n",
              "                        <td id=\"T_c6501a24_6133_11ec_ac9c_0242ac1c0002row3_col4\" class=\"data row3 col4\" >253</td>\n",
              "                        <td id=\"T_c6501a24_6133_11ec_ac9c_0242ac1c0002row3_col5\" class=\"data row3 col5\" >187</td>\n",
              "                        <td id=\"T_c6501a24_6133_11ec_ac9c_0242ac1c0002row3_col6\" class=\"data row3 col6\" >46</td>\n",
              "                        <td id=\"T_c6501a24_6133_11ec_ac9c_0242ac1c0002row3_col7\" class=\"data row3 col7\" >10</td>\n",
              "                        <td id=\"T_c6501a24_6133_11ec_ac9c_0242ac1c0002row3_col8\" class=\"data row3 col8\" >8</td>\n",
              "                        <td id=\"T_c6501a24_6133_11ec_ac9c_0242ac1c0002row3_col9\" class=\"data row3 col9\" >4</td>\n",
              "                        <td id=\"T_c6501a24_6133_11ec_ac9c_0242ac1c0002row3_col10\" class=\"data row3 col10\" >10</td>\n",
              "                        <td id=\"T_c6501a24_6133_11ec_ac9c_0242ac1c0002row3_col11\" class=\"data row3 col11\" >194</td>\n",
              "                        <td id=\"T_c6501a24_6133_11ec_ac9c_0242ac1c0002row3_col12\" class=\"data row3 col12\" >253</td>\n",
              "                        <td id=\"T_c6501a24_6133_11ec_ac9c_0242ac1c0002row3_col13\" class=\"data row3 col13\" >253</td>\n",
              "                        <td id=\"T_c6501a24_6133_11ec_ac9c_0242ac1c0002row3_col14\" class=\"data row3 col14\" >233</td>\n",
              "                        <td id=\"T_c6501a24_6133_11ec_ac9c_0242ac1c0002row3_col15\" class=\"data row3 col15\" >0</td>\n",
              "                        <td id=\"T_c6501a24_6133_11ec_ac9c_0242ac1c0002row3_col16\" class=\"data row3 col16\" >0</td>\n",
              "                        <td id=\"T_c6501a24_6133_11ec_ac9c_0242ac1c0002row3_col17\" class=\"data row3 col17\" >0</td>\n",
              "            </tr>\n",
              "            <tr>\n",
              "                        <th id=\"T_c6501a24_6133_11ec_ac9c_0242ac1c0002level0_row4\" class=\"row_heading level0 row4\" >4</th>\n",
              "                        <td id=\"T_c6501a24_6133_11ec_ac9c_0242ac1c0002row4_col0\" class=\"data row4 col0\" >0</td>\n",
              "                        <td id=\"T_c6501a24_6133_11ec_ac9c_0242ac1c0002row4_col1\" class=\"data row4 col1\" >107</td>\n",
              "                        <td id=\"T_c6501a24_6133_11ec_ac9c_0242ac1c0002row4_col2\" class=\"data row4 col2\" >253</td>\n",
              "                        <td id=\"T_c6501a24_6133_11ec_ac9c_0242ac1c0002row4_col3\" class=\"data row4 col3\" >253</td>\n",
              "                        <td id=\"T_c6501a24_6133_11ec_ac9c_0242ac1c0002row4_col4\" class=\"data row4 col4\" >230</td>\n",
              "                        <td id=\"T_c6501a24_6133_11ec_ac9c_0242ac1c0002row4_col5\" class=\"data row4 col5\" >48</td>\n",
              "                        <td id=\"T_c6501a24_6133_11ec_ac9c_0242ac1c0002row4_col6\" class=\"data row4 col6\" >0</td>\n",
              "                        <td id=\"T_c6501a24_6133_11ec_ac9c_0242ac1c0002row4_col7\" class=\"data row4 col7\" >0</td>\n",
              "                        <td id=\"T_c6501a24_6133_11ec_ac9c_0242ac1c0002row4_col8\" class=\"data row4 col8\" >0</td>\n",
              "                        <td id=\"T_c6501a24_6133_11ec_ac9c_0242ac1c0002row4_col9\" class=\"data row4 col9\" >0</td>\n",
              "                        <td id=\"T_c6501a24_6133_11ec_ac9c_0242ac1c0002row4_col10\" class=\"data row4 col10\" >0</td>\n",
              "                        <td id=\"T_c6501a24_6133_11ec_ac9c_0242ac1c0002row4_col11\" class=\"data row4 col11\" >192</td>\n",
              "                        <td id=\"T_c6501a24_6133_11ec_ac9c_0242ac1c0002row4_col12\" class=\"data row4 col12\" >253</td>\n",
              "                        <td id=\"T_c6501a24_6133_11ec_ac9c_0242ac1c0002row4_col13\" class=\"data row4 col13\" >253</td>\n",
              "                        <td id=\"T_c6501a24_6133_11ec_ac9c_0242ac1c0002row4_col14\" class=\"data row4 col14\" >156</td>\n",
              "                        <td id=\"T_c6501a24_6133_11ec_ac9c_0242ac1c0002row4_col15\" class=\"data row4 col15\" >0</td>\n",
              "                        <td id=\"T_c6501a24_6133_11ec_ac9c_0242ac1c0002row4_col16\" class=\"data row4 col16\" >0</td>\n",
              "                        <td id=\"T_c6501a24_6133_11ec_ac9c_0242ac1c0002row4_col17\" class=\"data row4 col17\" >0</td>\n",
              "            </tr>\n",
              "            <tr>\n",
              "                        <th id=\"T_c6501a24_6133_11ec_ac9c_0242ac1c0002level0_row5\" class=\"row_heading level0 row5\" >5</th>\n",
              "                        <td id=\"T_c6501a24_6133_11ec_ac9c_0242ac1c0002row5_col0\" class=\"data row5 col0\" >0</td>\n",
              "                        <td id=\"T_c6501a24_6133_11ec_ac9c_0242ac1c0002row5_col1\" class=\"data row5 col1\" >3</td>\n",
              "                        <td id=\"T_c6501a24_6133_11ec_ac9c_0242ac1c0002row5_col2\" class=\"data row5 col2\" >20</td>\n",
              "                        <td id=\"T_c6501a24_6133_11ec_ac9c_0242ac1c0002row5_col3\" class=\"data row5 col3\" >20</td>\n",
              "                        <td id=\"T_c6501a24_6133_11ec_ac9c_0242ac1c0002row5_col4\" class=\"data row5 col4\" >15</td>\n",
              "                        <td id=\"T_c6501a24_6133_11ec_ac9c_0242ac1c0002row5_col5\" class=\"data row5 col5\" >0</td>\n",
              "                        <td id=\"T_c6501a24_6133_11ec_ac9c_0242ac1c0002row5_col6\" class=\"data row5 col6\" >0</td>\n",
              "                        <td id=\"T_c6501a24_6133_11ec_ac9c_0242ac1c0002row5_col7\" class=\"data row5 col7\" >0</td>\n",
              "                        <td id=\"T_c6501a24_6133_11ec_ac9c_0242ac1c0002row5_col8\" class=\"data row5 col8\" >0</td>\n",
              "                        <td id=\"T_c6501a24_6133_11ec_ac9c_0242ac1c0002row5_col9\" class=\"data row5 col9\" >0</td>\n",
              "                        <td id=\"T_c6501a24_6133_11ec_ac9c_0242ac1c0002row5_col10\" class=\"data row5 col10\" >43</td>\n",
              "                        <td id=\"T_c6501a24_6133_11ec_ac9c_0242ac1c0002row5_col11\" class=\"data row5 col11\" >224</td>\n",
              "                        <td id=\"T_c6501a24_6133_11ec_ac9c_0242ac1c0002row5_col12\" class=\"data row5 col12\" >253</td>\n",
              "                        <td id=\"T_c6501a24_6133_11ec_ac9c_0242ac1c0002row5_col13\" class=\"data row5 col13\" >245</td>\n",
              "                        <td id=\"T_c6501a24_6133_11ec_ac9c_0242ac1c0002row5_col14\" class=\"data row5 col14\" >74</td>\n",
              "                        <td id=\"T_c6501a24_6133_11ec_ac9c_0242ac1c0002row5_col15\" class=\"data row5 col15\" >0</td>\n",
              "                        <td id=\"T_c6501a24_6133_11ec_ac9c_0242ac1c0002row5_col16\" class=\"data row5 col16\" >0</td>\n",
              "                        <td id=\"T_c6501a24_6133_11ec_ac9c_0242ac1c0002row5_col17\" class=\"data row5 col17\" >0</td>\n",
              "            </tr>\n",
              "            <tr>\n",
              "                        <th id=\"T_c6501a24_6133_11ec_ac9c_0242ac1c0002level0_row6\" class=\"row_heading level0 row6\" >6</th>\n",
              "                        <td id=\"T_c6501a24_6133_11ec_ac9c_0242ac1c0002row6_col0\" class=\"data row6 col0\" >0</td>\n",
              "                        <td id=\"T_c6501a24_6133_11ec_ac9c_0242ac1c0002row6_col1\" class=\"data row6 col1\" >0</td>\n",
              "                        <td id=\"T_c6501a24_6133_11ec_ac9c_0242ac1c0002row6_col2\" class=\"data row6 col2\" >0</td>\n",
              "                        <td id=\"T_c6501a24_6133_11ec_ac9c_0242ac1c0002row6_col3\" class=\"data row6 col3\" >0</td>\n",
              "                        <td id=\"T_c6501a24_6133_11ec_ac9c_0242ac1c0002row6_col4\" class=\"data row6 col4\" >0</td>\n",
              "                        <td id=\"T_c6501a24_6133_11ec_ac9c_0242ac1c0002row6_col5\" class=\"data row6 col5\" >0</td>\n",
              "                        <td id=\"T_c6501a24_6133_11ec_ac9c_0242ac1c0002row6_col6\" class=\"data row6 col6\" >0</td>\n",
              "                        <td id=\"T_c6501a24_6133_11ec_ac9c_0242ac1c0002row6_col7\" class=\"data row6 col7\" >0</td>\n",
              "                        <td id=\"T_c6501a24_6133_11ec_ac9c_0242ac1c0002row6_col8\" class=\"data row6 col8\" >0</td>\n",
              "                        <td id=\"T_c6501a24_6133_11ec_ac9c_0242ac1c0002row6_col9\" class=\"data row6 col9\" >0</td>\n",
              "                        <td id=\"T_c6501a24_6133_11ec_ac9c_0242ac1c0002row6_col10\" class=\"data row6 col10\" >249</td>\n",
              "                        <td id=\"T_c6501a24_6133_11ec_ac9c_0242ac1c0002row6_col11\" class=\"data row6 col11\" >253</td>\n",
              "                        <td id=\"T_c6501a24_6133_11ec_ac9c_0242ac1c0002row6_col12\" class=\"data row6 col12\" >245</td>\n",
              "                        <td id=\"T_c6501a24_6133_11ec_ac9c_0242ac1c0002row6_col13\" class=\"data row6 col13\" >126</td>\n",
              "                        <td id=\"T_c6501a24_6133_11ec_ac9c_0242ac1c0002row6_col14\" class=\"data row6 col14\" >0</td>\n",
              "                        <td id=\"T_c6501a24_6133_11ec_ac9c_0242ac1c0002row6_col15\" class=\"data row6 col15\" >0</td>\n",
              "                        <td id=\"T_c6501a24_6133_11ec_ac9c_0242ac1c0002row6_col16\" class=\"data row6 col16\" >0</td>\n",
              "                        <td id=\"T_c6501a24_6133_11ec_ac9c_0242ac1c0002row6_col17\" class=\"data row6 col17\" >0</td>\n",
              "            </tr>\n",
              "            <tr>\n",
              "                        <th id=\"T_c6501a24_6133_11ec_ac9c_0242ac1c0002level0_row7\" class=\"row_heading level0 row7\" >7</th>\n",
              "                        <td id=\"T_c6501a24_6133_11ec_ac9c_0242ac1c0002row7_col0\" class=\"data row7 col0\" >0</td>\n",
              "                        <td id=\"T_c6501a24_6133_11ec_ac9c_0242ac1c0002row7_col1\" class=\"data row7 col1\" >0</td>\n",
              "                        <td id=\"T_c6501a24_6133_11ec_ac9c_0242ac1c0002row7_col2\" class=\"data row7 col2\" >0</td>\n",
              "                        <td id=\"T_c6501a24_6133_11ec_ac9c_0242ac1c0002row7_col3\" class=\"data row7 col3\" >0</td>\n",
              "                        <td id=\"T_c6501a24_6133_11ec_ac9c_0242ac1c0002row7_col4\" class=\"data row7 col4\" >0</td>\n",
              "                        <td id=\"T_c6501a24_6133_11ec_ac9c_0242ac1c0002row7_col5\" class=\"data row7 col5\" >0</td>\n",
              "                        <td id=\"T_c6501a24_6133_11ec_ac9c_0242ac1c0002row7_col6\" class=\"data row7 col6\" >0</td>\n",
              "                        <td id=\"T_c6501a24_6133_11ec_ac9c_0242ac1c0002row7_col7\" class=\"data row7 col7\" >14</td>\n",
              "                        <td id=\"T_c6501a24_6133_11ec_ac9c_0242ac1c0002row7_col8\" class=\"data row7 col8\" >101</td>\n",
              "                        <td id=\"T_c6501a24_6133_11ec_ac9c_0242ac1c0002row7_col9\" class=\"data row7 col9\" >223</td>\n",
              "                        <td id=\"T_c6501a24_6133_11ec_ac9c_0242ac1c0002row7_col10\" class=\"data row7 col10\" >253</td>\n",
              "                        <td id=\"T_c6501a24_6133_11ec_ac9c_0242ac1c0002row7_col11\" class=\"data row7 col11\" >248</td>\n",
              "                        <td id=\"T_c6501a24_6133_11ec_ac9c_0242ac1c0002row7_col12\" class=\"data row7 col12\" >124</td>\n",
              "                        <td id=\"T_c6501a24_6133_11ec_ac9c_0242ac1c0002row7_col13\" class=\"data row7 col13\" >0</td>\n",
              "                        <td id=\"T_c6501a24_6133_11ec_ac9c_0242ac1c0002row7_col14\" class=\"data row7 col14\" >0</td>\n",
              "                        <td id=\"T_c6501a24_6133_11ec_ac9c_0242ac1c0002row7_col15\" class=\"data row7 col15\" >0</td>\n",
              "                        <td id=\"T_c6501a24_6133_11ec_ac9c_0242ac1c0002row7_col16\" class=\"data row7 col16\" >0</td>\n",
              "                        <td id=\"T_c6501a24_6133_11ec_ac9c_0242ac1c0002row7_col17\" class=\"data row7 col17\" >0</td>\n",
              "            </tr>\n",
              "            <tr>\n",
              "                        <th id=\"T_c6501a24_6133_11ec_ac9c_0242ac1c0002level0_row8\" class=\"row_heading level0 row8\" >8</th>\n",
              "                        <td id=\"T_c6501a24_6133_11ec_ac9c_0242ac1c0002row8_col0\" class=\"data row8 col0\" >0</td>\n",
              "                        <td id=\"T_c6501a24_6133_11ec_ac9c_0242ac1c0002row8_col1\" class=\"data row8 col1\" >0</td>\n",
              "                        <td id=\"T_c6501a24_6133_11ec_ac9c_0242ac1c0002row8_col2\" class=\"data row8 col2\" >0</td>\n",
              "                        <td id=\"T_c6501a24_6133_11ec_ac9c_0242ac1c0002row8_col3\" class=\"data row8 col3\" >0</td>\n",
              "                        <td id=\"T_c6501a24_6133_11ec_ac9c_0242ac1c0002row8_col4\" class=\"data row8 col4\" >0</td>\n",
              "                        <td id=\"T_c6501a24_6133_11ec_ac9c_0242ac1c0002row8_col5\" class=\"data row8 col5\" >11</td>\n",
              "                        <td id=\"T_c6501a24_6133_11ec_ac9c_0242ac1c0002row8_col6\" class=\"data row8 col6\" >166</td>\n",
              "                        <td id=\"T_c6501a24_6133_11ec_ac9c_0242ac1c0002row8_col7\" class=\"data row8 col7\" >239</td>\n",
              "                        <td id=\"T_c6501a24_6133_11ec_ac9c_0242ac1c0002row8_col8\" class=\"data row8 col8\" >253</td>\n",
              "                        <td id=\"T_c6501a24_6133_11ec_ac9c_0242ac1c0002row8_col9\" class=\"data row8 col9\" >253</td>\n",
              "                        <td id=\"T_c6501a24_6133_11ec_ac9c_0242ac1c0002row8_col10\" class=\"data row8 col10\" >253</td>\n",
              "                        <td id=\"T_c6501a24_6133_11ec_ac9c_0242ac1c0002row8_col11\" class=\"data row8 col11\" >187</td>\n",
              "                        <td id=\"T_c6501a24_6133_11ec_ac9c_0242ac1c0002row8_col12\" class=\"data row8 col12\" >30</td>\n",
              "                        <td id=\"T_c6501a24_6133_11ec_ac9c_0242ac1c0002row8_col13\" class=\"data row8 col13\" >0</td>\n",
              "                        <td id=\"T_c6501a24_6133_11ec_ac9c_0242ac1c0002row8_col14\" class=\"data row8 col14\" >0</td>\n",
              "                        <td id=\"T_c6501a24_6133_11ec_ac9c_0242ac1c0002row8_col15\" class=\"data row8 col15\" >0</td>\n",
              "                        <td id=\"T_c6501a24_6133_11ec_ac9c_0242ac1c0002row8_col16\" class=\"data row8 col16\" >0</td>\n",
              "                        <td id=\"T_c6501a24_6133_11ec_ac9c_0242ac1c0002row8_col17\" class=\"data row8 col17\" >0</td>\n",
              "            </tr>\n",
              "            <tr>\n",
              "                        <th id=\"T_c6501a24_6133_11ec_ac9c_0242ac1c0002level0_row9\" class=\"row_heading level0 row9\" >9</th>\n",
              "                        <td id=\"T_c6501a24_6133_11ec_ac9c_0242ac1c0002row9_col0\" class=\"data row9 col0\" >0</td>\n",
              "                        <td id=\"T_c6501a24_6133_11ec_ac9c_0242ac1c0002row9_col1\" class=\"data row9 col1\" >0</td>\n",
              "                        <td id=\"T_c6501a24_6133_11ec_ac9c_0242ac1c0002row9_col2\" class=\"data row9 col2\" >0</td>\n",
              "                        <td id=\"T_c6501a24_6133_11ec_ac9c_0242ac1c0002row9_col3\" class=\"data row9 col3\" >0</td>\n",
              "                        <td id=\"T_c6501a24_6133_11ec_ac9c_0242ac1c0002row9_col4\" class=\"data row9 col4\" >0</td>\n",
              "                        <td id=\"T_c6501a24_6133_11ec_ac9c_0242ac1c0002row9_col5\" class=\"data row9 col5\" >16</td>\n",
              "                        <td id=\"T_c6501a24_6133_11ec_ac9c_0242ac1c0002row9_col6\" class=\"data row9 col6\" >248</td>\n",
              "                        <td id=\"T_c6501a24_6133_11ec_ac9c_0242ac1c0002row9_col7\" class=\"data row9 col7\" >250</td>\n",
              "                        <td id=\"T_c6501a24_6133_11ec_ac9c_0242ac1c0002row9_col8\" class=\"data row9 col8\" >253</td>\n",
              "                        <td id=\"T_c6501a24_6133_11ec_ac9c_0242ac1c0002row9_col9\" class=\"data row9 col9\" >253</td>\n",
              "                        <td id=\"T_c6501a24_6133_11ec_ac9c_0242ac1c0002row9_col10\" class=\"data row9 col10\" >253</td>\n",
              "                        <td id=\"T_c6501a24_6133_11ec_ac9c_0242ac1c0002row9_col11\" class=\"data row9 col11\" >253</td>\n",
              "                        <td id=\"T_c6501a24_6133_11ec_ac9c_0242ac1c0002row9_col12\" class=\"data row9 col12\" >232</td>\n",
              "                        <td id=\"T_c6501a24_6133_11ec_ac9c_0242ac1c0002row9_col13\" class=\"data row9 col13\" >213</td>\n",
              "                        <td id=\"T_c6501a24_6133_11ec_ac9c_0242ac1c0002row9_col14\" class=\"data row9 col14\" >111</td>\n",
              "                        <td id=\"T_c6501a24_6133_11ec_ac9c_0242ac1c0002row9_col15\" class=\"data row9 col15\" >2</td>\n",
              "                        <td id=\"T_c6501a24_6133_11ec_ac9c_0242ac1c0002row9_col16\" class=\"data row9 col16\" >0</td>\n",
              "                        <td id=\"T_c6501a24_6133_11ec_ac9c_0242ac1c0002row9_col17\" class=\"data row9 col17\" >0</td>\n",
              "            </tr>\n",
              "            <tr>\n",
              "                        <th id=\"T_c6501a24_6133_11ec_ac9c_0242ac1c0002level0_row10\" class=\"row_heading level0 row10\" >10</th>\n",
              "                        <td id=\"T_c6501a24_6133_11ec_ac9c_0242ac1c0002row10_col0\" class=\"data row10 col0\" >0</td>\n",
              "                        <td id=\"T_c6501a24_6133_11ec_ac9c_0242ac1c0002row10_col1\" class=\"data row10 col1\" >0</td>\n",
              "                        <td id=\"T_c6501a24_6133_11ec_ac9c_0242ac1c0002row10_col2\" class=\"data row10 col2\" >0</td>\n",
              "                        <td id=\"T_c6501a24_6133_11ec_ac9c_0242ac1c0002row10_col3\" class=\"data row10 col3\" >0</td>\n",
              "                        <td id=\"T_c6501a24_6133_11ec_ac9c_0242ac1c0002row10_col4\" class=\"data row10 col4\" >0</td>\n",
              "                        <td id=\"T_c6501a24_6133_11ec_ac9c_0242ac1c0002row10_col5\" class=\"data row10 col5\" >0</td>\n",
              "                        <td id=\"T_c6501a24_6133_11ec_ac9c_0242ac1c0002row10_col6\" class=\"data row10 col6\" >0</td>\n",
              "                        <td id=\"T_c6501a24_6133_11ec_ac9c_0242ac1c0002row10_col7\" class=\"data row10 col7\" >43</td>\n",
              "                        <td id=\"T_c6501a24_6133_11ec_ac9c_0242ac1c0002row10_col8\" class=\"data row10 col8\" >98</td>\n",
              "                        <td id=\"T_c6501a24_6133_11ec_ac9c_0242ac1c0002row10_col9\" class=\"data row10 col9\" >98</td>\n",
              "                        <td id=\"T_c6501a24_6133_11ec_ac9c_0242ac1c0002row10_col10\" class=\"data row10 col10\" >208</td>\n",
              "                        <td id=\"T_c6501a24_6133_11ec_ac9c_0242ac1c0002row10_col11\" class=\"data row10 col11\" >253</td>\n",
              "                        <td id=\"T_c6501a24_6133_11ec_ac9c_0242ac1c0002row10_col12\" class=\"data row10 col12\" >253</td>\n",
              "                        <td id=\"T_c6501a24_6133_11ec_ac9c_0242ac1c0002row10_col13\" class=\"data row10 col13\" >253</td>\n",
              "                        <td id=\"T_c6501a24_6133_11ec_ac9c_0242ac1c0002row10_col14\" class=\"data row10 col14\" >253</td>\n",
              "                        <td id=\"T_c6501a24_6133_11ec_ac9c_0242ac1c0002row10_col15\" class=\"data row10 col15\" >187</td>\n",
              "                        <td id=\"T_c6501a24_6133_11ec_ac9c_0242ac1c0002row10_col16\" class=\"data row10 col16\" >22</td>\n",
              "                        <td id=\"T_c6501a24_6133_11ec_ac9c_0242ac1c0002row10_col17\" class=\"data row10 col17\" >0</td>\n",
              "            </tr>\n",
              "    </tbody></table>"
            ],
            "text/plain": [
              "<pandas.io.formats.style.Styler at 0x7f4aaee98f50>"
            ]
          },
          "metadata": {},
          "execution_count": 11
        }
      ],
      "source": [
        "#Pandas.DataFrame으로 표현\n",
        "im3_t = tensor(im3)\n",
        "df = pd.DataFrame(im3_t[4:15,4:22])\n",
        "df.style.set_properties(**{'font-size':'6pt'}).background_gradient('Greys')"
      ]
    },
    {
      "cell_type": "markdown",
      "metadata": {
        "id": "GZduyE6SLff-"
      },
      "source": [
        "<img width=\"453\" id=\"output_pd_pixels\" src=\"https://github.com/fastai/fastbook/blob/master/images/att_00058.png?raw=1\">"
      ]
    },
    {
      "cell_type": "markdown",
      "metadata": {
        "id": "tj4Kf_5PLff_"
      },
      "source": [
        "You can see that the background white pixels are stored as the number 0, black is the number 255, and shades of gray are between the two. The entire image contains 28 pixels across and 28 pixels down, for a total of 784 pixels. (This is much smaller than an image that you would get from a phone camera, which has millions of pixels, but is a convenient size for our initial learning and experiments. We will build up to bigger, full-color images soon.)\n",
        "\n",
        "So, now you've seen what an image looks like to a computer, let's recall our goal: create a model that can recognize 3s and 7s. How might you go about getting a computer to do that?\n",
        "\n",
        "> Warning: Stop and Think!: Before you read on, take a moment to think about how a computer might be able to recognize these two different digits. What kinds of features might it be able to look at? How might it be able to identify these features? How could it combine them together? Learning works best when you try to solve problems yourself, rather than just reading somebody else's answers; so step away from this book for a few minutes, grab a piece of paper and pen, and jot some ideas down…\n",
        "\n",
        "컴퓨터가 3, 7 을 어떻게 분류할지 상상해보기...\n",
        "음... 세로 방향 중간 지점부터 직선으로 된 형태가 나오면 7일 가능성이 높을 것 같음"
      ]
    },
    {
      "cell_type": "markdown",
      "metadata": {
        "id": "xA6ClpvuLff_"
      },
      "source": [
        "## First Try: Pixel Similarity\n",
        "## 첫 번째 시도: 픽셀 유사성"
      ]
    },
    {
      "cell_type": "markdown",
      "metadata": {
        "id": "DyFqm-T3Lff_"
      },
      "source": [
        "So, here is a first idea: how about we find the average pixel value for every pixel of the 3s, then do the same for the 7s. This will give us two group averages, defining what we might call the \"ideal\" 3 and 7. Then, to classify an image as one digit or the other, we see which of these two ideal digits the image is most similar to. This certainly seems like it should be better than nothing, so it will make a good baseline.\n",
        "\n",
        "* 숫자 3과 7에 대한 평균 픽셀값 추출\n",
        "* 입력된 이미지가 어느쪽에 가까운지 계산\n",
        "* 이걸 baseline으로 삼을 수 있음"
      ]
    },
    {
      "cell_type": "markdown",
      "metadata": {
        "id": "oQ_L9AWDLff_"
      },
      "source": [
        "> jargon: Baseline: A simple model which you are confident should perform reasonably well. It should be very simple to implement, and very easy to test, so that you can then test each of your improved ideas, and make sure they are always better than your baseline. Without starting with a sensible baseline, it is very difficult to know whether your super-fancy models are actually any good. One good approach to creating a baseline is doing what we have done here: think of a simple, easy-to-implement model. Another good approach is to search around to find other people that have solved similar problems to yours, and download and run their code on your dataset. Ideally, try both of these!"
      ]
    },
    {
      "cell_type": "markdown",
      "metadata": {
        "id": "Y5RigzmWLfgA"
      },
      "source": [
        "Step one for our simple model is to get the average of pixel values for each of our two groups. In the process of doing this, we will learn a lot of neat Python numeric programming tricks!\n",
        "\n",
        "Let's create a tensor containing all of our 3s stacked together. We already know how to create a tensor containing a single image. To create a tensor containing all the images in a directory, we will first use a Python list comprehension to create a plain list of the single image tensors.\n",
        "\n",
        "We will use Jupyter to do some little checks of our work along the way—in this case, making sure that the number of returned items seems reasonable:"
      ]
    },
    {
      "cell_type": "code",
      "execution_count": null,
      "metadata": {
        "id": "DZoC4BuyLfgA",
        "outputId": "9ae2929b-13b1-4fef-9cb9-23ed6f1e9036",
        "colab": {
          "base_uri": "https://localhost:8080/"
        }
      },
      "outputs": [
        {
          "output_type": "execute_result",
          "data": {
            "text/plain": [
              "(6131, 6265)"
            ]
          },
          "metadata": {},
          "execution_count": 12
        }
      ],
      "source": [
        "# 3, 7 디렉토리 모든 이미지를 텐서로 만들기\n",
        "seven_tensors = [tensor(Image.open(o)) for o in sevens]\n",
        "three_tensors = [tensor(Image.open(o)) for o in threes]\n",
        "len(three_tensors),len(seven_tensors)"
      ]
    },
    {
      "cell_type": "markdown",
      "source": [
        "### 추가설명: 파이썬 리스트 컴프리헨션 (list comprehension)\n",
        "반복문을 별도로 쓰지 않고 리스트를 간편하게 만들 수 있음\n",
        "![스크린샷_2018-09-13_14.37.49.png](data:image/png;base64,iVBORw0KGgoAAAANSUhEUgAAB0IAAAHMCAYAAABIomt3AAAMJmlDQ1BJQ0MgUHJvZmlsZQAASImVVwdUk8kWnr+kktBClxJ6E6RIlxpapEoVbIQkkFBCTAgidnRRwbWgogI2dFVE0bUAstiwl0Wx94cFFUUXdbGB8iYJoKvnvXfezZmZL3fu3Pnu/WfmzACgFssRi3NQdQByRfmSuLAg5viUVCbpESDCnzYgA2sOVyoOjI2NBFCG2n/K+xsAkbdXHeS+fu7/r6LB40u5ACCxEKfzpNxciA8AgLtzxZJ8AAjdUG8+LV8MMRGyBFoSSBBiCznOVGJPOU5X4kiFTUIcC+I0AMg0DkeSCYCqnBezgJsJ/agugdhJxBOKIG6B2I8r4PAg7od4ZG5uHsRqNhDbpH/nJ/MfPtOHfXI4mcNYGYtCyMFCqTiHM/3/TMf/ltwc2dAc5rDQBJLwOHnM8rxl50XIMQ3is6L06BiINSG+JuQp7OX4qUAWnjho/5ErZcGcAR0AUBqPExwBsSHEZqKc6MhBvV+GMJQNMcw9miDMZycox6I8SV7coH+0kC8NiR/CHIliLrlNqSw7MXDQ5wYBnz3ks7lIkJCs5IleLhAmRUOsCvE9aXZ8xKDNiyIBK3rIRiKLk3OG3xwDGZLQOKUNZpErHYoL8xYI2dGDODJfkBCuHItN5nIU3PQgzuJLx0cO8eTxg0OUcWHFfFHiIH+sXJwfFDdov1WcEztoj7Xwc8LkejOI26QF8UNje/LhYlPGiwNxfmyCkhuulcUZG6vkgNuBSMACwYAJZLCkgzyQBYRt3Y3d8J+yJxRwgARkAj5wGNQMjUhW9IhgHQ+KwCuI+EA6PC5I0csHBVD/ZVirrB1AhqK3QDEiGzyFOBdEgBz4X6YYJRqeLQk8gRrhT7NzIdccWOR9P+mYakM6YggxmBhODCXa4ga4H+6DR8I6ABYX3BP3GuL1zZ7wlNBOeES4Tugg3J4iLJb8wJwJokAH5Bg6GF3699HhVtCrGx6E+0L/0DeugxsAB3w0nCkQ94dzu0Ht91xlwxF/y+WgL4oTBaXoUgIoNj8yULVTdRv2Is/U97lQ8kofzhZruOfHOFjf5Y8H24gfLbFF2H7sDHYcO4e1YI2AiR3FmrCL2GE5Hl4bTxRrY2i2OAWfbOhH+NN8nME55VmTOtU5dTn1D/aBfH5hvnyzsPLE0yXCTEE+MxCe1nwmW8R1HMl0cXKGp6j87FceLT2XFGc6oq/xTTcvD4Ax1QMDA4e+6aLuA3DgFQDUO9901qVwOxcAcLaSK5MUKHW4vCIAKlCDO0UfGMOzywZG5ALcgQ8IACFgLIgBCSAFTIZ5FsB1KgHTwEwwD5SAMrAcrAaVYCPYAnaA3WAfaAQt4Dg4DS6Ay+A6uAvXSid4CXrAe9CHIAgJoSMMRB8xQSwRe8QF8UT8kBAkEolDUpA0JBMRITJkJjIfKUPKkUpkM1KL/I4cQo4j55B25DbyEOlC3iKfUQyloVqoEWqFjkI90UA0Ak1AJ6GZ6FS0CF2ALkXXojXoLrQBPY5eQK+jHehLtBcDmAqmg5liDpgnxsJisFQsA5Ngs7FSrAKrweqxZvilr2IdWDf2CSfiDJyJO8D1Go4n4lx8Kj4bX4JX4jvwBvwkfhV/iPfgXwl0giHBnuBNYBPGEzIJ0wglhArCNsJBwim4dzoJ74lEog7RmugB914KMYs4g7iEuJ64h3iM2E58TOwlkUj6JHuSLymGxCHlk0pI60i7SEdJV0idpI9kFbIJ2YUcSk4li8jF5AryTvIR8hXyM3IfRZ1iSfGmxFB4lOmUZZStlGbKJUonpY+qQbWm+lITqFnUedS11HrqKeo96jsVFRUzFS+VcSpClbkqa1X2qpxVeajyiaZJs6OxaBNpMtpS2nbaMdpt2js6nW5FD6Cn0vPpS+m19BP0B/SPqgxVR1W2Kk91jmqVaoPqFdXXahQ1S7VAtclqRWoVavvVLql1q1PUrdRZ6hz12epV6ofUb6r3ajA0nDViNHI1lmjs1Din8VyTpGmlGaLJ01yguUXzhOZjBsYwZ7AYXMZ8xlbGKUanFlHLWoutlaVVprVbq02rR1tTe7R2knahdpX2Ye0OHUzHSoetk6OzTGefzg2dz7pGuoG6fN3FuvW6V3Q/6I3QC9Dj65Xq7dG7rvdZn6kfop+tv0K/Uf++AW5gZzDOYJrBBoNTBt0jtEb4jOCOKB2xb8QdQ9TQzjDOcIbhFsOLhr1GxkZhRmKjdUYnjLqNdYwDjLOMVxkfMe4yYZj4mQhNVpkcNXnB1GYGMnOYa5knmT2mhqbhpjLTzaZtpn1m1maJZsVme8zum1PNPc0zzFeZt5r3WJhYRFnMtKizuGNJsfS0FFiusTxj+cHK2irZaqFVo9Vzaz1rtnWRdZ31PRu6jb/NVJsam2u2RFtP22zb9baX7VA7NzuBXZXdJXvU3t1eaL/evn0kYaTXSNHImpE3HWgOgQ4FDnUODx11HCMdix0bHV+PshiVOmrFqDOjvjq5OeU4bXW666zpPNa52LnZ+a2LnQvXpcrlmivdNdR1jmuT65vR9qP5ozeMvuXGcItyW+jW6vbF3cNd4l7v3uVh4ZHmUe1x01PLM9ZziedZL4JXkNccrxavT97u3vne+7z/8nHwyfbZ6fN8jPUY/pitYx77mvlyfDf7dvgx/dL8Nvl1+Jv6c/xr/B8FmAfwArYFPAu0DcwK3BX4OsgpSBJ0MOgDy5s1i3UsGAsOCy4NbgvRDEkMqQx5EGoWmhlaF9oT5hY2I+xYOCE8InxF+E22EZvLrmX3jPUYO2vsyQhaRHxEZcSjSLtISWRzFBo1Nmpl1L1oy2hRdGMMiGHHrIy5H2sdOzX2j3HEcbHjqsY9jXOOmxl3Jp4RPyV+Z/z7hKCEZQl3E20SZYmtSWpJE5Nqkz4kByeXJ3eMHzV+1vgLKQYpwpSmVFJqUuq21N4JIRNWT+ic6DaxZOKNSdaTCiedm2wwOWfy4SlqUzhT9qcR0pLTdqb1c2I4NZzedHZ6dXoPl8Vdw33JC+Ct4nXxffnl/GcZvhnlGc8zfTNXZnYJ/AUVgm4hS1gpfJMVnrUx60N2TPb27IGc5Jw9ueTctNxDIk1RtuhknnFeYV672F5cIu6Y6j119dQeSYRkmxSRTpI25WvBS/ZFmY3sF9nDAr+CqoKP05Km7S/UKBQVXpxuN33x9GdFoUW/zcBncGe0zjSdOW/mw1mBszbPRmanz26dYz5nwZzOuWFzd8yjzsue92exU3F58d/zk+c3LzBaMHfB41/CfqkrUS2RlNxc6LNw4yJ8kXBR22LXxesWfy3llZ4vcyqrKOtfwl1y/lfnX9f+OrA0Y2nbMvdlG5YTl4uW31jhv2JHuUZ5UfnjlVErG1YxV5Wu+nv1lNXnKkZXbFxDXSNb07E2cm3TOot1y9f1Vwoqr1cFVe2pNqxeXP1hPW/9lQ0BG+o3Gm0s2/h5k3DTrc1hmxtqrGoqthC3FGx5ujVp65nfPH+r3WawrWzbl+2i7R074nacrPWord1puHNZHVonq+vaNXHX5d3Bu5vqHeo379HZU7YX7JXtffF72u839kXsa93vub/+gOWB6oOMg6UNSMP0hp5GQWNHU0pT+6Gxh1qbfZoP/uH4x/YW05aqw9qHlx2hHllwZOBo0dHeY+Jj3cczjz9undJ698T4E9dOjjvZdiri1NnToadPnAk8c/Ss79mWc97nDp33PN94wf1Cw0W3iwf/dPvzYJt7W8Mlj0tNl70uN7ePaT9yxf/K8avBV09fY1+7cD36evuNxBu3bk682XGLd+v57Zzbb+4U3Om7O/ce4V7pffX7FQ8MH9T8y/ZfezrcOw4/DH548VH8o7uPuY9fPpE+6e9c8JT+tOKZybPa5y7PW7pCuy6/mPCi86X4ZV93ySuNV9WvbV4f+Cvgr4s943s630jeDLxd8k7/3fa/R//d2hvb++B97vu+D6Uf9T/u+OT56czn5M/P+qb1k/rXfrH90vw14uu9gdyBATFHwlFcBTBY0IwMAN5uB4CeAgDjMrw/TFC+zRSCKN+TCgT+E1a+3xTiDkA9bOTXcNYxAPbCYhUAfc8FIAa2CQEAdXUdLoMizXB1UfpSrQOAZDow8Bbebyiw9IcNDPTFDgx8qYZkrwFw5LnyTSgX+Rt0k5McXTGpKwQ/yL8BdgVyDOzRs88AAAAJcEhZcwAAFiUAABYlAUlSJPAAAAGeaVRYdFhNTDpjb20uYWRvYmUueG1wAAAAAAA8eDp4bXBtZXRhIHhtbG5zOng9ImFkb2JlOm5zOm1ldGEvIiB4OnhtcHRrPSJYTVAgQ29yZSA1LjQuMCI+CiAgIDxyZGY6UkRGIHhtbG5zOnJkZj0iaHR0cDovL3d3dy53My5vcmcvMTk5OS8wMi8yMi1yZGYtc3ludGF4LW5zIyI+CiAgICAgIDxyZGY6RGVzY3JpcHRpb24gcmRmOmFib3V0PSIiCiAgICAgICAgICAgIHhtbG5zOmV4aWY9Imh0dHA6Ly9ucy5hZG9iZS5jb20vZXhpZi8xLjAvIj4KICAgICAgICAgPGV4aWY6UGl4ZWxYRGltZW5zaW9uPjE4NTg8L2V4aWY6UGl4ZWxYRGltZW5zaW9uPgogICAgICAgICA8ZXhpZjpQaXhlbFlEaW1lbnNpb24+NDYwPC9leGlmOlBpeGVsWURpbWVuc2lvbj4KICAgICAgPC9yZGY6RGVzY3JpcHRpb24+CiAgIDwvcmRmOlJERj4KPC94OnhtcG1ldGE+CifsI7IAAAAcaURPVAAAAAIAAAAAAAAA5gAAACgAAADmAAAA5gABJJ5cdWM3AABAAElEQVR4AezdB4AUVbqG4Z+cM5JzzkEyEiUYQEBRQARzdk27q65xdc3pGlZFRQQTYkCCEgVBFAQEyTnnnIYMM3DPd7Bmm8kzIMz0vOfeYXq6q6urnjpV7dZX/6kMJ10zGgIIIIAAAggggAACCCCAAAIIIIAAAggggAACCCCAAAIIIBBGAhkIQsNoa7IqCCCAAAIIIIAAAggggAACCCCAAAIIIIAAAggggAACCCDgBQhC6QgIIIAAAggggAACCCCAAAIIIIAAAggggAACCCCAAAIIIBB2AgShYbdJWSEEEEAAAQQQQAABBBBAAAEEEEAAAQQQQAABBBBAAAEEECAIpQ8ggAACCCCAAAIIIIAAAggggAACCCCAAAIIIIAAAggggEDYCRCEht0mZYUQQAABBBBAAAEEEEAAAQQQQAABBBBAAAEEEEAAAQQQQIAglD6AAAIIIIAAAggggAACCCCAAAIIIIAAAggggAACCCCAAAJhJ0AQGnablBVCAAEEEEAAAQQQQAABBBBAAAEEEEAAAQQQQAABBBBAAAGCUPoAAggggAACCCCAAAIIIIAAAggggAACCCCAAAIIIIAAAgiEnQBBaNhtUlYIAQQQQAABBBBAAAEEEEAAAQQQQAABBBBAAAEEEEAAAQQIQukDCCCAAAIIIIAAAggggAACCCCAAAIIIIAAAggggAACCCAQdgIEoWG3SVkhBBBAAAEEEEAAAQQQQAABBBBAAAEEEEAAAQQQQAABBBAgCKUPIIAAAggggAACCCCAAAIIIIAAAggggAACCCCAAAIIIIBA2AkQhIbdJmWFEEAAAQQQQAABBBBAAAEEEEAAAQQQQAABBBBAAAEEEECAIJQ+gAACCCCAAAIIIIAAAggggAACCCCAAAIIIIAAAggggAACYSdAEBp2m5QVQgABBBBAAAEEEEAAAQQQQAABBBBAAAEEEEAAAQQQQAABglD6AAIIIIAAAggggAACCCCAAAIIIIAAAggggAACCCCAAAIIhJ0AQWjYbVJWCAEEEEAAAQQQQAABBBBAAAEEEEAAAQQQQAABBBBAAAEECELpAwgggAACCCCAAAIIIIAAAggggAACCCCAAAIIIIAAAgggEHYCBKFht0lZIQQQQAABBBBAAAEEEEAAAQQQQAABBBBAAAEEEEAAAQQQIAilDyCAAAIIIIAAAggggAACCCCAAAIIIIAAAggggAACCCCAQNgJEISG3SZlhRBAAAEEEEAAAQQQQAABBBBAAAEEEEAAAQQQQAABBBBAgCCUPoAAAggggAACCCCAAAIIIIAAAggggAACCCCAAAIIIIAAAmEnQBAadpuUFUIAAQQQQAABBBBAAAEEEEAAAQQQQAABBBBAAAEEEEAAAYJQ+gACCCCAAAIIIIAAAggggAACCCCAAAIIIIAAAggggAACCISdAEFo2G1SVggBBBBAAAEEEEAAAQQQQAABBBBAAAEEEEAAAQQQQAABBAhC6QMIIIAAAggggAACCCCAAAIIIIAAAggggAACCCCAAAIIIBB2AgShYbdJWSEEEEAAAQQQQAABBBBAAAEEEEAAAQQQQAABBBBAAAEEECAIpQ8ggAACCCCAAAIIIIAAAggggAACCCCAAAIIIIAAAggggEDYCRCEht0mZYUQQAABBBBAAAEEEEAAAQQQQAABBBBAAAEEEEAAAQQQQIAglD6AAAIIIIAAAggggAACCCCAAAIIIIAAAggggAACCCCAAAJhJ0AQGnablBVCAAEEEEAAAQQQQAABBBBAAAEEEEAAAQQQQAABBBBAAAGCUPoAAggggAACCCCAAAIIIIAAAggggAACCCCAAAIIIIAAAgiEnQBBaNhtUlYIAQQQQAABBBBAAAEEEEAAAQQQQAABBBBAAAEEEEAAAQQIQukDCCCAAAIIIIAAAggggAACCCCAAAIIIIAAAggggAACCCAQdgIEoWG3SVkhBBBAAAEEEEAAAQQQQAABBBBAAAEEEEAAAQQQQAABBBAgCKUPIIAAAggggAACCCCAAAIIIIAAAggggAACCCCAAAIIIIBA2AkQhIbdJmWFEEAAAQQQQAABBBBAAAEEEEAAAQQQQAABBBBAAAEEEECAIJQ+gAACCCCAAAIIIIAAAggggAACCCCAAAIIIIAAAggggAACYSdAEBp2m5QVQgABBBBAAAEEEEAAAQQQQAABBBBAAAEEEEAAAQQQQAABglD6AAIIIIAAAggggAACCCCAAAIIIIAAAggggAACCCCAAAIIhJ0AQWjYbVJWCAEEEEAAAQQQQAABBBBAAAEEEEAAAQQQQAABBBBAAAEECELpAwgggAACCCCAAAIIIIAAAggggAACCCCAAAIIIIAAAgggEHYCBKFht0lZIQQQQAABBBBAAAEEEEAAAQTCQ+DEiRN26NAhO3jwYPRvPQ5+9NqxY8fi/Tl69KgdP37cv67HmjYyMtI035MnT0b/xPw7eC14PmPGjJYpUybLnDmz/wl9rOdC/9bjLFmyWPbs2S1Hjhyn/ST0XJ48eSx37tymz6IhgAACCCCAAAIIIIDA2REgCD07jswFAQQQQAABBBBAAAEEEEAAAQT+FFDYuG/fvuifvXv3xnoc13OhAaceHz58OF2ZZsiQwYehefPmtfh+8uXL51/Lnz+/FS5c2AoVKhT9u2DBgj6UTVdorCwCCCCAAAIIIIAAAgkIEIQmgMNLCCCAAAIIIIAAAggggAACCKR3gaioKNu1a5f/2blzp8X3o2mC1xSC0s69gIJUBaSh4WgQlhYpUsSKFy9+2o+moyGAAAIIIIAAAgggEM4CBKHhvHVZNwQQQAABBBBAAAEEEEAAAQTiEdi9e7dt3bo1+mfLli1xPtZ0GiqWFn4CWbNmtWLFip0WjgZhaalSpaxs2bJWpkwZy5UrV/itPGuEAAIIIIAAAgggkC4ECELTxWZmJRFAAAEEEEAAAQQQQAABBNKLgO6FuWnTJtu4caNt2LDhtN+hYaful5namyocdZ9NBXFx/eiem9myZTMFesFP6N+hj/W6/tY9OPWjeQe/Qx8HzwW/ZaSqWP1oyN/EfmsabQMN63vkyJE4f8d8TcMAR0RE+PugpsZtosrRIBQN/R08VrUpDQEEEEAAAQQQQACB1ChAEJoatwrLhAACCCCAAAIIIIAAAggggEAcAgrhFG4GPzHDTj2/Y8eO817BqRAxT548fphW3dNSw7XqJ67HwXOaPmbYmTNnTh9YxkERlk8pRN2/f78PRRWMhj7W38GPhh7WMMTBkMXBbz1/Pqp3FVZXrFjRKlWqZJUrVz7ttypLFTTTEEAAAQQQQAABBBA4HwIEoedDnc9EAAEEEEAAAQQQQAABBBBAIA4BhVgarnbNmjWn/axdu9b/raBTYdm5bAqxFGLqXpP6ueCCC6LvQanHwfOhvzU94de53EqnPkt9Q0MZB8Fo8Hv79u0WVAPrd/D4wIEDf/lCqmo3ZkhatWpVq1GjhlFJ+pfz8wEIIIAAAggggEC6FyAITfddAAAEEEAAAQQQQAABBBBAAIFzKaBhUFeuXGkrVqyw1atXWxByKvzUYw2rei5a7ty5/b0hg3tExvVbzyngzJQp07lYJD7jHAsoCA1C0SAg1W8Nrbxu3Tpbv369f/xXhe8acrdmzZr+R8GoHut30aJFz7EEH4cAAggggAACCCAQrgIEoeG6ZVkvBBBAAAEEEEAAAQQQQACB8yage0Aq7AwCT4Wewc/mzZv/0uVSaFm8eHErXbq0aVhS/dZPyZIlTws+NQwtDYHEBDQcs/qsQtEgHA19rOc0hO/ZbAULFowORRWO1qtXz+rWrWt58+Y9mx/DvBBAAAEEEEAAAQTSgQBBaDrYyKwiAggggAACCCCAAAIIIIDA2RdQQKSKziVLltjy5cujg04Fnqqo+yvu1ajhZlUtV6ZMmVhBZxB8lihRggrOs7+5mWMCArovbRD6BxcABL/37NmTwDuT/pL6foUKFax+/fo+GNVv/Sj0pyGAAAIIIIAAAgggEJ8AQWh8MjyPAAIIIIAAAggggAACCCCAgBNQdeeyZct84Ll06VL/Owg/jx07dtaNChQoYOXLl4/zp1y5cqZ7LtIQSCsCuk9pEIrqIgFdNLB48WK/Tx05cuSMV0P3GQ1CUVWONmrUyAemZzxjZoAAAggggAACCCAQFgIEoWGxGVkJBBBAAAEEEEAAAQQQQACBMxVQ5ZoCzpg/GvrzxIkTZzr76PdnzpzZh5yVK1f2gU3M0DNfvnzR0/IAgXAVCCqqFYoGP4sWLTJdbKCLD86k6b62TZo0if5p3Lix5c+f/0xmyXsRQAABBBBAAAEE0qgAQWga3XAsNgIIIIAAAggggAACCCCAQMoEVIWmsHPhwoW2YMGC6B8NZ3u2mu7TWbZsWVPYGfNHVZ0KQ2kIIBBbQBcdrF271oejCkbnzJljc+fO9UNPp/SCBA2rW6VKlehgVCFpnTp1LEuWLLEXgGcQQAABBBBAAAEEwkqAIDSsNicrgwACCCCAAAIIIIAAAgggEAgoNNE9PIOwMwg+NTynqtHORtP9CatXr25Vq1Y9LfBUlWfWrFnPxkcwDwQQcAKHDh2yefPm+VBUwagCUu3TKa0e1RDTqhRt2bKltWrVypo3b265c+fGGgEEEEAAAQQQQCDMBAhCw2yDsjoIIIAAAggggAACCCCAQHoUiIiI8CFJUD2m8FPDbSo8OdOWMWNGP5StAs+YPwxje6a6vB+BlAvoggYNpRsEo7///rvNnj3bDh48mOyZqopb9xoNgtEWLVqYhtilIYAAAggggAACCKRtAYLQtL39WHoEEEAAAQQQQAABBBBAIN0JbNmyJXq4zCD4XLVqlZ08efKMLLJly+aHz4wZdmpITVWP0RBAIPULKBxVpeiMGTNs5syZ/rcuikjusLoaTlfHgiAYbdu2rakCnIYAAggggAACCCCQtgQIQtPW9mJpEUAAAQQQQAABBBBAAIF0I6DgYuXKlT70DAJP/d6+ffsZGSjg0NC1tWvXPu1H9/Lk3p1nRMubEUiVAgcOHDBViwbBqELSzZs3J3tZa9asaR06dLD27dtb69atGUo32YK8AQEEEEAAAQQQOPcCBKHn3pxPRAABBBBAAAEEEEAAAQQQiCGgak7du1NhxaxZs/xvDXeZkiEuQ2d9wQUX+LCzVq1a0aGnHufKlSt0Mh4jgEA6E1izZo398ssvNmXKFP97+fLlyRLIkiWLNWnSJDoY1f1GuZAiWYRMjAACCCCAAAIInBMBgtBzwsyHIIAAAggggAACCCCAAAIIhAoohAgCT/3Wff10n8+UNgUQ1apV8/f4q1evntWpU8cHn0WLFk3pLHkfAgikI4Ft27b5QFThqH7mzZuXrOF08+bN66tEVTF6+eWXW8WKFdORHquKAAIIIIAAAgikXgGC0NS7bVgyBBBAAAEEEEAAAQQQQCAsBDZt2hRd6anQUz+7du1K8brlzJnTB53169f3wad+q8qT+3immJQ3IoBADAFdmDF16lRfMTpx4kR/sUZy7jNatWpV69Spk3Xu3NlatGhhqiClIYAAAggggAACCJx7AYLQc2/OJyKAAAIIIIAAAggggAACYSugoWwVdE6fPj36Z+vWrSle38KFC0dXeQbBZ5UqVSxjxowpnidvRAABBJIrsGfPHps0aZJNmDDB/2go76Q2VYt27NjRB6OqFi1SpEhS38p0CCCAAAIIIIAAAmcoQBB6hoC8HQEEEEAAAQQQQAABBBBIrwK6r+eyZct84Dljxgz77bffbOHChRYVFZUikkKFClnDhg39T6NGjaxBgwZWqlSpFM2LNyGAAAJ/pcC6deuiQ9GffvrJtm/fnqSPy5Ahg+n4pmrRLl26mIbypiGAAAIIIIAAAgj8dQIEoX+dLXNGAAEEEEAAAQQQQAABBMJKQBVRCjyDak893rt3b4rWURVSCjoVfCoU0O/y5cunaF68CQEEEDifArooZP78+TZ+/HgbNWqUH1I3MjIySYuk495VV11l3bt3t6ZNm5qCUhoCCCCAAAIIIIDA2RMgCD17lswJAQQQQAABBBBAAAEEEAgbAZ3YX7p0qT+h/+uvv/rwc/ny5abnk9t0T09VPQWBp35reFtO+CdXkukRQCAtCOzbt8/GjRvnQ9ExY8bYjh07krTYJUqUsCuvvNIHo61bt7ZMmTIl6X1MhAACCCCAAAIIIBC/AEFo/Da8ggACCCCAAAIIIIAAAgikG4GjR4/6e3tOnTrVFHxOmzbNdu3alez1V7hZrVo1X9mk6ib91KxZkxP6yZbkDQggEA4CJ06csN9//92HoqoWnTNnTpIuKNFQ4V27dvWhaPv27S1btmzhwME6IIAAAggggAAC51yAIPSck/OBCCCAAAIIIIAAAggggMD5F9i9e7cPOxV66mfWrFmmMDS5rWDBgtakSZPo4LNx48aWP3/+5M6G6RFAAIF0IbBlyxYbPXq0DRs2zN9jNCnHXQ0lrkrR3r17W7t27biwJF30FFYSAQQQQAABBM6WAEHo2ZJkPggggAACCCCAAAIIIIBAKhZYvXq1DzwVeqrqc8mSJUmqSgpdJQ3TWLt27ejQU9WeDHEbKsRjBBBAIOkC+/fv95Wi3333nQ9HDx48mOibixQpYj179rRrr73WmjVrluj0TIAAAggggAACCKR3AYLQ9N4DWH8EEEAAAQQQQAABBBAISwHdz/Pnn3+O/tm4cWOy17NAgQLWvHlzu+iii/zvhg0bWq5cuZI9H96AAAIIIJCwwJEjR/x9RRWKfv/997Znz56E3+BeLV++vA9EVSmqIchpCCCAAAIIIIAAArEFCEJjm/AMAggggAACCCCAAAIIIJDmBBYvXhwdeioA3bp1a7LXoVy5ctaiRQv/o/BTJ9Z1z08aAggggMC5E4iMjLRJkyaZQlH9bN++PdEPV7W+AtE+ffpYqVKlEp2eCRBAAAEEEEAAgfQiQBCaXrY064kAAggggAACCCCAAAJhI3Dy5ElbsGBBdPA5ZcoU27FjR7LWT8Pc1q1b11d7BuFniRIlkjUPJkYAAQQQ+GsFoqKibOLEiTZ48GB/X9GIiIgEPzBjxozWoUMHu+mmm6xbt26WLVu2BKfnRQQQQAABBBBAINwFCELDfQuzfggggAACCCCAAAIIIJDmBYLg86effrLJkyfbL7/8Yrt3707WemlIW93TU5WeCj71OE+ePMmaBxMjgAACCJw/AQ2fO2rUKPvyyy/9b/2dUNPw5qoSVSjaoEGDhCblNQQQQAABBBBAIGwFCELDdtOyYggggAACCCCAAAIIIJCWBVauXGkKPlUJpCESk1vxqZBToWfr1q2tTZs2/iR4lixZ0jIJy44AAggg8KeAKkOHDRvmK0X1PaHK0YRanTp1fCCqoXMLFy6c0KS8hgACCCCAAAIIhJUAQWhYbU5WBgEEEEAAAQQQQAABBNKqwKZNm3zwGYSfGzZsSNaq5MuXz1d6KvRU+HnhhReahr+lIYAAAgiEt4DuITpkyBAbOHCgzZ07N8GV1QUxV1xxhd122212ySWXcB/oBLV4EQEEEEAAAQTCQYAgNBy2IuuAAAIIIIAAAggggAACaU5g165dfpjbIPhctmxZstZBQx62atXKh54KPuvVq2e6NxwNAQQQQCD9CigIVSD6xRdfmL5nEmoVKlSwO++801eKUiWakBSvIYAAAggggEBaFiAITctbj2VHAAEEEEAAAQQQQACBNCNw+PBhmzJliv3444++8lMnq3Xvz6Q2BZ8KPNu2bet/a5jDDBkyJPXtTIcAAgggkI4Ejh07ZiNHjvSh6Lhx4xIcOjdbtmx2zTXX2F133WXNmzdPR0qsKgIIIIAAAgikBwGC0PSwlVlHBBBAAAEEEEAAAQQQOOcCCjnnz59v48eP9z+//PKLHT16NMnLkTNnTj/U7cUXX2zt2rXzQ91S8ZlkPiZEAAEEEPhTYMuWLfbpp5/6UDSx0Qfq1q3rA9HrrrvOcufOjSECCCCAAAIIIJDmBQhC0/wmZAUQQAABBBBAAAEEEEAgtQjoZLMqPhV+6rfu25bUpvu2NWnSxILgs2nTppY1a9akvp3pEEAAAQQQSFRg6tSp1q9fP/v2228TvDgnb9681rdvX/vb3/5m1apVS3S+TIAAAggggAACCKRWAYLQ1LplWC4EEEAAAQQQQAABBBBI9QLBcLdB8LlgwYIkL7OqO1V5o2pPhZ+632euXLmS/H4mRAABBBBAIKUCO3futI8//tg++OADW716dbyz0RDsl112mT344IPWvn37eKfjBQQQQAABBBBAILUKEISm1i3DciGAAAIIIIAAAggggECqFJg3b16Kh7utWLGidezY0YefutdnwYIFU+U6slAIIIAAAulDQMO46x6iqhIdNWpUgvcSrV27tg9Ee/fubbqvKA0BBBBAAAEEEEgLAgShaWErsYwIIIAAAggggAACCCBw3gT27dtnEyZMsDFjxvifzZs3J3lZ8uXL56s9FX7qp0KFCkl+LxMigAACCCBwLgXWr19vH374oQ0YMMC2bt0a70cXLVrU7r77bn8v0QsuuCDe6XgBAQQQQAABBBBIDQIEoalhK7AMCCCAAAIIIIAAAgggkKoEVPUZBJ/Tpk2zyMjIJC1fpkyZ/H0+g+CzcePGpudoCCCAAAIIpBWB48eP29ChQ+2NN96wmTNnxrvY2bNnt+uuu85XidasWTPe6XgBAQQQQAABBBA4nwIEoedTn89GAAEEEEAAAQQQQACBVCEQVH2OHj3axo4da8mp+lSVZxB86l6fqgKlIYAAAgggEA4CU6dO9YHo8OHDExw2t3PnzvbYY49Zs2bNwmG1WQcEEEAAAQQQCCMBgtAw2pisCgIIIIAAAggggAACCCRdIKVVn3ny5PH3+AzCT933k4YAAggggEA4C6xdu9befvttP2xuREREvKvapk0bH4h26NAh3ml4AQEEEEAAAQQQOJcCBKHnUpvPQgABBBBAAAEEEEAAgfMmcPDgQX+vzx9++MFU+Zmcqs9atWrZZZdd5n9atGhhWbJkOW/rwQcjgAACCCBwvgQUguoeogpFFY7G1xo2bGiPPvqoXXnllZYhQ4b4JuN5BBBAAAEEEEDgLxcgCP3LifkABBBAAAEEEEAAAQQQOF8C69evNwWf+pk0aZIdOXIkSYsSVH0G4Wfp0qWT9D4mQgABBBBAID0IREVFmYbLfeWVVxK8j2j16tXtX//6l/Xu3dsyZ86cHmhYRwQQQAABBBBIZQIEoalsg7A4CCCAAAIIIIAAAgggkHKBEydO+BOy33//vQ8/58+fn+SZ1axZ0y6//HKqPpMsxoQIIIAAAgiYTZw40V588UX/Oz6PsmXL2iOPPGK33HKLZc2aNb7JeB4BBBBAAAEEEDjrAgShZ52UGSKAAAIIIIAAAggggMC5FNi/f7+NHz/eFH5qyNsdO3Yk6eOp+kwSExMhgAACCCCQJIGZM2faCy+8YCNHjrSTJ0/G+Z4yZcrYE088YTfddBMVonEK8SQCCCCAAAIInG0BgtCzLcr8EEAAAQQQQAABBBBA4C8XWL16tQ8+NeTtlClT7NixY0n6zEqVKlmnTp3siiuusFatWnGvzySpMRECCCCAAAJJF1i0aJG99NJLNmTIEIuMjIzzjRUqVLAnn3zS+vbta5kyZYpzGp5EAAEEEEAAAQTOhgBB6NlQZB4IIIAAAggggAACCCDwlwqosmT27Nk2YsQIf0+yhQsXJunzdHL1oosuss6dO/vws1q1akl6HxMhgAACCCCAwJkJrFmzxl599VUbOHBgvPforlKlij311FN27bXXWsaMGc/sA3k3AggggAACCCAQhwBBaBwoPIUAAggggAACCCCAAALnX+D48eM2efJkH3wqAN20aVOSFqpAgQJ26aWX+vDzsssuM/1NQwABBBBAAIHzI7BlyxY/ZG7//v3t6NGjcS5E9erV7emnn7ZrrrnGMmTIEOc0PIkAAggggAACCKREgCA0JWq8BwEEEEAAAQQQQAABBP4SgYiICBszZowPP/V73759SfqcqlWr+opPVX6qAjRz5sxJeh8TIYAAAggggMC5Edi4caM9//zzNmDAANPFTnG1OnXq+NBUw9jTEEAAAQQQQACBsyFAEHo2FJkHAggggAACCCCAAAIIpFhAlZ4jR470w95OmjQpSff7zJIli7Vs2TJ6yFvd+5OGAAIIIIAAAqlfYN26dfbss8/aJ598Eu89RNu0aWOvvPKKNWrUKPWvEEuIAAIIIIAAAqlagCA0VW8eFg4BBBBAAAEEEEAAgfAUWLRoUfSQt7NmzTLdAzSxlidPHj/kbdeuXU2VIvnz50/sLbyOAAIIIIAAAqlUYNWqVT4Q/fzzzy0qKirWUmqI3B49evgq0ooVK8Z6nScQQAABBBBAAIGkCBCEJkWJaRBAAAEEEEAAAQQQQOCMBRR4fvfddzZ06FBbvnx5kuZXrFgx69Kli3Xr1s0uvvhiy5YtW5Lex0QIIIAAAgggkDYE9N8EzzzzjA0ZMsROnDgRa6E1CsRdd91lTz75pBUuXDjW6zyBAAIIIIAAAggkJEAQmpAOryGAAAIIIIAAAggggECKBXQyc9q0aT74HDZsmGkovKS0atWqmao+FX42adLEVBFCQwABBBBAAIHwFpg3b549/PDDNn78+DhXNG/evPbII4/YAw88YDlz5oxzGp5EAAEEEEAAAQRiChCExhThbwQQQAABBBBAAAEEEEixQGRkpE2ePNmHn8OHD7etW7cmOq+MGTP6wFPBpwLQqlWrJvoeJkAAAQQQQACB8BSYMGGCDzz/+OOPOFewRIkSfrjcG264gYul4hTiSQQQQAABBBAIFSAIDdXgMQIIIIAAAggggAACCCRb4OjRo756Q8Pejhw50nbv3p3oPDTEbbt27XzVp4a+LVq0aKLvYQIEEEAAAQQQSB8Cunf44MGD7YknnrC1a9fGudKNGjWyt99+25o2bRrn6zyJAAIIIIAAAghIgCCUfoAAAggggAACCCCAAALJFjh48KCNHj3a3/Nz1KhRtn///kTnkStXLrv00kute/fu1rlzZ8uTJ0+i72ECBBBAAAEEEEi/AseOHbN3333XnnvuuTgvtNLw+X369LGXXnrJVClKQwABBBBAAAEEYgoQhMYU4W8EEEAAAQQQQAABBBCIU+DAgQOm0PPrr7+2MWPG2OHDh+OcLvTJfPny+dBT4adC0Bw5coS+zGMEEEAAAQQQQCBRgX379tmLL75ob731lh05ciTW9Llz57bHH3/cHnzwQdOoEzQEEEAAAQQQQCAQIAgNJPiNAAIIIIAAAggggAACsQRU+fnDDz/YN9984ytAkxJ+Fi5c2N/rU+Gnhr/NmjVrrPnyBAIIIIAAAgggkFwBDZP7z3/+09+LPK73VqxY0V5//XX/3yFxvc5zCCCAAAIIIJD+BAhC0982Z40RQAABBBBAAAEEEEhQQOGnKj8Vfup3UsLPkiVL2pVXXmlXXXWVtWrVyjJlypTgZ/AiAggggAACCCCQUoHJkyfb/fffb/Pnz49zFh06dPDVo9WrV4/zdZ5EAAEEEEAAgfQjQBCafrY1a4oAAggggAACCCCAQLwChw4dih72Vvf+1N+JtfLly/v7fSr8bNq0qek+XTQEEEAAAQQQQOBcCERFRdkHH3xgTz31lO3atSvWR2bJksUeeughe+KJJxiaP5YOTyCAAAIIIJB+BAhC08+2Zk0RQAABBBBAAAEEEDhNIAg/g8rPpIaf11xzjfXo0cMaNGhw2vz4AwEEEEAAAQQQONcCe/bs8WFov379TOFozFahQgV79913/b3KY77G3wgggAACCCAQ/gIEoeG/jVlDBBBAAAEEEEAAAQSiBY4cOWJjxoyxIUOG+Ht/Jif8VADasGHD6HnxAAEEEEAAAQQQSC0CCxcutAceeMAmTpwY5yLpIq4333zTihcvHufrPIkAAggggAAC4SlAEBqe25W1QgABBBBAAAEEEEAgWiAyMtImTJjgw89hw4ZZRERE9GvxPShXrpxdffXVvvKzUaNG8U3G8wgggAACCCCAQKoS+Pbbb/39Qzdv3hxrufLmzWvPP/+83X333ZYxY8ZYr/MEAggggAACCISfAEFo+G1T1ggBBBBAAAEEEEAAATtx4oT9+uuv9uWXX5pOCO7cuTNRlbJly5qqPvXTuHHjRKdnAgQQQAABBBBAIDUK7N+/398bVEPixjVcrka4eP/99xnmPzVuPJYJAQQQQACBsyxAEHqWQZkdAggggAACCCCAAALnU+D333/34efXX39tmzZtSnRRypQpEx1+NmnSJNHpmQABBBBAAAEEEEgrAn/88YfdcccdNmvWrFiLnClTJrv33nt9hWjOnDljvc4TCCCAAAIIIBAeAgSh4bEdWQsEEEAAAQQQQACBdCywaNEiH37qvp+rVq1KVKJEiRLWs2dPP+ytws8MGTIk+h4mQAABBBBAAAEE0qKARsl477337PHHH4/z9gAVK1a0AQMGWOvWrdPi6rHMCCCAAAIIIJCIAEFoIkC8jAACCCCAAAIIIIBAahRYvXq1v+enhr5duHBhootYqFAhf8/PXr16WatWrbgvVqJiTIAAAggggAAC4SSwZcsWe+CBB0yjZsRsuijszjvvtFdeecVy584d82X+RgABBBBAAIE0LEAQmoY3HouOAAIIIIAAAgggkL4Etm/fbl999ZV9/vnnNnPmzERXPk+ePNatWzdT+NmxY0fLnDlzou9hAgQQQAABBBBAIJwFxo0bZ3fddZetWbMm1mrqfun9+/e3Dh06xHqNJxBAAAEEEEAgbQoQhKbN7cZSI4AAAggggAACCKQTgYMHD9rw4cPtiy++sB9//NEiIyMTXPPs2bNbp06dfPjZuXNn0980BBBAAAEEEEAAgf8J6L+vHn30UXvnnXfs5MmT/3vhz0e33HKLvf7665YvX75Yr/EEAggggAACCKQtAYLQtLW9WFoEEEAAAQQQQACBdCCgsHPChAm+8lMhqE7WJdRU6anKhWuvvdZXgKoSlIYAAggggAACCCCQsMCvv/5qCj2XL18ea8KSJUva+++/b7qwjIYAAggggAACaVeAIDTtbjuWHAEEEEAAAQQQQCDMBDTcrYa91fC3GgY3oZYxY0Zr2bKlDz+vvvpq0z1AaQgggAACCCCAAALJEzh8+LA99dRT9sYbb1hUVFSsN99444329ttvGxeaxaLhCQQQQAABBNKEAEFomthMLCQCCCCAAAIIIIBAuAqsXLnSD3uroW9XrFiR6GrWrVvXrrvuOuvdu7epUoGGAAIIIIAAAgggcOYCM2bMsJtvvtkWL14ca2bly5e3Tz/91Fq0aBHrNZ5AAAEEEEAAgdQtQBCaurcPS4cAAggggAACCCAQhgKq9lTVp8JPnXRLrJUpU8YHnwpAa9WqldjkvI4AAggggAACCCCQAoFjx47Zf/7zH3v55Zdj3Zddo3E88sgj9swzz1iWLFlSMHfeggACCCCAAALnQ4Ag9Hyo85kIIIAAAggggAAC6U7gyJEjNnLkSF9NMG7cuFgn12KCFChQwDTkbZ8+ffwQuBkyZIg5CX8jgAACCCCAAAII/AUCc+bMsb59+9qiRYtizb1+/fr+VgY1atSI9RpPIIAAAggggEDqEyAITX3bhCVCAAEEEEAAAQQQCCOBqVOn+vBTFaD79u1LcM2yZctmnTt39kPfdurUybJmzZrg9LyIAAIIIIAAAggg8NcI6CK2Rx991N566y07efLkaR+SPXt2XzV67733GhernUbDHwgggAACCKQ6AYLQVLdJWCAEEEAAAQQQQACBtC6wZs0aH35+9tlntmrVqgRXRyfPWrdu7Ss/VQGaL1++BKfnRQQQQAABBBBAAIFzJzBx4kS78cYbbePGjbE+tEOHDjZo0CArUaJErNd4AgEEEEAAAQRShwBBaOrYDiwFAggggAACCCCAQBoXiIiIsK+//toHoL/++musyoGYq1enTh1f+dm7d28rVapUzJf5GwEEEEAAAQQQQCCVCOzZs8fuvvtuGzJkSKwlKliwoA0cONC6dOkS6zWeQAABBBBAAIHzL0AQev63AUuAAAIIIIAAAgggkEYFoqKibPz48T78HDFihB0+fDjBNSlWrJgp+LzhhhtMQSgNAQQQQAABBBBAIO0IDB482O655x7bu3dvrIW+//777ZVXXuHWBrFkeAIBBBBAAIHzK0AQen79+XQEEEAAAQQQQACBNCgwf/58H35+8cUXtnXr1gTXQPeQ6tq1q11//fV2ySWXWKZMmRKcnhcRQAABBBBAAAEEUq/Ahg0b/EVtkyZNirWQDRo0MN0XvmLFirFe4wkEEEAAAQQQOD8CBKHnx51PRQABBBBAAAEEEEhjAjt37jRVAWjos7lz5ya69C1atPDhZ48ePbjvZ6JaTIAAAggggAACCKQdgZMnT9rrr79ujz32mB0/fvy0Bc+bN699+OGH1rNnz9Oe5w8EEEAAAQQQOD8CBKHnx51PRQABBBBAAAEEEEgDAhr6duzYsT78/P777+3YsWMJLnWFChWsb9++PgDVYxoCCCCAAAIIIIBA+ArMnDnTevXqZWvWrIm1krfffru9+eabliNHjliv8QQCCCCAAAIInDsBgtBzZ80nIYAAAggggAACCKQRgaVLl/rw87PPPrMtW7YkuNT58uWza665xoefqgLNkCFDgtPzIgIIIIAAAggggED4COzbt89uvfVW+/bbb2OtVK1atezrr7+26tWrx3qNJxBAAAEEEEDg3AgQhJ4bZz4FAQQQQAABBBBAIJULRERE2JAhQ3wAOn369ASXVvf57Nixow8/u3XrZroPKA0BBBBAAAEEEEAg/Qr069fP/v73v9uRI0dOQ9BQuatXr7ZChQqd9jx/IIAAAggggMC5ESAIPTfOfAoCCCCAAAIIIIBAKhTQ/Z0mTZrkw8+hQ4fa4cOHE1zKatWq2U033eQD0GLFiiU4LS8igAACCCAQ7gInoyIt6uhRWzLgHat97yN+daNcCBR5+JBlzZffFn/whmXInMVq3Haff+2kG3L+WMQ+y1agoP/76J7dljlHTsv05wVFkQcPWOZcuaPZTp44YYe3b7WsefJGP39gw1rLkCmzZXHTbZo83i5o0MSy5s1vGbNksUzZsluGjBn9+4/s3G4n3L0b9ZmZc+aynXN/t5IXX+pf0zIf2rrJcpcqYwc2rLM85Sr6509EHreMbnnVFvd/28pccoV7/wk76f5PTaM+ZMyazXKVKGVHdu+0Y/v2mrllzOKWL0eRU/9dcHjbFtNyu4ktk5s2W8HY4dehLZuc26mwLGOWrJarZGnTc1nzF/Ae+qxj+/dZ1CE5FvDzOn5wv0UeOmiZs+dw65jJ9Lcs85Qp7z9f71kz4mvvkbtUWf3p7TK5YVmz5snn/9Y/J9ww/0d27XDvP+C8slnu0uWiX9MDbTttE7VDbl3kr8/MUay4nYyMch6R/vVgO2manEWL+/lGHTtqWXLnsaO7d7n3bnbbNYefNmexEnZ8f4SdcNtChplz5fKfE/Xnf3cFdv5DQ/9x/50mx9Amc9lp22o76PWDG9dbLrcttWzqG+bep228ccIoK9u5u+8Dh3ds89slg7uYTcsbNC3ryRNuuZxpsK00bcTKZbZ78XzfZ/KWr+S3d/aChe34gf3+rVpPNfVh9RvNV6/PmzfPbu7Zw/5Ytty/njtTRnvs30/bo08+6f/WP+ojvn+4/rpvxVK7oGHT6NcObt7o56Vl1DpondTXtHx+fd2Uh7Zu9n7qe/rcoP9Gz0QP/rTT9tv8849WrHkbv5x24qTfN7Wu6gvH1ae0D7q+oLb9999cnyp3atu5/Ub7lZrW8cjOHX7/0nbV/qfPVlN/0n6jfT5o634YagWq17a8Fav4p47u3eOdZRQ07Zu+L7q+EboeWm8tj6zlfGo/jrR9q5b7fVn7lfZpbTe17IUu8L/VFzV/LbO2q9ZRx5SDbt/ScUHvUz/RfhTl1l190a93hox2bO9uv020vwUWfqYh/+xdvsTyV/lfZa/mrf1o2WcfWu17HvJm8lZ/ju6Lf75/98K5VrBWPf+Xtr/fF9wyhR7btD9Huf1Px5jgGKn+fnDTerddpvn1VH9Wn9Pr+vwTziDYv/373b6hdc2SO69fD02rvpbNHVs0r4xZs0bv31qYYH/ScShr3ny28acxVrpD51PL6dZF+3RwPNGTBzauO60v6jh7fP/+U9vCfU7eCpX9e0P/0XbW9vXHZPdYf5847m434vpihiyZ/fz1nLZ3xsyZo4/126b/Ytr3tGza3v57IujXbh9V/5eV+kjQT7WvqIX2sx1/zPDPXXBhE/9b/wTbKfoJ90B95ui+Pc4tuztGFHPLnNkft3R81/FYzkGfVF/I6NZp3ZjhVqXPbX57a5/LXriIn6W2sZZZ79V6q4+qHx9w2/LUcmf1x16t9855s5xbFb/u2q8OOXdtQ+1TQT8IXU493vLLT1a85cWnPa3P2TxlopVqd5nfF/22PXLYcoQc7/SGYN/QYzmciHTHTe0L7jigfqLm+7bbHtrXQ/fr4LXg+O8ndv94d/9dmC96/wm+q3V82ey+qwvWru99tI21TYP9TAZH9+z6cz93fcW9ru+M0KZ9W98E2j/1XZmnfOzv7I0TRvv+p76mz9S+qea/t52l3/fdc0f0We4Yo+n03xDVbrzL90n5Bd/dvh+6ecRcT7no/SePR9qeZYuszKVd/PJouwd9UN8fOS4o6j+bf1KXAEFo6toeLA0CCCCAAAIIIIDAORDQfZw++eQTGzRokK1bty7BT9RV/Lr3kwLQpk3/d6IqwTfxIgIIIIAAAulAQCda/3jpSVs78hu7YtxMF1Qss00/jXUny9dboboNXBD6plfotWirKeBZ+dUg271wnpXu2NmfIF7z3Zfu5GRZa/T0q7bo/f/zQUf5rj2seItTJ3jnv/WiD7PyV61p9R962p/QHd66thVpfJFFupO0J92J9H0rl7jApY4/WauTkXUffNwFBxvst0fu9id8fUDmQpzGz73lgyQFOn+88IQ78brTBZBlbeXXn1qT59/0J6o3/jjKat/3L1szbIg/AT37hcejwyitiE7e6kRx57EzXLg0wab+/VYfJhWoXsvKXnG1CzEO2/pxI01h8AUXNvahQZXrbrFS7TtF94aF775q693J88M7tvvnqt/yNyvapIVNf/Reb9bkuTecwwpb8N+XfZjlQ0J3gl22CiFyFi3hlrWwd9QJ19IdO9lFbwzw8xpSs5gPYbpOmuv/nv3cv/znKABWwKmT7LvcSXeFUuvHjHAnpS+wCx993r2nqB1xy6MT5qu++dQK12/sTWc+cb/phL/WubALEXQSOHfpslbmsm4uQF7rT0ov6ve6lXYng3US+ciunZa/ag1TgLF95jRn0MQqdO9t5bv1tJVDBrmQZaw/2Z+nbAXfH7SddHa7cq8brWS7y93J/YnO86hfDp1I3jhxjA+ry3bq7sM/BZsKIjZNGu/XRyehs+UvaEsH9bOGT73iPnOq1Xvo395Oy6J1bvbyu357jO/R0Yc6OYuXtIs/HurDIS37NvceBW+ZXRjfVs+7Nr7XpbZ7wSnDzDlz2iXf/Gh7li7yYYdOtitYuuj/+vtpJ9/W04clCmmKNmvl+lhpW/Ht5/bD/hP23egx9mCt8tb6yqut1t3/dKHTHh9ayn7poPd8WJOvcjWreHUfy+qCrbUjvrHlX3zkA7sWbw/0Qcq815/1njqx32nMb7b04/dszfAhPlDJ50LGiLWrrfEzr51aBzdNHhccKaxTWKB1PbXex6KDDYUexVu0sSJNWlqE61P7163xQVRpF/pre6xy+4MCG/WJGnc8YIXrNfIhaKQL5Zd9+oEPVbW82p8VdGq9l3z0Xx/oVbv5b1akUTPvor6ooKHn/E3+763TJtviD99y/eE61ye3eac9Sxa4x1ttw7jvfehU+96Hrajbt1d+/ZnVuP1+m/vKv61QnQstt+svOq6sHjrYf55C3SgX8CigKdKwmVVy/Wfd6GH+eKN9SaHTthm/uGVpbvtWr7D1o4e7QLaylXP9SOukEGn55277ue2ofqb9WhdKKPwoUKOuu6jjYdOyyUOvK5TR/hqxerlVuPo611dy2urvBrvjy07XF8dZpFsWOV3g9pvlgwf4dTzoLrBQX5SNjjk758yy1h8M9vv02O7tfBirkEnrWfbyK73tthm/2uGtW/yxp81HX3u3KXdd58Mt/4f7p+3H3/rwUqH4sk8/9H285X8HnZr2nr7+mCf3/JWru2NSd1vU7//8ejZw+/kfLz/pw+FKPW7w/VD79a4Fc2zWfx72F5MUqFHbSrljRd5KVW27WxZtr8Nuv27079esROv2tvC919zx4XO/DTqPme63m/rE3uWLLVfxUrZ//Rp3LH3Lh0oK8rTd8lep4YNcBaQ/Xnu566fuQhkXRCu0VT/L6v53Vq17Hrb9a1e6Y/kyHzzJQ6HikoHv/XkxSH6/3bRtFZq5F737QrduFa7qbQfc5xaoUcfvT0sG/NdbVLjqWivXpYd/rL6o1mPO+lN9z114Mu7qDlap5/V+OXQxyP61q/xyarsr/NJ3SvluPdw6v26Nn/0/m/HY/e65Wt6pkAv0fuzdyYeVxZq3dnN2BzH3/+qL1W+91/WNL23F4I/9sVLfVfp+1HRaZ/UbXVii74sL//Ws335TH7zVr68+V4HoJhdGK1RTmN12wDc+ZNw4/gfXLwpZTl384Wy0P/jjhtsH1AdlsuLLQd5WfaOMM1zv9gmFqgpGdfzRPqhgfPXQL6KPdeOu6eC+S11g6PaFsp2v8tOt+uYzH7zrwgP1/9bvu377Z9P3V4SzKtastbO/1j+r/j3p5qt9oKpjQsMnX/LrOvqKFlbsojbuwo+tbvvU9scu/a3AXaFybnfBRbWb7rZln7xvG9z6adlkvHfFEqt11z/d90xXP//9a1bZwn6vue+rou74H2Hrx470n6Hj39rvv7X6Dz/j918F2Iv7v+X2/amWr2JVdyHLPP9+7d8Ky7tMmG2a15KP37HV7jte34faPvKJWLMy+vtHF5ZoWXKXLW9NXzjVnzSjaQ/daTvchSIKWIu5Y32NOx606Y/cZcVaXOy3pZZF3w+5SpZxy/S0/2z+SV0CBKGpa3uwNAgggAACCCCAAAJ/kYCqPXXvpoEDB9rkyZPd/4Z0VQbxNF052rZtWx9+du/e3XK4agoaAggggAACCJwuoJOHozu38E+qqlEnKY+5+yXGbO0+He6DPh98uRdVCaJKUQVrau0+GW4Tbzx18lsn56+cusQ/rxOpEatX+sedx82w35/6uz/JqaBvRNtT1VX+xT//USCS252ErHTtjfZtwwr+WZ0AVXhW884H/Yn2iDUrXAC0woeJCsvUVLWjZVLFW15XaaIgV5UnCvdCm6bTyVOdKD28fUv0smkanbjWSXpfUeL+ViWPTqbqPfrs0h2v8EFscFI+mK/cFMQFn6WTu6r2POQCEVVzFqhWy4UovweT++VWVdiyTz6Ifq7uP5606jffY8G8ey7Y7E/Sqyrvt0fucYFaTn+SWhVGCiGyuvubB9tJPgqzFN4qmNFy6G9V2apa6LTm/vuo1bufmYKA7y9pbHXuf9TPb/7bL/mT835aN41O1Ktpu++YNd12uWq4yr1ucNvuV1c9/K5ftsBJ0+nz6rgAesE7r/rKsmYvv+fDAwWnmZ2BQhaFTVqeEm06mgLroMndByouEFAwf9mIn21MV4UTp1rV62/3AYJCdbU2/b/y21oB/p4lC6OXVa8psFcLHP0f7h8FigrnFbapzxau38gFry/7kOe0ad26K7CUsULmI67q0Fz4oabK3ShXBVfrrn9YPhdU/tjrMv+8AiMFbTpZf3DzBh8ey0mfqarQnXNn+en0j5ZvaJPKvj/rbwXcCkR81dJJVx2aMZM74Z/b9bl8PgRUBeKMx+5zwXIxH0boPWq+csktqypCg9ZtygIf5KvKadmg901VdE1eeNuOun1k9fAvXU6S0e/f6pcK3zeMH+XDhQyu4jXoSwrou01xpq4FLp1GTzMF3wrUx17Z1oe7CsN8xZbbL7V/yFT9QculKk4FJ7qAQZW+qg7TMUH7ZszW9MW33UUELX1Ypz6h/XLG4/f/r3+F9MUOX452Fw/M9UGFgnm5a9/Q/qbAJ7QpLF311Sc+pGr+2gfOYqYPsBSA6PiSIXMmv2wKZE+FUKferf1VF0Oo6lK22l5f1Sl56pjg9on6jzzjwrVe9l2zqv4NTZ5704dBChfXjx3h+3GwHApt1AcCx+B5+ZRyFw2owk6Bslp8/db3wT/dNC+F42q6YCSLq1ZU0KMLTEZ3aeWf1z/qKwp6VeGnUEp9TGGqQj5dmBC0y4ZPtlnPPmI7Zs/wTynQVXCqKsig6ViZJU8eK1izng/If3/mYX+MLNX+cr8d/HRuG/njz5/V4XpO+7DCsh2z3bHDBbU61ilgVeCmkNFfBOP6u74byna60taNGuaPcar41UUeajrmXf37av/4mwvL+mOsQrp2n43w23V4y1r+c3Xs0DKrD+r4p35xwlVhazsG+436lYJSNR3XVSkaHK/9k+4fBV86Nqlf//60C/HcRRrTH70vui8E0+l3hyFjXCC3wl3Q8JXzvczbjL2qnb9w4FTQ+7+pL3zseVvx+Ud20I1goFBOFw7oGKrP13eHLgbY7y6G0D6mEDdofp3ccSho6iPDWtTwDjo+tXjrY3eBzuXR/UsXLimY1cUoSz4+dfFI8F4F+LoARxeN/OEuDlJTX9fFT7roQPv1sYi90d9ZunDkl3uudxdZrHbHgwU2vFXtYFan/dY+6UdqaHuJ/XDpqYuNta9rG+oCogh3EYNCfe2f2na6iCf4zvbVtu67S98J+Vxwf9RVdGvaU1XVh0+zVF9QOCkrrfvh7dtO235a913zZkcvW2BX+28P+f015n6o789MWbNH73/6jtZFACddn1S/uejNj6KrqqNnyoNUIUAQmio2AwuBAAIIIIAAAggg8FcJzJkzxz766CP74osvbF8cJ2dDP7dcuXJ24403+p+yZcuGvsRjBBBAAAEEEAgRULCkE99nqwXhiuYXhKo6wajqjpitweMv2OznH4v5tLX/4gdfmaYTp77KJmSKIJwIeSrRhzopHhrYqdJGFZFxLVOiM3MT5K1Q6bTwNCnvSeo0XX+a40/G/nTjVf4tQUCY1PenZLqcbrjcQy60CoLPxOahqjJV0pbrco0POjW9Ko6CQCd4f/svvvdDqk53QdWexQv8SW4FFn91UxhevqurXnVVkQm1Ls56zbAvfeXfiDZ14500CJjjnSCOF9THVG0Z2lSxpBBIw6Mq3IkZjoVOm5zHCmc1NKkuDCjpwghVUFW74U4ffinI2+SG1J33f88lefvqsy8fOcWFmYX9e4a1rOkXR0GEKkr/yqZwQkGwLj5ISlOl6a75f/iqM1Xoqmn7++pgBWN/hki6KEPHgaUuHFr7/Tc+aElsXYIwp2Ctur5yO7HlUUCjED9mq9Tj+kT7YoMnXnRDeHfxIcz3HRv5Cxpizkd/h4aicb0e13OqVtbQzaGtsKt01zFwg6vK6z59hf1webPogDV0umQ/doGoPz66vpi/Wk0/7OzuRfN9KKoKSl0csMgNtR5cTJOU+Ve+9kar+4+nfIW1Amk1XTQQXICTlHmkdBpVOx5YvzZJbw9CarlqqPbQpipYrbvalb8s8hcGqCpTF0DoAh8Ffwk1HTsUYNd54DGb/+YLp00a136poF1D58bXVKUZ7C+aRpWuW6f97C8OCb1gJ3i/LtJRVXtc7dJhP/l9VhddzHIh339KqgAAQABJREFU+Wkt5CKG055PwR+60EQVnKoCTW6Lb9+Mbz6qPG/w+It+lIf4puH58ydAEHr+7PlkBBBAAAEEEEAAgb9IQIHn4MGDrX///qYgNKGW052cUdWnhr5t06aNu+LdVTLQEEAAAQQQQCB+AVfdNKRW8fhfT8ErQQVlCt7q3xKcsIwZXqZ0fnpfVRcKadi+tNAUHlz02oc2qvNFZ21xFUgnJ3hIyQeXaNXutKE/NQ9VX1ZyFaQKq7a4e96tdZWtGm43tTQNPathKhWWKYhQ5VNcLWalUVzTJOU5VQAXcfcRjXDDOqryLCVBaIk2HVwV4Y+nfZxC13JuKGo/fGrIK43cULsK81Q59cfLT7l7w0aGvJrwQ1VwFmnQ1A0R+jebfFuvhCdOxqtJDRWTMctYk8YVymsoT4VRGtJXQy+rAlRDnZ7NVrB2veihmJM7Xy2zAsQod6GA7msbXzBW/ZZ7fCVhcucfc3oNfVzShWuqYFYAO+LieqdVFsecPq6/49rnNV2tu//hh6INfU9NV0Fd0A2rqntIKjBbM/zUkMGh0yT0uFSHTj641ZDSZ6sVbXJRii+GOZNlUD/U8OUNXJWoKmW3/DrprH8/BRW28S1nEPLH93pSng8uQvDTnsXAU/PTELyF6jTwQ7HHtSxxhc2a7mx81ylY1rDOF7jjny72oaU+AYLQ1LdNWCIEEEAAAQQQQACBFApMmTLFV39qCFwNhZtQa9asmQ8/e/bsaboPKA0BBBBAAAEEkiagISs1NGpireU7n9gvf7shzsniqkaJc8IkPKlh88pf2St62L4kvCVJk6hiTkPenY2mE8jH9kf8eY+7szHH/81DQwJqSMWgsuh/ryT+SEOT6r6cqoSL2XzFpxsK9Xw0DY3qh6l0y6YKvPgCnvOxbKGfGVREhT4XPA6GSg3+Tsrvitf0dfdh/CzWpK3e+8y2Tp1sGirzJzeM9HZ3r7rktNPCh9A3xhFE6KICVUJrCNvQ4XND35bY45QGJsGwlDHnr0orVa6ej6aLNDRUdJT2EzdEc1KrTs/1suqevAoL42qhw2HH9Xpcz8UXGqmPyuSCBvq8mdH3go5rHnE9F1elqZ8uzr6Yz1UX25/2R+Ka3V/2nIYQ1n1gQ0cF0IcVrFnHVK16PpqO1xqO9oQbZlv7Z1xDRp/JcqWkij25n6cheNeOGpri8D+hz1P156Gtm+OcJL7/5oj5fEqPXcGFFBpaW0O901KfAEFo6tsmLBECCCCAAAIIIIBAMgS2bdtmgwYNsgEDBtiKFQmfIClatKjdcMMNdvPNN1vVqlWT8SlMigACCCCAQPoUmPv6f9z9zrq6k7+nhgCd88rTbqhSV53j7g13eNuW0+5rF5+Q7vemoRmD+33qvnMVrrrWVbitjHfYvJjzCk4yxnxef6uCTa9PubvvqZfjOKEevE/3BMzqTuLr3pVJbapQzOiGEN00abyvlAvuQ1f7vkds/ejh/t6jCc2r4tXXWb1//ttPMrRpFf87RxF338aY9+CMYyZJqUqNefI6OQFui7cH+srL7G5IxB+vvTxFJ/i1LXXvvtCmEEH3YtQ9Phf895XQl/xjhdeh97QLJtAJZH/P0eCJs/E7gf5wNmZ/NuahfURhb3xDOOt+hdncfWsjDx+KNXymgksN/Xhgw9pEt18QbutzsuUv6Pug+o8q/I67oP5st9D7KyY27wrde1vdBx7393fUcKDR+3Nib0zkdYWrGno7f9WaNuflU/th6FuC4UNDn9Pj0OG6Y752Jn+nJCA/k89L7nsTG0ZXnqqg03DV6nMx72up6mNzQfpmV82dWAuGkA3ux6l+qXt9atjX+PaFmPNU9fGSj96J+XSsv5NzoYju8dnw36/6Iamj3IUYSbnwJ9YHxvNE0aYt/VDUc197Jtb3ZzB8eFxvrfv3J04NVR3Xiyl8LhhJIYVvj/W2U/ecPnWv6Vgvuif0naDK1pzuvs+6oEMtsWHcdd9u3Rs0qRfDqGJX9yDXhSPBfzeoUr2l+66L75ii11X53n36ctuzdFH0sil4Tu5xUccTfa/SUp8AQWjq2yYsEQIIIIAAAggggEAiAlGu6mHs2LG++vOHH36wyASG7MrkqiQuvfRSu/XWW61z586W2f0PHRoCCCCAAAIIJE1g0s1X+3uUVbymj134r+fsp5uusvqPPOOrgHbOmx3nve1C56xArMp1t7h7Kg45rbqycP1G7oTjQotKZASHYF6lL7nCNoz7PvjT/47vhL3uLap5x9Wav/6hrR87wjb+OCr65fiqSHQSVSfP2306wo64yqCRF9e3GrffH31v1AZPvmR7Fs2LFQIG9xqsdc8/be/yJbZ/7SpTIJQpW3Zb54Z5VSve8mLb8stPlqdshTiHVi3eoq3tXbY41v0zoxc65IGG4ds5Z2Z0QBYEOEkJEhQ+7XPLWM0NnTnt77fHqn4K+Zh4H8YVMHT4crQfpnDaP+6wjRNG+/dqmFGdnFZTvziyc7t/HPqPhjbUfUHPtOnkec5iJW3rb1P8ULtbfv0pzlnGrAaKcyL3ZHzBbXzTJ/S8Qk9V8SpQUpikQFxD3uoig5hNwaWmUQgQ331SFSJVue5WHxwt//TDWPcYDZ1n5d432YrBA033lixcr6G/16AqbzNkymy67+/ZaDVuu88W93/bzyoIGWOG9XF9TqWeN7iLI1a4oUzL+fsUahjas9GavfyuaXjhaQ/d6S9c0DxDq/qCEC74LIU5CuLyVaqa6EUOwXsS+p29UGFn3cjfq1HD2KrCOb6qtWA+oce2IMwJXotvaNng9eT8VqWoWuacuf3vQ1s22UVvfBTrHst6URdv6H7Ax/bvi/depJqu5l1/t1wu6Jr9wmNxThdauXrho8/ZHy8+YbpfpO49mcXdw/NEVKQf8jVvxaq201WcJtbiqyLW+/JXreGPo3qsC1p0HEgseNO0Oi4e2bXD94NiLrhc8M6revqMW7Wb7nYXxTxl0x+71zZNPHWfT33/aBhtfb/F7IspqeRNaCG1r+u7R/dqVivdsbNtGP9DQm9J1msKOXVM1UVDMZuGVY6rkl3vCe6DGvM9+rvJC2/bjMfui34puJgj+gn3QPusjhttB3zjHue2r+qUckPb3+H60Qf+vrCV3VDrSwa8G/qW6McKvTUMeDa3n6pv6OImNe3/Og7Eta8GfTj0vweCGeo77JJvTh+GPHiN3+dXgCD0/Prz6QgggAACCCCAAALJEFizZo19/PHHNnDgQNu0aVOC7yxfvryv/NS9P0uWLJngtLyIAAIIIIAAAnELxByGU5VAdR983H575B7/hqAaSPdyW9TvdT9k4qmToadCnuMHD7hga36sk4m6Z13Rpq380Iqrvvk0/iH+/qzma/fZCD8s5faZ02z1sC/99J3HTrcfLm1qCkkP79jmT5rXuf9RWzrwPavYo69/TtPr5H7QylzezZ/obPri2+6E/n4fQhV2J6F/ufdGCw1wNH3ncTMs0i2/KsmijhyxVUO/cAHwG746RSeUO42aaj9c1sw0jGvpDu5iK1f9qPAtyg1bOPvZf1mvRVt9Nclxdy/JtcO/Mg3vqUqY8T0u8Yuj6tTy3XqZqm5VNap7iwWVMs1fe98K1q5vozu38AGYTsoqUMmQMZMfJlIVuUFThZlaaKisMEPvWfT+G7Zu1HdWpe9tVrhuQ7d8xf1JZ1VpKpxt/mo/G3dNR/9YgW3Q2n70tS1027PGrff5CuD969f57avXizRu7u6XOM1P2vTF//ohf5d/3t8OrF/rn9M/WvfRXVrafndfSw0tWbLtJdb4uTdtkgvS5bn2+2+jp2336XAfCo672lWSJdJKtb/cyl3R3QWpRW3hu6/a1mk/+3fo5LvCVS1D5WtvtBKtOtjMp/7u+4CeVwBYpGEzHz4ruJ31n0f8+2rf+3CcFasxF6PrT3Pc/RDruyFS8/lAaJ+7H2MQeCuo0kn3QrUv9Ntm8m09Y749+u9Lvv3RMmXPYRldEKrwUQF2ZncS/4/nHzsVirp+fIG7H6gqlhU8qUJWfysEHX1FSwvulRmE3Q0ef8Fvzx2zfjPta7p/abHmbXzFnvrozKf+Ef3ZCj0UUo29qp31WrjFP7/8s/5uX7nehdWjbN3oYf4+mK6T+fufKvRSK3fF1T6c0r0/Z7l+rYq/6jfd4/aZG3xAW67rNbZ2xKn7Ziowzuaqi4PAW++v88Bjpu22efJ4m/vaf0zhqIImBVjab3976C5NZh2/GmsT+naJNRyvqqu2/DLRhTZX+HtFHty80ea/+YJ/j/4JAvaGT73sbVd/+8VpQ8SqLy545xV/AUNwvOo6aa67n24Lt99eftp9J3Vxg4KvUZ0uip5/fA8Ummj4b1UwZnQ/E67rHD1pcIFDIbcPq2JdIbfuc6vARhcuyGC722YKb1Z+9YntcheVhN7HVdsuGJJV9//d66rUgnbVtKX2XfNq/s8g6NO9MIOLO9RndKGJmo5rCnPiam36f2X7Vi1z+0p71x8zuwrOCb46fMbj97vnl/vQU+8LquWauP3X90V3AaqOSwr1dKwN+mK9fzzlJjZXnflfi9Swyq7PVry6jz8OaVsHYZaG1dXwo81e6ecurOnuPdSPlwx4x6rdeKdt+NFdRFG9lk28vqurgD7sh+4OLgLQcL16rZQ73gb9ptV7n/u+tfLrT/13gQ/2XN9VZbxCqfVjR0avviouVZ0fsXqF/Xr/zf5CFB0DNMRvSdevJ99+rZ+27cff+vsTLx3Uz0IDvMbPvuGP86pQ1HHl8LbNzqCf78d6owx0PNc8c7vP3/jjDy5o/N9FN5cMneC/S0L7yhXjZtqvD9zivh+q+D4SXCCiak1dUDLq8ubRy5/Qg8tG/Oy/6xSihx5Lg6pbvffykVNsmdvng+G3tW+XdkHgCTc0+skTUf64LsfQpnsJy3v5Fx8ler9g7dfa5ho+esfs39wxZbhfJu3bG5yFhrfWsL46Bu5a8IdV7nmjLf2kn1XqcYM31NDOod8jwfe1+l7E2pX+/p/qn6Xd8WS1u7hKrU3/Ia6PVfPHZl1stOTjd23RB2/67+5m7vtNAftON9/ybuSCLK4f5nfHqH0rlvpjyFW/LfPLo2NGgRp1fIg6oU+XU/P98EvfHyq4YfeLNm/ttntO/12q8F7HH42CoNeC5fBvcv/oGHzpsEnBn/xORQIEoaloY7AoCCCAAAIIIIAAArEFjrv/ET18+HD78MMPbeLEie6czKmTMrGnNMuWLZt169bNV3+2a9fOMujkKQ0BBBBAAAEEki2gk/CqiFGVYOh951QZunvBXNuzzJ2Yd9/JmV0Fj8JCVVXohHPXyfP8CeQ9SxdYg8df9FV/w1vX8Z+vgGrLr5OiKxdVJaZhAlu9+5lpGv1d+dqb/InzA+4+pAqYFOb9fGdv6zxmuh+mUCfs3Re8jWhbz5+YrP/If0wnt9WG1Cxml//wq03o3Sk6bNB65K1Q2Ua2b2BVr7/Dqt98jzvB3sVq3vl3XyWmME0ntXXyt4gLnFSxohPJFa+53lW1veVDX53czZonn69s1MlztS4uGNP9AnWSWkGLTs4qbFQ1qob8nfbPO+zSoe6/W9woFn+89ISvLNOyHneVfVPuud6vl6qAdEK2zYdDfIWgwi8ZjO95qV3x4yxfrVe201U2rEUN/xn6XFnLfNmnH/hhPlXlpHBTJ/9VNagAJqMb/SJYh8M7tvoT9Qp+VIGqkErTDG1S2c9Tgd6KLwf6qlBV4+kEtoLu6rfe6yuU8pSrYHnLV7aJN3Szpi/81xS6jmx3obX/fKTlq1zdbxttj/afjbR5bzxnOqGsv+WgaszOY37z1bRaPgUHWp+cRYv7bRXci03TZHfbenir2tZp9DS/XdePGe6D4LUjvvYnnBXmKAjuNmWhrXaBdNSxY1bmki6+sqrMZd2sfNce3vqruqWsy4TZvgpsyt19RGY9F2x2YefLft0rue0qY/UVNYUNFa7qbdVuvtvWuXA2qMrs9vN83yc1jQIvmSmAa/Xupz70mnTL1e75rHrZD6eodZdTwVr1/JC/0//1N1PYnqNoCV8NuN0N9frzXdf5IEL9UUZqsuwy8Q+/POpHWi5Vh+52VbG7F871FVuqLM7ohnpUH9Y9SVcPHezfq4rfHnPW29f1Srtw+iIXJvR14dp0V7n9rK1xbpt//tHvb+ozCn8ruXs7VnL7l8LcmE338lWoPfvFx93n/8d99hyb6vZ9vbfpS27Y0ZMnfCg15+WnXH/9ylduKgiIdCG/wk9VWSvs0jDaCi1lpYsmtJ65S5X1F0N0GDzaJvTpbFdOXeK2VaQPgrUcWufW/b6w4q3a+W34w6VNfKCs+x+q8koXQaiqWH1KFx1o6OSCLuAq1qy1fdu4kt8X17sQV2HWoa2bfDWWqut+f+Yhf5/ZHK6/6WII9dGtLozUPXHVdK9LDTWsbaAARftzi/8OsqKNmvv5KszI7T5PF0AUrtPAdrjQeuG7r/l1lv01s9f64Fhhti4EGdOtjbtw4F4rc/mV/nO1Hj5sdPu4LhTYNmOqKfRa7S6K0EUTuvBBVbnjurePrmCXZev3v/AVe0sHveeHE5e/+pOaQklduKELIbrPWOHD1CWu+lbhoqrqtA20XtoOOnbqGP11/TLu2He7lbz4Mn9c0DYbe+XFdvHAob7f+Bm7f0a2q2+N//N/7ngwyFe+a6hsVenqGLDsk/fd8jZz4eV7PqAd0bauP1brggpVX+9ft8ZvhyMu2NaFFbpIZZmrTlbAqWpKBVCLP3rLjSCwz+1z+XxYVqp9J1+ZqwsCQtvoK1pY+8GjfKBa98En/HDPi/q95qsMtR5lO1/tjsd5bMyVbf188lepYccPHfD7hUxXDhnkQ1D1v4Nuu+sCD/loG2crUMj1hY12iTs268KCq38/dfFHULU/5Z6+LuyLstYfDPZ9f8xVF1vW3Hn99tGxoutPc33f13ZS2+TC/V1zZ/nt/82FZf2+MueVf1vN2x/w/abaDXf6e6nqmK4qcF08kSl7Tmv8zOs+CFR/Vihbzq2TtosC8NFdW7thsN19et22U3/R6wc2rnNBbUdb+c1nfrse3b3LZv7bXeTgplFI3FL91n2XLnYhtILwUe4Cncq9b7Zy7rio/V1B+64Fc6K/p1WFq+2v74x9K5f645uOo4ve/z+/3Y7t2+sv3NG+rhEDtG+qDW9d2zsqQNWFNRopQQGhKlknXHeF/07RcUcXY+i4qaZAW8dvDTPb7pNT1ZYjLq7nqje/tbmvPu2PbQpj9b2gCwN0EcLFg77zw/GP6dLKb6slA/7rqzZ10UDQVEWsflzr7n/441r2goX98qtPannaDRpmGrVCy/r70/+0Rm6o4+C4q+9P/feAjmHrfvjWWrr/Bpl8ey934c5K368Xvve6/28Z/TeI7pM8+4XH/QVYV7ljl75fv2lQPliMWL8ZGjcWSap5giA01WwKFgQBBBBAAAEEEEAgVGDVqlXWv39/X/25fXvsodNCp61Vq5YPP/v06WOFChUKfYnHCCCAAAIIIJBCgYXvveZP/Ie+XUGa7heqQFMnYYOmE/SF6lxoJ91J2Yb/fsVXMJV31RI6mb5r/h9+sibPv+VPiOokbOELG/uqDlVAqlJN0xyL2OuHL9TECnsUQGpoXp18V4imKkKdKFV4sHvRfFdtuc8PK6sQTBUmv953k22ZNtmavfyev5+iqqV0YljBnqqUFO4pbFSVkAIDteAEuJZJYYuqOaq7oT11MlfrV7BmPctd1lUWuRBGryvw0T3DqvS5zX57+C5/IlnBm4ImVZ3V/tvDfr7BP/P+71l3QrmqlXXhiE4MH1i/xodVZS7rastctVGkC1+KuIAhONGsStuDm9b7k8sKkHQiW0GlhvdUU+WeAgSFZLNdFaEqhhTeyk7rr3Us0bKdC0tzuSFQP/YnmQs5LxkFTeHnwndfcUNgDvABkZZdlU9ax6l/v81VZd3lgxBV72kYR53sHt6ylq9+UziuqsA8rjKruKsk030rq/S51YezY11ooCBbQXCN2+735qpSbPT0q77aSxVPWqe85SvZuB4dXZhVx1dEnnBhcWlX0aaqHlXL6cS+7h+qdVVFmMKNFV8MMJnp5P7GiWP8emmIUJ3Y1slxBYVlO13pqovedyFIBV/Rpqxx2/RffZCmoSgzueBSYbT6wNbffvZ9ToG4hqbMV7maH755xhMPeCaFbxP7dvWP6//rPzbnpaf8NlDgWf0WNy8XaKiyqtbd//T9VxNuc8GvfDQMq6ZTiLPssw+tat/b7avaJXxg3+jp11yge0H0CXmFHApnFDSpclKhoCogfbWp6xsKiY46/wrdr/PVtXlc6KTgU9WRCtMauUBl2EXVXVc9YS3e/Dg62FrsKqIOu6GHta9ouRTOKVyWbxEX9MXVNIyz+p6Ggpz93KNWqdeNPnRWBZ22sSrdcpcs4/dh7W+F6zf2QZYqjhXMKahZ/NHbpuotVUqrUlQVxQoNVw75xPfRvOUq+dA5+vPdPjbp1h5+SMvgOW0fVRbqAoiynbr7/hN4ap9Upa8uAFD77V/3+P7kq50V9rplVvCj4L6G207rx42wWnf90/eHJR+/44MYVcEq1FJord9TXECtIP6QC291IYAqM1VxXKrdpT7k1bFIF4No2iD01eerr++YPd2ZbfCuumeyzPe6YbnLdelhS11lmu5HHHnggAt2j/hAS1WQOiboQg9dlKFjgoYR1jbWtlZwqqawv4A7ziokDQJyPa9j2bw3nvf7gY6bOiaqT2nfV4V3qfaX+eBd+4iOA7IPQp+1I7/xfV3bdv+GtdZxyBhfna35qu1dvtj9m8FfNKBgTX2xoauQVRWm+oYq/Y/u3e32z0gXauXxIbWm6fbLQlvkviuquSphHatUJapl3v77NN/XVE2vbabqPg2RruOyQm4dh331sqs4DG0KnvatXm5Hdmz3w7jq4obyrt8qtNI9JvU9omGcFXQej4jwhtp/FQQq2J7ujqEy+eW+G01VwgrL9H2jIEzDUCv403ZWoFXrnodCP9oH9qoMVNu/brX/XtF3gy5k0L6k/U0XdWh/UNOx9+DmDb5vTH3wVstVorS7gKeIX68Krsp//+qVLoyb5beNqtcVLKvCcrLr8x2cv7bzCVdhq4r5KBfQz3j0Pj/0sIZu1rzVR3UxQLCvyTfC2WTKmt1yue2yzw2frn6pY4fCfl18ons2a5/P747nGl5ax5tj+3b7UFiPFUoedMFqgyde8hWOGq5d37UKun9zw0frvtT6Pmj9/mBvG+Gqg3XsVts593eLctWj2g+0n2md1C8U8qovaLvr4qM1LuxX5a6m04gQ2t66KEfHMX2+viv0vVPLXUAgjwXuAgN9x6k/K7hU03zUd3VcUd/WxUa75s8+ZeFcVDmreyProhgtg/q8/ptFljomqbJUwauqmLU++l4LbbJU9ar2QR0T1Ie0LDp2BcNpa3pV6x7csM71oUY+/NWFFT/deFXorE57rM+p99C/T3uOP1KHAEFo6tgOLAUCCCCAAAIIIICAE1D154gRI+yDDz5ItPozt7v/R69evXwA2qRJE/wQQAABBBBA4CwL6GTi78887Ctj4pp17fse8dWGqlgrflFbf2JSlZCq2guaTvhq6E+FXhquURUvqkJRaKqTsgocS7Tu4Cf3VSNuWjWdbFUYdNAFBqqaUdNJbFX16MRv0HSCXkPM6kSs7l23bdoUPzxi8LpO1KqKLrGmahxV2SjwUFikSjiFPZpvaNMy6sS1qhkV1mldVKGlEEN/az46IR803atUJ50VXqrpdT9f56BqVFXJqBJHlSfB6zqZr/uUKWxR8KX3BMGtQli9RxU7GmJQAbEPpF3qt3bk1y4cKOONdAJdFW4O3AeKqsQMbcF8gud0UlnzCk7+qzpHgaZCSzXN++SJkz7E0DbQ/UsPuDBFwxKrWlJNwYfWQxWr+q2qPw0LrGpabWedFA/uM6htqYonrWfJiy/xzgq5Q5tCY00vL4W3Wiate8ymAECVtUGYrNd1UlyVOQom1c9kmsFZqBpUw7GqQuzY3j1+nYN+pwBQAbNO/Gu4WA0FKXcZaB10Ql2VWQpz1RReKjQIbRoeWtWBqgQO7Ttafq1LXNWYCkt1j0/tG4s/fMuHmjkuKOa2f1v/Hi2XwtqgKTzV3wq2FPypQjKvCwoUwGoeavLNlr+gD8LUD2TtR0qRgduvEmrq06qa03Cv6lvanrIPDSn0/qA6WUGXwiBVuio0V2WWwiL1T1WKa99QX9B0CjxU8RraFEppewRN02k7aVjlo3t3+eAjNIzR9tYwrhpiWccCBR4a4rWAC9iKueOQ2gpXFVjZ2Wge2ofUgmXTELVBqKnnfV90oYuqj8u4MP2kC/r0Hjloe8lPlYWqsvaV4X/2Lb03tGm5tc4KvhTwBdtCoZDMNQStLNU31B81TK6OWeqXCv8U6gcO2uZZXV9XSKqQS+GitqG2sy4UKHnxpf69qrTU/rHcXSiQ3wU5qgwOmvp5cFwJntNv9UX1zWDfDn3tt4fvtgZPvujXc/nnH3mznK7f6mIKXSih/UlN+5SaqsyLNW/lL4xRha7eo3XSEOWBnwKtKLe+Wnd/f1F3cUNWdwFFEPZr+RNq2vZaXh13tT8qrAoulAneF3o8Uzitiyd0TJOntneE6wcKL4PptBwaHrv5q+8Hs/C/g9dDn9S2UB/QBQvqN8HFM8E0PkRz1bc53D6pwG/3orn+AhGFtjpGbpwwxof/uthH33tqwbbRd4Y+M9huWmatp5r6iT5XgaEe69inv/XeLLny+Ap3VX4rOAz6mn+j+0frlzlbDv99pm2lkE9NQ+Jqe1S40g0BnDGDv4BE3yVaL/VBXbgis5j7pH/zn//o+0jV8AoQfWW3G65dfVcXJynAVdNFAQoMgxa6/8pEfUHHCTUNXauLXGK20O9+7S9aTn3v6njtv/divMF/puur+933hi5q0PFBF27F3F5623o3eoWOTWr6ztN3mCqqdQ/Zytfe7PuYXtO2OXWxSkG/HfWcLgiJr2kIcG0vVeXTUp8AQWjq2yYsEQIIIIAAAgggkO4EVq9eHV39uW3btgTXv2nTpj787NmzpykMpSGAAAIIIIDA2RfQScfpj/7Nh4MaUi+hpuohnZinIYAAAggggAAC4Sgwvtel/tYAca2bwlkF3bqgJ+bFHnFNz3PnXoAg9Nyb84kIIIAAAggggAACTiCo/tS9PydMmOCvco4PJn/+/Na3b1+74447rGbNmvFNxvMIIIAAAgggcBYFVFWlewL6aqUY8230zGt+WLkYT/MnAggggAACCCAQdgK6j+6hrVv8KBWqWA1tqqQt7e5brapS3duVlvoECEJT3zZhiRBAAAEEEEAAgbAWSE71Z/Pmze3222+3Hj16WA53HyQaAggggAACCJwbAQ0/qXv3aVi5uNol3/7o73PW7NV+fhjIuKbhOQQQQAABBBBAIK0LaOjfqQ/c7O45PdL9t881frjl+Napx5z1fljy+F7n+fMjQBB6ftz5VAQQQAABBBBAIF0JqPpz5MiR/t6fSan+7NOnj6/+rFWrVrpyYmURQAABBBBILQJLBrxja4Z9Ge/JvosHDrWj+/a4++tts1JuWFzdF4uGAAIIIIAAAgiEm4Dubar7s+oe0br3+T5379r4Wq9FW+N7iefPowBB6HnE56MRQAABBBBAAIFwF1i/fr2/92f//v0tsXt/NmvWzFd/6t6fVH+Ge89g/RBAAAEE0oLA+jEjbOa//2GRBw/EWtxcJUpZu8+/N1WOFq7XMNbrPIEAAggggAACCISDwMYJo2zjxLG2duQ3Ca5OwVp1reNX4xKchhfPjwBB6Plx51MRQAABBBBAAIGwFTh58qSNGzfO+vXrZ6NGjbKoqKh41zVfvnz+3p8a/rZ27drxTscLCCCAAAIIIHBuBU5EHrd5rz9ryz79MN4Prnnng1akUXMr2rTl/7N3JfA3VO3/qZSSNpWlsksUCpVEJaTlTVRIKkqKCGlBr0q0vOlPK1FZIkp2yZIlsouQJfuWsu/7fv7nOzW3uffO8sy9c+/v3p/n+fiZmXPOnOU7586cc77neR7HNBIhCAgCgoAgIAgIAoJAZkBgbM1KtHfV8qim3NlrsIyFolBJrQAhQlPreUhtBAFBQBAQBAQBQUAQSFsEduzYQb179zbM38IPqJvccsstIe3PbNmyuSWVOEFAEBAEBAFBQBDIIAT+mvwjzWnXgo7t3Wtbg7OzX0A5ritFJVu01VqhN9mmkUBBQBAQBAQBQUAQEATSGYFpzzcgjImc5JLiJenksSNU+pUOlOe2yk7JJDwDERAiNAPBl6IFAUFAEBAEBAFBQBDIDAjMnDmTPvvsMxoyZAgdPXrUsUnQ/oTvT2h/lipVyjGdRAgCgoAgIAgIAoJAxiMAX1jTmjegXYsXOlam2FNN6YaX33CMlwhBQBAQBAQBQUAQEATSHQH4CJ3yzCN0YOMG16bAbUD1CfNc00hkxiAgRGjG4C6lCgKCgCAgCAgCgoAgkNYI7N+/nwYMGGCYv120aJFrW8qUKUPPPfcc1atXj0T70xUqiRQEBAFBQBAQBFIGgUNbNtGUZx+hfWtW2dapzH/foT/GDKezsmalWzt/QVlzXGqbTgIFAUFAEBAEBAFBQBBIZwQWd32fLipSjLLnLUDj61RzbcrdQyYQNERFUgsBIUJT63lIbQQBQUAQEAQEAUFAEEhpBBYvXmyQn/379yeQoU5y7rnn0iOPPGIQoOXKlXNKJuGCgCAgCAgCgoAgkKIIHNm1g2a0akTb5822rWHFj3vTVVXvo1UDv6Jsua+gKyu5LwzaZiKBgoAgIAgIAoKAICAIpDgC01s2pD8njmHV8rZPv6IrK9/DSiuJkoeAEKHJw1pKEgQEAUFAEBAEBAFBIC0RgLlbmL3t3r07zZgxw7UNV199NTVp0oSefPJJypEjh2taiRQEBAFBQBAQBASB1EXgxOFDtLLfF7T0y4/p5OHDURUt2aINFWvwHEFLonCtx+iCAoWj0kiAICAICAKCgCAgCAgC6Y4ANoZtHP+DZzOuadCESrd+0zOdJEg+AkKEJh9zKVEQEAQEAUFAEBAEBIG0QGDDhg3Uo0cP6tWrF23fvt2xzlmyZKHq1asb2p9Vq1alM844wzGtRAgCgoAgIAgIAoJAeiCwdugA+uWNl1iVFV+hLJgkkSAgCAgCgoAgIAikIQK7li6iJZ/9H+387Vc6O/sFtr5CC9asQ2Vfe4+ynJctDVuY+assRGjmf8bSQkFAEBAEBAFBQBAQBNgIKKVo0qRJ1LVrV/rhhx/o5MmTjvdeccUV9Mwzzxh/V155pWM6iRAEBAFBQBAQBASB9EPgyM7tNOMFbRp3/pywymMBsFjDprRmcH86ceggXZC/EOWpeCeVaPZKWDq5EAQEAUFAEBAEBAFBIDMg8NsHb9GyXt0ob7X7qdCDj9LsV5+no3t2h5qWJdv5VKpFW1KnThK0QkVSDwEhQlPvmUiNBAFBQBDIVAgcP36cVq5cGUib4HPwyJEjgeR13XXXBZKPZCIIZBYE9u3bR/369aNu3brR8uXLHZsFbc/KlSsb2p81atQgaIOKCAKCgCAgCAgCgkDmQ+D4/n20ftQQOvOcc2hu+5dtG/jgtKW0Zkh/ynfPA5Q9X0HbNBIoCAgCgoAgIAgIAoJAuiMw8bH7acfCeY7NuPT6slTxo150Xs7cjmkkIuMQECI047CXkgUBQUAQOC0Q2LhxI+XLly+Qtj700EM0bNiwuPM666yz6MSJE3HnIxkIApkBgd9//90gP0GCHjhwwLFJl1xyieH3E/4/ixYt6phOIgQBQUAQEAQEgUQisGfPHmrZsmUgRVx00UX0ySefBJJXZszk6O5dNPPlxrR19jTH5tX8eRGde1lOx3iJEAQEAUFAEBAEBIFoBGB5qUWLFq5z8HLlylHTpk2jb5YQFgKvvPIKbdu2zTEtNng3aNDAMd4agbHQhYWL0uFtW2l8nWrWqLDzMv99h4o+9nRYmNsFFEfeeecdtyTsuKuvvppee+01dvrTLaEQoafbEz8N2luxYkX65ZdfPFu6ePFiuuaaazzTSQJBQBCIDwEhQuPDT+4WBBKBACZdI0eONMzfTp482bWI0qVLU7NmzahevXp03nnnuaaVSEFAEBAEBAFBINEIbNq0iYIyx547d27avHlzoquctvkf3rqZfm76OO1ZvtSxDRfpRcF7R/5M2kG4Yxq7iGPHjtG6deto1apVtGXLFmOMkS1bNrrwwgsJm6/wjHPlymV3q4QJAoEiMH/+fNYaEvpk9erVAy1bMhMEBIHTF4FevXpRo0aNXAEYO3Ys3XPPPa5p0jkSG7GxZrh161aDsDx48CBddtllxvc/Z86chlLFmWeeGXMTX3/9dXr77bcd78eYY+3atXTppZc6pjEj9q1bTT83fpRu7tCF5rzWkg5t+Xf8eJa2XndpydK0be4sKtH0JV+uAqZNm0a33367WUxcxwoVKtD06dPjyiMz3yxEaGZ+uqdp22655RaaMyfch4kdFMuWLaNixYrZRUmYICAIBIiAEKEBgilZCQJxIrB9+3b68ssvqUePHsaEwym7s88+m2rVqmUQoBhMiwgCgoAgIAgIAqmCgBChyXsS8P85t0Nr2vDDUNdCc91yG93a+XPKekkOx3SwxgLz+1jUBfm5YcMGVz/k2IA1YMAAx/wkQhAICoF3332X2rVr55ndnXfeST/99JNnOkkgCAgCgoAXAocOHSJo72FM4yQlSpQgKPEEKRMnTjSIP6c8sQn6pptucooOJBybTzAWwB/W792stYGgvOuuu+juu++m++67j0CO+hHgW6BAAYLLLid56aWXqHPnzk7RUeELO3ek5X0+CwsvUqc+3dj+/bAw7oUQoVyk4k8nRGj8GEoOKYaAEKEp9kCkOqc9AkKEnvZdQABIAQQwwejatSsNHjyYjh496lijK664gho3bkzPPvssQUtGRBAQBAQBQUAQSDUEhAhN7hNZN+I7+vWdV+mEXrS1k7MvuJBu7vgB5a12v120ETZjxgzDtN+iRYsc00RGCBEaiYhcJwoBIUIThazkKwgIAk4IwBSqlwnTr776im221amcyPDixYvT8uXLI4ND1//9738DM9MayvSfkwULFhBM1U6aNCkyinUN61RwjdC2bVuCawOuYDzx7bffOiY/V2tzrl692tPayLyObShLtvPp5JFDdODPP2jztH83xhSu/QTd9Ob/kTqpXXCdcab+x9diFSLU8dEEHiFEaOCQSoYZjYAQoRn9BKR8QSAcASFCw/GQK0EgWQiA8Bw4cKBBgM6bN8+1WJhief755+nBBx+kLFmyuKaVSEFAEBAEBAFBICMRECI0+ehvGDOcZrVuaizsKW1e35RSL/yXCjxQm5Z0fZ9KtmhL510ebsoWJu+waNmnTx9SSpm3sY5ChLJgkkQBICBEaAAgShaCgCDARgBWmgoXLkz79+93vAcblNevX0+w1BSUwAx9njx5XLNLBBEK3+7Nmzc3rDz4HQvYVRamc/HefuaZZ+yio8Jmz55N5cuXjwq3BmAj+Oeff24NijqHz/Q/xo6MCkfAxddcS/cM++lvclR7CshTsbJtOrtAIULtUElMmBChicFVcs1ABIQIzUDwpWhBwAYBIUJtQJEgQSCBCGCBuHv37sZAHpMsJzn//PPpscceMwjQkiVLOiWTcEFAEBAEBAFBIKUQECI0eY/j8LYtNO+ttlS8YVOa+PgDUQXf/NaHVOihR6PCzYCmTZsaYxLz2s9RiFA/aEnaeBAQIjQe9OReQUAQ8IsANiDDVLybdOrUiVq3bu2WxHccykTZbhI0EYr1CJi1hTZo0PLqq68ahCgn33Llyrn6gsZm8N9//90wV+yW3+9ffkKLPno3lOSsrFnpgvyFCP5DT/1jfhfjIoyPuCJEKBep+NMJERo/hpJDiiEgRGiKPRCpzmmPgBChp30XEACShAB2On788cc0dOhQVx8Y8EWChcmnnnrKl0mZJDVDihEEBAFBQBAQBFwRECLUFZ5AIw9u+pMmN3yYDmzcYJtvla9H0u6li2jf2lVUuu1bhAVBU6ZPn06wOBGr9ocQoSaSckw0AkKEJhphyV8QEARMBOAj+7rrrnOdr19wwQWEdTQ/5l/N/J2Ohw8fpiJFirj6JMW9QRKhGK9VrVqVli1b5lStuMObNWtGn376KZ1xhlbDdBH4HH/88cddUhDVrVvX1YSuefPRXTtpesuGtH3+HDMo7Jjv3hqG3/SwQJcLIUJdwAk4SojQgAGV7DIeASFCM/4ZSA0EASsCXCL0wgsvpGrVqllvjTqH1pqXs/gRI0a4OltHpmeddZZnmqjCJUAQSEEEjh07RoMGDaJPPvmE5s6d61jDM7WPivvuu48wUcCOTK+JgmNGEiEICAKCgCAgCGQwAkKEJu8BHNq6mX5+ti7tXb3CttDijZ6nM7OcTUf37KbSrTuEiFCY57/hhhtc/ZDZZmgJFCLUAoacJhQBIUITCq9kLggIAhYEatWqZWxctgRFnb744ovUpUuXqPB4AuCbs3Pnzp5ZBEWEYhxQunTphJKgZmM4dca6Sf78+QnmgZ0EayTz5883xi9OaRBu+k2HD3U7KfrEM1RGbw7jihChXKTiTydEaPwYSg4phoAQoSn2QKQ6pz0CXCK0RIkSniQnB0zsnoM/IjcRItQNHYlLBwS2bt1KPXr0MP7cBvMXX3wxPf300wYBWrBgwXRomtRREBAEBAFBQBBwRcAPEdq+fXvKkSOHY34wE4/vpIgLAtq350m9oDm4bIGwROdfmZeO7t5Jdw+eQBcUKBwWxzG/F3aDzYUQoTagSFBCEBAiNCGwSqaCgCAQgQDWxkDGeVlKWLFiBRUtWjTi7tguURaI1Y8++oiVAYdU5GT02muv0TvvvMNJGncamLWdM2cOlSlTxjUvtO1///ufa5r69etT3759HdP8MXaENoF7jPauWUXLen4ale7yMuWowodf0rmX5YyKcwrAuHbIkCFO0Ub4Tz/9RCNH2vsntd5YoUIFgkUOEXsEhAi1x0VC0xgBIULT+OFJ1TMlAkKEZsrHKo3KIATmzZtnaH9+9913hF2NTlK8eHFq3rw5YSCPRV4RQUAQEAQEAUEgsyDghwjdsGED5cuXL7M0PcPagYW/mS83cSy/SJ36YaZxn3zySdeFRGtGBQoUoIYNG1LhwoXpnHPOob179xp/2MD14IMPWpPKuSCQEASECE0IrJKpICAIRCAAjUxoZroJCFAQoUHIyZMnqVGjRvTVV1+xswuCCF20aBHdeOONruZ/2RViJoQVCljIAinqJLNmzaJbb73VKdoIx9oJNppnz57dNt2BPzfQwb820uapk2j5V92j0mCT2J29BlP2vAWi4uIJ4PQd5C9EqDvKQoS64yOxaYiAEKFp+NCkypkaASFCM/XjlcYlAYETJ04Y5nPg/xODdycxzd+2aNGC7rrrLqdkEi4ICAKCgCAgCKQ1AkKEJu/xrf9+MK0bMZC2zpkRVWieipXpoiLXGH8njh6hPBUqhRb+sAD666+/Rt0TGVC2bFmCSbjzzjsvMkquBYGkIXDq1CnCn5fAbCIsC4kIAoKAIBALAvjmwfSqm7z00kssE7ZueSBu6dKlhr/P77//3itpWHwQRGi5cuXol19+CcvX6eLss8+mRx99lJ566inDhyn8omINEesecP8DUpUr0PZs27atY3K853PmzEk7d+50TIOIPn36EDZ0RYrS95+hXQ6t/34QzX61RWR06Prqeg2pbLt3Q9dBnAgRGgSKREKEBoOj5JJCCAgRmkIPQ6oiCGgEhAiVbiAIxIbA9u3b6YsvvqDu3bvTX3/95ZgJ/Oti4vD8888bkwfHhBIhCAgCgoAgIAhkAgSECE3eQ4RJ3D0rltL0Fk/R4e1bowq+rVs/ynHd9bRz0Xw6efgQ5b//YYNQgquKQ4cORaWPDBg+fDjVrFkzMliuBQFBQBAQBASBTIXAypUr6ZprrvFs05QpU+iOO+7wTGeXYMeOHfTtt98aFhk4m5Hs8oiXCJ06dSq7/iBBYe713nvvtasKQaP18ccfp4EDB9rGRwbmypWL/vzzT1etUOQ3YMCAyFvDritVqkSTJ08OCzMvxj1UWY+LfjcvbY/FGzWn61u1s42LNVCI0FiRC79PiNBwPOQqEyAgRGgmeIjShEyFgBChmepxSmOSgAB2PcKHByYxR44ccSwRZnNAfmK3IhYcRQQBQUAQEAQEgdMBASFCk/+U57RrqTVDv7MvWGvJlWzemq5r3MqIX7NmDXtjFtIWKlTIPl8JFQQEAUFAEBAEMgkCHTp0oDfffNO1NZdccglt27bNlchDBjCdC01PEJ/4g4Yj7oMbnePHj7uW4RUZLxHaoEED6tevn1cxBGtWIDhr167tmhbWserUqUPYOMURrw1W33zzDT322GOuWUH7f926dYY/V2vCLTOnUO5bNUna8OEwSxmXXFuSClSvRQs6tad89zxAN3XoQmdnD3Z9RohQ65OI/TzTEqH79u2jrVu3GguDl156KWGXgUhsCGAn5+bNmwkaJ5dddhnhhRCE4CWNBd4rr7wyUPMiQROh+/fvN/oS2n/55ZcH1v54MUQfB4ZY/IZqf1DPJd56ud1/4MAB4wOdN29e46PnlpYThw8iMDh8+DDlzp1b/OBxQMuANEKEZgDoUmTaIaCUojFjxtCHH35IkyZNcqw/3vXVqlWjli1b0j333JMW737HxkiEICAICAKCgCAQAwJChMYAWhy3bJn5M0155hHbHOAL675R0+nYvj103uW5jDTw0XXzzTfbpo8MxDzu3HPPjQyWa0FAEBAEBAFBIFMhULx4cVq+fLlrm2AiFkSdl8DnJyxCJULiIUKxTp0nTx6WRYh33nnHMN3LacOxY8eofPnynmaFkdf9999Po0aNcsx2165dxho6tE3dpGPHjvT666+HJflrynha3qsbXfdcKz0uqhsWZ16ccdZZVLpNRyr62NNmUCBHIUIDgTF1TOOCbIOauJdcffXVtmTHqlWrjJcFVKrXrl1Le/fuDcsKZBFU0O+++25j4RDOcbH7wK8gb/ywvcSpnl73BZX/4sWLDRVyt/KuuOIK48cfmQYTS7xUhw0bRuvXrw+znQ1CGS81ON/FjgwswnInLpgQwb73ggULjHwPHjxoFI088+XLZ+wELViwIJUoUYLq1q1rkI6RdeNcx0OEYucM1Pixs2bChAn0xx9/kFlPlI26Ysfqf/7zH3rwwQcNJ8ux9CNOO6xpYBIRL3LUCx9OOG7GpNEU1AtEIEhltB+q/rA9H6+gLDdtJOSfI0cO4/nZlQWSsmvXrjRz5kyj3qZpR/SZDz74gJ577jm726LC8IEaP3684SMPfRLtx0YH7HoCeWAKfufon+Zf5cqV6ZFHHjFIfDONHJOPgBChycdcSkwfBPCN6du3L8H/p9s4KHv27ITdlc2bN2eZ1EkfBKSmgoAgIAgIAoKAPwSECPWHV7yp1w4dQAu7vEXH9u6JyuosPa+r/et6QprzLs9NeW6vQn6IUMy/s2TJEpVvIgKwjgO3A1gENTcTQ/smHTYUAw/Me2HyD/XHelO2bNkSAZPkmUIIYCM55tJYL4WCB/7Qd08HMfv77t27DQ3zIPs7SBUoe2C9CvliTQt/WbNmTWlo0Q/QH6CsYfYHKGxklGBNEmt8e/bsMdZvsQ53zjnnZFR12OXi+WM9Ec8fc2ysjSf6d7Vw4UIqXbq0Zx1BgoIM9ZKvUpQIhVufxo0be1Xf+N2h71x88cWeac0EWDOBJSwvgR9n/E7QH50EnAbWqd2kSJEiBK7JKst6fmq4ANj9+yKa1vxJa1TYOcziwjxukCJEaDBopoxG6OzZsw1236tZM2bMMMgnM91vv/1GTZs29ezAZnrzeP311xtEDIgSP3LffffR2LFjPW+JrKfnDf8kqF69Ov3www+eyadNm0YVK1Z0TAfNTS/nv//3f/9HL7/8cigPDKpbtGhhkG1eOyPMm/Cx6NSpkyuhBfvm7du3NwhG8z6vIz6etWrVItQRHyU/EgsRCs3Cbt26EXZ8YGLBFfSjLl26UJUqVbi3+EoHlf733nvPmExaCT9OJsWKFaP69esbWkOxDhpBSsPBtptgF1Lv3r3DkuCjg2fXs2fPMMLWmujtt9+mdu3cbabDpv3XX39tmEvAQCUWQdvRlxo2bEi333572kx0Y2lrqt6D/oDNDl6C/oZNHPEK3kuYNLoJBkf43YsIAhmFAL652CiCyQIm+E6CzTcwf4t32EUXXeSUTMIFAUFAEBAEBIHTBoF0IEKXLFliLFZzHgoW38uUKcNJGkqDhXCUwRVoaGL8G4uMuL0EHdm5w/HWyxq9QGdmO5+yFimmj9lp2bJl9PTTPE0IrGs41eumm26KmSTF2Aobm8eNG0dYj0CfOar9nUYKSFhYfSpXrpyxyRsb5wsUKBCZLKZrLPJiY7WXXHfddY4bdzEXh7sEzIuxYc7cpA3yFuswr7zyilf2vuJBEPjxK4e1mvz58/sqAxubQUJxBGPfa6+9lpM0rjTcZ+VVHzwfuLjwEmxgt5sfYw6LNSCQIXPmzLGdI2Ct7MYbbzSUPOBXD7+TVBAuhpjzO5FOeKdhc6hdf3///ffD1i85bcbGB2yoxzsAv0W8B9D3nNZKTVIU7wBgC82yUqVKcYqyTQOlAiiCeAmUGqAUEikgPqEMgf4A0sau3lCKAMFmVfqJzCeoaxCHgwYNMtbn8G4CARopWIvGOjuUW4BhpOIM8oBJdC+BCxiQvUEI1pigNIW1dhBbdmu+6JN4n2GNF2ZTUXdgG5S0adOG0IfdBN8j9FkOOZiqROhdd91FEydOdGumEYe1jV69enmmsyYwLUraPT9rOpxjnaVZs2aRwaHrd99913M9GomnT59uKIKZN57Uv+nBNxakat+No/F17jaDw47n5cpNlfsMowvyFwoLj/dCiNB4Efznfk2upITMmjULal2ef5pgNOqrF7CVVqNWehDgeY9bvs8++6zSpB8bA/0yZJVn1pOd8T8J9YeWlb+eMLhmrT8YnvlooiqUhx5sKb0DyvMeJywffvhhpScbofxwcurUKeMZaY3JmPPVOzTV4MGDw/L1utCTGFZ5eoJmZKUHFKpkyZKse5zar7VDld5h6lU1drzeGKA00R1Xncy66l0syqu/OFVMT8o866CJ0LDb9YRT6UGE532aCA27z3qh7d0rrdHqmYfZRu4RWOhBsLUoOU8CAnrSwXqWelIUSG30rj7P8vSCSyBlSSaCgF8E9KKG0hNDpSc6rv30jjvuUCNGjPA1RvFbF0kvCAgCgoAgIAikIwJ6wd31G2qdG2zYsCFDmjhgwAB2HVFfbf3HVz31Qi07/yeeeMJX3tbE+zesVdNaNlSDbyykvr02l+1flyKXqrxZs6hzzzyDXSfrM3I614v+1qqwzjGP1oSAwljfKV+vcKwNaOIh7jHY//73P1Yd7OanWqtW1axZU2nC0zGPN954g4WJ30RY2/DCyIzXGjdKL0qzi0Ba3GPe73XU5AU773gSYm3Rqy6Iv/POO12L0QQeKx9tejIsH014qVatWqnzzjuPdb+1rqiTJtvC8suICy6G2gJbVPV++eUXVaNGDdf+rn0rRt1nF4B1SKxvYj3N7fdjxdDtXLt1Uk2aNFGa3LErzjVMk26s56k3vYblozdtqFdffVVx1jUi666tHyrMN4MUfEcfeughz/lrZF30xgGllSbCqqLJLxYm3333Xdh9fi+AoXY5ozTBzCovsu5YU9cW7JS22ui3aNv0hQsX9qyH3rBke69dYJ8+fTzzi2wT9zry/WRXvlMY1vA55eA3HwLXvlkAAEAASURBVIvgPcnJX2uOumavfamy8tGbjaLyWfB/HWzHQhgjDSx1pVrWu1vUPUEEgMPhtF1ruwZRXKbNA+Y1UkL8EKH4sOElzOkAnDTa1Bx7kJsZiVDuAN0Ly6pVq4b6Ej46fgbQbnmDSMVAhit+iFD0u1gGm3b11buwlN5dxq2mYzqtPRtY3zbrCQzxwcAGAj/ilwjFhF/vmmLV34kIHTp0KItINdvm94hJsd5J4wcGSRsnAkKExgmg3J72CODdi009mJi6vbOwuQuLlfPnz0/7NksDBAFBQBAQBASBRCGQDkQo2q5ddLh+961jAj+EEjZKWe91O9faekq7DYr5URzbt1et+36w46Jf/nPdN3a51c0rzg8Rqi2FKW1di42LV9mIx1wYc9NYhbvOEkmEaq0hFoGTKCJUaySpXLlysbEEKc8V7cKHne8zzzzDzTbudFwSLxFEKMh77caLjYtd38V6j9ZwihuHeDLgYhhJhGoLaKz+ziFCf/rpJ6U1iOPC0g5fMwwKIFqrlA1TLESoNqEat6IGCGAQqfEKlIY+/fTTmAhZEzMc8S3U2qNGdZJBhGqtVcUhHq11dDoHGf3ZZ58Zij6x4qm1YFl9UltSYBeRikQoSGMnHK3hIMhjFa3VyyoDG5rcRGuXsjZMYUOFnYDsnFDvP7Zjo6nN6quje//u73b3xhomRGisyIXfl5ZEKAgU648oiPPu3buHI+NwldmI0P79+7MGHVyMtc1uAzmQy9x7OOlAVmJywxEuEapNTChttiHQemK3ET5ysQhexNoWfKD1icQWzwUbCbjihwjt16+fr75kR4RiEhCvlndkm52uMZgRSQ4CQoQmB2cpJfUQwIQPGy+wCOn0LkI4vkWvvfaar4l16rVWaiQICAKCgCAgCCQHgXQhQkHkaVN7rmMA6/igXr16ngAiT21GkZUnyJFI0sGzAJsEM15ubLvYB+2HshdkVbVzZleVLvavyWZtu905lwjV7lgSOoeEBSTM1f2KXyIU8/QXXniB9WyBV6KIULSTu9hsPrdhw4Z5wgPtTjO91xGWnLSZWM88g0rAJfGCJkKBSTzay5E4csjCoDCLzIeLoflOAsmmXXOx+4Rb25AX4vHOi8Qk6GttSltps7CRzbe99kuETpo0ia1YwGnXiy++aFsvTiA28tapUycwPG+77TZDMSORRCjeGQ888EBgdbZirM39Ku3ahgNdVBrtXo9Vpw8++CDqXqeAVCRCsfHbipnTOfpCrIJn4JSvNRzWt7QPW9diOBtQtGlnpU3Gh+Wz6eeJ6tj+fer3np+qgSXyhI2PRlYpow5uiq2fhBVicyFEqA0oMQSlHREKteREfNyg9s4x6ZGZiFDt7zTwCQNwxDOyvoCCOoeJG45wiVCO+dZY6g5c/ZCNaBNerBhUx1Ke33swueIKlwjFrlG/ppUjiVBMdLWvjKRgAMyguWoOwrl4SLrYEBAiNDbc5K70RWD16tXGxN7LnBF2LGsfoZ6D9PRFQmouCAgCgoAgIAgEj0C6EKFo+Y8//uhrs6gXoeTHJG7btm3jBv/4gf1qdPWKYQt9VhO5ZTQR6nc+yk3vRYQeP35cNW/ePGHlW+tZvnx539af/BKh2mear7YkkghFx4EbKSsGbuc5c+ZUWBNwEj8mcbGAjQ3SyRQuiRckEbp8+XJ14YUXsjF2w98aN3r06GRCFyqLi6G5BgPTldZ6e527EaH169f3lZdXWV7x2ODCMZnqhwjVvnMDV9RAO7799tvQM+KegARNhJIGvkmJIkJBkN1www0J7Qfab6naunUrF8ZQurfeeotVL4wXuJKKRCier9dvB/H4bscjXIUmr+8I14qlk6npFf17qu+uvypsfDSy8g1q6y8z1IL334ynibb3ChFqC4vvwLQjQjk/qljTaGfzngBmJiI0Vpwy8j6Or0suEZrIdnTp0sWzL1kTtGzZkvXBCKrO2gG9tXjHcy4R6nfShnZEEqH4/XHblzVrVlWpUiUF3DABbN26tYKZnVtuucXXQsONN97o2HaJCA4BIUKDw1JySm0Epk+fbvhzctuwBVNF99xzj7EwmtqtkdoJAoKAICAICAKpiUA6EaFAEP7fuPMcN0LJj0ncMmXKRGkxxPI04QtrXK2qavoLT4ct9lnJ0A+LXKaKZztHZUuyj1Bo0HJxDSJdoUKFlBc5a8XYDxE6btw4321JNBEK7So/5iWhPeYkfkziuhFeTvnHG84l8YIiQps2baqKFSvm+5lz+vHVV1+t4Koq2cLFEETomDFjfLfdqV/AJDAHl6DT3H///Z4Qc4lQaJ3jnR10HZHfVVdd5Vu7OlEbTDAPhi9YTjv9+AgFKe3H+gKnfKc0cIlmmvn17AD/JOBqqWJswxX4bcWYwM8f1j+d2mUNj9VHaLVq1Vj5f/nll9xm2qaDdq61vk7nXlYAYZHL6V5r+EcffRSqx4axIxU0QiGrBn6lvrshr+3YaHqrRqF7gjoRIjQYJDMNEQrtLpA2WFzEADUWp9ggUbzkdCBC8+XLp6B9iUEeVMVjwdL60jDPoe0HFXj47gDWfjUIkQ8GjF4SDxGKQSNINbww4e8S/jngry1btmysF6TZVqjPc3cKDRw40FfewO71119XMOeMOoJQxMSiRIkS7HygDcvxbcAhQmPtI1YiFBq03EkW/DLs3r3bsRtgQIAPN7ffwo+ESGIRECI0sfhK7hmLAHbMwg+J17cHJt6xs/7333/P2ApL6YKAICAICAKCQJojkG5E6KFDh3z5AKxdu3bUEwIBxzWJizHHsmXLovKIJeDQ1s1qcdf31cBSV9ou9pmEaPsCl6hLzz6LPR81581uRzfS8cMPPwy0LLd6WOOwTgIznBzhEqEgQWEK1loO5zzRRCjaOHPmTF+mW+3ICz8mcbHWgbF1soVL4gVFhHKebzxpvvrqq2RDqLgYjh8/nr32Y8XAjgiFphZ33cfM65JLLlFly5ZVDz30kLGOBotuIIjcNrKa90Yevdx3cYnQyHyDvv7kk0/Y/eHnn3/2jWnQ9UV+du8Su0bA/CnIyUTUwSlPKGVwvwOoM4ekvfjii+2aF2jYf/7zHxZOsRKhnPVjYDpq1Ki42sXdWNOuXTvXcqAt7fSMreHwcWuVE9pU/ohK16t1IwepwTcWsh0bLezS0XpLIOdChAYCo0p7IrRx48Zq8eLFUbsd9+3bZyxM+jE1gQ+oF3mVmYlQkMjz58+P6ln4eNesWZP1grC+LMxz7HSbPHlyVL4wBwsS0A/JCKLSS7wWo816WY8gLrGQ7WTSFsRb3bp1fWHA+XggXziKttbF6RxmGBYtWuTafPhH4eaHj4eXcD9kTnV2C7cSoXAI75bWjAMGXIG5Sc6gGCY/kiXYjZcrV66U+MNvL1kiRGiykJZykonA/v37FbTr4RvafEfZHfPkyWNsWNmxY0cyqydlCQKCgCAgCAgCmRaBdCNC8SB++eUXBZOfdmMFu7DIsbofk7hdu3YN7Nkf3btHLevdTY24o5Sx2De1WX01tPw1YQt/X5e8Uv23xj0KVoLwh43Pdm2yC4N5TPO+yKOTj8gpU6b4whLlghzGWg7Wj9q3b2+4MAARAg1cu3q5hXktrprgc4nQ22+/3XcdUL9kEKFoC9rrhoc1DiYLt2zZYkJguJ/CWNiaxukcLiXgXiIjhEviJYsIxZoBCDsnrLzCoYGWbOFiGGt/tyNCuaYtgRfWtqBI4ES0b968WXXu3NmXj074OHWToIhQ/K7ghszruTvFg7jjCEhFrLk55eMUXrx4cYV3Od4Vbdq0MZRJSpYs6Tsfa/5cIhTfDet9Xud454PYgsswvENhVvnmm29mr6Oa+WO9kSNQQDHvcTtWqFCBk11caRJNhObNm5fV1hkzZsTVDq4vbS8TvNjI4PZMzDgoi5kCbdApjR9VJzWfAbJz8I0Fw8ZD5uawHYuiuRUzj1iPQoTGilz4fWlLhJ5//vnGRyy8OdFXIEm5P0Z08lmzZkVnYgnJrESo12QJH0R8HMwXAfeInY1emofQyMPEhJunV35+iVD0JY5WIHb8NGjQgF1P7OgBIe8mmIRx2o2B7N69e92yCsVt3LiR7VvAy2Z6PEQodiw/99xzCjtAf/31V8OxOBYtsDsZtu9Bfpry/fffs3CA/1k/Ag1kL3z9kKt+yrZLe84553jWx6u+QcUnc5eoEKF2vUHC0hUBvMcwwcM73u33CPNGX3/9ddRGrXRtt9RbEBAEBAFBQBBIFQTSkQgFdljIdxs7WOOw6G0SSn5M4mK9ImjBgt74uveqYRWKqz/Gj1Ijq5QJW/hb/lV3Nb/TG+rovj1G0SB9rW1xO4efTz+COTksErnlaY2D5TAsHjpZFMLmbGyI5mjsmPlCc4yjccslQs18/R6TRYQCIz9mO7GJ3hSu5g7ajk3dGSVcEi9RRCgsdsFVENalrL5WMY/+4Ycf1B133MHu88ASG/0PHjyYVDi5GPrt52b6SCIUPlY5G99xP0g5p40VkSDhfXDWWTztdmiTukmsRCjWR6E4MHHixNB3AOXg2wezwlBiMXHhHNEezqZcbPLl5GemwYZgN1JrwYIFCgSfmd7PkUOEDh06lJ031iehiehEhONbhD4MN1yceoKchu9jL+GudcJyVKIl0USo1/qIiWu8FrK4Plexfu8mR7RmJ/e3jt8e5Oemj6uDWzYZY6Bf//da2FjIJEGRZv+GtcZ4ya18v3FChPpFzD592hKh/fr1s2+RTSgW/M0fnNdx2LBhNjn8G5QZiVA70zv/tvjfM/zw/WjYYgcbzJRyxM8Hd+7cua5Z+iFCsevQ7cMdWRA0Rv3sOPr8888jswhdw64850NRsWJFR03VUGYRJ3379mX1+aeffjrizvDLWIlQ7AbDR4UrMEXs9dtEPHb++JGOHTt65ouJLHdQ7Kdsu7RChJLr84B55yAEv2uv/oQBj4gg4AcBbN7AjlEsqDn1L0zGMcGws4LgpyxJKwgIAoKAICAICALOCKQrEYqFVj+bi0Eo+TGJi4VZaDUFLScOH1LDby+hRt1TziA7f7i3fNji35ZZU9Uv7V8yFv5QdiKJ0G+++cZxHBY5PsPcC5tyObJmzRqVP39+dt4c60rxEqGYr0CTC3Na+FTDgjpIcayFYSE4XvOCHFzMNEuXLjXItUiMna6xGdCPSVwreWqWmcwjl8RLBBEKkm7FihWuzQUZjTUWJ7ztwr2sibkWGEMkF0O7uiIM/R34RvZ3rG2hv4MQtsoHH3zAwgPEll9N47vuuouVN9bL3CQWIpRjCQ5kXrNmzVh1NPGePn26W1WNOGh2mum9jjfccAPrewNCnus70lqmFxGKtVmu1mn58uUNEtkTAJ0AJB13Y4yXxiHKw4YVa7uczmHuPdGSaCKUa17aJBVjbS8UuZxwtIZDY9xLuBrQ+P5Cln7xsTH+ObBxg/r5ucfU6sFfh42HQIbOe7utoTHqVbbfeCFC/SJmnz4tiVCYifDj/BskB2dhHD+Ybt262SP1T2hmI0JhqtOPo2fugABYepFsVqAx8bC+sNzO4UPDTfwQoa1atXLLyjYOWp7YsedWRzOuTp06tnkgsEuXLqw8pk2b5piHWwTH5AiIWDfC0i8RisFrLB9w7o6eyy+/nD2AATbYQdm7d2/PPz+/ATfMveKECBUi1KuPSHzqIYBvTtWqVV3f19h1/cwzz7C0A1KvhVIjQUAQEAQEAUEgvRBIVyIUKIPw8OMa5tprr3Udg5jzThyHDx8e/IPUi83bF/xiLPRB63NOu5ZqUNkCYQt/y/v2UKu+7aNAmEISRYRCG5SLB8ZmY8eO9YUH5o5cX52Y94LkcJN4iFCY7d22bZtb9kmP++ijj9h9EZviuT5tkc6qBZn0hukCuSRe0EQofFPChzBXbrrpJvYzgBWuZAoXQ+s7yzyvVauW7/6O9UbzfrcjtGn9CtxcueVpxuXIkcM1a79EKN5vXlblrAVWrlyZVU/Ud/DgwdZbo85hctxsl9cRvny5FutQENbv/bpb8yJCudqg2Ezihz9Afbl5Q3MX7nLc5OGHH2bhCsI/0ZJIIhS8i1e/MeO9XBJ64QCFIzMvtyPWcLykSpUqrLxMiwVrhgxQh7dvNcZAQ8sXDRsLmRqhPzWspQ7v3O5VtO94IUJ9Q2Z7Q1oSobGYAHniiSdYnfu1116zBcoMzGxEqF9To9wBAV5GXoSlial55E46YNffTbhEKDR3Vq5c6ZaVY1zTpk1Z/Qn2552E88LlvLid8u/Vqxerjm5a0H6J0Fgn37Cv7/YBs8bBx0j37t2VXzNKTjglM1yIUCFCk9nfpKzYEcBkCZsooKVsff9EnkPzAmOSVFuoir3lcqcgIAgIAoKAIJD6CKQzEQp0sfk6ckwR77WfTch+n/Cv77ZTIypdr+AvdPLTtY2Fvw1jhmst0ZLG+bF94S5cEkWEgtjk4uTl+scJAxAXXHObXtpAsRChKBsmQKHtlGqCOnHWMLjPyEwHU58ZLVwSL2gilKOlZ8WGa0kL2CbTFQ7qyMXQfO44or9DAzSW/g4yzpqX0zncUfkVkHBO+VnDoVjgJn6JUL+/hf79+7PqiTp/8sknblVVjRo1YucVi7IGzJP7cYnmRYRyzXXPmzfPtd1OkXBPZn3WTude1iq5Zq2h7Z9oSSQRyvWFChw5ZprdsAAp6fQ8rOGwwOElXD/DMF1uytw3Xwlphprkp3kECTq6ekW1pHsXM3lgRyFCg4EyLYlQmOXwK7Cvbv1BOJ3j5e8mmY0I5fjGtOLBHRBgl6tfooq7Q6hPnz7WKkWdc4lQmGeIVeB71qkPRYbb9VeYh+DYnsfkKVbBh4gziYOJFSfxQ4QC91hlwoQJbDxNfK+++mrDRAr8+vrta7HWM977hAgVIjTePiT3JxYBmJ/DJN5rBzt8U/Xo0cPXDu7E1lxyFwQEAUFAEBAETh8E0p0IxZPy6+PNnAPZHQsXLuyplRJr79j6y0y1c8lCtazPZ+rIrp222g8gSXf9vihURKKIULhJsWt/ZBgW2+Ox+ONlCcQsDyb13MQvEYq5otsmZbeykhUHrVmOex8TI68jzHumgnBJvCCJ0GLFivluOsgkaDt74Yr4eNaSfFdM38DF0Kw71sNi3UiP+v36669q5syZnn+xaBtj471ZT7djkETolVde6ZsQhjYx133Zq6++6vpY0R/d2mrGccglp4K4Ckooy40IXb9+Pauu0DSOVX7++WdWGfiWuwnXfK/ftXm3Mp3iEkmEQsnI7CNeR45vVac2IBwb1r3KQDw0rL0EfkQ5ebVp08bIavv8OWrfutXGWGjMA7cbx7EPVVYT6v3HOP++alkFohTHoEWI0GAQTUsi1I8KvgkTfCpwOvf9999v3mJ7zGxEKEzS+pHRo0ezcITTbL9Sr149Vt5BEaEDBw70W8Ww9Fz/LnYmDri7Wf1q1YZVUF9wdkmVLev8gvZDhMKpfKwCnxdexIPb7xeDP/x23333XYUBhJd5iljrGe99QoQKERpvH5L7E4PA2rVr1fPPP+9pqg4mx+EfIpZdy4mpueQqCAgCgoAgIAicfghkBiIUm1ZhVtFtjsOJg4lWbAxNpOxYNF9tnDDalgTdOHGMOn7ooFrc7f/Ugb82GtVIFBHKnZtisT0e+fbbb9nPZcOGDY5F+SVCn3rqKce8UikCFro4fdMrDYgXP2ZhE4kBl8QLkgj1a53NbP/111/Pwr9ly5bmLUk5cjE0+0UitdjjaTDWpmCy2Kyn2zFIIrRJkyYxVfu2225j1dXt/QINPY4SBbCIZx0VmqRueFrj3IhQrkU5L3PAboBD2YKz6QPfYGymdhKuv9FYNVedyrULTyQRunHjRvazTZZGqNtat4kPLDtY+53Tuak0t2fVcsPs7c9N6tmOiUzN0BX9vjCLCOwoRGgwUJ6BbPSDznCZPXs2aQfGnvXQu/tID5Y800Um0AuXVKNGjcjgqGvtA5PGjx8fFW4G3HfffaRJLPPS8Thjxgy69dZbHeOdIqpXr07aCbhTdChcf0CoYsWKoevIE22uj/TLODI46lqTyqRJpKhwpwCtuUdak9IpOhSuBw40d+7c0DXn5NlnnyVNWHsm1UQoaS1Gx3TaRAbNmTPHMd6MWLBgAWkH3+al72P9+vXp66+/9rxP+wKlF198MSydVquntm3bhoXZXWTJkoX0gMQuihWmnahjs4NrWq29S5o4JO3YOiqdNgtJWqM1KjwyoECBAqQd0JMeBERGsa+1s3t66aWX2OndEqIeeucV6d28pHdoGb8VvePQ7ZakxOldzIRnkgqiFwhIa/EmpSp6UET58uXzLAv9TWtbe6bzSqB9+JL2UeCaDH0kVZ6Fa0UlMqEIzJ8/n/SAkvQkibTfKduy8B7Wu0mN9xO+bSKCgCAgCAgCgoAgkLEIaBKRtPYMqxKaqGKNQ1mZBZwI4486derElas20U8dOnSIKw+vm/+cOJpmtW5KJ48ejUpape8IOi9nLprybF26o8c3dEGBwsY6gN40HJXWLkAvNhPGWl6yefNm0gvKXsmMeO3rjrQ5QlZau0TaRYJRltZasYsOC9PuaKhhw4ZhYebFe++9R1oLy7z0PGIehPlQOsgjjzxCeiN0zFU9++yzCWuAeuN2zHkEeaPeUE3t2rXzzFIToaQ3Xjumw9xCL747xlsjNKFMWhnAGsQ6v/vuu13XLM1M8G7RZJJ5mfAjF0NUBGtcS5YsIa2xlfB6cQvA2gD69Pvvv0+//fYb6zZNlJHW0nVMizUybcnMMd4aobVQSZOh1iDWee3atWnIkCGeabEu5rSWrU3ykibJPPNAAm3djrCGGKsUKlSI1q1b53k7+q7T95HbZuCvLSZ4luWUgPuemzRpEml/rbbZgMM4cuSIbZw1UGtUsvuK9T4/51p5hLRyk+ct2iUe6Y0NnumsCbRvW7rooousQY7nW7ZsoVy5cjnGe0VoH6Gs34rX+xrlaPeIrLZqE7qkLTYYVdPuAOicCy+iNUP609z2L0dV99pnW1KpFnq9P461/KhMdUDnzp1Jb6CxiwoLq1ChAmmz62FhcmFBIBg+Nf5csItRV8vzT780YyoMJhM4+Wsi1DX/zKYR6tek6OTJk1k46sGZK452kS1atGDlHZRGaCwmMqz1hmkJTp/SA2rrbca5JkZZ93LyDyKNk2Ywd9dtULsNueaO/Lb5/PPPNzRG9SaDqGchAYlHACaUOM8M/hiDkOzZs3uWh517IqcvAj/++KOnjyNNqKtWrVopmN4REQQEAUFAEBAEBIHUQSAzaISaaD7++OOe41ancTRck/idz5vl+jmuGviVGlLualfth9H3V1ALOncwsk2ERuioUaNYOGGMrze3+WmebVqu5sxzzz1nez8C/WiExuO2x7ECCYyABhRX08mu/8KSUyoJV5sxSI1QmHaNRbjmRWNZk4ulPuY9XAzRH7zMiZp5JvIIrfyJEycavjOhjZk/f37WO8ban4PUCMVaaywC89LWOjmda8Ujx+w1scTK49JLL3XMgxuBd51THa3hbhqhmkRj5QGtY2jyxfrHtQLo5H8VLtGsbXI71+QgF8KY03G/a5oI9V0GvrtcrWI3Swqcgj/++GMWrvDz6iXw/en2XMw4WAaDnDh8SG2aNsk4XzNkgBpUOl/U2Gh+pzcMlwJGogD/E43QYMBMO9O4WssyppZzB+NChLrDy7WTrjVb3TOyiQWZZr5k3I5BEKHwqxCvcB3V202O4pnwumETa5yTPXouEYoXchACc5MYpMTaDs59GMzANLFI8hAQIjR5WEtJzghgobB///7Ky5zUVVddpfBOi8e3lHMtJEYQEAQEAUFAEBAE4kUgMxGhGG/kzZvX9/wHGz1XrVoVL5Ss+/8YP0ot69XNWOyb+MQDUYt+g8rkV5Mb1VEHN/9l5Mdde8HcjUvkcn2CgZwLQrhzUjcfdH6I0BEjRgRR7aTmATc+nPl3ZBqY8gyCrA6ysVwSL0giFHPkWOTll19m4Z7KRChcjSRDYHpZa0apjz76yHCDAiIIa1x4f0b2y1iugyRCtYZsTJB07NiR1RY3IhQbEzjtL126dEx1tN6krfuxynIiQrXmLptw47QpiDSNGze2NjF07sdc7OHDh0P3JeokkUQo6sxRSADey5Yti6uJ3G8r1t29hOsPGO8NyLqRg9Qp3QdhAndZ724K4x/THK71uLTHh15F+44XItQ3ZLY3pB0RGuvHnDsYFyLUtp+EAjMLEVqkSJFQm2I9weCN89HU5hSiikA/5tybrDTa5HFUHRHAJULhRyUowaSoW7duSpvbTShG2mxuyvgkCQq7VM1HiNBUfTKnR73gM/jDDz9U2jyz6zulVKlSql+/fuwFudMDPWmlICAICAKCgCCQeghkJiIU6Gqzer4XduEjLVlyeMc2QyN0WMVrQwt+01o2VCOrlFHDbi2mdi9foibU+486vH2rUSXu2gvmulwilKu1wfEJxsHt9ddfdx03mvN0bYLXMTvuYi3yWr58uWM+qRzB1UYz8dJumZQ2i5lyTcoIIlSbXo4Jh/bt27P6ZqxrpzFVSt/ExRB9QZsBjbUYz/uwtgViCqSdNrvNwsrsn36PQRKhsVoh0q64WG10I0K1iypWHtrdnCf+Xgm4lvWciFBoTvp9TolOb2oLRrZ94cKFrLpqU+GRtybkOtFEaJ48eVjtjVUb3gSF+322U0oy8zCPXJ/XaBsE45zBNxZSw28vYYyHBpa8IjQuWtG/pxpXq6pxPbp6RbOIwI5ChAYDpRCh+iNsfSlmNBHKfTHBybSbwGSBtV1O59yJh1lWZiFCCxYsaDYp5uPw4cNZGD/22GNRZXBNLDs9t6DDYSbSTrhE6NSpU+1ujysMfbNv375K+41g4RwLJtBcxo4ykcQiIERoYvGV3O0RwCQJZl0uueQS13cIdnaLlrg9hhIqCAgCgoAgIAikIgKZjQgFxtoPuet4xTrXgfnXZBJn0Ai1ajpYz2e8+IxBhO5bvybUVRJBhGq/WCx8tA+0UD3iOeFafzK1ROzK8kOEHjhwwC6LlA8Dqck1h4g+DKI6FeffXBIvSI3QWDXAMgMRCk3NIAVrR7D8c8MNN7DeE9b3aTznQRKhW7f+vZHELy5BEKHcDQ1uGvDcesOMLAdzJyJ00aJFrPs5ZQSVBt9vO4G5Y04ZmYUIveaaa1jtxVp6PNKgQQNWOW3atPEsBtYYOM8Im+ohG8YMVz/cd6v67oa86rvrrzLGRmMfqqzmdmyj9q1drcbUuMMIw+awoEWI0GAQFSI0xYhQmP7l/AiFCHX+AcBXiheG55xzjoIZ1niE+wGH79NI4fp18GpHUPFOJACXCHXyMRrZ7livly5damh03XfffYGZMTGxg98AkcQiIERoYvGV3MMRWLFihXr22WdV1qxZHb8FWECsU6eOmjt3bvjNciUICAKCgCAgCAgCKY9AZiNCsYBvzk24x5tuuomtTRnvAx338N8aDlYCFOczWzc1zMRtmflzWBGJIEKh4cXBBvPsIAQWjzjlwayxk3CJ0Isuusgpi5QPr1mzJgsnK5Zvv/12yrUrI4jQo0ePxoRDuhOh2KQapGBTfyzmxa19MvI8W7ZsrH4dJBG6ffv2mGAJggjF5uFIDOyuK1SoEFMdrTe99957rLKciFCshdvVLSPDypQpY21i6HzOnDnsusa6MSJUGOOEq3gVi49QFA+tY85zQB+IR2655RZWObAk4SXffPMNKy+4V4JsmjpJ/dL+5TCt0AmPV1d/jPteTW32hPr+rhsVrGgkQoQIDQZVIUITRITG6ugamoqcF4cQoc4/AA4RCow3b97snAkjhrsr9c0334zK7cUXX2Q9Z0wShg0blvA/J8fcXCIUtu+TJZgwoP/DjwGIUQw+Ob8ZtzSDBw9OVvVPy3KECD0tH3vSGz1z5kz14IMPqjPPPNPxnXDeeeeppk2bqkRv3kh646VAQUAQEAQEAUHgNEIgMxGhmEfFOp8BIZJoObR1s/qx9l2GhsPAEnmiNEP/nPyjmt/pDfV7z08VziGJIELbtm3rOL6zzvPuueeeQCDhbnqGawUn4RKhblqlTnmnQjisN1mx555D+yle04hBt1+I0PgR5WJYsmTJ+Av7JweYtUR/4vY9r3TFixdXIBuwBueVFvGZhQjlmh4vVKhQ3M+O63/ZiQiFL1XOs0lmGpMkiwRn9erV7LrGqhEcWabbdaKJUGxG5+D+1FNPuVXTM87L4pdZhzFjxnjmxfURaloDmPzMI2rbvFnGWGhM9duM45RnH1Xbfp2tlvf7XB3csknNfOU5dUgfgxYhQoNBVIjQBBGhTi9tr8eGRVrzR+t2FCLUGUkuEYoJWjxSt25d1rPCJCpSuM7Ie/XqFXlrUq9TkQiNBAA+RWF7H6SxH5NS1t9XUBPmyLrJ9d8ICBEqPSFRCECzH/6aK1as6Po+vuyyyxQWC2PdaZuo+ku+goAgIAgIAoKAIOAfgcxEhFarVs11DGOds0Sew/8dNE4SKQYRWqea+va63FEkqKkheuCv8E2xiSBCuVpPTgvSfjHi+rGrUqWKY9ZcItTJv5xjxikQgfkdNFkj+yT3Gu5vkqEBxYWKS+KZi+FO+YLg5WJwumqEVqpUyQk+X+FYA4KlNy7e1nS5c+dW+N2BlAO5gPnkpk3/EhcgUKzpnc4zCxH6+eefs9qL9ep4Bb8hJzyt4U5r6iAMrenczgsUKKCS8ee0nrh79252XVetWhUvtJ73J5oI5ZKKsIQZq2zbto2NKUf5ibsJ4KGHHgpVGWOfrXOmh42JZrzcWM17q42a9/arRjg2iAUtQoQGg6gQoT6JUNhEd3vRmnF25JfXI9u7dy8rb5QhRKgzmlwiFB/7eKRYsWKs5zVo0KCoYn744QfWva1atYq6N5kB6UCERuKBSRmcZ7uZxTR/p+YxCFPJkfWwu86VK5fhrxA7mDL6DyYgkiVChCYL6dOnHPiB+frrr5XXOwpWFrp27aoOHjx4+oAjLRUEBAFBQBAQBDI5ApmFCOUuGppzFrtj0aJFEzrOObRti1rS44OwBT+TAJ3WsqGClui+dasVFgGP7tlt9LxEEKFc7cOcOXMG0vuffPJJ1nz9kUcecSyPS4TecccdjnmkYgQ2IlatWpWFj12fNcNatmyZMs0TIjT+RxEUhpyaoA9Cs9TsS5wjCLjevXurddqvrZecbkToxIkT2VjOnz/fCz7X+CuvvJJVlhMRCh/DXL/EO3bscK1LoiPRT+GSh9M/48WV05ZEE6FcU8CXXnopp7q2acCFcPDMkyeP7f2RgVyz0KZLtd3LlxhZYBw0q00z27ER4obfHpzmu1lnIUJNJOI7ChHqkwht3rw560fXrl07309mwYIFrLzxoxci1BleLhHqZMfdOed/Y6ZMmcJ+VpioR8r+/ftZJjzuuuuuyFuTeu1FMpgfoGSaxuUCsHz5cnXzzTeznxN2FiVaYt2xaOIc5PGrr75KdHND+QsRGoJCTuJEAITmp59+qvLnz+/62y5btqwaOHCgwkRJRBAQBAQBQUAQEAQyFwKZgQiFybzzzz/fdTzDHfs/99xzCX3A01o8ZSz2jXng9tCi39LPPzL8YC3s0lENKXe12jjhh1AdEkGEjhs3joUVFshj1bQLNUCfcIm+Fi1aWG8LO8+sRCg2GXL7pls6PCsQMKkgQZF4ohFKnn3DS6uW0x/gisytb1njQLz9/HO4H2OvMriKC5lFI3Tnzp1sPJ9//nkv+Bzjx44dyy7HiQhF5tjwYn3GTudYt81ogWUqp/pZw5NR10QTodDyh6UKa7uczmNdf/3iiy9Y+aOtHEF/dqqjNRyu8Uw5uPkvtW3uLGPsY24MM4/Db7tOzXjxGTX4psJm8sCOQoQGA6UQoT6JUK5JU/gu9CtckhU/RiFCndHlEqHAcdasWc4ZucTUqVOH9bLEDl0ngaNx64vV7hw7ZQ4dOuSUhWf4kSNH1Lx581z/1q9f75hPMojQGTNmqNtuu83zLxZTEXi+drjaha1YscIRh6AihAh1nxiVKFEiEKizZ8/u+dyxM08kfRDYtWuXeuutt5TXROLuu+9WkyZNSp+GSU0FAUFAEBAEBAFBwDcC6U6EwrUHZy5oN2dxCsMCcyLk6L49asqzddXmGZNDJCgW/BZ92knt37heHT94QI2sUkbtW7s6VHwiiFCYGORq1sC/XzyCss4991zP+QSeBTbeOUlmJEJXrlypsmXLxsLGqa9aw6+66ioFvDNahAiN/wkEhSGnJtDOsvYjp3OsC8CErl/p378/K//MQoQCn3z58rHaDMtmWGeMRW655RZWGXiebkToww8/zMoHmzYyWq655hpWXWGeOdGSaCIU9ceantPv0Rreo0ePmJoLM8TWfJzOX3vtNVb+TzzxBCs/cEGQv6aMN47wC/r9XTequR1ah42N/tYGLaEG31jQSBfkf0KEBoOmEKH6BWv94Xhp4MGUgjW90zkG6VYb816Pa9++feqCCy5g5Y0yhQh1RtQPEYqXnl/Bc+U6ZG/cuLFj9ljUd+o/1vBYtIvNQjmDUTc/pMkgQrnOzmM1ZQzTmFY8nc5hmjrRIkRo+Ps28lkIEZroHph++f/555/qxRdfVG7kNr63jz76qPrtt9/Sr4FSY0FAEBAEBAFBQBDwjUC6E6Hvv/8+a34SOVZ2u4YZuESYATyye5cmQh9V60Z+F7bY933VsqHrYRWKa79YbdWO3341nmUiiFBkzJ3nczVBnDpet27dWM8HGo1u/uczGxEKSyvly5dnYePWVyPj6tWr5/QokhbOWTdBvb20GUUj1H2+z8GQ89C561Sxai9+9NFHrH6emYhQrrIHnmHPnj05jykszfjx41mYmu8HNyL0s88+Y+XVpEmTsDpkxAX8YZptcjsOGDAg4dVLBhHKVfDCt8SvYOzH3RDF3Rxfo0YN1vOBKwPICb0JYHm/z9XRvXvUsIrXqv1/rFNjH7wzNB4yNUMn1ONppPrBQIhQP2g5pxUi1CcR6keV/7333nNGPiLG72RIiNAIAC2X3AkSPkJnnnmm4SfAcrvrKUzawqm62wfMGjdixAjH/ODkG87GrentzkGewcyrX1m0aJEnuQ7y/cCBA45ZcweY8ZjGhfkEjo3/xx57zLGeThHYqcbZsQockiFChLpPjIQITUYvTI8y8M7DTl+33wx26sMU3Nq1a9OjUVJLQUAQEAQEAUFAEAgEgXQmQhcvXqyyZs3qOQfEvPDCCy9U1atXZ6VF+tq1aweCrzUT+P/cPP0nNfmZR6IW+swFvyE3F1Ebxo4M3ZYoIhQaHnbz5cgwLJRiM12sAhc6kXnaXXu52slsRCi3PcCqUqVKiusLEOndNGtjfY5+7hMi1A9a9mmDwtA+9/BQWE6z+01Ghn399dfhNzKvatWqxco/MxGhw4cPZ7UZGOMbBj+qXIH/S2h/Rz4ft2s3IhSa6W73mnHQcoVrnVgFmz86duyo4EfS6Q+KK25lcL/hydBeTQYR6mczCMYKfqRt27as555fu1GCf1aO4Ftl9he348iRf49xTp04rsbUuMNwB4BNYt/dkFeN/s+tYeMjXB/48w9O8b7SCBHqCy7HxEKE6pe4tbN7aYTCrII1vds5SK7Bgwc7go8IvFjxY+YQQdayhAh1htUPEQpMgT12fXrJnj17fO2AvPrqqxXMHrkJfIpYn6vT+Q033KBAbHIFu18uuugiz7zdNFZRVjKIUJRTpEgRz7qC9PDr24HrS6ZUqVKoRsLFjdRxevaJChcfoWIaN+EdPoYCMBiGqRtsUnHq+5hwvvrqqwqbSUQEAUFAEBAEBAFB4PRDIF2J0GPHjqnSpUs7jnEixz7whQX3AFdccQX7nn79+gXaIWD6FrL0i4/DFvpMEhTHSEkUETp79mw2Dm3atImsFusa883I5+B03b59e9c8ucThHXfc4ZpPKkTC8gp3LotNxhs2bFBcP4vAN0eOHHGR1/FiFBSJ54cEiNWXLfqdU5+0hsNlSDIlKAy96oz3qLWdbuczZ870yi4qHsoPHIUFlJuZiFD0R/wO3fC0xoEM/fHHH6PwiwwAwRqLP2w3IhRlXHvttay6Yr09Vvnyyy89y/DSbGzZsqVnHsAVmpSJlmQQoWjD9ddfz2oz0h0/fpzV7AULFrAtM7755pusPJGoUKFCrLqayj/QBIUG6NRm9dXs/za3HReNrFxa7d8Q/GZ9IULZj9U1oRCh+oVjfZl7EaHQnuPu4ES+INkwCMeA2vR9AC01/IixO8mPdqG1nkKEOvdrv0SoiSt2+DiZE5ozZ4668cYbw/qKeZ/TERNXL8HLlDuhwM5WfEQxGXYS9KtHHnnElUQw64vBHSYobpIsIpTrexfkLtrIkaVLl6q8efOynhnMFCdDuM/afEaJPAoRKkRoMvo8t4wJEyaoKlWquP5eYfKtU6dOCqbkRQQBQUAQEAQEAUHg9EUgXYnQ119/3XWsYx37W9cl4DvMGud2jvmS1xzPb89ZPfhrtfWXGbYLftNaNjS0RQ/8tVEd2bnDyDpRRCgyh2lSt/Zb47p06eKrqTNmzGBtJkYZWNh3M4uLgjMLEQqChLuwDWysvt/q16/Pfl7VqlVja/H4erCMxEGReEKEhq+vWn+P5rmXeWGvxwVlA655TGtf9MrXjO/bty+7z2YmIhTt55o1NZ8llBVatWqlVq1aZcIXOs6dO9ew3uS2wdnMx+7oRYRynxPcmv3++++henFPZs2axSKG4T7PTaDtbte+yDCshSRakkWEck1LA4PWrVt7Nhvr9NxvEDiY9evXe+aJBOB3OEppuXKFb/gaXb2iMR6a1fZ523HRmOq3KYyJghYhQoNB9Axkoztfhove3Ud6J4VnPfSuJtJaXp7pIhPolzDdfPPNkcFR13rCQdp2eVS4NUCrtpPe3WYNYp/rHxDpHzHpjzf7HruEmgilihUr2kUZYZdddhnt3LnTMd6M0LsvKEuWLOal53Hq1Kmkdyx6pgNGesLmmc6a4IUXXqCPP/7YGmR73qdPH3ryySdt4xCoHXCTJi4d490iNMlttK9AgQKkTRGRnmSTNl9E2o+l221RcdoMDK1Zs4aQn5egzWg7V/SLmrRZCdIap8YfytCmIY3yli1bxs2G9ESctJkH1/TaVClpQtE1DSI1oWvUyTOhQwL8JjRpSXqTgEOKf4PRX7X/AnrppZdImyP6N+KfM/3RI73JgD744APSWrxR8ZEByE8vFpDeaR0ZFfj1K6+8QloLPPB8Y8lQ+2Khm266KZZbfd+D/qHNknjeh/6G31u8onchkx7UuGajJ08p8yxcK5qJI7W5Eho2bBhpM/KkFw0cW6o1xgm/nQYNGrDeqY4ZSYQgIAgIAoKAICAIZAoENm3aRJhvcQTjfM44lJNXPGk0OUgVKlRgjT8xlsWYWJt3CxX5xBNPUP/+/UPXbieaaCBtIYgwb4xXDm3+i7TWAx3fv592L4sep9/yXlda9W0fuvLOuynf3dUpe76CxF17Qd38rkdMmTKF0D6uaDKStEaQZ/LJkycT1jC0iUPPtEigF29Jb9BzTYsxrrZi4poGkVhfQbtSVbTpR9Ibl1nVq1y5Mk2cODHU97QyAOnN1bR582bW/Z9++ilpv46stEEmQvvQTi9B3/vpp58ck2kToFS2bFnHeGuEJphJb5S2BrHOtbYTdejQwTNtrGunnhk7JAgKQ4fsw4L1BlnasmVLWJjdxaOPPkrffPONXZRtGNb/sMa0bds22/jIQL3xxHXNafXq1caaXeR9dtd6YwVhHdevYN0La2NegvV2rSHrmgx1uOaaawi/W7+C7xbW9LDWrU2Ts9+lTuVoItRY93OKx7pa0aJFad26dU5JQuGo14cffkja8lQozO1k0KBBxpqzduPlloy0Bi398ccfpDfGOKbjroWhT2Nsk0i5//77afTo0Z5FaCUh0ptDPNM5JcD6Ltas8Y7jyAMPPEBaUYMuueSSqORaqYy0mzRjbT4q0iaAw+mYt2FcphWpzEvH43333ReGG8ZE60cOdkx/5Z3VqNw7n9A5F13smCaWiM6dOxvrYl73Yqw5ffp0r2Snb3wwfGr8uWC3hX4Knn+xmnfg7kq07rx0apUm4jzryWmLXRrubhnRCHV6OkrFqhFq9zxiCcMzhHaTH+H6IIilPnb3FCtWzNWOvVn3ZGmEojyuvXdre+A3p2TJkkp/mAzt6oIFC7J29FjzaNiwodlcOSYIAT04ZL0zxUdogh5AimULc0Y9e/ZUMB9u/S1GnsPvkp6EeJoYT7HmSXUEAUFAEBAEBAFBIMEIpJtG6KFDhxTmX5FjHafr7t27RyGoNzmr3Llzs/Pwqw0ZVeA/AXvXrrLVeDBN42oSVG2bO0vNe/tV9fuXnxh3cdde0H6uWTxr/bg+vUx89QZQpRcFrVmEzuFrDi4XuKYwkSe0QTVREsrD6SQzaIRinY6rfZc9e3alSYkoOOBbzXwWXkc8h+XLl0flkegA0QiNH+GgMOTURG/oZvcpjqU2lAlXVF7z08j+qzfVu1YXmpKR9zhde2mYOxWEd71TntZwLxOuZv74/ljvy6hzL41Q1JdjutZaf6z3w1qjHdbQfB86dKgvS4CffPL3N8/EzunI9ZdsWpF0yife8GRphKKe8K1qxd7rHNYsoC2ulYQMawqPP/64ggszLkeC/KH9CzPuXOnVqxerjrDmYcreNSvVuFpVXcdFC7t0VKc83OSZ+fk5ikaoH7Sc04pp3AjylUOEYhHXz0TG6wdvxmfLlk3hI21eux2FCHXu1BwiFC9U+K5wwzjWOEyk/MrevXvZ/jhjrZd5H+z+25musKtzMolQ+MvFh8+sZzKOxYsXN8wh2LVdwoJDQIjQ4LBM55ywCKg14JXeHej6O8d7gONvJJ2xkLoLAoKAICAICAKCQOwIpBsRioU97txGa9Q5mgeFrzVuPnDno60axQ7yP3fuWrZY/XDfra6LfvvWrVZja1ZSm6ZOMu5KNBGqrSGxTBZGYoV5MMzrwQQriBQ/vleteWkNMxau6U6Eau1YpTWu2H2ua9eujrhojR52PnBJFAtB7lg4IyIoEk9M43ort2CuF69w/aTidwsiBSaatSZvVL+C2zJskmjUqJGvzRDW9wF+J06SjkQoTA9XrVqV/Xu1YuF1DqJKW3li5c0hQrWFKaW1CVn5RdZNax8qbTVSaY18pa1G+CLckBfWErnvqdq1a7PqCPPsiZRkEqHgTaDoEIl7Iq+1Vr8v+GDWmVMfbOaxytF9e9T2Bb/YjosG31hQLfr0fXVoyybrLYGcCxEaCIxKiNAYiFBAr83zsn4wnB+Vmebbb79V8EVpXrsdhQh1/gFwiFB8iIYMGcLC2u05RMbhI8z9GEa2ALt/EjXgMOsJHwbavHFk0Y7XySRCUQnsrIWGp1nfRB5h5z0WXwGOYEmEIwJChDpCc1pEaBPVCn6AL7/8csffNiaoDz74oPENPC1AkUYKAoKAICAICAKCQMwIpBMRisV3jg8qzHugaQiSz020qUfH8VTk3OmGG25Q0HKJRw5u+lMt+uQ92wU/aIUOLJFHfXtdbjWodD4F7VFIoolQlIFNc340RSKxifUaC6dcSXci1I+/QGjpgpRwEmg0Y/7Nxf2NN95wyioh4UKExg9rUBhyagLtTW5fsqbDOwNzUu16RYEIs8bFeo7vkZOkIxGKtoDcve222wLBx4qrNn2tuFp4HCIUdcU6KizDWctJ9Lk2aa38kJbafDGrftBwTaQkkwhFO2BRIFnfaSirYWODH+Guv2tTz1HZ7l29wrCEYVrHMI/DKhQ3fKpH3RBAgBChAYCosxAiNEYiFPBDDT6oF6ypai1EqPcOMpgmdhMuEYo8tC39wJ5h48aNFbQa4xGQqM8991xgdbL2z2uvvVbB9I8fSTYRirrBYTV3x5S1fX7OYXIT5JxIchAQIjQ5OKdaKdjYoP1LKJg5cfp9YlfoU089pbR/41SrvtRHEBAEBAFBQBAQBFIUgXQhQmH1R/v5dBwHRY6PsEjsJTDplzNnTnaecD8Sl2hya0HnDo5E6EptGnfX0t/UX1MmqLXDBxpFJYMIRUFck5CROMd6DTdNfjY9pzMRqv18sgl8WDZbs2aNZzcbNmwYu9/CHO/s2bM98wwqQVAknmiEeq/nBaERiuce5FperO8E3Oe2uT5diVDgu2/fPkNbMh5srPeaLqmCJkJRV/zugiK2rXV2Otf+LFEsW/Auc8rLGu5now27cEvCZBOhKJr7brXi4Pcczx59wK9w3A0gjZ0c2bVTTX7mkdDYyNgUpjeHDS1fVM18pYla8H8d7G6LK0yI0LjgC90sRGgcRChQhJ8z+ELw+0M108NW+JgxY0IPRIhQ74FTkEQodi327t1baafkMT9DvHTdzMCEHq6PE+wugokGs5/Ec8RuN5D2biY7nKqWEUSoWZf+/fv7MsXDwQiEDMyowESnSPIQECI0eVinQkkbN25ULVu2VFgUcfpdIq5FixYKaUUEAUFAEBAEBAFBQBDwg0C6EKFPP/2041gocoyEuZ+bRp0Vn8GDB7PzhTaGlzUpa96R56dOHFfjH71PfXdD3tCCn6n5YB6xILi8bw+1/Ku/fZsmiwhFXWFVy49/z0jcudfPP/+8LxIUdUtXIhTWXGAqkosNXF9wpW7duux84a8xljUMbl2s6biL9V4knhCh3ut5Xhhan4vbOTYlBLVmFtnX0fe4prPd3q/pTIQCe5jJxQadeNyKwSR5v379Qo8yEUQoMl+xYoVvH6+Rz93rGtYd3nvvvVBbuCewzHDuued6vvuw2SaRkhFEKNrTuXNnz7Z7Ye8UD0sD0BD3K9hU5pSnNRyYOcnE+jUUfIaaYyFYxzDPpzar73RbzOFChMYMXdiNQoTGSYQCzS1btihoA3JebOYPCrsKXnzxRUON3/pEhAj1HjgFSYSa2O/YsUNhcuPHXAsGA1jsh5mXRMn48ePVQw89pC688ELWS9rsXzjCv8z3339vDF5irV9GEqGoMzRs4YOlRo0ahqkoa/u45xislC1bVr399ttq165dsUIh98WBgBChcYCXRrdiogf/KjAV4/T7xGYE+FGGtqiIICAICAKCgCAgCAgCsSCQDkToqFGjHMdDkeMkbBBbvXq1Lyj8WNApVKiQod3jq4B/Eh/evlWt/Ka3sbg3rOK1oUU+c7EPR/gH3TZ3Vij7ZBKhKBTkkx/iLhJ/t2v4WsXm91gkXYnQJ598kt13YT6TS+ADQ78azU2aNIkFet/3CBHqG7KoG4LCMCpjlwCsxXIJS7ffuTXu3nvvNdZpuaTRZ5995ljDdCdCzYZh8zJMZefJk4f9boCyCX6/mzdvNrMxjlwiFK7M/ArWZqtUqcKuo/W5e51jTRbrq7EK1mc5ZcC3ZqKE26dh1Sto6dGjR+BmcmFxw6/VQ7Ndo0eP9nweeF4ffviheUvYERvAINaxEM5HVi6t5rRrqX566iG1fvSwsHvivRAiNF4E/77/DBz0wxUJAIHDhw+TdrRNEyZMIL0bhTTpQvpFTPv37ydNsFHevHmpQIECVL16ddI+FEjvzgygVMkiSATwc1i4cCFpH7C0dOlS0gN10gv2xnPUHz7SGrxUuHBhuv/++0l/YElPjIIs3jEvTQjSzJkzjb61fv16o06omyZwSe+wIv0BMPqWedROqalo0aKO+aVjhN5FZWCA9uvFD9q0aVPob+vWrYTnowdmYX94XnpyZvz+0rHNmaXOeuBMenHCsznot4sXL/ZM55VAb1IgbWLZNZk2t0T4XYnEjwCemV7ooUGDBpHeNWqbofbFQi+88AI1a9aMNBlqm0YCBQFBQBAQBAQBQUAQ4CCAeQDG+RzZsGEDaxzKyYubBmsAGNfqRXrWLR999BHpDbastGb0pUyfAABAAElEQVQizAW16xNjPmiGuR21dippQs8tiWOcXtSjnDfdSr998BYd2bkjLF2BB2rTdU1a0QX5C4XC586dSzfffHPo2u1Ea3VRlixZ3JKw4rTFH9KEBL3//vvGHJ51k0sivbGPtClH0gvCxjqOS1LHKK05RHoDoGO8GaG12mjKlCnmZYYeR44cSTVr1mTVQWvi0m+//UZae46V3kykNZqpTp065qXnUVtQI01OeaaLJ8G7775L7dq188xCazOS9vvrmG7+/PmkN2E7xlsjsL6BfuZX3nzzTerQoYPnbVq7zFjX8kwYUIKgMPRbHazbvfLKKzR27Fi/t4alv/jii0mb2zV+81irxW8Xv2EvqV+/PvXt29c2md7gwv594J2uyUPbfNwCtf9Jo95uaRBXvnx5Yz3NK51bvN70YKx5axKJ9GZ34xuH7xzWXrSyj/Fdxpq3JtwIvxW7dzu+d9oErFsxRhzW1itUqOCZzi7BiBEjSLufoyVLlthF+wrDM9GKT8Y6BtYbYxVtTpe0SyDP2ydNmkSaNPVMF0sCrGPj2XkJvnt6Y4NXMt/xWDdq3bp13O8l7U+dtGKZkZe20Om7HrihadOm1L17d9d78R7Q/kGNNWa7hFtmTqFTx0/Q1KaPR0VfVLgo3fv91KjweAK0Zq3xrvPKA78b/H5EHBD4mw+V/wUBQUAQEAQEgcQgIBqhicE1o3OFrwu9scfVf9BVV12l9GQnaWatMhoTKV8QEAQEAUFAEBAEEo9AqmuEapKHpWmgl2hUxYoVY7bgM3DgQHY5KEuTXL4fzonDh9SYGneoJT0+iNJ8gPbDygG9QnnuXbvKOE+2RmioAvpEb0JXnTp1UjfddFNM2idwKwOrT5pAt2Yb03m6aYTCYosf/7OagIkJF9xUq1Ytdt+FFhoseCVSgtJmFNO43hbegjKNG9kfYF0P2px41/n5M11J4d1hFa3gwspHkzJRlv7MfDKLRqjZniCOenM0C9d4XejArO+AAQMUzM36sd5o9h29mUl9+eWXSis8BdFs49uEvmLm73SE5chESUZqhFrbhN9WtWrVFCwuOOFgF45vgd5Yr/RmOGt2MZ1jncquDGtY1apVo/LetWyxEbai3xfq0NbNauxDlW3HRsNvuy7q3ngDRCM0XgT/vl80QnUvFxEEBAFBQBBIHAKiEZo4bDMiZ+yCxg5Bt93QekJJbdq0IeyQjWWnc0a0S8oUBAQBQUAQEAQEgfRAINU1QtMDRV4t9UIf7Vgwl9aNGEibp0VrwlX4sCflrXY/LfmsM5Vo+jIv0ySlgmYutGumTp1qWBKCxhX+YLkLFmRgsQR/mvyjcuXK0V133UUFCxZMUu2kGEFAEEgEAgsWLCBopa9bt874W7t2LWE9AhrMsKZ26aWXGlqat956K+EPGowiyUNAu/6i4cOHuxYITVJoTAdlRRHWG3/++WfjewBNVlj9w7cAFvagCYw+AOt6poU9aLnrzTSudYwlskGDBqT9pbrees0119Dy5ctd02SWSFhymDx5Mk2cONH4rcLSH/4QDk1cWNbE97l06dJ0zz33UKlSpQJpOqxAIk8v6d27d5QW76pv+9AZ2rpc7ltuo93Ll9IfY4fTxvHRWrZZL76EHpyxzKsIX/GiEeoLLsfEQoQ6QiMRgoAgIAgIAkEgIERoEChmfB4wS/XWW2+R1gR1rEzJkiUNM0IwdwXzwyKCgCAgCAgCgoAgIAgEjYAQoUEj6p7fupGD6Irbq9LwitdGJSzfqRtlzXEZ5S5/O+1cNJ8uvZ5nFjQqIwkQBAQBQUAQyPQIYL3Ay2QtiEkQ2ZlNQPpxzN7CpDJcsokkBgGsab3xxhuumWstYsP0c6Rbp7+mjKd5b75CBWrUphV9P6eCNerQmiEDDHL0DG1K95Q29w8S9OrHng58c5gQoa6PjB0pRCgbKkkoCAgCgoAgEAsCXCIUO++8dgdiQHLkyBHXasAnEXaRuYn4CHVD5984bTyC4GMDg0XsrnUS7KKHXx34nTjjjDOckkm4ICAICAKCgCAgCAgCcSMgRGjcEPrKYOdvv9LJY0fppycfirqv5POv0HXPvUQL3m9PRerUpwsKyOJtFEgSIAgIAoJAiiMArbzHHnvMs5YghhYtWkRYl/Er06ZNo9tvv93zNi9fvJ4ZpGgCrK3A6gB8l7tJLH7D3fKTuHAEsF4IrXE3efjhh2nIkCFRSZb2+IDWDv2G7uw1mMbWrEQnteayKXd9O4ZmvvSsDjtCVfqNDHw8JESoiXR8RyFC48NP7hYEBAFBQBDwQIBLhHpkY0TDlMqwYcM4SV3TCBHqCg+dOnWKBg0aZJjAdduxWaVKFfrvf//L2tnoXqLECgKCgCAgCAgCgoAgwENAiFAeTkGkOnnkMP32wdt0cNOf9NfkH6OyrPhxb1r/w1DaOnsaPTx7ZVS8BAgCgoAgIAikPgJ//vkn5c2bl1VR7TuTGjVqxEprTYS1Azf3Omba999/n1555RXzMlMdoYmITeZuAjPt48ePd0sicTEisHnzZrryyisJpLSbDB06lLD2GCl/jB1Bs19tTgVr1jVcBkAD1E4qfTmQct9ayS4q5jAhQmOGLuxGIULD4JALQUAQEAQEgaARECI0aEQTl9+JEydowIAB9O6779LKlfaLWdD4rF69ukGAQhNURBAQBAQBQUAQEAQEgWQi4IcIXbFiBeXLl8+xehjXZM2a1TH+dI84smMbzXylCW37ZaYrFJW+/I4uyFeQzr/KGWvXDCRSEBAEBAFBIEMRgF9G+Fb2kmLFihnuciLNhrrdN2rUKHrggQfckhhx+CavX7/e9bvtmUkKJ1izZg0VKVLEtYbnnHOO8RyyZ8/umk4i/SMAEv/ZZ591vRH9Gr5KncaG8Im+pFtn1zyufbYllWr5qmsaayQUEY4dO2YNijr/8MMPjTW4qIiIgAoVKtD06dMjQuXSRECIUBMJOQoCgoAgIAgkBAEhQhMCa6CZYtDVt29f+t///ufoj+NM7fMAu+Jee+01uv766wMtXzITBAQBQUAQEAQEAUGAi4AfItQrz9y5cxM0BETsETi6ayfNea0lbfp5YijBxcWuoz3Ll4aus16Sgwo8UJtKt+4QCpMTQUAQEAQEgfRCoHHjxvTFF1+wKg1fn2PHjjW069xugOYd1higCXny5Em3pEZc1apVacKECZ7p0jkBND5hithNevfuTU899ZRbEomLAQH0r0mTJrneid9Bjx49bNOsHzWEClSvRfPfe51Wfv1lKM2FhYrQvrWrtV/Ql2jJZ13o+lbtqHij5qF4rxOu2WivfBAvRKg7SkKEuuMjsYKAICAICAJxIiBEaJwAJvB2+Fvt2bMnderUiWAOx05gRrhu3bqGD9DixYvbJZEwQUAQEAQEAUFAEBAEkoaAEKFJg5qO7d1DkxvWot3LlxiFXl6mHG2fPyesAnmr3U+3vNeNzhLN2jBc5EIQEAQEgXRCYN26dVS0aFGClSiO5MiRg+rVq0f169en0qVLU5YsWYzbcP+qVato8eLF1KdPHxo3bhwnO0MDb+HChQSN08wss2fPpvLly7s2EUQzfLGKBIcA+mOpUqVcM8yWLZthGQ3mc51kVuumdGmpMrT8q+50aPNfRrJLipekU8ePGf5By3f6jLJeehllvyq/UxZR4UKERkGSsAAhQhMGrWQsCAgCgoAgAASECE29fnDw4EFjlxv8DGzZssW2gmeffTY98cQT9Oqrr3qab7HNQAIFAUFAEBAEBAFBQBBIAAJChCYAVIcs57/bjlYO6OUQS5Sn4p3af+hGKvf2x3Tp9WUd00mEICAICAKCQOoj0KxZM/rss898VxTWo3LlykUwK7p27VpPM592Bbz99tvG5mu7uMwWVrNmTRo5cqRrs+AnFNqjIsEg0LBhQ4OYd8vt9ddfp44dO7oloektnqJc5W+ndSO/o12LFxppz7/iKqrSf5RBhq4Z3J+uadCYzs1xmWs+1kghQq1oJPZciNDE4iu5CwKCgCBw2iMgRGjqdIF9+/ZR165dCf4FduzYYVsx+EKAGZa2bdtS/vz8XWy2mUmgICAICAKCgCAgCAgCASMgRGjAgLpkt3f1Chpb4w46Ry9uH9u7N5TyDK35U7nXEJrUoCbdM/wnurjotaE4OREEBAFBQBBITwTgMgfmQ0HMJFOgWQpXPaZWaTLLzoiylixZYrgbgm9IJ7n33ntpzJgxTtES7gMB+PzE2tbRo0cd74KrBGgye/lmxbhn+7zZlP8/D9KG0cND+d0/bjbBncDG8T/QuZddTldUqkYXFnT3B2veLESoiUTij0KEJh5jKUEQEAQEgdMaASFCM/7x7969mz7++GPjb8+ePbYVOu+88wzH8a1bt6YrrrjCNo0ECgKCgCAgCAgCgoAgkNEICBGavCewZ+UyQ+NzbvuX6MiO7aGCa8/fQBMfv59KNW9LeW6vorUgjtOJw4fonAsvCqWRE0FAEBAEBIH0Q2Dnzp105513GqZtk1H7pk2bGpu1zzjjjGQUlzJlwKTw119/7Vgf4LF06VIS90SOELEj2rdv76np+eWXX1KjRo0881zRtwcVrvU4Dbk5nOSs8FFPgwid17EN5bu3Bt3a+XPPvMwEQoSaSCT+KERo4jGWEgQBQUAQOK0RwEC6SZMmgWAAXwmw7R+vwHTLd999F282aXM/Bs/Lly+3rS92vGHy8dJLL1HOnDlt00igICAICAKCgCAgCAgCqYKAEKHJfRJ/ThpLM1961iA7zZJrTF5IC/7vTYJ/0MWfdqJyb30kpnFNcOQoCAgCgkCaI3Do0CFjDceNqIu3iRdccAF16NCBWrVqFW9WaXk/fLLCHyq0cJ3kmWeeoS+++MIpWsIZCBw5coTy5ctH27f/u5kr8jasM8I/LdYJPUUp2r9+LS3u2on+GPd9WPJzL8tJ17/wX9o6dwbd8u6nYXFuF0KEuqETbJwQocHiKbkJAoKAICAICAIph8Ann3xCLVu2DKsX/He0aNGCXnjhBcqRI0dYnFwIAoKAICAICAKCgCCQqggIEZq8J3NKL9CuHtSP5v/vtVChZ2o/8g9OW0pz33zZWATMVa4C3dl7aCheTgQBQUAQEAQyBwLwYwnXOpMmTSKlCaAgBGQT/DXCJyj8ip7O0rx5cwNfJwzOPfdcgoW1yy7j+5t0yut0De/ZsyeBUHaTcePG0d133+2WxIiD2Vv4Rh9yU2EqUvdJOvjnBto8ffK/92kt3ir9RtApbYIXfkS5IkQoF6kA0ukXWaBydO8ehT+rHNq2RZ04ciQUdPLYsdA5TrQJFePPGnj80EEj7NSJ4+rk0aMq8h4z7dph3xqnh3duVwc2blD7N65Xh7ZuNqOdj6dOqVMnT4byPnn87zohDPVH+RCz3r99+I5xvXXOdIW0iF8/epgRhv+O7NwROt/6y0y1on9PtejTTkrvDjDCj+3bq6Y0fjSUxnoCfA5u2WQNMuqGgN+//CQsHBcrv+2jkB/kyK6dxvHw9q3qz5/GqTVDv1HL+32udi75zcBsWa9uRvzRPbv/Puq2mVieOHzYCMN/eAYQYKfN36ij+/aEwhCOtGj7vLdfDd2PMq2yadok66VxfvzAfrVp6iS1e/kSdXjHNrXjt1/VoX/aijaYdbHeaD4XHP/4cZSBLfqAVY7t32e9VLhGX8Hz2jB2ZCgO7QC2yAtycPNfSulnbxWkMfOzloP8TDH7gXGt7zfx371iaShvK55IZz57YABc961fo/auWWk8M2s5ZhnW4/GDB0KXwM3sj+YRkWaaxd3+z+hvp06cUOu+H2w8K5RjlSO7dxmXaOf6UUPU7z0/Vb/36mr0f0Tg3mnNn7TeYpwjHM8LGO7/Y11UfGTAxgmjlXYYbQQDM7QdOG6eMcV4lisH9FLok4hD+Vt/maHMupntMbHFczFE4222G/0YzxL1Wjt8YKj4nUsW6j6/0Hi2Zl8ORf5zsm7kIOMMeeE3Z/Y9Mz3C0KcXd33fqJPxHvunr6BOW2ZNNfI3+tk/vxdkuGfV8n9KUEY/RztWDfxK4d20b+1qA781Q/qrld/0DqXDCcqDoHyc4/j/7J0FuFXVFu+npKSkNAhId3cKSKdiF8YVO0G9dse1O7ElpKWRLglp6ZBuEBAQ0PP+v3GY5y3W2fsEHr3e9/b8Pjh7r71irjnHHPkfY3o6tR/0H+MXbtybvnsa2rd8sfG9n0cPtVO5D+/IveycEL37+8EraPCuw1s2xfPOU2vTnxPtL/flH2ORUt65e+E8O591svG7wQm3DvLOXQvmxEEj8E7PX6HZqbdcmXB+8APXRuOdnvcFz4d3el7o6Y71tWXyOKMneOeeRfNt7FgjNH++yYVT8xFc6542WePci/M8TXE9tL5r/uy4Bc88lCAbE/FO8chwO7x1s9bN5Lh9Py2JQ77tWfJjynin5BP0gTxAPng6EaIzTnsexGVNf1Zc3rx545566qk4lciNXwunrvFjTl+gY+iCtUbj/YI8kWPGO0/JIn8exz1N8Dk4Vnyn+THzfNevefvtFO+zvqtfKz55O26N5s03rtk1b7bd169h/xt/ebbxAj6LRpmTcOPevA9/oQPm2PMfzoUv+XkP9o25oEFHv27bYp/heaxtk226J89eO+iLBL7GSV7m7VuxNGHdB+/LOX6e+BxsPzxydwI9wYO5jrX7y/o1Ns/+PvTZtyD9cczrSbwrfUFPQl/y4++vi/SX+/t5N75zSn8LXuvHbtErT8dtnjjaxtJfs23qxITbBunl0M/r4+CLy957xdY8J0FDrFvjvQlXxX9gXuk7PBF5QvP8krURbvBJPya+r/z9efQwk83oaOuHxcsqZCj38jzB811/Hd/9/LCe/Wf4j+9DkEbpC/qS6RvhjgW+o6fReG+jQ8k8T9N+jcArkA9BWvVzzrXQAfyFxhj5ueA79EbzvJ7P9HnVFx+armDySTS7e+Fco1n0NN94ru8L40AfeG/eP7nGdayvhHES3bFOkKF+LSR3j9jvsRGIjUBsBJIbga1bt+KNTZN/6EexlvQIzH7gtrghjSrEfVOxgP0bf0nbuEm9Lkr4nvTVsV9jIxAbgdgIxEbgf30EVq9eHXfPPffECUB9xrJXWXdxffv2jVuyJN6u/l8fk7To/44dO+KyZcuW5Jg++eSTafGo/y/voT1Y4ypWrJjk+CoAmqqxGdai2mk60PCW1RP0IfQk/AupbdOmTUuyj6nReRs1apTax/9/df5fkhG6dsBnLl3GTK5kl57urPTpLVw7pEE51/yjgS5PpWr2/edRQ1zBRi1c5ly57fu+ZYucHDS2oWzG7Dnc6i8/dMcPHrS6y5vHDXflru3tshct4X5Zs9LtXbLArsmQLYeLO3nClejYw7FZ7f6flriiF7R3m8aNcD21Z4WcQy7TObndOaXLJvTDLtR/7GHB+fSj2IWd3NZJ41zuCpXd4a2b3NGdO1zJrpe4vFVruvWDv3alelzu+lcq6C5dvsMtePoBlyFbdnd2nnz2W7sR09yOmZOdnPyuym19nJx/buELj9q7bRw+0FFG5pIlW92UG3q6yvo9s/qTo2Rp3w0nZ6Abd3Eblz5TJtd12jK3YWh/e95PH7zuKt50p5Mzz+WtUiNh3HbMmuKm3HipK1C/iWvx8SA3pnNT13boZDesWRVX7pqbrS9yErtCTVrapryrPv/A+q3gjvVv/KVtXaOXP3TZihTTO491RVq2tb7M7tPbFW3dwcbh92NH3FHt/5G9SHFX//m37PcDq3+ysVrx0Vuu6/RlSgNfZ6iHqnc8YL+fPPKrW/zKU67Ww8/b9+B/S1571lVVaviKj9/SOU+7zLnzuNqPvujWfPOJxryqK9iwqRAVLW2zYTlwbV7iZNcWv7CzUs1f1Pelhriods/D2nfkqF2/ffokd26dhu7Yvj0uW+Gibtfcme6sDBncb/v3ucM/b3AFGzd3Jw4ddEtef84dFkLj/J5Xu0o332N9rKJ9THbNneGyiZ5ylCjl5CS2exZpcaH78dl/u5oPPWPdV2DJlWjfzT7vmDXVnZ03n8tVrpLdV0Ftq/e94sM3XIUbbrfx3LvkR3dw3Wp38rdjLmPWbO7g+jX23ozz7L63uCIt2toYFmzYzJ3X6SJ3XueLg8N02udd82bZOGTQfQ6sWq618Isr3raLo0+MHXuvbBoz3OqOQ5vnX3KNPWv5e6+47MXOE50+aPN+aMM6o7c1X3+idy3p5KB0ck66dBnSuxl3Xu86jJrpflm7UmPZyGgRmqeBcqHMEWMz74n7XZnLrnPnnF/O1uPuH3+w9Q1dBtueRfMcz2FzaNb6vMfv1/h1dTvmTHc/vf+aq/3Yi27+E33skvZaN6NFu7TajzxvSBo5jjXG+W0OmAvVJHBlr7jeKRBiY0F99Y0jBroj27e5LAUKuSz5z3UH9X62bjf/rDV9XDznEtHlJKNrxidfzbouq86lhvsva1fZuty3fJHW+HbRXXNb5wokun1LFzr+QleZxJNyl6/sDm5c61p9OVIIn00amw1u949zHPQuR7rW2RRX5/H/ODmO3c4fpmutlbHx2rd8iTu6a7vRI2uPlq9GHa3Nf6nfW12+6nWMr3B8+bsvuzKXX+8WiOa2TRnvKt54hytyQbvTNtOeftvVWoNvO3iib+sHf+UU6BbvO+lKqS4996VvrM1a/35W9A4P2+bKX3eLU1DaVbvnEZchS1aN1Vq358e5QvH9ofvldKzZUt0vEz+5xEFv0KSC5K7nos16pxlGY4yDi7BPA79vFW8rrvmFvnOWKqs9g3a5w5s36lg3V6BeY7du0Beu9MVXncY7eW4ObRa+8PlHXPfZqxz8bPeP8M773e8qV7H4tWeMt22bMsGuh+dOvflyV/nW+20MghuNs67pO/TW44c1Cbx6+fuvukr/ulv8pZ+Nvb2DBs/zzjxVqrs2/ce6MV2bu3bDpoh3VnVlLr3G7RUNKGjjzq3bUOuqq9Eqz1/yxvM27xOv7OSqqB+gujivcLNWNiWUCSsmXrV18jitrWOa/x3iScVcgxffsd+hu5+/G+wEanGdv//RaI9z4Yk0452vPmNzZwcC/y1+9WlX7e6H3aovPtCYPSp5lsvVfepVt+arj905Zcobn4d3QnfH9uw0ekyfMbMr3KKN0RfHCzZoovHrozWb0X3Wf4A7tniuu/qJ51zG30+aHGM9/y6+Cv9EJhZq2sqdOHzQrfr0Pbd32UJ3vuawUu97ncBArrzk8P4VS1y2QsWMr2wYNkDzkt0VbdXBLXv7JZsnus/7IpdprEfkZe6KVe0787Z30Xzx6JZujvji+eItqz9/XzxjkPGdTWOH23Py6HxKjWSTHEKPQGZnODuL8bd96kOBek1cRsliZBlyFrmSv2Y9owN0gDKX93J7Fs6166Bt1hC8EVpXQEZzOMHF6Z70Y5fKlsBfi0kGZi9e0i175z8mG0p06O4mXdfdtew3xCED1w360ub9wMrl9j55Kld3K8WfDv28Tr+v1Frc4uo88bKL+/13oyfW41niY+wRUfvRF7RG3zQ52PTdL9W3ebZGFVA1GTb/qQeM3+UsVcbGyf+38tN3ncA7jvFQcEprOYubdd/N9l5N3vrMrf7iQ9fw5Q/0jPtd/efedumFGEVeKeBkPJH3RhZVub2vzRF0iDwU4MBV/NddroDkKPpEpHVOHxgnBXntvG3ij4r8udySg4x5jb5P2JjC9xlvZJHJT/UXXQh66V+5kMmivboHcw8vylqoiOlnrJPf9u918x67z86BJ5aWLDv562G7L89nXbKGkW3oRc0/HOC2il/WfOApG88ykhG7pfMUFCqTsaYxx5Ou7W70cMEXw91Uyetm739jvAQez9pDL6Gxxuk3/Aj+h8zh3ZjbeY/e48pedaOtt5qaS3QK02+1VtB1kCvwrezFz9P7nrTfGUfkJfPiZRh7q+UqW8FkNnIzW9Hi9nn90G/seXuXLtIaPCK5VlB8N5fJJWh337LFxut3id+yfgs1ucB48zlly9t+bPR/27SJootdxkPJ1mHuG4keDqxZ4dZ/+6XpxPDElp8ONV5Dv46KV6z5uh+Xu3TSPSnZ8/uxo25Fv7ddq6++c5lynKP1/rT0imvFX/dYuUP0m+r3PWYlD6FRxho6hzbpm2/IAWgLvgZNoLugJzGm0Cm8hf1UYi02ArERiI1AWowApc7SorEHV+bMmdPiVv9P3gOeLqCg5PW92it0S6J3RB8x2y3RL84d/+WAyRoZIApbx7njhw+ZbRY8dadsRfQX7OyjO7a7k/JFoFNnyV/QZc6T13SH4PnBz8f27ja5hTxDJuk/6Y0ZTGfinsg0AZpMD1z44mOuRp8nzHbBD3X84AGzjfAF0bD5kNHIdvSfX6XX0X/0SGQfOj76WpM3P7Xz/X/oqPh0sNvJDDm3biPrC7IS+VdU9l2wrfzkHVe0jXRO+SKw49CL8K1gbx7csMaySNDl/zhx0nRU7Fv0v/TSgw9v2mC6Kvejb9gGyNpMOXI6AeZsjAVOd+d16GE+q/Sia8YFGw09Fn0EHwTvynO9ry7o9/B9Re8R+MzllU7EOzIe2QoVNRsAWxp73Df0vnQZ4vUB5iRz7rxu94IfzF5H//bPoR989437ok8wV+gx6Ki+7ZS+nr9OA7svPg30JMbYN/TidJpraEQArAS6ipONAw0cP8S4RN6vVoBH8yOiJ3v/EvonPkxoiTE9/st+h/7qbRqeu33a96YjYneEdWeeu2vuLLMVudfRXTttjHk31hB95z1curNkr3wlfbGX6VN+HLHVf926yfxi2Le8F401h6+QucC/SkNP3DV/jvkNsI/Nhya/RNaChe16zsEvlVN+UPys+C85LzwmjIP3x3INDb9N2atvsrFlLLAjoE+egW2E/w3bjn5lFv3ZnIT8BZtUKrJ4287mH2AsWfsnpWvil6FsZFKN++NLwzaN+/0PZzSssWV/YuaLdyFLHRti9Vcfma9jrXym0DVrlPtzHo0+4itkPLfP+F50ssPmHduWhp2OLxc/arChF+NTwf+Fbss9PY1jz+H/C7aV/d6RTn+D0Y7nI/tXLLX+8AxorPRFV7gtE0fbeOEPZK7wXUJL9gz5waDpLOcWtPUGD+Q9jLZ1DD4ZzC6DFrPLv4c/M9yY5zjxD2iIsToi/xT8Jtjo5+/HfzOb0Xws4leZTo0v44VvD18xYwEPYZ7hOfTxhOZlytLlbtWqVW7nqp9c5jXL3c8HDroft+1yJ/W88nlyurw5srv1uQs5AbBdiexZXNUWrVz7dm1d7rPijAf4ufF98mvEf+cv9jf9p3/MO+sxvXjhPtlO+OhNvohO4C/wEQFCbfyC98Au1GI1nzr89uTRX+Ply7mFbOyDPCV4HZ9Nvsg2w9ZhDLCD4XNmk4sfZxTfhU/ylxhAjb5PGo84V76wE5oDfGasGZqnC3yxJl+2bbb+s06Qfb/In7lQfsH6r35k5/v/sDEPS75k0vsf19ifK55IX5Av2LX4/YMN+VLkgrZGFwnyRddTxhVb/KTkIdeky5TZ+lpKdGl2nWQn6w0+Bh/E78L69zzi162bbS0J3Gp+T57J/Y5ojSHzwo15QxYh/1jTv6vM8tn5C9h69tfiz1wnXlhWPlHWexb9TsPWz1+rnsOvdZb81oy592vzfvjroH1kGrwIu51x3f/TYvMH028a/hDWGX1Pr/Xl17L9qP+8bsD3jJrj9KIjAbX1fp1sTFh/xJ9Y/xtHDjI9AN8baxEf1OReF9m6YI2HG7Gcqnc+GD6c5HcFbJMskZzkxaEfybjOdGocQj/FvmoE0jwQ6hkYDFPUY4ucgArfB9UqaQ5rnIgwZ1uYIkwcY8flHNm7aIEclFONmTSWgjmuRytzMKHg5ShR2hQDnHk40yde0UGL6GwL5ECYEy5rLwftUjlk25vzBYcoQbCyV97glOnmWn89KtGEm8NGDrwtE0dJUVgjIs5qTJaAC85QGK2Q8vHOvFOB0KGNK5rAylqwkAWVYCI7lAbdcewPtggmX3+xCVQchDh/iigwC8M0YW4L6yvrs+/M7gVz3PdXd5WjdbACJLWk0Mwyx9OcB++wIGR6MSiEPMyj8i33uWFNK1vAmOtx4BE4XTfka7dfQRwWJco27cLBE238+ExA5Ox8+W3BwixrKfBURincQUUIRyALlQAbjvCRrWu7Ut0udXWffi0h4EZQDIdn7opVzLmdVcKjdf8xCrYMtABfs3e/MiHEOUcUiCEY4QXLopeeUCDybpXOGW5BXZjFnAfjFYjmH3xjASoY1KYxw5yywcw5iEMPxpPjvNKmfKEYo7DDVGgEdXGKHt60UXN8jdLPh4umtplwwHm8edxIE25V7/q3G9uthY0X1xE0h+mV6naZ0QfGDsEAFBLGoevUJQoALDKmjtA1h6LeHeWv0zg51qXozxBN0V8UVpx9BNGgYxSwLKLHaepP6R5XmPKEAvr9VV0skFrxJjmeJRiVzShD7HETYgShg5soE0Qo2lpBSAmFRf95wpypBCoyqYxlzQeeNmWIoNnCFx935RVgG96yhs0DDtaB1YvpnfOa0lX5lnstaEewEyMDZ+gOKdAIct79h4fvsjEBpNB91ko37qLWRjeMEbSft1otm6ONIwa5i+aulSCbZMbT5Bsu1tJO7zpPXMCp1pjzFR+/aUZDya6X2jNw3BdSsGhI/XKmeBA0pB+09t/NcKM7NrbPBAsIQgBcWKJgixlxUqYvUnALhWeVgiSAE6rf/5g5oQkqNHjpXZdP62Vk23qu0/h5JpRRSKAf1gTgAALz5XvdJuV9tY0/7w3PqKygG33DwU4AGYWZoGy3GcuND0y8oqMJO/gDawwBT6kDDBOENAFXxhIFMVOuPLauoI0ec1a7uRpTaAJnMrSEgVRIhnbj1z9xi15+0vgT80+DXxFA/a5d/VNKe34DSgCuoHlnfs+Fm0wJgVfkr1XfjbywrvrRKz4A0f9To2UAIQS9UAJLdOzuNg4fZMpPhmzZbM4wrOEfAEPgnSg+HUZON2WEYCvvh5JCYBblivVa7tqb3cx7bnStvhhh/Qn+h0K0WsG5zeNHanzXmvGKco1jIKsMZBS9LZPHugq9brVxYByHNqlkY4bSwNhCJ/BezzsJVhAwqH7vIwYA+UOKOQFJFFyuWdnvXddhNIpsfMMhw1y1UNA9n/g9CsmJXw+52ff3Nh6XXvNN4B/+GY13wo8IihVu1tqcIty55adD3NTeV1hwsJyMQJQnwCUELwlmQTNe4eV85plyYMVEw4UVqBjRqpYph42kxMIbMVhZQwT0AQLRT/hxmwHjjEeh/DV772tTtggsEqiv3Ps+M1xQ6JYoOAwPQynLr6A6YJ2Zd93Ao13Td76wvkPDyrK1gAVrG5qnz/BL5CzAHniZN9omXNrOgDTca1rvK1XK7FubE+iLoCtBblqtfz9nAWPmjzblpkvdbwIs4TCCD9O/vYvnm/LLOHSb8ZMBlcxwFN+Df/N+6AWsUxp8GUfGgqcetMAt8p2gMfILo5lAazHxP66ZdF0Pk0vwZoxB1hZBFPgIsg7AFGAFApfnnF/ext3TGUY9QXmMJBwArPksmstx3S9w7UX7yNRR7aVEFz/PZAhBahxiGKR7JA8w/ABa8FyC+ugZ8EX4/4UDxxu/wugu2Ki5BZ/qSVaO6tDIXbxgo3jlRL3HMgWr+to7wkN4pzkP3GbBNvQHjFacaoAZCPTZ+KnE3G8H9plxBZ+AHn74951aI3NsXy4Ca/Be3gdjDwMBPpKjeCl3UMFYgtbILgA8/E5DD2r4n/f06Szxme0GUEGW1H7kRQNlLH37RQuEESBFroQbRsxKBfwYa8BqODJwSBBY49msB3gb+sPAasUcdL9t6nj1Xeuyem1znFa/71Fd/5FoYK45puY+creCq/ONBzgp/ATZoTHGgL+jOzXWHM2wrmD8YyR9176B9bfFhwO1Fscan2H956lczYANjBVzRbCQ48gDHJcVrr/Nxot1PFmANIK+rEHfqt/7qPUfeYdeZMACGVGL/vOk0S8OhHJX3mhBYwBX8OHjhw6Z/GZNL375KVfvmdfFNxtaQBwdCyOYRmCVACIOMJ5DcNGcJDLmkF04yaDT7KIFaEWZsAZiAUACAGqi9IYeCtDieBzbraXmuaTJRwAcAFqy5CtgOhVGP2skY1Y5HIZ+bcA8gGwY3+ifgKfg76xfZEVzjeGAqkX8ELiLBRwE0AKop+aDz2iO/zD6ZiyUyW56H7wEPbbd8Kkm1xjjuk++Yg42L5sm9+qhdVLA6BlwwTHxXtYx+nWeSlWNvwO0ibXYCMRGIDYCsRH43xsBAlhju7cUXz+SqPMAXXKcVyoeSKqgycy7rnfNBdjGqQlgMJ30hgJ1GyuQo4DDVTeZPowNocoJCvBkjvcbyEZGdo+XjopM2yJnK87Okp17upLySURryPQt3482wDG2E3oL/gwc6OhyOKEBRwJS8noGwFylPsjG2Cc9ooYrd/W/rG8H5Z8AYItOiW5TSrY8jk5AXudIZ0O3y1+7fgKo1ev56FDskVr/uTdNV+R8ZH6V2/qazyRftdoJQS0cvNNvvdp04S6TFpnO0274NDe0UQXzS6AvETjCfwPgCoc3fixszdwVqtj5gOdpPnCILefB2jiTt8v5nEV+Gt4Z3xhjgr9ogYK4+IiOS9fF9qsigC86HX4RQJYA5MINXQd7jncERIZNBkgMvauoxpfn8gzeHxsEEG58wEC6hPQmAru1Hno2IZjowf7oqfhfcGATQAAYraogpq9AB+iYJATwDPQqxoL5xFbMKd8Q/hUA0gAmsV+gzbZDJln3CWwR6Abgie7sQbHeKc5J2J28N/YRtgI2/fJ3X7GABn1hTAFxYltnLSh7asdW823hnyEgTfCCYCvA60w5c9rz+O3nUUPtfvgZCDgAuORc1g+6lvm7ZH9Co4wdNnqbAWPMngboDJiZoNy0W68ynZT3Z2y5D74N7Cl8eGsFaCNIA81jH6GL4ucAfN995krTPdFl0cGx66EV7EZ0efqDb5b3mPqvywWyfeW04BE0uE+6MHpfGQX3OJd3W/PNp+rr2HifRst2AtbtMiAffk+C9gD8vI3Me/JsfDNzHrrD7GGCFpSRxH9aWP8Yv0iNd8J2Zl42jhzscgn8q0o27g8FaKBpbCjuiz9jxh3Xme0ASAO7nwCT6claN+j++KiynFvA/GO8O/46QNaXLttuPibWvgXnpWPTCP7lKlvR/SjQNr5PziOZA3vCAylY99CNTyDAnzHznpsUxL/KFW7a2s17so9rICA7Pkf8fQvls6M1euVD863wGV8W9hr+TpItAFhg+0HXHCc5g/mFtzKPFgwWz8ojPyx+VGwFAqEElxkT6A2fJj6W4u262Pis+/YrO2/3AiUHKZiHvwMQMc/Ar4HvaKt4J+NGYgrABewAArME8Qi0V1TAl/eHNmuJr0FH+NQAa2K/M9/MO89lrvhbTT67nPLdT7vlSvOdAi7xwHLmY7kC7djN2A+AU33AHt9wefmfWBe+8Y7bZ02xgDB2yckjhy0Iyv1qPfycAYs5F5qC72FnwVPwE2B/I1+wfytcf7v4/X5LQCJox1rEjsZPA5+P1pAvnIt9aeBxjXdmBd7gLcQ48FXxTh4QjB2LrxJ7GXqFD1fufbfocqKNIb6gXOUrWVIAPg18HayTvFVqmqyAx3m6gsfiw4EHw3uxu7AP4YfY9/hiAAPnrVE7AfAB/U+75SqjKeTE6M5NXPsR092QhuWtjyRqEYA2oK/kIjb2hYPGK7ic1ezoJa8+a7YbvoK62vObZA0A5viq8BHhlyNoCk9krukrtjrjCM/OcHZW+T6W2rjgJwGwS6Ia9AMNYw8CoEc2YKfyjoB8shYu5k5I7kFT3JuEqQINmjnAwL8qYIw8XPL6s+Yjh17Ord3AZCK8AtlEY3wA6AM6wAdAg84Jos5XMltt+bWYwyq39zHat75LByFoSjJOsMHv8F1znBgNsoKA67wn7jNe3W3mCiWkNTF+mrN0GbN1g9fzGd9C07e/sPUU/i32/b8/AmkeCGWRkr35kwIFKGsIKhASCJ4Zdyr49osQQSloKMAIBlrpi680hk8GBYsDpRqmQcMJDpNBiPsGMcP00kkRbCuHEQukuBy3LBKyAhHMBBMI5NBfnFW+ocDC3GEQMFiYA8EYHFb1n3tDgaE7TAFmQcEYcTDi+EcpNKSbhC4ZRgRiWWi+kW1JBgOLkUxHnFMwqlzlq7jxPdv40xL9JaCCE41AJ4oVDINGkJKgcfrMWQyBSIAONBmBsEiNd/JBKH7HcY/ygKJ6XI5XBCGty+RF1kcYOMFZgj44VjfKqWnOXDF8nNU0AqoE3xhPUIE4RAn8+D6gTINoQkASjFj12ftmjKDc+Xcu2KCpGTcwRJQshDl9HdZEmWinGgKSTBEyoXD4MScgCVFiUKZgsr6h/BcS7eSuVF3jNdiMohNybqsEnpTJFhaYRQBh5JBZyzyV6NTD5ROjOiHnJgpLUg1nOAIaZrj8vVftVJQ0ModxaJIJiSFBoJMAH8o/AhA68w16okEDncfPN1QT9ARCDMVldMdGMibPN8UFBYJgMs5EGk5mnPU4V3kmtA6dk/XH2GPgYPCR6VyiQzejGeYU2oQeMSqhoyJCmW6dPN4CJRhbKDbQ8Dmly5mDFbpAgOP8xiiJ1BA2uSXMMK5AJXolr8xl15qizPpHINIumrfOaqj7+wA6iGRII5iWvvminVbn8ZcMuQZy6IAE0Sr1BfQXDacyDnD4AGMAnRF8oxGob/zqx2ZUYxyNuKCmHU/uP8YJQwKD1zcyJjGkm38wwMYUpzDjDDqIwCcGdULTcQIJ0BQGOco+AdAZd/ayUxD8KK0Id5QYUEwg0MnMpXFP6Aplsfl737hRogMaQXIMuN9krG9SNirZNvBEgnsgNAFfBBtre+cPM+0QyEMQygTF6j37hmV5exoHRMC7kaXtgyan8U4Fk413ylhSmVgz/kCIDVCwo4OCFCs+ecsMBP9s+CPoMcAIi2SoQT/+nTzvROHgGLwdAwCDjWPGO3X+sKZV7Dv07RtKLwFIlFvQWawbrj9HiGbAMtFaq69GmoF3QE4LnC0q0W2nVrv736bIAagB3UrQHGPG863w/ZLknVKoMQRo0A99nPvovQbQ4BgAiY1yCBBQ8+uS4/QB5e7I9s3iq5tkwAgRLFoYWKM4P1sGJhnPhkZW0BlgB+NQ7d6HLSDCOTlLnW/0VrxtV1sDrDVkwAgBIzyv5zkEUD3qFV6MTDbeKWAJxoxvKLXI3Tzi6WRxwtsxagkC8mwUSwJ3ZGJCQwS5UDLz6i/ZbBOv7OxvFfEv/DFr4aKi/Z8S6M2fWOWOvoY2N0eDHADwT2idhgFAJjYBZvgS703w3TcAOASWkQ1kwkdC5Plz/V+UeeiHsfINw4M5KCZ6Zw0H+UbXaUvNIMcQ9Y35hF8j/9gzq3yvW5Qd+o7/2eQ9axljcs03n0o+Xm2ADH+CD1J3HDPbnGWbx48SHVyrLO3LnUq9WrYqRjgNpwdr77t2Dfzl9pesZNYovBRjjvln3DBuCHwBAmPOMbwxCJHnZPtb07tiDBuvd3HGH4o0v9CMWTIPMFYwmsjqZM0a7zv1dMbqvI49LJhMBgGZ5ugp0B2Z8hic8HEcLegLPtjoZRFGLUAcmp9PZCtrm2xGlWJV0L9ugiyij8G5OtWNhD/N3v/a9ELkJLxh2Tsv22/Q1dI3XjD+iTFDI+g3qOb/RURD5zgPrGlM4Fs0qgnwXjTGgPFFPhSo39SMstVffSin2Hb7vVLve1wpATvQK2m8EzokDglak7c/lxOngh3LLpqAllPaukxaaHyADHbfyGpHVgN+YH82wEw01jA8/OL5G1RpgABmP3+J1nV1V+aSa10m0SMODd4tKJ/QYwrIMYAsXfjS467OYy85lT1MuJ4P6BQ4jPxxDGccqeg0OGzgEzjTduveOL59I3udIDXO71zlKprD0v8W+xsbgdgIxEYgNgL/GyNA0GmRwD9kZYUbchgZgA3lfRXoQDj2CwtgjS2EHogM4HrAPA1efNeCEsg3gJqADwHafXdhPQP/Vr3zIbsndg/BBPQ7gGDohb5hgxLQXCd9lsoRADVpyMIOo2aZPkJQA0c1YEAfCB1cr4zZXOguALvPSp9OQdfG5mCmStCSN583RzeAQABpOLcJVHaUv2W8Knl1kO5Gww5DN554VWeTqxfNX2/+Id4VvTinqoA1e7+/2zJpjPwt+606x5CG5RL8YdwXvYwMvEOb1tv7ej0NYN2gWufZc9AzAA7yHgBxcboDQPMBP2+PAlxGp0EfQ9cH6IwdQBAH23OswIBcR1CR4DSBWIKOzI9PGsA/RaAH3wC6GQ0Zj25JMCp7sRKm13IPxg9gJ1lz2JvYvmTGUY0DEDgN2wIbBd0SX0x+ObDH9mgp8Nl15iwHWFXnCQEapdfgfN8gMC/2lLb4cJ2UaIDOxDjRsD9wxGOfo4/wnvjWCEgwBoC1rDqX7BIqPG3Tb9h/2FRtBGIEOAq9zNT7Juh+ui/394FKdNCyAsAx39iA6ND4NEYoSYCgGA3fIXPR+pvRplMBqgTw+G1dZWbKHsF3U+H6Wy3wBHCXIAFAy1EdGloFEnwW0L23ky9Zui0+oCTfzgkFegCzUVFqjID86Km8E/0mcA1oDz9aRmW6EgjBhh3eorrNNQDUNf37uQYvvGOAQ/xzBGoA3eP/AdxHZmn9596yCk26qV2LbozeTxCQ6lWASpu+9bkFVanecnT3DguW0W9oAvsH/xv2OwBDxo5MMq45+dtRS1AhIIVvCaA0tMi74ovA7gckUP+ZNyzYWPPBp21Mg/8xrwDhyfYEDM96zivAggWM5LMjsAvNAUJE92b+WCte78YXBJ1gP3GvNV9/bMBc+ggd4y/jmgHVirpLFm8xGvMAf3gIATPAslSj4z1IVOHerBMCMmSYymi0AA02zuD6ZY2fMJ48k2pr2Dm881lKDGJt0II2CPeGlwGyJQgKbdJ6Lt5sgRvAGwSaSAIiKI/fDvsVHkoSBNUPGRdokUAd/A06MfpVdZsRF9QwOwUdnWA6740NDk/Cjzq6UxPXGRtD78sagzbgLfTxmHgCgA3sHkAQzDOB+bNz5zVANmMLXVJth8pJ0Hzrb8YYDyaIDkiZwBq/tdeaJOAOXyEQi51GRS/4GQAGKs/gU/agYPxrJEXQF4KbvAd+UQKns/vconW0x2iNc3h/fBHmh1X/oQn6hr3LGuDdx3RpZnKG8cF2x76Hz1AhENnEemEOCeZtlL84CAbBD4OvCl8IoGvuTcPf3HH0bPONYx+ulK+U68LyhecT5MZXSxVEfNnwYRJd4IlUF/pBIAFokTWHzAKs7oH/rGdsKICsO2ZOcQnyRbbcxCs6mU8HYALBxN9Es1SnjCRf4Mk8t3DzNgZI5x2QFfArGslKJKXg//G+jvO6XGxAaQK4+1QhjOpsrDt8UgAqzpFdS5UkfE3MlbYJMhAHNE01R+gtQc4q0FlHoFzWA8F9/Hnwwk4T5hvds9aQJc0/6G9xI9ba5gnfudLdrxAvzWr0TqIG44FPgEQsZA1yAtAD9IscA9T+iyoiHVj5k/lleDcCrvCJqTdfYe+HbCaB4pAq/+FjJehOAhhxDGgEXwJzDs0T0yGGhPycfgc+lUOytc9SdvVOo3n4fiEB4vHzhBu0iX5CNYEGL0T2pYeviX3/e0cgTQOhoLbyy3kEct3Sq0WovuFYzCxG8IsYsGV8+R/O4K/PEEzuUgICOL8q3HCHSjsoXV79gQGTMURpsIINmp0WBI10PwIXKHBL33jOnNmRzuEYDDWD0PhkMVnWROjExm/0M8QSC4Z+gBCLRyLGM9TQ6Wf0lexXhE+k5oNikX4LHkNxIzjpM0uDv6EgkQEUzKjg3Iw5cmhON5riRDYiQctojcBl8ByURAJtZOhwHFTXr9s2JTgYg/cJB89A0lGqbe6j9wRPS/iMoCcAEW4o4Tjvwo1gNYHCv7NRMhV0STxYYLchKlk/lD32AS4YP4GsSI1gK9kiQQd8+DwYMSWZUeZxzoYbpYwwIggmZMxGeRiVI1JAmlIZXqEMX5Pa7zjOUdJ888qW/+7/oixEWj/8XrJrT8sy4nO0OeS31DZPJwjg4PsG+1hM5YsIVNCgf9BxoOkwPNKqISgJ2lMyCqODzOCkmhewOB5QXFLSfEZRcudipJAJXeWW++VNUHBADWWRoAdo2TKXXyejol+StwGsQUbwUgFKgoGr8EWsYxRFlNZIzhWyTAno/JW8E+eLL2Uc7h/lf31QLvxb8Dv8EfRxkM6Dv/MZZDslk2jQEQjiw5s3GXIRPprUOiYjHkTr0rdesusJugPuQVnOWqCwlORLbH2TARpu4WAutFNbKEqCtpEaBl4kXhFt3aWKdwaCTZGezbHgmFvpevEnlMk/2zCQfKA0qKMEwSaAB7SnogXECPYSsERRnt331mTXZEr7B6/BuYaBD6p9u4wbApbJNcr84zz064kgK46VSC0855HOCR4DcITSj/IPOAq+MuHyDo5yd9NvuyZ4aqLPyA5KOOMk9SCMRCfpADKc9S4TUjJ+W6JTADwAwgLBTT/I8IYvYHigN6VFs/kVQto3An/e+QDIDkOKhqHkHar+3ODfeLT1cDtUuHlrRznvtGw+UJ7UPDL/ABtwstHQx+gXhj4Am5TKhaT6jR6NAwPDEFBSUrzQ64hhmQTvpnIHAWLQxayrWIuNQGwEYiMQG4H/rREgSILzNVLDX0LwwW+BwjkEpwBds20AmUY0bANsCfwJgIQo87rwhcdMbrGFC5k2gNp8Qz+jAZQiyAL4DscmegIOTIJVBMRoANh9w7FNIAyHPpWmCFB4u45sP599RdAJkC2ZRWSYIHNxclPJADBy4aYXnAqkxesH1VS1JrcCETjmAahZGUHpZYBKsaUjNUBHmZVtSDAJZzZgPxogP5zK/IZvDGAmQcZva5eKdBtzFAftVOQzVUKw1/34AtzCt0CQZnjzauZPIJhBVg++D8acbF2CQ7QLPh9m+hgBXSoB0ajkRMNHg28GoCHVYABP4jBn3GfefYOdg+5IIA79Q/uhWSbjL8rYJPDlG0FLMusAqOJUx48HuA59kH4Q7PEN0DCBOPS/jSO0XYF8W9hnvCuBEwI4+Ws1sLkhUIjzHrojmOKBxf5e4b/cgwxk9BFaAoBRY1VXgVh8WTi10Z3oL/o19yZQx3Yh+MbQuUgM8ABi7B+qhgBSJ1szkt/JHhb4D5/XL+tWJVT34SeCDmQ+EawFFExDJ8cGavjSe6cBrwkYYYejS+MDI9gIKNM3QOUAwaErguBUKKPSUUI7ZYfxLJ+YwPZF3Jf3YH1SWarCDbdZ8BrApWW4nboBthRZlT6QTOCDQAyNCkNkyBI4Yq0QmGPeSIbwLX5NaxMsrUmCofhmySImO453Bpjc+PV+Wk9jLdjhr8NG4HfsXAIg+1VhkHLQlA2FDuEb+Juo6oP+jm3S8pPBtp5JyKAiEbTkbVmq89CH6komgE+RKEHVH/eHMvn0NwhA9H3wfwlIohsTXGK8CGb6hl+JyjHQNUFRKiMBdEiqeZuec6A36B9wIluTEGyCZhk3khDIrMPXyrxjOxKsowE+JRmJ8YFXB8fcTojwH1X5WONs0+abB/mSibpFwSgSHbCZsUt4Hw+64HyC4vAbyh1zHu8ctBsJDubQmoX3Akyt3ufx0xIOvE+ZYB4+bIK6gIKpjHdIfOuIgsOMHRmUDQWcwecZTH6iD4BtPPgG+UIAl7WL/whfBmBlnsN4IhOCtIxdyjpCvuB7hbcxl/ilCPRSCZJsW2xSqhf5BpiEd0e+sI0bNqr3YXr5gs8Hfg24n/UFwNfLF8rcTrnpsgT5YvfS2EHH8EAqnJQMAgAAJDpJREFUYQblyzLNdzT7q/HrH2ut5zVw8o5ZUxLWDPKFRAZsWwLxgFcB7VChM6kGjyfZB98n84BPknLvawd8bkk1xDwa/ucDoy94ZdC3CNDBsrcFmCBj24N6oj2P6lJ/nPjNkpM4BzuSbcKovkDQlmqFyDLsR7Jag7SHX7hQk1biPf3FDyYJiP2SVb3iPvAk1jPjStIHawdAhpdbnONpj3knOEuQndb0nS/tPZEv8Awy0wnIE3Nge5ewDoTPisxmABvhRpAeXhKs/Bg+J/b9vzcCaRoI5TVgRKBlIjn1YKBkXFiN6FNI+TN5dZQ8FMfkmg+c4dBi30bKi6LAwAz4jbJiyQVlyTrLJ8aFEkBJ32CDqXPvOAlMMosStVOKBsdBRfqMtUTn/Q0HwkGeSI9M6bgGGR5oD/bNYxzH97zQkDlJOawpO8lecj6whyGDQxQFkDItPmsrUv/Cx3AKg2YEdRKpBR2IIDEI8JGpAEOL1KI5/yOdm1bHUA4xzk7IyRif6VrC0JYwXzKgk2s4PHmvSMEXaC6DBDfl9oJGhr+nH/vgOPnf/ol/PWoyrfuGkApmhfv7s/Z9tp8/xl8MJ5znG2QkUZ4nrRpKIIYLYIqfPnw9Iroo0rNYByjFKWkJRl8yJ/sga5h3GuJTyp7P4krqNhiPOBVY6z4z2J+PA994Z5yLzDv9ifobNvACP/0tH71zP6mHgQ4FbZdcC8oB9iIE5QmCD/R7cuuQaggolSBCaX79Qr8EKSKBV6L1B17HHPhKAOHzcALBj2gYZMgPUPig7yK1tJ4jjNdIQfFIz07NsRoPPGl7rYaviTb2oDzZ/3WzSsJ4J1P42jP5TjCOcqUYq8g/gtg4BZNrGFkY7SAvk2tkC4BWT2mDHnBIQUsYdJ6+fHnbpO6DgQEdolsFy85yDbRj2Rba3wNHTVLv+VfNe1J9P9PfotHMmd4veB2OA3PyRNFtgucGP4NkxRkBSj+lMiF4ffgzxnX+2g1FF8cNvY9jLLmGI81n34bPhZdiDOKoirXYCMRGIDYCsRH43xqBWff9y+x0sn9S0gjIUGIWv1C0RnYTWUopadgwBGCoosQ2ApRjJeuw+Yf9Exyp0e4DmBDgL5loUW03+W0MnKnsFQIpwaBj8L7YLxmU2WKgYfmzCEQm5fsIXpvUZ4IN53W+KAH0Gz7XV3MKHw9/x/4iYOSrKAV/J/jjq1lwnOoXOQRWQh8lwxB9zmxi6ZqRGtvuAN4jWECSA/Iee4Zsz10LZlswg3tR4SjcwvoB5VQJgqemUZZ4t8p1hlsQQBn+7Uy+e92XMSfgxjv92ebf39vY/n5BQF6wGgmBLYJRBI8Jygcb8+uDscHjyX0moFSkRVsLupJpRpAtqeZt4CDg1Vf+Suq6lP4Gj8DmwD/MOOAXI6BNaWmykKM11ik6LxUAAZWSqRypoauTbEAWbJDu/bkeCE3ABHsFGwhbKJIf21+Tmr8AG6L1LXgfD9IIHvOf4XNUjeNeBOjC/mh/Xmr+Bqu2Ba8L9iMI8oR3WvljgZLZTirYUpqgFLzGfyYLfcFz/3a5JCeIIUQCYftzvd0VpEX/W7S/0HtKx4uKhVS/oroZgfNiAjmQ1U/1SbZWSapRVYfyr5RuTUqeWeKUZBi+WeISkRprAJpNa/nCswgUeyBOpGcndcz7S6EddIDkYihJ3cvHY8LneBAwySE+IQQe3OiVj9zOuTMSBcHD16fqu3hOa1XeXPDMgwZsIiDrk16i3cfzXXzEgJB8BTuyYoOBcn898aY6T7xspa79sdjff84IpGkg1EpBiEHzl4AWCvNf3TxT9M9BuSD9nJao9GYgMOnP5y/Ii2gO4eB54c+gGHbOmWbl6AxdElIaQUImh4QI35PvXumI9JtHL0T67b91zIQmWSmB90dQp9RQCvfbo2LCx//sd1BU0bJH/+y9o10fVHZhntArhg61y4PjFe16jqPsebRXUucFf8MJTrboAtVDp6Y9teLDjRIAySnA4Wv4nlRAklroQVRcpOv/m8fou81B+gwWQD5TGk2Ld8il0pyJjHHxKBvfFGSHhfsQVF7Dv0X6Hgx28Tvjwj9ainmnyi1GMrTtJkn8h9Ni94/zlA2dVyUcZegEeAeXebRmEreI+FNwvYVPCCIGw7/9t74zZ5RZCRqzSa2v5Pr5V/FO9p2hNNhf1aA7j05Pq2egfGIgQ+e0vyKwmtK+BgPgwWuQ9cxZEMkd/D3q5yi6TNTzQz8wJsYHdZ9Eaz10rv9q2bQALkJr1f8e7S9bAqSXU/HQhnVWaiqSAcbe2tEAStHuy/Foa8VnICZ1bWp++yvo0z+fsfFbObBXkmWkpnKM/b3+zF+M80RbV4g+MssgTyozNtIzI/Fh0Lk1+jxhTq5I18SOxUYgNgKxEYiNwD93BLCXsKHJKowU5Ipoq6bApkmNDwbfApk7fwg4FszASQk4Ez2soLKCyLCivF6wsW89++cRzATQFW5/xtEfvtef+e6dsNHuQYCAzJSUgOX8PQC9tf9uhgV9yX4K24b+PP/3kiVbVMJRmYOyXQgIU4YTIB021o7Z01L1bB8Y9PeO9hdbiSoqlBulKlGkllobONI9/upj0QCKZNMyduFGVjNV0sg4DOtn4cob4WujfacE6fnK3gaES8WmaADX8PV/1RpAjydjCpAkIAdonCBkSgKI7MtHBh9bPYSrzADQZfsPspkj2ViseTK4fNJM+H3/Sd+TW5Nn0lcy4IOZ9/4e0ezV+KBzJmVKf50ooOy3QfH3SM3fnos2m21IkhRViKIFB4P39MGy4LFon4PAgmjn+OPIFwkW44Wpli+iN3z0gMbDgVAf4MfPESlx6q9aW/690uov9mpK5iclzwPc7zMwg+cHqy354waAUvY1WedJBcr9+an5i+7QdshkA1aR9QvgJCWJSDwDnYds1YRyyRHAKWxLU+/p161kc2r6FTv37xmBNA2EsmkvmZPN34+vF35MWQtpgaBKaiiCSEJKb+QSGh3n+j5tYBwuM0jqPkj5cEZCsOxlUs8K/0YGJeUMQcGtVu358PPC56f0e/xmz5Mins6CpdZ8PFLkWFTkfcSL/8aD0ZBGKekC+9klVV43JfeIdI4vbxPpt5Qci+goTOZCMop8JhHvlV2CEkHLRvZB9ChKBChMSrGEW7CcZvi3pL5Tb57SmThxURJTkzGW1H39fo+RzkGBzVOxqimyB2Ro/jcDjZH6R2lmyt6Q5b22fz+3Y870RMjSvwtscKZGTKT34liHUTPdtN7aU1ZotmhZ0sFrg8ECnNSsWTLOUOD8puP+fBCT0GbY+ZEaVJ6/F38xBinVgcJD+ZyVKpnjMxCD56X2M+jk4N7MwetRNKnrj7MDGRDOUg2e+9/8nBr0YrifILX9/ojh3/7Md/aiBJF8pi053hnkk2f6jPB19JlsThwMlAVj33L2Yw0axH9GToWfl9R30PkpWZNJ3SP4G4Y7pbkzSmYkVYo2eI3/zFxU6HWbAbjYt3HeY/f5n+wvWROU/WIPl2ADOY4Bl9qANRnrNQXKwVA4qFJgOFF9Kdfg/c/kczRDCpnHfmM4QgjcesTmmTyDa86Uz6XkeWQ3sH8TTsSsQsNP1/YAzEvYEEuJUyglz4t0Tlpm4gLAgnaCJQItY1zlqdirzAzHSJ2IHYuNQGwEYiMQG4F/7Aiw1+A07VNHicawLRDsNPIEPcE7B1NSkcpfHwRRY08GAyM4ppNrbOtxJvIe+wknK3vEj+vRKtFjfCZMoh+SOeBLJYZPS8pWCZ/7d3xHL/xdQeCgk5vgZrStF5KaU+YNx39a+//qP/+Wm/PAbX/HcKTJMwgSs0ciQDcqd/ktGNLk5qm4SdDWD152pkGNYPZq8H7RPgeBhHymnCwJAZ4/RLvOHz+jtaLgBHu5klFKye5IJW59uWb/nD/7N1ow+8/eNy2uJ9hsmY6iRZKF/PYqaXHv1NwjGk8BPEn53NRWskltNarT5ItoEL8r/MpnASf3LtEqxSV3Xduhk6xcNCWg2Q853NJavqS0qmC4H+HvwbUb/i2135GFrH0ys1NSPjy190/N+dF8P7xvbvmw0zqhp4v24c2iak2x9s8bgTQNhPJ6ozs2MgJPKcrrzw5JUJDjTGVDa/aP+G3vbqt3TqAUJocTEgUZxElalahtM3CcOXu2aJP7gtp3MlIt9miLLan3joiqDFzQccxsbSA8yvZFGNmmTuCXxB95PkEO6qP/Ve1MBQP9IRBCiRO/LxfHmK9ghhTHzrRd8NkwoRvTmwAK75/KhtXrVbc/mlMWpNmR7dtMQPJ8v5cmn6MplvwWbEGhW6n3PXYPapazfwIZ0z4Ij5MZw+JMsuuCzwt+JhBKLXXK54Kg5ZnBhpKe2kwPrg+CD4L34zN7Q1A62UnBWK5NxdcF9mILn8t3MoEoOxkGJ0Q6N9oxy3zVXiPs5Rt23oevodwEeyGUvvhKezbBt/A+n0GHs0e5pTaIHiwfHe5DWn43JYUSpnL2U5c/X9VaErYF3bd1Sif7mGDWDryRPXZQnig3hSMguAcIv3McB0iiJoMjtVlirb4c4XZp3W/UniCFtPfo6i8+NHR38N5nEhAMrrfgvfxneOeWiWNsz5XkeCcBnFIqYZrask3+WSn5e6ZOG+5NcAZlLWhcpyXvpOJBuowZFLiakgiYQulOUI/sdRRuzEEWZTlCL97Q9WV9wuf676xLf64/FgkB640FEHbJ8Up0g7Pz5jdgBlmJW6dOcEtee0bPid9LhecE94T0wcqi2psiNaAR0PRHta9HWgTy/btH++uRyzgR2KeFbNJhzaokGrto13OcLNRq2g+noAAh6VX+B/Daj88/YkhWSi8hz+NO/p5mICtKaJW/7lY3tscF7ryO3c3Q9fvk+n4Gea4/lpK/SfEI9tryQbcRF9RM9nbBMjzhk1Pj+Elt5jk8nHnEeVxR+9mjC7F9QNABGQQSMFYE8+Hf0cr2BftvNC76TC2PDt4jqc/BCiYgu3EoDG9R7XSZfkpG1H3yZVdKe1XFWmwEYiMQG4HYCPxvjQCAspWfvB0RsBt8E7aiAXC46OUnbT9HD6QLgmOC5wc/B8v2VbvnYdubDGf1jLt6nQYeZt/I44d+sX0Mg9d7PS54LCWf6TN76p1/ybWq5DUyzQCFjV750M2858ZEXUCnAEiProz9G80PkejCv/FAUlm2PpsuUnfQvamIlpJS+pGuT3TslP7wd4GUEz3/DA9gozEOBRs0k00xWnstjra9R4O3C5YeDR5Py89WzWXtqjS7Jb5PfIpslZOSSjtBO4utVqAdbIxw1cCKN92prNipiWy7M60QhQ+MfYDZ5xFwxJlUQEvNoFHqk2Bjxuw5jTelJfg1Nf2IdC58kYBwUW1Lgf2w/L1XlPm+4bTs979jfUUDhkTqc0qOdRz3g5t+69UW0EwJAIY9JTcMG2i3ppQp21EhX+Y8eNtpdjRg/d8FXghXMErK/5lUf/E37/9psdnC7GeZVoD1Rq99dNo+w74P2JSZcuY0HwcAlzCw1p+X3N8SHbq5n0cNTe60FP0OyBqemE+VA2f16W02bjDgaOt06cIU3SstTopWYv3P3pskuV+3bT6tIijZ1NBbrP3zRiDNA6FsaMxGzYNqlrC3DTpAO4ye5Ua1b2jHQfhUvfshld3KnVBrHGaEgB3dsbG7ZOk222jdO1pxFlGzm30YsshhxJ4TZBb4ja5hZqW6Xur+0Mb185/oo73X+ijDSRuuy7FPVtqIVrUSRp97sc9W0HGJUk2grI42Swcps2PmZNs4F2Q+yEYczDidcPoQvPOMFEE79+G7EpgljkoWM/viNXvvK9uUGwUXFAR7/wVLnOKoW6YNllG+Cfz5oBQBKjb+BnFJX0m7DmYP8kzKupw8dtRNuLRd/HgqCAz6Lpwyzt6b9Z9908156PbTlNIK199qGT6/BJQjMmZ9MBdnNpm1CExQmNRN3zhi4GnOOR7MnBJ8IriE8cCmwmGkYHj/PJRkyq3hpOY9Ma6C78d9yXhl3jgHhzpzzxz4mv2gmyjDekB7U6DkEbCMVKucscLI8PTIvYOt++xVbkiDco5MquJtuyTQIvN88Y/x+w0MqnVevMNR89D8g/5GA/lr1VewqVRCWUHmnXGCRrxiaw5O9Z/jBNT4jY3lD25Y49pp7tkXlIDZ4Hpl/m8QSM/guuB4UMZkgZQ5gndkAe2cPc0C+8w/NOUb7xkca7+p+YAqhf0pliFDzflje/fYnh6rv/rYHLA4SaFNn+0D8jJv5RpuwhUdrI/7Viy19cK40z/vpA0HMHBMtx38vT3Pb2iNM5o9wQgu+PnzHWJ+aP5cfxwhXvvRF2QEF43fKPvUDwQky/e61U26trs5uSlj0GXKYjegapGE4HnQMctl7PNBhjjKOOuZd4fXIJRxWk+//RorBYTwSlRyR/PB2JARSXbZCm06TtkQgiXUrg8Hem3uxC/IVKKUaNepSw18gQNg8ctP+dezv9A4tIHjmGf4rBzGlLXvwQAe7MF7/SE+QRAE+uAZBLlpfvzYU4O9WjAwfOCbdcM4wTtZd3kqV7e173ln1oJFHMhI9ueY++i9jiAXikq+6nVEs0fd8JY17Bn8x/uFeWflW++T4/4/xjsPa69gNizHmR/mnVzL3ohrvvnU7tdz8Wa36MXHtbfHx/ad98xXrbYFZpq+/YX48Ydut/bJBRGeiHcO+V77RL9nfJox9PQI7+Q7tEwgzZC4jO+pBr2R1cYYfteugR2FPrg+XA4Lha3xax+bIUUlAd/ghfu0joOZp1Xu6KsSQy/YKdAWyv6v4sfIGPZRhlZ8H/192g2famsZhwhGMsqmpx9/DnPpx4dj8FbekfXBeidzL4jg5hzWKDSVOU8+rTeNg8pthnknCiDvAD+hnFCkADdjxVgG+Qf3963HnNVucP2ytkcLYBvkNg36JfOLNqh2yYT+NXnzU5dJfV8/+GtD3tsJ+o+ADgoiRtjYbi39YcfzN40d4Wbde5ONC3MGT/a0zonBYD7fi13YyfgMY8Q7M+aslQL1GrmyV96Y4JBib9YVH795WlCU62nw5Au+GO5++uB1k6fI0BwlSqtvLeJPOPW/nyv2UYTmy1+rvaskBwgszu5762nn8gU+CCocHmvoe80f+1yhs/g5hHY4x8r7n+I9nA9Q5sJvJzin/cgH1ihu98boRv7COwZUL5agz3APykzx3r48P/SSToAg2vk9r3FZFLyFP+WRccy+G9AV6+zbuufbOfzH+Bmv0fN9a/SqjK67b3BV73rInrtt+veinQ3qs2SR9pGEh8AfeHaNPo+7hVrfNPh/+et6215edkD/nVunge27BMCITBPWE1mccRoPguLQHq3Fx4PsMzwNPcOXFWIM2Z/Dr6sw0rjbzBVWFot58jTDOLDet8+YFC/T7Qnx/0FvyGjkfbBBY8hVeP4h6Sp+biltjt6J3oQ8gn8xFxcv2GjP80Fr7uVpxd8XvXS/ZBLyDXAewXlotvbjL7nZ9/c2na/yzfe4JSpbFmweHIDMgz6Rp6y9hS89Hr8Hzima8ddAmwA/cCjDE34epT3a33nZ/2x/GUfKI0Nn3knh5Tp0EaQBPjMvnMu+Veg19H+YyuTRGEOAbd9f09W+B/9jTc1//H7XbkTi8m/B82KfYyMQG4HYCMRG4J83AscEqMFPslp7j/tqP8hH7HP/nV4j19oMmqDytfKZSCfKpH0nCVoOqV8u2ZdCDnpfCCAqbBwq+KBjTb35cvuOHAOMnE46SlpllnQcO8ctfeslA/gBqkdPDTZkeM5SZRKVPAyeE+lzUiCvzsoSAUjP3pbDmlaJdHnCMUDT6C9rvu6XcCwtP6QESBzteZGqeKE/ehs22nWJjof0F35v3X+M6XH4iWaoWkawNXjpXbfq03ejbm0V8Z0iPCN4z+Q+B/W65M5Ff4L2qfJWXfow+vuQhuVPu4w5ZV3RPNATeyWllV6w93hOSgKSpz04lV94BvoxjexpX5UuOUAx5wdpAVop1rq9rj9H87bIzZPPAVAm/oqcJUtLv4xLZItzD/yg6NepaZRwHt2pqflWsLO9T8Tfw/tc/Pe0+Ituvv7bLwWivtINb14tyVuyPRW2/189d3SCOYC3ZhVvrv2I/M6yt7AvzP90qpfB0tL4P7Yo4cb/TfJFAj+mNkMzcGmKP/IuNPgL2/aQiYvPGl9qci0oXxj/EgLnEo9IJF8EOLXM2Q3rkrtlin7v8N1M8znsVnU+bN+w7xDbLleZCqmuVJasfBG4mZiFt9GidRb7lmxcb1/784L8yR8L//XV7ZKjFeYIPwjPqnzb/Zq/P9zQRhVOu10Q9MsP3hZNbVIZ/gDsVfy9f1cLygZ4D34REhWm9r7CnVu7gdHq39WX2HNSPgJpGghln81DCvLgKEJ5RVlt9dVIpYF3SugRZTVxjqE8d5m0yI6zKTv/DC2gDaGn336tw2lKI8i4f8UyW8iUNjyohYqj73c53TYM/cbVf/4dMY/y7vDWTRKi5ysoN8Wc8gQScEyR5YSzMb6+/n5DJ6LMEkzapX0U0slJnCFbNisxd5bOazdsiin0LNiD69eY0nts7257JggalAGcxvTh3DoNXePXP7F9GLdMGmvGAPX8cT4uee1Zt3bg5+ZorqTAQh4FlfYunu+26jyYDf2r98wbtj8pjujjBw8oyPKWO7Jzm6ulYAbPJLjAvejXpjHDzEGKs7LVlyNtbGaDqDiw394bRkfggiAwz6XBcEBz1Ho43plGOj5BWYQ/Gbs4sI7u2umyCp3F2GbMlkNZWrNMoFT6192WvbhUgVrqwRNMzVqgsAXGcHjSDwKQLT4ZbBm2GAmkfU/TgkfB2btkgfSWdC6zAgIl2nfTvg6rFHwZb3XlEQKgwqjrP7xldY3FYTlx452tCDiMqur3PWaICuYP9AwOR2r9z7izlzu3biP1t5SNUdXbH3AE/Gjz5GTbOlnzoPGCIWUvWsI1ffcr25ts+QevmdMQY4xStWWF9tmj+eCd2C+k69QlRiMbVP6T4ALB/DKXXmv3pVzOlomjXA7RF/PrGzQFwoxgEaUGcWCj2BGk5zgKauPXPjE6ZLxwkKPw4sBkvLLLkY1TeucPKs8qWmT8QWASmGLD5TjVqc+gAFYGFF0FwXKWKmuBmf0K/mbXePAXoYXjGYZPrX+eTaCVdyfbssL1t7mRrWtbUCqvsgUJLnL+dO0ZShYTjkxQeDiuoZsDq5YbTYDAw9nNmmb/Fkql7tIm5swHgcAftC55PwIYZK/YBvTSUwlcN3sv3oCccuMlRic4iqHTTAr8Tbquhx8+u2+bgePt+8QrO5nzni95q9R0lW6+2+4FL6CEKQoJArHNgHF2/qTrugvs0NflKlvR+kEp5TXf9LMgH471jQo8oVxmEAChzOWUGvzNyrESoFv9xQcunxSfs+VUB7VzRE54lOS8ChCu6f+ZeMNUU7BQGDlOBjnBisLaaxVUz665M90qZTCyljHGizRvY+uXspug7VC2BbOQst/Rxn+ZMmPZ+4N3MBpZttgU+pb9BhsvOLJ9i8Z9hfjBa26+5rDijXdorUxwK/u9a7QFL4XvALBgzjLnymPBHmig9mMv2r0AmAAEIGhAQIk277F7ZdQvtgx5DEL4GXSE8siarqc1nVtrkDFg/QNooK8nFESEdxI4gm7h42waD00RONs1f7ZtaG+8U3wQXgg9wzsJYhB4Yz/AA6t/soAov68Q/UDPKAW8S/5aDYzHwyc3jhxk11S94wEppT2Mngj+wc+hTfjavmULlQU/WuO1ytYx+/2STQlQgwAvAJxfNY7wlROHDlnmHyVI4PUrZSgz7tBCK22KTqO8EvwvR4mSWic9bWwXKKt4jRw8NIw8gBF1FJigTbq2m4FbMBSYB9ax0U1+8U4Zb6Dfd82bac+gz0VbdXDLVYp1ndYUewMQeIL/et5Jv8i4pP8aGFtT7EvAOj64bo3RD0GfEiqZeejndW7rlAkGdCGIQwY0pTtGXFBDziUFzEO8k3FEphCwhW8RfIRmcCKwVwaZrvD9Krf1sefyfmwUz37WnndmK1zcNXv/a6O/eU/2EU0cFJ8+aGPAfXf/OEcBw1LGuwj285y1Az43hDDGBYEjGrSD7MqucwmM+Tb5+ou1j9Aed47WL+9U5rLrrITR1inx/ABeD1CIxrhROjSDaJJsMhC+jBlIQjJ29yycawAT5rew1j48k+AQgeB1MkjhkfBCaM/GWwY1AWYASJSFZcwxQpDnB1Yut7WeXTwO+UxDpq5T5QDWAvwynUoLUWoc5xXPZt2Vufx6kxfQLXwS8A7gJ/g6zgPKm1e+5T5DJQOGqaDxQSYiuxiHxa8+bTyU+7N+oDHWFGCZQ1q3AAJwPhCsX9nvHdvTh0zUzt//aH2EPzMHzB9jD5/Yv3yx0QlBfOQARgqACN6Xfi3XmjkqOjlLzyneppMBi6g0wR5MZClAo6xdeILMaBt/ZBS6GzQAeII9jjEsGTd0MPoMr134wqMmo47u2Wk8GvAKvHGEZBFroJieBx3v1Fih49Hv0j2v0j0vt3W55quPzMEJ3yl31U2uZLdLLXAI3ZO9CgAK+YSTaarWDVUWoGfW8HHJGqpAEHwtqbXNGE+5oaetg1oPPWs8BJ6ODPMNRwwgJxqyiEZw+pxyFQwQBDrYjzv8BoBFy8+GGriGc7+/qos7/9JrDNhVsktP470FG7Uw1Dz9P7BmhdGr8VXdCxlcsGFzo8m1Az8TPd5oVUwOCWGPcxcZtuLjt0xnIKh9bt3GWv8yrEQPmbSWAWigIyLzWbegveH7B6QrEzRn7yeADmUu62VyD911m3gI8wmKH8AcqHz0E2gB47xm3yeVwfOE5M+dpgsQjGZvJegs53nnW8l1dB2yeXF0A7qh9a9cyNYjQVD7rioU4UaWcUvpit+1q++6TlsW/jn2PTYCsRGIjUBsBP7hIwAIhgo+cx68Xbbki9Ip2psM9s50A1JJtvkGcBUb3DfAZOgMNOxH7H3APAQeAY/TyLhBR8C5iq2CfQLoHd2d4zkki9jHEh2Qhu5meofktW9k38x95G7HX+TktmkTTdbyLOQ3tgs+GPqAzepBkMgwD5riXjiZkZlsF1LjgScd/gEAyDTsS//eBOTwqUy5sadsilL2LowV9iN2nweoh4MEPI/+IWtHd4q328ieRU8NgtR5HiD90gqujOnc1OxGjiHDsdOCINsqcjCvko37x4mT1j9sO0CpvkwtAFjsoWBllKbvfGH2TLZCRc2HturzDyzwZMC2U4C0IMiaZwOaQjdAX8V/gD8i2NAz+Z1n4UwHvM93v48jdmAh2dToy+cIVIZ+DQgRHdoDvrif1yuocuTH255zKjCGDkzFD3wb+KS+vzoehIWO0mnCfOvXuItaG73gZO8+a5XpkuMubpPQXegQnwd+nGP79yRkWLX+epSNBwFy3yi3is6Dfw3ALe/hA4ScAxgT3wA+K7ZiwS+AfosvrrCqH826/2bRq8B1197slr4p+z3QPJgPWmOs1quiFrZ7XgGEE8ppnnpvfxk+gOMCfObUuwNgptIS4NFwAwiOXshcMTYAdTmGT8wDMf074f8EfGwAB+mc+Crwu7FmfLDJzwt2qPl/9EDGV8arjQv6N+PA+GRXyVOqkuELZA4JApEE0/DVD23e0eOHNqmU0GXWM4FP+uobvheA6PiQD6xeqTU2U2tnj/lr8Qf7NR2uFhRe09AI98Vuw9+wSX687KI79GwAmYD8aC0/HWLrBhsRe9SXbGX90Hhn6DSTeIgHbnCc52Gbbho73BJh8Lnw3vibw4BjP4ZBnsM98ANiq+D7xfdAA7yMT8Tv58oY1X/uLQO9++ARa47mQaTQNNs/kTyUOVdes9E8v4VvkCDDGq9650NW9Sn4HnYj/UcGZalul8sm+MzGCTt5cq+L4n8O0CL98cBQsoW7TF5s62z+U30TvTdjyNoBgImvBX+t7fksnu4rQ/kAGL9hL9Gg0+r3P6a109ve0YO0WefQ9PiebRJAEQnyRTQL8BSAJs3LF+wvaOyofO5bvh8bL19ku7KOhokW/RhGki/1nn7N7Ed4MvYm1abwL4TlC+sIwKzPxgzTIvIA3xE+Tuzh+O2nDqpb6cyG9/zOJ6ZMvuEiA2XjSzb5ovXLuCclX5jT4/JHjOrQyN4fUAY8OLxHNr4zEsKCtMi9LVgsH+SEy9rb9fwHODyY7R9+L+xcz1OQ42R5M5/MkfnOtHaQCfhmCf7CE5EjJLCxxk8DBgRojHgL8nvjiEEuf426Nq/4rcMAB3wUrHHm6ciu7fLXzFOs6C298wqz47dN+z7hXfiAX4+1A+0ZIFh9Oyt9OqNP1q/5kqUHIMtJRgH0BX0hVz2PJJkKHw/6gSU36Tx4H8BoGnEFfKix9s8bgf8DAAD//8ymcbEAAEAASURBVOydB5wVNdfGD713kN6bVAGlIx1RlKpiRV5RwIKIYsXPjmIB6WIBRbAiIiAgSpMmIL333nvvZb480Vlvm5ncu/cuu/iE3zIzSSY5+SeTmZuTkySzlJMouSOrV0ja7Dlk/YhPZfNP38ql06d0yje9/oEsevOFuFxy17hZKr/whiRLkVKylCit/c8dOaTuzanPL5w4LqkzZ9Hnl8+fl3MH90v6fAUkWfLk2u/iqZOCv8vnz0nKdOkl3XV55PzRI5ImW3ad5wUVduXCeTm1Y6vkqd3g7zRPHpcrKq3UmbNK8tSp5cze3YI8kyVLpq7TyJ5ZU6Vgk9slY8EiOn6o/05s2SgXT54QUXIkT5VKMuQvKKkzZRH4W1euqPKkkMxFS8TdenTdKkmbLYeky51X+237ZbQUatpCzh09rOVLkSatlt2+4dLZMzp9lAfuzP69kv6fe3FuXbwoyVS+tt+lM6fl8rlzutznDh+UtDmvkyuXLsqaz/orvxySs9JNkrVUWS2Xnd6p7VskddbskjpLVrEuXZKLqo5SZcwkabJmU3xTqDz3SArFI33e/FoG/Hd80/q4ekKZrMtXVPlT6vpCnr4O9YB6v3zxgiRT/1KmV/WjyrDxuy/luqq1dL2BXfo8+SRtjlw6bdQV+GmXLLmSN7ns+3OmlOnwpG/S+vzomhWSoUBhuXD8qKq75Oq8kPY/tGyRZC9/g6qLTZJc1QPySKXqGuWCu3zurGov5+WyyuvMnl1ySV2jriErHoGspcroeOCI9udbjwi4cPyYZqYj+fx39sA+xfySZFDtE866fFnOK9lQN+CLsqON/h12SaVzXC6eOaVZX1b1nbl4KR12VrVxcEe9wOFZUqlJ8pQp5ejaVZKrSjXdTsHNunxJPzs6os9/h1cuFUE7VPfg+bHbMton2kX6PPk1m5QZMsrpXTuUHKcla8nrRYHUqWxRz2z+Rrf9zUTlkbFQUZ/URT8v9jOK9pgiVWpJo553sMHzCJcyfQbdHnGO5yt5ylRaFrst7/h1nJzctkmyl6skmdWzb3NDOGSHAzP7WT+1c5t6VlRbUm0zeZo0Oj7aCuopXa7cOr7937ENa9TzlFfXOerlwKJ5kvOGm/RzasfB8fCKJZKjYhVfL7/zU7u2K/SWei4ySyrF6sKJY7p9oiwoL9ihjtGm0mbPJZmKFtfPIeLh2T2zb4++336GTu/eqcuDNrnuyyFS8JY7VPJX1PNZVbc11NX5I4d12uhfUmXKrOVBG7BUvaFfS5+3gG7TtqCIf/H0ybg6Prl1s+xfOFdKtH3IjiJXVH9xVnFNkyNnXBtEe7+g8tB9Z9p0mvX5Y0c1Mx32T995UvUTees01GlBJjwv6DtTqDpAXZ07dODvvlO1gd0zfpNCt7WMkyVOAJ8TyAc+cX1nPtV3qnLH9Z2qT81crGTcHehn0IfZfd2OX8dKgca3K06H9DOMPtsOw02oCzy3ofpOMAAL374T8S+dOaOft/PHjui+CO1q9ScfKRbZJWflqpJFPRuoczg8nye3blJ9ZzZ1Tzb9nKPNo32gftA+zx7Yq5499V74py/AfU59J8oW2H5RD5dUmnbfmUL1nSjj5tFfS67K1XS96b5T+aHfRdph9Z1rVyrZCup3DNqf3T8cWbVMspWpIMc3b9D9w9/9h+o7Vbng8I5Bv4k2g7Z8UXEGG5Tfr+9UdYO+wKTvxPOL9x3eAXb/iOcG/SYc3tEZVT8PZ/cd+kL9h/4P+Z7dt1f3/7hn7bBBUrT1vZIqvaoP9Yz6OXzi/NPH+fmrC/QvCEP9od7QrpE2+h/IBndUccO7I4WSKUvJMvp9iu8HvP9RXryL7L7ytHq3wKHfRnsEMzw/+M7R6am8LqhvEXw3+DrU5cVT6tlXfQ76eLyTbYe8z+zdJZmKFNdeaMs7p0yQbKXLxb0/EACZ8HzZzwX6TbufQtuGvHZ7RpoXlRxgB754N8OB7TnVt6BOIAPuw/sHDu/83dMnS+Hb2wjeIXgXOL6LVB8Lh2+8tDlz/S2T4npCPUN4X4KH3cejD8C7HP2o7fbPmyVZ1DsZbURVSFxb1eHq+qyqJ/v52Tb+R8nf8FYtL9rV5bNndR2hf4GccHgXpVTfW7i2vzXXf/WJliXXjdUlU6Fice1Gv4vUPfjeguwpVD+p01BpXzxxQjG5rNOPe7dDHtU/2H2Pjqz+O75xnX5O0Ncs7/uOlG7X6e93kU9bPLltc1y92vfhCO6n9+zU/UxG9Y1z4aT6plXfVMc3rpU8teprLvjWuXzujH6vo25RdtSJbi/qOy5T4WI6Sf3++eebCGXG/eg/7G9v+3vbfvegfaG94fnGN4Pv86Tbu+rH7b7j8PLFclJ9ZxdpfpfOa3aX9vp9oC98/gPjg4sX6H6mVLuOUrRlW59QnpIACZAACSQFAhu+GSZbx3yn+vLyUq1nPy0yvqPwTlgx4D31G+dj/ZsNAWU7PS0Vn345rlj4fbzwzef1u7F0+8f0dwbeafjWtMeMbh70lX63472L32r4plr35WD1/ZFasqpvnqIt7pb982fLwSV/qd82OdRv2DL6m3xJr//T33L4Jk+tfkPhN0KjEWP1b1L9XaC+Y/Gdhd8QSHvFgF76NzfeX2nUNz1++9706nsy8baa+nsX7/cavQbq9+jsp/4nh5YtlMK3tZIyj3TR7/+tY3/Q34an1XcXxrQqdn1J8BsUYy4Ygzm09C8p/+Tz+vfcrMcekNw168r1Dz8ui3v20N+MKdKmlYbDf9bveHDD7wt88+Bb7Lqbasrid3rIph++0uzwTVju8Wel+F0P6m+ucQ2r6G/V6zs8Icc3rNPfsfimz6LGE7KVrai/E5KnTqu/aTGOgu+T+S930d+XlV98U1b07yUH/vpTf9Piu7LxNxP0dxG+9fEdPO+FJ/T3B34TYuwgXa48UkS9s49vWCs7Jo9Vv3H3SgE1XnbD0z30d9u4BpX0WBK+B3PecKMcWbNS/75rMHSU/s0APisHfSCFm7WWDV8PlX3zZ+l6xG/Hsp2fkQKKPdyOyeNlpWKRLGUKPX6E3731Pv1Wh6F+8RvpgvrbO2e6VOjyvOxV40Sp0mdQ9bpOWkxbKpt/HCm7pk7S34e1P/o87hsI9YE4hW5tqb8VkeCMR+7W39z4vZe7+s0ClgeXLJBlH7yh8jmi28htP8/QbQrfNZmLldBtqkKXF2TpB6/rMRlwRDtGu9qnZML4R756TVR7ziGF77hT892i2glkRN2e3b9P1cU+/bsTYyBbxnwre9XY4xX1XGS7vpzKM70an1Lffer7r2ire9Tv6layfuRnsm3cj7qt5W/QVLJXqCSH1XhXVvWbDc/TnplTpPzj3XX72jt7mmIzQ4+ZQpZ96jlBHeZRba+84nVU1QvGyso/0V3wmzpv3SZyTP3WXtb7Tf29V0jVTzr1bYixNLQZfE9i3DJPnQb6+xXcRlctrn833Lt6Hy51m1/1cR+dZ5lHn9Lt8+i6NeqbP4/+7YpxgxrvD9a/zdDm8VzsU9/3u6dN1mMaRdTznFWVfdfUX3UdZcxfSH83H1NtbfvEMfpZwzONcRH8/m3645S48V78njihfrfi2xXP9KK3X9R1jucwvRoLKnxHG/0M4pnGGEb28pUE7R9sZj/RTpexxD3tBX8YC908aoSuy7OH9kvxOx+Q4ne309eZihTTzwza/w3dX1OltmTpe6/qusZ39Nphg/W4XqoMmaTBsB81l3kvPqn6wXOqb6irfvvlVGNON8rsLg/9M7Yneszx1jHTdftCW8TvCuvSZbmuWi0BR/wGm/nY/Wq8bLP+Pdzg81F6vGZxz5eUrKclu3rO8S2N5wrlWvh697g62jruB9X20qq23lSXNU/t+rpfwu/GQ0sXqbbVVs4fPvT3WJX6PVKk+Z26TtCe4VDvqBO0a4xjXlettu73dk2dqMZyh+v+N0eFypKvwS2CsSK4bNeX1+20bOduum/KdVMNzRO/U8Ab4wxoU/itcvPA4XJ03WrdFiAbfuujX8Zvw6XvvaZ/U2CcDL/hclaprmXA7/QDf83Vv33q9P9C90u/tWmkxy3u+kvlgd966rcY3i/H1q+R0g911vniuce46hb1zsLv3ZsHfKl/q6G9HFm9XI/nrf1ikP5tjN/3xdQ4wn6Vz8FF8+PeL+gjFr/7StD7pY5KC/2lHmNSz+IJxQvvGqS9cuD7qu0ml1NqvBDPQAH1GxW6kLj3ixq/rNn7E132Od0eUfnN0+NoZR7tqscPto4bpZ7XFfr9h3fCDc+8Evd+WTt0oPo9NV/KPfGcZjTr8Qf/bjfq3YT3BvpIjJc2+mqsfhfjnYyyYrwZv/+uU3WD8mz89gtdd+nUs1quUzcpce//5I9H22rG4Jn35oa6Ta0e0ke2jR+ty4/xxMYjx8vCN57XzyPG2PGeQzvc9fsE/dsSfRf6mQN/zdF9Wn7VTlKo9py93A36OwFjD9sm/KT6/Wb6vY6xM4y9IM/8qv/EmMMS9XyBH/rCAo2b6Tq9pNo9XIl7HtL9ON7B6J/wPZCxUBH9fsH76sDCefo3KfhhXLzcY8/qZzFT4eK6TzmmvjnQJjHmdEy1Qzg8t/h9i7FjsCpxb3s13plW1d92/TysG/6J7s9xD555/N7PUuJ6rTNB+4AOCb+l63/2vX7n7fztF1nW5y2dtt1X6gv+l+gIJFODfmqUMHpuk3qR4KW7ot+7svuP3/UgKlJHIz21Y5vOqGK3HlK2Y1d9zv9IgARIgARIgARIgARIgASSLoHvy/09ic+3BBi8w4AnXMFbbpfafYf5BvOcBEiABEggiRDAYLKe+KoGpu3JSLboGLQ8tX2rGpxWk/TUxJ2CtzTXigw7HEco2zCJ055oBj8oa6CowKB7KkxgUoOmcEgP+WEyESZ5YRKePSEMg5aYMGfHtQfkk6vJV9sm/iTF2tyvBzAxQT2Uw8Qx5IkJ21CwpFUD03qipxrohIIJShsotDBhC5PXkF/63Pl0XKSHyd1Qymq5VfzAiVD2BCPEhUIHEzmRPtIBG0y+sycZYfIRyojJZ/o+NXCPCU0bvv5cDbQX1BN3oUCwHSbj6smsKn5KNehuTxhLmTGj5qEnL6pJeLb8uE9PXlVsoHSGQkRPkldlw4Cwb10gLpgjTcgFBQQmaeO+NZ8P0IPNyBvsMdEfg9eQ54pSgkIRgYmiGOhG+aDwhPJWOww1qrRQLig90ihli+8Ev78jqQl94K/qHfWGstmTwyELuOEIZQOUYJiwiolvcDYf8IV8gfWBMqGstsOkfShuoWCPywOTB5Whgs5fsYEyHA6T7TABUE/eU2XAYDsmFdqTNHG9efQ3WqELme3JzLjXabIgwsALk/pw1Io+VT9oT7jGZEqwRTvV9anKnj5vPj2JEm1ET5ZU8VCvtpy6bakygT2UCHrCtFISwnggDSbZK9njOKh7cQ0HoxEoY6GwxeQ/TGC0nU5Tlc9uI3jOMAEOCkzbQRGJybJ2HMiPPgL1gGcJ7RDtBQ6s0LZQbyhbDqU4t/0vnjql2y+eE6RpG6tggjEUt8gzsM/RN//zn544r/oQGLhAiYEJBCijblMoX+bMegI/FFXghrZotxskAUV8ntr1tNEMhsZ980I9Qj67rdjGN7jPbkvgZk8gBme0I9STHReKQLQlPHswvrDrDeFghn94pux6gVIG/ND3QdkCLlB8QzFp93u4D/HxDNqGIWiXtpGPbQwCOeHstvv3lf//kA8OzzvkhnIY6aPdo31CHpQL9Yq6xoRK3feoeyAPwu3nDhNx0W/qtqgmNuxWim5MoMZzb08WR7tGP+vrUFd4H+BZRbvxDUfeaFd2HignlKP2REyk4/l+UeWw+wG/94tiiOfKnsiNdu/1fsEEGrtd+5YB57ocqp07vl9UXdqGRGjrmLQM5b2dHpSUmDBq8n6BgQl+Z4GVfl4D3y/qmcPzhv4E/KBgRj8KozXUBZT09nOAySZ2n2W3HaRp1zPkg6IcE06g60Gavg51Yr8v8Hztnv6r5FITe9DP2unZbXbf3Blxxmq+adjnaI9ox/azCNnxPOA9gDrEH/KDUdFl1d4wAUo/U6rN2gYOeK9CfvtZwzXa9d99ZApZNfhDPRECMkFRDJnxnMX1k7Yw6oj2DIM63I/J7Pb7246Cdqvb5z/vDfjvXzBHv8fsfs6Oy2PiIRB1Reje2dN1R4sZCJgBHsqhE2s5Y1moIPqRAAmQAAmQAAmQAAmQAAkkEQIY4Jn/8lN+0mImL34wwzUaOU5yVKiir7GCAB0JkAAJkAAJkAAJkAAJkAAJkAAJkAAJJCSBmChCMxUuKr+2qq8163ZhMKOk8bcTZcq9t6nlBh6Uqm/0toN4JAESIAESIAESIAESIAESSIIEsPwvlj0LNQESy7nlrdNIzXC+Wy+fWOvDT5JgCSkyCZAACZAACZAACZAACZAACZAACZBAUiYQdUXoTrVG9NxnHg3JpO3ynTKunlrX/KFOUk7tC0BHAiRAAiRAAiRAAiRAAiSQtAlgD6TdM34PKgT2y678/Bsy99mOaom51lLzgyFBcehBAiRAAiRAAiRAAiRAAiRAAiRAAiRAArEkEHVFKITFGtM/1y4TJPftk/7U6z0fwvryze8KCqcHCZAACZAACZAACZAACZBA0iIwrv4NcXte+UqeuXhJObF5o5Ro+5Cc3L5ZGnzxk28wz0mABEiABEiABEiABEiABEiABEiABEgg5gSirgjFBrwrB74n64Z/8vcmzwFFuHf1vgAfXpIACZAACZAACZAACZAACSRVAjM63KUUnVvkzL49IYuQIk0aKdDkDqn5/uCQ4fQkARIgARIgARIgARIgARIgARIgARIggVgRiKoidPf0yZIudz6Z9cSDkjxlCjUYsjek3FSGhsRCTxIgARIgARIgARIgARJIUgSOrF4ue+dMl5UD3g8pd+Hb26j9Q+dL428nSvrceUPGoScJkAAJkAAJkAAJkAAJkAAJkAAJkAAJxIpAVBWhtpBXLl2UBT26Sol7/yfT2rW0veOOBW+5XWr3HRZ3zRMSIAESIAESIAESIAESIIGkR2Dd8CGy7MM3HQWv/k5/KdrqHsdwBpAACZAACZAACZAACZAACZAACZAACZBALAlEXRF6YstG2Tr2e7l09qxs/PYLSZE2rVw+d86vDNnL3yC3/PCbnx8vSIAESIAESIAE/iVw4MABOXjw4L8eAWdp1fu1ePHiAb68JAESSIwEjh8/Lrt27XIULY1aOrZEiRKO4Yk5YNFbL0q2MuVl4RvPB4mZLEUKqd6znxxeuVRufOXdoHB6kAAJkAAJkAAJkAAJkAAJkAAJkAAJkECsCURdEQqB5zzdQS2Nm1J2TB7vL3+yZCKWJZkKF5PbJ/3pH8YrEiABEiABEiABTeDy5ctSsWJFWbNmjSOR5557Tj788EPHcAaQAAkkHgI7d+6UokWLCp7tUC558uSycuVKKVu2bKjgRO234JWnpXCzVvJHp/u0nMlTpZIrFy/q82Tq90C+mxtJ7up1pFS7jom6HBSOBEiABEiABEiABEiABEiABEiABEjg2iQQVUXohePHZO6zHWX//NlS7vHusnpIHz9qydQgT+mHOkuOilWkYNPmfmEmF/v27ZN58+bJxo0b/f6OHj0q6dOn139Zs2aVbNmyyfvvvy81atQwSZZxSCBiAosXL5aaNWt63t+wYUOZPHmyZzxGIAESIAEQGDp0qHTs6Kw0SKUUDVu2bJECBQoQ2H+cwEWlcJo7d65+x6xYsUL279+v//BthO+h6667TnLnzq0VbE2bNpW6desKrInpEp7A3XffLaNHj3bMuHXr1jJmzBjH8MQacHrXDsE+ocv79pTbxv4h09q3kiOrlmtxc1auKg2/HCPYNiNluvSJtQiUiwRIgARIgARIgARIgARIgARIgARI4BomEFVFKCxA/3q1mxRo1EyOrlkhp3bvCFoWt2zHrlKxW4+wkF66dEn69+8vb7zxhpw6dcro3rFjx0rLlsH7kxrdzEgkYEhg0aJFUrVqVc/YjRo1kqlTp3rGYwQSIAESOHPmjF4ic+/evY4w2rVrJyNGjHAMDzdgzpw5cvPNNzveduONNwr6Ozp/Ap999pl07tzZ39PnKtr15JO0VoS//vrrMm7cODl58qRvkOt5unTppFmzZvLmm29KuXLlXOP+1wOfffZZ6du3ryOGd955R3r0MP+m9XrOkNGCBQukWrVqjnkm1oBj61fL2mGDpPq7A2R2l/ayd/Z0vQJM+rz5Jd11eaRGr4GJVXTKRQIkQAIkQAIkQAIkQAIkQAIkQAIkcI0TiKoidOdvv8jSD9+QM3t3q72CKsjRtSv98GGprAz5CuplcbGXaOZiJf3CQ11g0OiJJ57Qy4WFCnfyoyLUiQz9o0mAitBo0mRaJEACIPD222/La6+95gpj+fLleulc10hhBHrlSUVoaJj33XeffP/996EDlW8sFKFHjhyRnj17yuDBg+XChQuOeXsFpFB7Nz788MPy1ltvSd68eb2i/yfDK1euLMuWLXMse7iKUCRUpUoVWbp0qWOaSXXi1Lbxo+SCUsiXur+DzHzsftk7Z4YuY53+w6RA49sdy8sAEiABEiABEiABEiABEiABEiABEiABEog1gagqQi+eOqkHPw4tXegod66bashNr74vWUqUdoxjB0yYMEFatGihthW1bC/jIxWhxqgYMR4EqAiNBzzeSgIkEETgwIED2hrUzcLvlltukd9++y3o3vh4wBoUE4+cHBWhwWSwJG3BggX1MrTBoX/7RFsRunnzZmncuLFs27bNKcuw/XPlyqXbE5R+dP8SwBLD+fLlkytXrvzrGXAWiSJ0+PDhWgEdkJTfJVaQgEI0qTgse7t9whg5f+yIXDp9SlZ9/PfWGAVvuV0qPPWSqA95yVy8VFIpDuUkARIgARIgARIgARIgARIgARIgARK4xghEVRF6aNlCSZM1u5w7ckimtXNYljZZMkmfO4+0mOY8Gx6MMQiMJdt27twZEXIqQiPCxpvCJEBFaJjAGJ0ESMCVwJNPPikff/yxa5wpU6ZoZZhrpDACZ8+erfeNdLuFitBgOp9++qk89thjwQE+PtFUhK5Zs0aaNGkie/bs8ckhOqdZsmSRiRMnSu3ataOT4DWQyjPPPCP9+vVzLUkkitDz589rBfrBgwcd08bSuFgiN6m4vXOmy8zO90uT7ybJlPuaxYmdo2IVqf3R5yL49s+TL86fJyRAAiRAAiRAAiRAAiRAAiRAAiRAAiSQkASiqgiF4H9276SXw8pbt5HsmDQ2ZFkaDPtRctdw3osMN3Xp0kUv+xYyAQNPKkINIDFKvAlQERpvhEyABEjgHwIbNmzQE4CwL7aTq1Spkuuymk73Ofkjr3r16smff/7pFEX7UxHqj+f48eO6rnbv3u0fEHAVLUUoLEFr1Kghhw4dCsghepfp06eXadOm6Xyil2rSTAm8MRkPSks3F4kiFOm9+uqrenljt7THjBkjrVu3douSaMJWDf5Qdk2dJBkKFJY9M6eIdfmyli2lalO3jPpdMhctIbAaPbx8seS6sUaikZuCkAAJkAAJkAAJkAAJkAAJkAAJkAAJ/DcIRF0ROqfbI3J69w4p/8RzMveZR+WKWjrO12Hv0DN7d0nruWt9vf3OlyxZIjfddFNES+LaCVERapPgMZYEqAiNJV2mTQL/LQKPPvqoDBs2zLXQCO/QoYNrHNPAc+fOyT333CPjx4/3vIWK0H8RwZKvadOmRgrpaChCsT0AlkmdMePvPRf/lST6Z6VLlxbsP5smTZroJ55EUly3bp22vN21a5enxJEqQmHVi2WV3ZbdTUrP3OJ3esiR1cslb50Gsuaz/n7f/veu3ifLP3pbbnj2VU+ejEACJEACJEACJEACJEACJEACJEACJEACsSAQdUXo0vdfk+zlK8nZg/tl/fBP9NFX8MxFi0vdId9IxoJFfL39zvv06SPPPfecn5/TRfbs2aVhw4ZSpEgRuaxmoMNKA3+4H9YTdCQQSwJUhMaSLtMmgf8OgQsXLkju3Lnl2LFjjoVOnjy57Nu3T7CnY3wdlp9v2bKlsXItKSll4svG7X4s14/ladevX+8WLS4sGopQKL+hJE8o9/LLL8u7776bUNklqnwwEQ9KblPL20gVoSh0zZo1Zf78+a7lX7FihVSoUME1ztUOPL17p+z78w85e2CfZMhXUBb8X7c4kaq89LasGtJbKj33hmz9+Xup+mZvyVysZFw4T0iABEiABEiABEiABEiABEiABEiABEggIQhEXRG6dewPUrRlW7ly+ZJeAmvaQ630Mrj758/W5cFs8covvuU6EAJrly+//NKz/FB0/vLLL5IzZ07PuIxAArEgcPr0acG+bV4uc+bMAksbOhIgARIIRWDcuHHSqlWrUEFxfrVq1ZK5c+fGXUd6snXrVm0JunDhQuMkqAgVwcSXO++8U3bs2GHMLb6KUCi+y5Qp46og9xUGSvKOHTsKllDOkyeP7N+/X1t4Dh06VCvRfeM6nadMmVLQNpDGf8XB6nbSpEly//33y4kTJ4yLHR9F6Ntvvy2vvfaaa17du3eX3r17u8ZJLIFbx42SBT26SrMJc2TSHXXixCraqq1U6v66jG9cRe8hmrV0ubgwnpAACZAACZAACZAACZAACZAACZAACZBAQhCIuiLUFvrUzm2SMn0G+bVFXTl/7KjkqFhFDq9YInlq1ZOa738sabLnsKMGHatVq6YH4YICAjxmzZolN9/svtdowC28JAESIAESIIFER+Dee++VH374wVWuXr16yUsvveQaxykQFqCjR4+Wr776SvDuhOInHPdfVYQeOHBAvvnmG80NS8aG6+KrCH3llVeMrTNhqQqFerp06YLEhMXxfffdJ9h30sTdfffdMmrUKJOoSTrOli1bZOTIkTJixAjBebguPopQWJ/iuXJzUGZjid4UKVK4RUsUYd+Xy6PlaDRynExr11Kf3zF5vix68wXJVu4GyV62ov4tkD5v/kQhL4UgARIgARIgARIgARIgARIgARIgARL47xCIuiJ0zecDtEXo+q8+laNrV8rZQ/vlxOaNcUTz1K4vNXoNlLQ5Qi/th8HZTJkyCSzt3FyyZMkE+5ulTp3aLRrDSIAESIAESCBRE8D77rrrrpMzZ864yrlq1SopV87dmgrKnL/++ksOHz6sl/fEEp+7d++W3377zTN9t8yvdUUolJzgC142O7CcNm2aXLp0yQ2Na1h8FKFY7r9w4cK6/lwzUYGwFp4yZYqkT5/eMepFtWd7mzZtZMKECY5x7AB8W6HdXCsrbsyZM0crOn3rF6s5wMI63EkBNiMc46MIRb758+eXvXv3+iYZdD5x4kRp1qxZkH9i8tj0/XBZ9PZLkjxVKr/9QSFjmmzZ5fzRI1rce1bukWRqiW86EiABEiABEiABEiABEiABEiABEiABEkhIAlFXhM7p+rCc3LZZsleoLFgmN9ClSJNGmk9dLGmzh17O9tSpU1oRGnhf4DUGjbHkGx0JkAAJkAAJJGUC3377rTzwwAOuRShatKiRxdqHH34oL7zwgmtakQRe64rQhx9+WIYPHx4JGtd74qMIxVKtt99+u2v6CISyFIrcLFmyeMY9f/681KlTRy/z6xW5b9++0q3bv/s9esVPzOEm+3FGIn98FKHI75FHHpEvvvjCNeu2bdt6Wou7JpAAgQcXzxdsheHmkimr1ntW7HaLwjASIAESIAESIAESIAESIAESIAESIAESiAmBqCpC9y+YI/NeeELOHTqgl8Ut27GrrOjfK0jwrNeXk9LtOknRVvcEhZkqQgsUKCA7d+4Muj8WHpi1f/ToUW0lkjFjRm0hkUrNek8qDgpjWNBCeZyU3MGDB/W+aNmyZRP8JYWl4RILX1i9oM3+l9jBegp9AvbIy5AhQ9SqAs+/zROKhuzZs0tif/7Pnj0re/bskbRp00qOHDn0MWpAwkwIihdYPGHfQSzziGNid1htAHszos+BzLGu7+bNm3ta6T311FMyYMAAT3RUhHoiChkhMSpC77rrLvnpp59Cyuvr+f7774el/MYSzFiK2cuVL19eVq5c6RUtSYQnVkUo6hf17ObSqAmE6I+yZs3qFu2qh42tW17OHT7kKEfqLFmlyss9pUhz9/I6JsAAEiABEiABEiABEiABEiABEiABEiABEoiQQFQVoRdPnZSZj90vh5YudBUH+4O2nr1ali1bFhQPSwTCWsHLQamHpf5COSgrS5QoESrI0w9L4M2bN08mT54sU6dOlR07dmgliO/SeFAqYkAqd+7cUrt2bWnatKk0btxYK508M/CIgH28sFybl4N1kJP1x+LFi2XIkCF6AHP9+vVy/PhxnRwUOFgysXjx4l7JRxSOvdSgfPFylSpVCooCZRO4wzIKy/tBoQVlju3AHEq9KlWqyK233qr/vJaItO+N5RFLWW7YsMEzCyz37MYdijbsA+blbrjhBq3UDoy3YMECvY/d77//rttsIDu018qVK8exq1ChQmASCX4dn/YCYaH4xB52P/74o6Cdb9q0SfD8oK2gD8E+iOE4PCd45mfOnKnbH5R3aM8YgMaSkr4OfQyeJ/zddNNN2moLfQD8I3FXrlyRFStWeN5asGBBrdgMjAgZodywWaA9+ToslwmrMewhiOenQYMGMVOOrlu3Tj/HWH4T/SeWGbUd6gaKaihYsAchFACBS2+i7aI+vRz6+Eh5+6aNvTPR32NvxUWLFun6tvtMxIPMeN/ky5dPL0uLfRZvueWWqCl0jxw5opWtgW3MV0ac49lG/Xk5KkK9CIUOT2yKUDwHeMd7tQsoyfDuCHyOQpfyb1+kib7EZFWN1atXS9myZd2SSxJhiVUReuLECV13XvWMb7rHHnss0bLePulnWdH3HTm959/vmFQZMwl+F8DlrFxVhe2UltODv/sTbaEoGAmQAAmQAAmQAAmQAAmQAAmQAAmQwDVDIKqKUFDZOWWC5K3dQKZ3uFOOrPQf8MhctLic2LpZMDhy54KNIRU60SBbr149+eOPP8JKCoqEXr16yVdffRWnOAwnAVgOQbnw+uuvGylyndKGMqdkyZJOwXH+GLRv0aJF3DVOZs+erferclIQI47JHnOIF4nr3bu3PP/88663QqkApY+vGzNmjDz33HOydetWX2/Pc5Qfg/6lSpXyjBurCFCcVK1a1TP5Ro0aaSWbU8RBgwYJLL68HKzrfPfF/eWXX+TZZ5/VSkCve33Db7vtNunTp4+UKVPG1ztBzyNtL1B2jhgxQmAFhecllIOSbOPGf/cmDhXH9oOCCe0IfYbvhAc73PQIhQT6Hixl+dBDD4VlvQOFuokVa+BgOPbw69Kli6AdQDFs6mBRj/4Oy7HimYyGAz88x5iIYepgHdqpUydBW0iXLp2+benSpXrCg1ca06dP132uVzyncCwl+tprr2klKNpUOA7KXFjUobyFChUK59aguHjn/O9//wvy9/WARSpWS/B99n3Dfc+pCPWlYX6e2BSh8+fPFyjvvBye4a+//torWlB4jx49dB8QFBDggeWC27dvH+Ab+SX26nRazQMTdvBuioVLrIpQlLV+/fp6Ao5buTGB5ddff3WLosPwjfDSSy95xkME9LnvvvuuUVyvSBOb1ZKT27fERSvzaBdZO3SQvs5cvKQ0GDZaTmxaL7lr1o2LwxMSIAESIAESIAESIAESIAESIAESIAESSDACyhIvam7diE+tMbWu1+lt/3WcdWjZImv9yM+tsfUqWt+Vza3/RlcrYf1YtbiOowppxeJPKSOMy6SscSy1n5qlLKaiJouyFrIWLlxoLINvRKW8MZJDKUJ9b7Nefvllo/uUItTvvmheqAF4TxmU0iUuS7V0q/Xggw963uPWRpSCwPr888/j0kzoE9Szm3x2mFKEuoo2cOBAo3TUIKdOR1msWWrg3ugeW4bAo1JCWUoB6ypXLAPDbS+QRVkXWrVq1fIst1KEeoqurKMtZWHsmVYgN5NrtZyqpawzPWWwIyhLeCM5lCLUvsVSyg9LWUkb3eckc8OGDS1lERmXZiQnx44ds5Qy08Kz7ZSPl7+yOLOURazOfsmSJUbpKEVoJOJaSgljKcWOlTx5cqN83GRXlt7WZ599FpEc9k3KystTDmX9bkf3PH7wwQee6bmVySlM7RHqmXdSjqCU0THhpvYIjQjL4MGDjeRR+0tGlL6yfjdKX03QiSh9p5uUFbhjvhUrVnS6Ld7+NWrUcMzXqc2b+Ks9QuMt29NPP+0pm1ISW2oSmWde6M9N5EYcZXHsmZ5phF9bN4j7zre/9+3jb/c0tdaP+Luf3DV9smmSjEcCJEACJEACJEACJEACJEACJEACJEACUSMgUUtJJbTm8wF+AyHrhg/RSk8MhoypU9b6vnxeHf5z3Qo6W9PBmnDjmSpC1d5XVrFixYwHjcKRA0omtZ9b2HjDVYSq5dSscAZwE4siFEpQZckZFfZQwPgqiMKGHo8broYiVC2lZ0ExEk57dIvbr1+/eBCI/NZwFaHbt2+3lAWrUbm9FKH9+/e3lHWdUVpu7LzCMEHBxIWrCFWW51GTXS3vbaFNReKUJb11/fXXR0UWtcywhTqOpSJUWc5aajndqMjrW/eY/KKWGY0EoaWWVvaUp23btsZpUxFqjMovYjjvUd+69zqPVBHaoUMHz3aBvPG8ROLU8tlG6aN/iKajIjSY5qeffmpUF2qZ4uCbA3yuliJ01pPtrJ9qlLJ+vrmc3+8AfP//2qahdXDJAuvYhrUB0vKSBEiABEiABEiABEiABEiABEiABEiABBKGQFQVoYdXLrVO7txmnT9+zPrxpmJBgyEYEFnW5y1rarsWunReA4iRhpsoQseOHRuTAfFAmR955BHLtuIzqdJwFaFug4qBsuA6MShC1RKeVrNmzYwG/kKVIZSfWprYUnvOmiCOapyEVoSqfeOs1q1bR5UdFMmwjkxoF44iFEqm/PnzG5fbTRGqloQ0TidUWwvX77333vNEG44iFH1XfKwvQ8n/+OOPe8oYGAF1AkvOUOlF6le9enVL7XdrlGa4FqF9+/aNihWoU9lgzYYJHuE4vBtMFPJvvvmmcbJUhBqj8ouY2BShaj9oz+cAKyKE833hV2B1oZbI9sxDLdlt4Z0dLef2zfJftQhVywV71gP6naFDh3pWw9VShP71eveQ3/z47h/XsLL1W9tbrCuXLuqjZyEYgQRIgARIgARIgARIgARIgARIgARIgASiTCCqe4Se3rVDMhQoJDM73yfJU6WW3TN+U2M3/i5f3UZS92O1n5Xal04N5vsHRulKKUL1fn9OyU2cOFHvrxm4V6VT/Pj6K2se+eGHH4ySCWePUOxneOeddxqla0e62nuEQg61FLGowXpbpKgd69at67nPVtQy+yehhN4j9MUXX9R7Y0a7HEoBJfPmzYvZMxlK3nD2CMWemyNHjgyVTEg/pz1CsZeestAKeU+sPLEPJp7rwoULO2ZhukeoUljKN998I8qC0zGtSAKwxzH29lTKF6Pb0fdgzz20/2g7PMezZs3yTDacPUJfffVV6dmzp2ea8Y2glm2WKVOmiFpq3Sgp0/5j9OjRxn393r17RVnWGuWPSLt27ZK7777bM75aGjcm9e2ZcQJF2Lx5sxw8eNA4N+zJjXeZl0N/gz2Nw3HYs1ZZLota8cH1NrUygN732zWSS6CakGS07+TatWtFWX67pGQehLaG9hzKKUWoYO/eWDhlTSlKSWicNN4Vanliz/hqaVzBfqvxcWoChSiLeM8k1MQ6UcpQ13jYS1gt2e0axw5US+OKWtrcvozXccWA92TL6K8lRZq0cnrPLr+0kql3YJkOT8rmH0dKmmzZpdkvc/zCeUECJEACJEACJEACJEACJEACJEACJEACMScQTcXqioEfWAcWzrMunTtn/fn8446zwxe++YLOVhXOaBZ8uPHcLEKVQsLCXkvhphnf+LB+M3GmFqFKGWIVLFgw7HJcbYvQ+HL0un/u3LkmmKMWJ6EtQr3KH5/wadOmRY2LSUKmFqEzZ84Mu52HsgjFMq5p06Y1TgtWl0rZZ91///16D14sc9u5c2eradOmFiyxwmH95JNPuiIxtQgNJ89w4z7wwAOuMvoGvv/++2GVP1xZTOKbttcxY8YkqKyw2DZ1WNLbpKzr1q0zTTLseKbvnGt9j9BwwWGfbpO6i2RpXKXMNkq7QYMG4YrtF990+d0ZM2b43Refi6tlERquzKZ9XDT2CIVsefPm9axzWOB7uatlEQq5Tu7Yak2+q3HQt/8vTatZY+vfoP295Gc4CZAACZAACZAACZAACZAACZAACZAACcSCQFQtQtWgoHZXlDXDordekC0/f297+R2TJU8u96zcI0oR4uePC7XMm8B6x8thJvsrr7wSMppSEMq9994bFKaWFRVYvqm9QYPCnDzy5csnbdq0kaJFi4oaqNKz52FBowbhRS3h6HRbkD8srqZOnSr169cPCvP1MLUIhXWGGhz3vdXoPDFYhDoJqpbgE1i4ZM6cWdeRWnrTKaqj/3PPPReyXTneEM8AU4uuRo0a6fp3ym7QoEHy1FNPOQV7+sMCTQ2SSrZs2TQ7pfTzvCcwQpcuXWTgwIGB3jG7NrEIReaRtPVQFqGw2unVq5dRee677z7dD6k9SUPGhwUP5H/33XdDhgd6ol6OHDkS6B13bWoRGndDwEly1aeijypZsqTs2LFDNmzYILDaDMepCSJy4MABUUpe19vQR8FyC/2pqVN7MYtSgEiRIkUE+eDZ3rZtmyglpezcudM0Gb946IMbNmzo5xd4oZR8ovbgNLaghZwtW7bUcubKlUvwHKGfxZ9avlJMVxFQe5HKHXfcEShO0PWjjz4qw4YNC/L39UiTJo0oRbngHRILZ/rOudYtQsNlO378eN1WvO6LxCIUz2/p0qW9ktbfJj/99JNnPKcIsGgN9R0WGF8pffUqGoH+kVxfLYvQcGXFqhVYgcHLRcMiFHk0adLE9RsBcbCKCt4j6EOd3NWyCL1w/Jhsn/SzrPq4t5w/cjhOvLsWbpb5L3WRPbOnSdulO2T9V59I6faPxYXzhARIgARIgARIgARIgARIgARIgARIgAQShEAstKtX1H5Sqz/tFzQr/IcbCmi/8bdUdczWdDY79rYK13300UeeM+4VdB0H+7Z9+eWXllqazjEb7EmpFCXGaWL/KzWQ7pgeAkytc2w5wz0mNotQNchvoV7UsoRBbGDBp5azDGs/xFKlSrnyjXbg1bQIhVUirFZg5Ry4h5tSaFnYK1ApyIzbZ6FChaKNxzU9E4vQcNu3HT/QIhQWl6aW4GoShavcvoGwErXz9DqqJQh9b/U7j9QiFNap2N8V9/s67CULS1qleDSWD/KryRq+yYQ8f/jhh43TVMsC633tnPo9tNvhw4eHbWELWU0sQtUyu0ayqqUkLbVcZ8jy2p7Yx08pp4zSK168uHVOrYzg5Uz2gYzlvomQz/SdQ4tQ/9qMpUWo6XsFe5DHx5laPaplyeOTjd+9tAj1wxF30bVrV6O+5ddff427J9SJ6Tc0+lA1oTBUEhH7bfzhK7/v/p9qlrI2j/7Gwrf/6b27rTndHrHOHtwfcfq8kQRIgARIgARIgARIgARIgARIgARIgAQiJSCR3uh136YfR1rfl8/rNyjyXdnc1vQOd1k7fv/F8XbTQZxwFaFQDJgsPYbBISyfqfYRdZTRNwAKJ5PBbKSLv59//tn39qBz00FpO73AY6VKlay3335bKwmg9IQyUe0XZy1dutRSliOWsiYIyjNaHuEqtpQFm4UBXy8HuU2XNIVy0Enp4pVPJOGmA9bKItQ1eWWJaTQIatc3lkVWe3q6polAZbVkKWtRo7SxFKzam84zzWhFCLe92GXHERMV1P521ueff25BQYXnRlkZaqXwn3/+aUFJ4euwZLLv/U7n1113naUsanxvdT3H8+SUVqC/2vvOMa1wFaFQcL/11ltBCvDADMCkWrVqxjJ++umngUn4XStLWCtdunRG6aHdmfajEyZMMH7Gba5eilAs52nHdTsqi2NL7YHoV06nC7xHlFW/UbpQMrk5ZQVsQVHsJhvC1D7QbsnEO8z0nUNFqD/qWCpC0ba92gXCu3Xr5i9UmFemSzOrvTLDTNk5OhWhodl88sknRnWOCU5uzvQbGu0n2orQOd06+H3zT2p+szXtf639lst1k51hJEACJEACJEACJEACJEACJEACJEACJBArAjFRhI6uVsJvMAQKUN+/Q8sXW6uG9AlZJtNBnHAVoQMGDDAaZMIg/++//x5SNidPKEOqVq1qlH6VKlWcktH+poPSgYOksKz86quvXNOOdWA4ii0ocmDJaOrUEpJGfMEFyumEcldLEbp69WrjIqolb43ZqWVVjdONb8Rw2otve4e1XTjlh5yfffaZEYN77rkn7GJBHl/5nM7dFHfhKkLVEtDGci5ZssRIPsj9xhtvuKbbr18/47T++OMP17QCA6G4NFEM2nzdeCJt7J9ox3U6qmW4rYMHDwaK4nq9fv16C/2tU5q2P9qFm4Py1Y7rdoyv1Z+bDAgzfedQEepPMpaKUEyYcmsTdlj37t39hQrzChNJ7LTcjmpJ8TBTdo5ORWhoNqZ1rpbrDZ3AP76m39Co72grQie1qOv3rf9j1eJx1z/VLG2dO3rE+v3e21zlZyAJkAAJkAAJkAAJkAAJkAAJkAAJkAAJxIJATBShtqCznmwXNwgCRahtITrz8QfsKEFH00GccBWhFSpUMBrwe/bZZ4NkMvFQ+44apY/BJ7WvpGOSpoPSvoOWsHSdP3++Y5oJFRCOYkvtnxeWWKYWfeDiZnkXVqYGka+GIrRx48YGkv0bZfHixcZtU+17+++NMT4Lp73Y7R1lj8SqGUvYYtDX6w+KgXAdlqe15XM7uinuwlGEYhLB1q1bwxLT1Gq9c+fOrunWq1fPqKxeFtBOmaj9OY3SB2c3nqZtHtbzkTi1j7WRnG79MiyZ3dqLHfbMM89EIqLxPabvHCpC/ZHGUhGKSU12/bsd1R6f/kKFefXFF18Y5YP+M1qOitDQJNGfudW1HYZJYW7O9Bsa6UVbETrl/tv9vvntCZBQiP7StJoOc5OdYSRAAiRAAiRAAiRAAiRAAiRAAiRAAiQQKwJRVYRu/H64tfuPKVrW41s2WpNa1gsaFMEyWb/f18yxPKaDOOEoQrE8rD2I5HUM19LMtyDVq1c3yue9997zvc3v3HRQ2i5Hvnz5rN27d/ulcbUuwlFshWt1izIVK1bMiO/kyZMTDMHVUIRiudtwneletmPHjg036Yjjh9Ne0N6xROilS5cizi9WN2I/Uvt5dDu6Ke7CUYS2atUq7KKYsm7RooVj2lg22XRZXNMlcQMzw31uDH3D3HhCwekbN9Q59ozF+yYShz2NQ6UZ6Id9/5wcnuPA+KGuX3/9dackouJv+s6hItQfdywVoaYW7F7Wgf4SB19hH/RQbS7QL9IJYsE5WhYVoaGoWHqbgEDuoa5bt24dOoF/fLHvMpbNN/nD90u03NSHWgZ979uK0J/rVtBhlwz2TY6WPEyHBEiABEiABEiABEiABEiABEiABEiABHwJRFURiuVuDy5daG0d/6N1eNUya/wtVf0GRmyL0Hkvd/GVwe88ForQr7/+2miwr0aNGn6yhHthOnjpZi1lOihtD5BFc8m6cMsbGN9U2ZI9e/aI9vG89dZbjepx+PDhgaLF7DqhFaEZMmTw3BcyVGGhPLPbjNsR+5QllDNtL5AX+5euWbMmoUQzygcDzu+++64RV5TBTXEXjiL0u+++M5LPN5Kp0g37iTo5WAu7tR07rFSpUhE938gXTLH/rZ2W29GN58033+yZBix54+Owt6ibfAgrUqSIYxamSqiPPvrIMY1oBJi+c6gI9acdS0Xot99+69m20L7CWSLbX/q/r0yXxo2mMp6K0FA1YVlYcturP0F43bp1QydwlX2x9O3c5zpbvsvh2opQHJf3e9da++XHV1lKZk8CJEACJEACJEACJEACJEACJEACJPBfJRBVRSggnjty2Brf5Cbrz+cfs/56vbt1/thRa1SVwloh+uNNxfRgyKK3nfc4ioUi9OGHHzYaYBoyZEi82sGJEyes1KlTe+aVNm1a65zDzHjTQWkMiEEpFskyofEqpMvNpootLFMciWvfvr0nW3Bxs7iNJF+3exJaEVqyZEk3cRzDsOSpySCr1x6RjhlEEGDaXiB3s2bOVuQRZB2vW86ePav3HIXCz4SpHcdNcReOInT27Nlhy2+qxCxUqJBj2lCS22VxO953332OaZgEPPbYY0b5OPFEP2yy1+hLL71kIo5jHFjJuXGwwyBPKNenTx+j+4cOHRrq9qj5mb5zqAj1Rx5LReiECROM2sbTTz/tL1SYV/jmsdup27F3795hpuwcnYrQ0Gz27t1rVBfly5cPncBV9sV3v6/iM+68XB5rYvM6Ogwirhj4wVWWlNmTAAmQAAmQAAmQAAmQAAmQAAmQAAn8FwkkQ6HVAFhU3bH1q2X7xDGSJntOKdbmfhnf+Ea5dPqUFGjcTEq37yy5qlR3zO/UqVOSKVMmx3A7QC2NKzt37rQvXY9qBr0o5YFrHATOnDlTEDc+rnjx4rJlyxbPJDZt2iSIG+jgr5Rdgd4hr7t06SIDBw4MGXY1PNVgqTz//POeWTdp0kTU0rie8QIjqP3QRCnPAr2Drt9880157bXXgvxj4aH2e5WqVat6Jq2sgGXq1KmO8QYNGiRPPfWUY7gdoCzdZNasWfal8RE81HKhnvHVXnCirBw940Ujgml7QV5gB4YJ5a5cuSJqyWnZtm2bqP04ZcOGDaIsUvWfWhZV1BK9YYuiFHfSsGHDkPedOXNG1MSGkGGBnkpxJWo53kBv12uUo2jRoq5xEJg7d25RS4mHjNezZ09Re2OGDPP1VMt1ipqM4OsV1rlpPk48ldJXlHW/Z55qr1VJkSKFZzynCGgjyoLVKTjOX+0TKmrZ9Lhr++SVV14xetZGjRold999t31b1I+m7xylCBX0d3R/E1BW1qL2tPXE0a5dOxkxYoRnPN8I6OPVfry+XiHP1QQXURMUQoaZePbt21eUQt8zqlrtQjp27OgX748//hC1lYCfn8mFUuzLsmXLQkZVS/1Ljx49Qoa5eebPn1/UqgduUcIO++CDDwR9mZd75513IpI5MF3Td4DaE1727NkTePtVv/7r1Wdky5jv4uRIlzuPZCtTQfbOni7K1F/uXb1PTu3aLhkLFI6LwxMSIAESIAESIAESIAESIAESIAESIAESSDACsdD+XlHLG64ZOtBa3Ov/tGWoPTN8dPWS1tZxP1gId3KxsAg13R9RKTucxDL2r1OnjtGsfuzfFMqZWueoBmLNmDEjVBJXzc/Uwu+hhx6KSEY1MGnEVilCI0o/kpsS2iK0bdu2kYhpDRgwwIidUoRGlH4kN5m2lyxZskSSvPE9sPD8888/rX79+lmwZoSlZ6pUqYx44Tk0/XOyYISg4ViEqskixmWzI+IeEzmVItS+JejYrVs3ozQGDx4cdG84HsOGDTPKx4mn6TLAJjyiEQflCeVMLV9jveex6TuHFqH+tRhLi9ClS5caPQNKyeovVJhXSolnlM/3338flHKnTp2M7o3GM+SVRv369YPki6/H+++/b1Q+MIyWUxMzPPPEqiOJ1U1u08ja/uu4v8W7csWa272T9X2FfNbsp/6n/eb36Gqd3LktsYpPuUiABEiABEiABEiABEiABEiABEiABK5hAlFdGnfbhJ+sA4vmWVB4Lv3wzZDLZGHv0AsnQy8VCM6xUITmzJnTc3AJA22RKBgC24ay3DHK65dffgm8VV+bDkpDXsRNTM7vbtWgAABAAElEQVRUsaUsOyMSG3vleQ2IIvxaVoR27do1InYff/yxEbvEqAgtV65cRGX2ugnLxeJ5jYXSM1Q7dVLcQU5TRWjGjBm9ihUyHEtxh5Ip0M9NEYoJDIHxQ12PGTMmpAymnpMmTTLKx4knlpINJdfV8lPW2CGLbvquiGQp5JAZOniavnOoCPUHGEtFqLI6N2rDzZs39xcqzCu1goNRPhMnTgxKmYrQvyfBRFMRmi1bNqP6uHDhQlB9JAaPi6dOWrOf7mBNuLWGdWTNCmvGo22t78vn1dtkHFm70kL4qk9iu+dxYuBAGUiABEiABEiABEiABEiABEiABEiABBIfgagqQlG81Z/0DakAta1CcXRz0VaEqqULLbUEoufgklqO100s4zAoqkwG3L/44ouQaZoOSiMPtZRayDSulqepIlQt0RqRiFSEiqWW04yIXVJWhDZt2jSiMjvdhEkIaglso+fU5Fk2jeOkuIOcpopQtSyiU7Fc/aOhCH300UeNmH355ZeusngFwjrXhKkTz169ehndb5JHNOI4PbNQYpmkr5YR90IWr3DTdw4Vof6YY6kIPXDggFHbuP766/2FCvNKLSdrlE8oZTwVodFXhObIkcOzPtKlSxdmLSdM9Fld2utv/4l31LYunT1jTWpZz5pwW03th9Vh/nrtWWvmY/dbKwdxj9CEqRHmQgIkQAIkQAIkQAIkQAIkQAIkQAIk4Esg6opQJP5rq/p68GPFwPetMbWuD1KMznz8AV8Z/M6jrQhV+7hZJsuNpU+f3k+OSC+efPJJz4EsDH5/9dVXIbMwHZTOnj17yPuvpicVoc7LpKr9LV2rRu31atRunJQqromrwKSsCO3QoYNX8YzCMSlC7cNqxNlEQYU4DRo0sKpUqWKUppPiDsInBUVo9+7djcqp9pg1qg+nSFiG04S/E0/TJS1N8ohGHCcr6/bt2xuVc/To0U6oouJv+s6hItQfdywVoeir1J7Bnu0D1uxqv2J/wcK4Mt02YPv27UGpUhEafUWoyeoEah/VoLpIDB4zOt6jv/V/qlnamtPtEb/vfihAMQnysrJknXh7rcQgLmUgARIgARIgARIgARIgARIgARIgARL4jxGIqiJ01ZA+el/QhW+9aI1vcpPfQIivRejPdcs7Yo62IhQZYblHkwHtY8eOOcplGtC6dWujvEItNYc8TAelK1SoYCpSgsWjIpSK0HAam2l7efXVV8NJ1jHuE088YfRsOvUVyZIlswoXLmzdeuutFqya7X1+TZ95J8UdBE4KilCU2YmNrz+UzfFxpvsWOvE03WPUV+ZYnr/44oshcTz77LNGPJ1WDwiZaASepu8cKkL94cZSEYqcatWqZdQ+It3bHApU7Dfp1fZhpRjKUREaXUUoVvjwqguEx2qp+FB1HK7flPtvd/zuX/rBG9bR9autyXc1DjdZxicBEiABEiABEiABEiABEiABEiABEiCBeBNIhhTU4EpU3IJXukruGnVl8Ts9pGynp2XdsEFy/thRv7Rz17hZjm1YI61nr/bzty/UPp2ilqm1Lx2PBQoUkJ07dzqG+waUL19eVq8OnZ9vvLVr14paas7XK+zzmjVryvz58z3v++uvv6Rq1apB8TZt2iQlS5YM8g/0UIPSsmjRokDvq3rdu3dvUXuOecqgFCryf//3f57xAiP07dtXlPIg0DvoWu0RKmpfviD/WHigDkLVY2BeyiJUpk6dGugddz1o0CBRCqS4a6cTZREqPXv2dAp29B8yZIgoRaBjuB2grNdEWfTZlzE9xrq9+AqvJh7IHXfc4evleq6syAXPmLL41PVbqlQpKVGihKhlCYPua9Omjfz8889B/oEeSnEnDRs2DPTW12oQXJQFWMgwX0+1NK7s2bPH18vo/Pz585I2bVrPuGrSiOzbty9kvM8++0w6d+4cMszXs1mzZgLekTplASxqeV3P2514qqWPpUWLFp7333vvvdK2bVvPePGNgP4c76BAh+cMz7OX69+/v6gl172iRRyelN85ERc6CjeOHz9eWrZs6ZlSu3btZMSIEZ7xAiPgfYD3gpdDew+nb7PTM633Jk2aiFqe2b4t7oi+AH1CYnD169eXGTNmRFWUDz74QNQkBs801cQN6dGjh2c8rwj79++XPHnyeEWTOnXqiFqq2DPe1YhwcMkCmfVEO7l48oRf9mmy55ALx4+Jdfmy3Ls69PvF7wZekAAJkAAJkAAJkAAJkAAJkAAJkAAJkEC0CcRbleqTwK7pk60jq5dbh1cudZwVPq19K2vVJx/53OV/GguLUDVIZjTTfvr06f7CRHAFizFVR55/W7duDZl6UrbOMbXw4x6hwVXPpXGdn5lI24sv5bJly3o+k3husZ8wlizFc2jq/isWoWqChxFDLO948OBBU3x+8WClVrx4caN8nCxCTfcYVQoqv7wT+uKTTz4xKmc02r9b2ZLyO8etXLEOi7VFKCyBTb4l1ISSiIo6YcIEo/RfeOGFkOnTIjS6FqHr1683qg81ySNkfVxtzxNbNzl+99srwlhqq4ozB/ZdbVGZPwmQAAmQAAmQAAmQAAmQAAmQAAmQwH+QQFSXxsX+P1cuXbQunjpp/XZ3k9CDIuXyWKd273REHQtF6OOPP240wARFXnycsqQy2o9UWbxaFy9eDJlVUh6UpiLUWZnHPUKDm3us24ud45IlS4yefygdPvrIeZKGnV7gsWnTpkbpOynukF5SWBoXSzea7LccKUdwGDlypBFL5OHEE0ucm8hZuXJlZHnV3KhRo4zKqqzsYypjUn7nxBSMR+KxVoQuW7bMqH0oq1QPSUMHQ8FpomjFnr2hHPqsI0eOhP0HRZ5Tvlj2NZI0T5w4EUrEePmZ7jWMpbyj4RYuXOjIxZcXJuokRodv/t/uaWrNfPwB/e0/vvGN1oxH21rfl8+rrzf9OFIfoTClIwESIAESIAESIAESIAESIAESIAESIIGEJhBVRagt/OJe/2f99Xr30IrQsrmtX1s3sKMGHWOhCB0zZozRAFOZMmWC5AnHQy2lZpRP8+bNHZNNyoPSsVZsQUnlOyDodK6WxnXkG+0A08FLKkKDyce6vdg5oj04tRVff7W8pH1LWEfsneibjtO5k+IOmSUFRSjkhKLCqXy+/mopWEQPy12+fNkqXbq0UfrIy41njRo1PNNRSwVbsEC9Wg7y+zJzOldLkMZUxKT8zokpGI/EY60IvaAmlqnlsj3bCCywDxw44CGtfzDavVpm2zNttMktW7b43xzPq7vuussx34oVK8Yz9ejdntCKULV0viMX377hmWeeiV4ho5jSiW2brdHVS1q/39fM+r5CPr/v/+8r5tfXyA4rx9CRAAmQAAmQAAmQAAmQAAmQAAmQAAmQQEITiK4iVC17haWvrqhBtlUf9/YbCLGXxppwaw3r6PrVjuWMhSL06NGjRhZCGGzCsoqROrW/qNFA1oABAxyzSMqD0rFWbFERKpbaU9Cx7bgFfPzxx0ZtU+0R6pZMVMNi3V5sYTt27GhU9n79+tm3GB9h2Z0tWzaj9N0Ud0lFEYr25zso73au9tcz5oiIWALWLb3AMDeepnKqvZrDkjEw8ooVKyy1T7Dj38qVKwNvibs2tfi777774u6JxUlSfufEgodpmrFWhEIOWP8FtvtQ13369DEVW8dT+5sapYsJBdF2VISGJmo6YU/tER46gUTgu/GHr4K++3+8qai1bvgQ69yRw9a++bMTgZQUgQRIgARIgARIgARIgARIgARIgARI4L9IIKqK0ONbNloTm9ex5jzzqLWsz1tBAyJQhi7q+ZIr51goQpFhzZo1jQb+OnTo4CqfU+Ds2bON0scg5rp165yS0XsThhroDPSDFVpic7FWbFERSkVoJG0elp6Bz0+o65kzZ4ad/KRJk4zSRn5uirukoghdu3atcXlR5h49engyheWbqbLat97ceJr2x3Xq1FFzd9QEngjcnDlzPFm47UO6f/9+z/tRXry7YukSShH69ddfW1CsmfwNHjw4lkWOStoJoQhFn+Tb5p3Os2bNau3du9eoXFjiukSJEkbpfvbZZ0ZphhOJitDQtEz3DEa7c3N4l5g8Y4jTuHFjt6TCDoPC05706Huccv/t1uyn/hd2eryBBEiABEiABEiABEiABEiABEiABEiABKJFIKqK0AOL5lnjGlYKORBiD4pMbtPIOrndeam1WClCv/32W6OBv2TJklmffvppWHw3bdpkFSpUyCj9Jk2auKadUIPSrkJEGEhFKPcIDafpxLq92LLccsstRs/mN998Y99ifDS12IICw01xl1QUoQBTtWpVI5620uaJJ56wdu3aFZLp8uXLrYYNG4aVnp2uG09kZrpk8RdffBFSNjdPrDJQqVIlT7lnzZrlloxVpEgRzzSg5IqlS6h3junzjvoN15o4lnyc0k4IRSiU9MWLF/dsI2DWunVrI6V+t27djNJLnz69FYu9N6kIDd2iunTpYlQvu3fvDp3AP76m39BoM1myZHFNyzTw8Mql1rENa62fapYO+f3/5/OPmybFeCRAAiRAAiRAAiRAAiRAAiRAAiRAAiQQEwJRVYQu79/LmvtsR+vSuXPWhu++tCbcVjPkoMjCN19wLIzpIE6BAgUc0wgVgP3nTJeuhTJ04MCBoZIJ8luzZo2VL18+owEsDDzBisjNJdSgtJsMkYaZDnRjCcxIHC1CaREaSbuBVR6ePa+/p556Kqzksaxq6tSpPdO183VT3CUlReivv/5qXGa77ClTprRuvvlm68EHH7TAuW3btsb7jdppBB7deKIiTZeazJ49uzV27Fjjut++fbtVtmxZTwZ433g5LHsbWK5Q117KD6983MIT6p1j+n5A+akI/bfGsBRqqDYRyu/222+3Dh069O/NPmf4tjLtC5H2Qw895HN39E6pCA3Nsn79+p71nCdPntA3+/iafkOjjqOlCEX2m0aNCPm9j0mQS3v/vW/77K4P+0jKUxIgARIgARIgARIgARIgARIgARIgARJIOAJRVYRuHfeDte6rT6wN3wyzdk6dZI2uXjJoYGRs/RusP194wrGEpoM44SpCkSGW5gs1eOjkh8HYPXv2hJT1nFL2fvfdd1auXLmM02zUqFHItHw9E2pQ2jfPaJ2bDnRTERpMHIp3p3bo6889QoPZefm88MILRmwzZMhgvEcw9oXMnz+/Ubp2/U2YMMFR1KSkCEUh2rRpE1bZbQbRPHopQmFNV65cOWM5b7vtNtdly7H06PPPP29lypTJKM1Ro0Y51rcdYPrcT5kyxb4l6seEeueYvh/QRqgI/beajxw5YuXOnduozYEd+qUnn3zSwrK206dPt4YOHWp17drVKlasmHEaadOmtdavX/+vEFE8oyI0NMycOXN61g+Wefdypt/QaCvRVIQufveVoO99eyWYBf/Xzbp46qQW/cqlS15FYDgJkAAJkAAJkAAJkAAJkAAJkAAJkAAJRJ1AVBWhkG7/X3/qAY9fW9XXgyJ/vfZs3ODI9xXzW+Ob3GSt/cJ5/y/TQZxIFKGwCsVgdziD8SlSpLDq1q2rrSMwCN6pUycLVhewIgonncyZM7sOsts1m1CD0nZ+0TyaDnRTERpM3VQhQkVoMDsvn8mTJxs/q9myZbMGDBjgaFWF/X2hpEmTJo1xmnY/4bb0blJThO7YscPKkSNH2AxsFm7HBg0aGKXrpQhFu1iwYEFYVruQC+XCvpywiOvevbsFxU2VKlXCqnO8M0wcFOpuLOyw/v37myQXUZyEeueYvh9QZipC/avyhx9+MGondnuJ77FXr17+AkTxiorQYJiYZGFSZ6+//nrwzQE+pt/QyC+aitC1wwZbF04ct2Z1aR/3zW8rQv/ofJ91fMtGPUly9tMdAiTmJQmQAAmQAAmQAAmQAAmQAAmQAAmQAAnEnkBUFaGXz5+3prVv5TcIMvOx++OuR91YxJr3chdrx+TxjiUzHcSJRBGKTGFdYbrnlsnAlEkcLLVruvRiQg1KO1ZAPAJMB7qpCA2GTEWo89K1kbYXm/KFCxf0gK/Js2rHwZK3sCbE/pXNmze3qlWrZrwPsJ1G4PHjjz+2RQo6JjVFKAqwePFiC/tXBpYzPtf16tWzsOSwSRqwdjNxps+WSZ4mcbC34ooVK0xEsy5evGghvle6nTt3NkovkkgJ9c4xfT+ABRWhwTUJa0CvdhKNcOx9i3YZK0dFaDBZWHyb1N348c7fznaqpt/QyC+ailDkv3/BHGtU5UJx3/y2InRquxbWwSULtP8fne61ReWRBEiABEiABEiABEiABEiABEiABEiABBKMQFQVoUdWL7d+aVotaBDEHgyxj/Z+QaFKaTqIE6kiFHlikBoWmiYDT9GIYzKL32aRUIPSdn7RPJoOdEeq2OIeodwjNNL2+vnnnyfY8+7UZ7hZWSVFRSjqYt68eWErmZ34FCxY0Nq3b5+1ZMkSo7oyVYRCznD2RnSSz8Qfk15++uknZGnsoPz1Shv7q8bKJdQ7x/T9ABZUhAbX9s6dOy1893i1lfiEY2LD8uXLgzOPog8VocEw+/bta1SvTls1+KZo+g2NdhJtReiO339x/f7HijB0JEACJEACJEACJEACJEACJEACJEACJHA1CERVEWoX4MLJE9ak5jc7DohMfbCFHTXoaDqIEx9FKDJdvXq1VaJECaPBp0gHFlOmTGkNGjQoqIxuHgk1KO0mQ6RhpgPdVIQGEza1WuPSuMHsTH0eeeSRmDzv5cuXN0oXS2s7uaSqCEV5du/ebbVu3dqIgVNfev/998ctRxwLRSiWRTfdK9ZJRi//5MmTW/369XOqYkf/l19+2ZMdluuNlUuod47p+wGcqQgNXdtbt26N2YoW1113nbVs2bLQGUfRl4rQYJgdOnTw7APy5s0bfGMIH9NvaDxn0VaEBq4IY09+xHH9iM8sS+3bvGv65BBS04sESIAESIAESIAESIAESIAESIAESIAEYksgqorQc0ePWKf37raOrltlTW7TyFEROrF5HcdSmQ7ixFcRCgGwTG6TJk08B6C8BsBDhefMmdP6448/HMvpFJBQg9JO+cfH33Sgm4rQYMpUhMZuaVyb9tmzZ60bb7wxas87rP/eeOMNC8qJUH1AoF+zZs1sUYKOSVkRahcGy39jf0/sqxxYdqfrGjVqWOPGjbOT0EdTReiMGTP87jO5GDZsWNh7hjrJ7usPhcLEiRNNRAiKY7qHLfanjYVLqHeO6fsBXKkIda5pTDwoW7as8TPm206dzmGNvX79eudMoxhCRWgwzIoVK3rWJyaLmDjTb2i0hWgqQrdP+tnxmx+K0BUD37cmtTDbO9mknIxDAiRAAiRAAiRAAiRAAiRAAiRAAiRAAuEQiKoi9Pyxo1oRevHUSWvynY2DBkWwR+isJx+yFrz6jKOMpoM40VCEQograob6qFGj9H6AToOE4fhnypTJgtUelKyRuIQalI5ENq97TAe6qQgNJklFaOwVoaCO5SXvvvtuC0rMcJ7rwLjYZ9jerw3WhiZLbcPiCnFDuWtBEWqXa//+/Rb2Q8VytJhoAovZXLlyWYULF7Zq1aql+ffu3dvavn27fYvfcdasWUZ1s2bNGr/7TC+2bdtmPfzww2EpbAPr377Oli2btjTdtWuXafZB8bAfY+7cuT3LDGaxcAn1zjF9P4AtFaHuNY3+4q233rLwvWG3xUiOadOm1e336NGj7hlGMZSKUH+Y6AdN6m7ChAn+NzpcmX5DI89oKkIhzp/PPx703W9bhS7v38u6cil2e8864KA3CZAACZAACZAACZAACZAACZAACZAACWgCUVWE2kyhEA21NO4PlQpaS95/Xc0M/8COGnQ0HcSJliLUFgAKim+//VYP3GNw0GRgyjdOhQoVrNdee806fPiwnWREx4QalI5IOI+bTAe6qQgNBklFaMIoQm3yK1eujEghWrt2bb0HZKBCs0WLFkZ9RqD1oy3PtaQItcsU6XHkyJFGLMEsPg4Wlp06dYpo38XSpUtrZW98ZbDl7969u2eZYW0bC5dQ7xzT9wPeq1SEmtU0Jh107drVypcvn2f78f1ewcSEjh07Ok5GMMs9slhUhPpzGzx4sGfdYYURTJgwcabf0GgP0VaErv6kr1aEHl61zJr3cpcgpeiYWtebFIFxSIAESIAESIAESIAESIAESIAESIAESCDqBJIhRTUgEhV3YOGfkjZHLtk8+mtZ/9WnjmlmLFhY7pi8wDH8ageoJTRFWSXJ9OnTRVmQycGDB/WfUnJKxowZRQ0i6j9lxSM1a9aUxo0bi9q/6WqLzfxJgATCJKCUYTJv3jxRy9vKli1b9FFZ90n69OlF7cuo/8qVKyfKklHUMq6iBqTDzIHRwyXwzjvvyP/93/+53oZ6QL8cLbdq1Sr57bffRO0drdM9cOCAPqZOnVqKFCkiyppV/+FcWQNLtWrVRFkVRyt7Qf5qMo1reqlSpZJDhw6Jsj52jZeUAt99911RKygEiawmy3i2gaCb/uMeK1asELXMsuCoFKT6T1l6irJaFmWNLvheUUvqStOmTUUtER7V9vsfRx+v4t9222263twSefzxx0VZ2btFuaphJ7ZslBX9e8muqZNc5bh94lzJVKS4axwGkgAJkAAJkAAJkAAJkAAJkAAJkAAJkEAsCERVEbrvz5ky/6Un5dzhQ56y3r14m6RIm9YzHiOQAAmQAAn8dwi0b99eRowY4VrgKlWqyOLFi13jJLXAm266ybNMP/74oyiLuqRWNEd5lVWiDB06NCgcfo888kiQPz1I4FoicOrUKT255vz5867Fmj17ttSpU8c1ztUOPL17p/xyS9WQYuSsUk0qdn1JcqljshQpQ8ahJwmQAAmQAAmQAAmQAAmQAAmQAAmQAAnEkkBUFaEQ9MrFizKqUkFXmXNWriqNv/7FNQ4DSYAESIAEEheBr7/+Wh599FFPoaDM/PRT51UBnBLYt2+fFCtWTGCV7+agDIRS8FpyanlsUcucuhYJXIcPH+4aJ6kEquWltYXihg0bgkTGigw333xzkD89SOBaIvDzzz9LmzZtXIsEa3SsWBBNC3TXDOMRuHbYIFn+Uc+gFHJXry0lH3hULp87K4Vvdy9v0M30IAESIAESIAESIAESIAESIAESIAESIIEoEIi6IvTQsoVyYMFcWTWkD/Yf1SJaly7FiVqkxd1SvWc/NSs8RZwfT0iABEiABBI/gWXLlknlypU9BVX7LOtlxcNdSvjZZ5+Vvn37eqYPZSCUgteSw9Lraq9HuXDhgmOxsMQplMVJQSniWIh/AmD1CYvQQIc2gzKm4DdCIBpeX2MEOnToIF9++aVrqV566SXp1auXa5zEELj2i8GyvM/bIUXJdn15yVuvsZTr1I0rwYQkRE8SIAESIAESIAESIAESIAESIAESIIFYE4iqInTruFGSXO1jlqNiFZnQtHqQ7Agr/+TzkjpzFilxz7U1iB1UWHqQAAmQwDVGAEq6TJkyuSrr7CJ36tRJPvnkE2Ol3aJFi6Ru3bqe1qBQsmIPxGtpr0yb2Z133iljxoyxL0MeFyxYoPcoDRmYRDyxrPGtt96q9zwNFLl79+7Su3fvQG9ek8A1ReDKlSt6b3nsR+zmVq5cKeXLl3eLkijClvV+S9Z9GXofU2yDUb1nfyl0W8tEISuFIAESIAESIAESIAESIAESIAESIAES+O8RiKoidE63R/TSV3tnT5d8dRtJhgKFZOO3wbPdCzVrJbU+/OS/R5slJgESIIEkTsBkD0+7iPfff7988cUXkiZNGtsr5HHw4MECa1A3a0j7xocfflinaV9fS8dp06ZJ48aNXYvUuXNnrWB2jZRIA7FKBJYD/d///icnT54MkrJEiRKyfPlySZ8+fVAYPUjgWiLw22+/6ckAbmWqXr26zJ8/3y1Kognb+P1wWfz2S3HyYDncE1s3y9kD++L88je4Rar3GiipM2WJ8+MJCZAACZAACZAACZAACZAACZAACZAACSQEgagqQv/s3kl2TB5vJHfDL3+S66rVNorLSCRAAiRAAomDwPr16/XejrBoMnE5cuSQe++9V1q1aiXY7y5//vyCZWBh6bRq1SqZPn26QClg4nLlyiVr164VpHmtukaNGmkmTuVLly6dXnY4qTGAQqddu3ayadOmkEVLnjy5YG/Q2rX5XRASED2vKQKwiPbq92bOnKmt5JNawVcMeE/WfNovTuy0OXNJuuvySLHW98mWn76Vpj9NjQvjCQmQAAmQAAmQAAmQAAmQAAmQAAmQAAkkBIGoKkK3T/hJ7wtaqGkLWfTWC7Ll5++DypAmW3a56dX3pWDT5kFh9CABEiABEkj8BLp27SoDBw5McEG/++47rVRN8IwTMMO//vpLYAnm5nr27CmvvPKKW5REFwbL4EceecRRrhdffFHee+89x3AGkMC1QmD16tWey91i4gisp5OiWztskCz/qKef6KkyZpIWUxdLqkyZ/fx5QQIkQAIkQAIkQAIkQAIkQAIkQAIkQAIJQSCqitDNP46UrKXKSvbylWTVx71l9Sd9Q5YB+wTV6v1pyDB6kgAJkAAJJG4Cly5dkmbNmsmUKVMSRNBkyZLJRx99JN26dUuQ/K52Jm3atHFVguTNm1e2bdsmqVOnvtqiGufvpAjNkCGD3hP0scceM06LEUkgKRPo2LGjDB061LEIqVKlEihLS5Ys6RgnsQVsG/+jzH/5KclUqKicPbRfLp05EycilJ83dOshy/q8LfWGfCO5bqoRF8YTEiABEiABEiABEiABEiABEiABEiABEkgIAlFVhB5bv1rmPtNR0ufJKxnVYMjmH78OWYZcN1aXRiPGhQyjJwmQAAmQQOIncPz4cbnrrrtk6tTYLnOYIkUKrTTAvpL/FbdmzRqpUKGCuC0/PHz4cMF+rUnFhVKEwvJ15MiRSUrhk1R4U87ESeDgwYNSqFAhOXfunKOAsLjv37+/Y3hiDDi4aL5Ma9/KUbQyjzwpFZ/uIclUf05HAiRAAiRAAiRAAiRAAiRAAiRAAiRAAglNIKqK0MPLFwuWvl0/4lPZ+N1wx7Lkb9BUbh70lWM4A0iABEiABBI/ASjq3njjDXnnnXdclXaRlqRq1apaIVCzZs1Ik0iy90Hx+9VXzu/JG264QZYtW5ZkymcrQjNlyiTYH7Fly5Zyzz33SMqUKZNMGSgoCcSXwJtvvqn7TKd0smbNqvfRTWp7AKM82B5j3otPOhVN+1d7q48Uu/MB1zgMJAESIAESIAESIAESIAESIAESIAESIIFoE4iqInTbL6Nlq9oXdP+COY5yZixYWOoMGK6W0C3jGIcBJEACJEACSYfA9u3b5bPPPpNhw4bJ/v374y14/vz5pVevXvLggw8KlsX9LzowLVWqlFy4cMGx+NOmTZOGDRs6hiemACht0TYaNGiQpJb0TUwMKUvSJnD+/HltDXrgwAHHgnz44Yfy3HPPOYYn1oCTWzfLmQN7Zc7THeTiyRN+Yt42bqYcXrFEFr31glR/d4AUbtbaL5wXJEACJEACJEACJEACJEACJEACJEACJBBrAlFVhEJYKEOPrFomG7523v+o9kefS8GmzWNdNqZPAiRAAiSQgAQuXrwoY8aMkSFDhsjMmTPDyhlLwWLfUfzVqlWLloKKXr9+/WTu3LmOHOvVqyddunRxDGcACZBA4iGwcOFC+eCDDxwFSpcunV4GPCnt/WsXxrp8WUZVLiQ4ujlahLrRYRgJkAAJkAAJkAAJkAAJkAAJkAAJkECsCERdEXp6zy5JkyWrTHuolRxdtypI7gz5CuhlcbOWLhcURg8SIAESIIFrg8CZM2dkx44dsm3bNoF1I/727t0rGTNmlJw5cwqWfrT/ypQpIwULFrw2Cs5SkAAJkMB/iAC2xZj+yF1y+exZz1JnKXm93Db2D894jEACJEACJEACJEACJEACJEACJEACJEAC0SQQVUXo/nmz5OLpk3Lu0EG5pAbBl/V5K6Ss2cvfIGUeeUoK3nJHyHB6kgAJkAAJkAAJkAAJkAAJJG4Cp3fvlF9b1Vff/acdBa36xod6Sdy53TtJvU++dYzHABIgARIgARIgARIgARIgARIgARIgARKIBYGoKkIh4KZRI2RFv3elQpcXZPE7PULKnLdOA6n36Xchw+hJAiRAAiRAAiRAAiRAAiSQNAjMfeZR2fn7BE9hc1SsIk2+m+QZjxFIgARIgARIgARIgARIgARIgARIgARIIJoEoq4IhXBX1D5xUIJu/nFkkKwp06fXStBcVaoHhdGDBEiABEiABEiABEiABEggaRHA/qC7//hdoBR12isUK8Lc8sNvSatglJYESIAESIAESIAESIAESIAESIAESCDJE4iqInT1kD6yctCHjlCSp0olmYuWkDy16kul5193jMcAEiABEiABEiABEiABEiCBpEPg0LJFMvXB5iKW5Sd0/gZNpeqbvWXz6K+lXOdn/MJ4QQIkQAIkQAIkQAIkQAIkQAIkQAIkQAKxJhBVRej2iWNk/YhPpeYHQ2Ris1ohZU+XO4/UeGeAbP91rNzQ7RVJkz2HnD96RA+apMqYSVYO/kCSp0wlFZ56Ud9/6ewZ2ayW2y3d/jE1w/ySXDh+XJKlSimpM2XR1xdPn5bUmbP8m5cafDmxdZOkyZZD/WXX/kfXrZLkKVJKqkyZ5cBfcyVjwcKSoUBhSZEmraRInUZSpE2r4507dEAunjwpVy5dVGM4VyRrqbJyatd2yajiwh3ftF4gY7IUKZTMh3W4DvjnP8yA3/jtF5Lrxup6DAjywiE+8spSorSc2bdHzh7cr2VPnSWbnN65XfLWbSTYY+ny+XM6PmRKpcrkVy4VgnuRL/JJljKlZLu+vI5/fOM6yVLyen2O/07t3KYyTSbpcuVR1rkX9D3Yuyl15qw6DtK4cOK45KhQWVJmyKj9Nn73peS84UbJVraivoY8yCN97rz6Gv9ZV67ImT275KzilCx5cslevpI+nj9yWNfjucMHNfcLx47qawyIWZcuqeXSfpGynZ7WlsKQPUOBQjpNxIdcGQsWkfPqnuQqP/A9vWuH/D975wFmRe218UiRIiBdBEF6EbDRLRQLRToKKvauf0XFXj4LKvbee69IERRpooKISFF679JBQECqcL/zC8w6e/fOTO4W3IWT59m9M0kmk7xJTuY5b87J3yuXWcy4L1K5mh0jtIV2EWekLuAItvS1jUup6b8Xq8aOEuK92b8RckXbKItxRl0YY5sWzjfFa+9tu5eZdm1ZvtTitGvzJttu6k89C1es4mUzW1ev3Fte3kNT8Nq2ZpXZvHiBWff7BJNH6lv9gitsfQuUOkLG2Caze+cOk79EKVsGfUEcYy5PwcNM/uIlbf+snTTOoDwk0Fae9YfNSxba9ucpUFDeM94cdUbblORNC+YaI33ExgPqvEf6YfPi+ZI/jx2HZPxb+nLH+nU2jfuSx9fnJ1VgDPMM7QGnZd99a8qc3Nz2KxkZA4Sdm/8yu7dt21tH6aPdO3aYDbOm7u0bGWOMvVyHHmrz7tm50/bBIblzmdxS93xFixs2SRC2rlxufwseWc7+8m/99MkyD5eaCq07pMRtXrTAFKpwtK2bFwmOW1ctN7s2bbLYFq70bx+RB4yRAQTGwOYlC2y9CpY9ysTEih2MGF+HyT2B/qOPeIYxeVi58rZdG+fNsvOXeerNF2QM/ca8yF+ytJUbe4VATOpZyZYX/w/Lea/dXpqdE39vMat/HWMqdugmcyCfrQfjLT4/8qBgmbL20S1LF9l0bhhv3rz9R8qiTDuupF5e2Dh3plk/bbKMgT9M9Quvkn4qbuUL5THumVeHHr5XXmyT8b2b+SLjoEDpIyzmjPlckoe2MjaRochkLzCvkae5ZE4cWrSYWfJNP1Ol60U2GXm/VeZ3kcrVU2QvY5kxQ5lFqlQ3u7dvM5ulTbu3bxe5s9vKgmK16nrF//uLsl36DJmHDMmTv4DMLZETzCUZW5TFGOadjGNvTUAuFJK5f4jIgLyFC9u67/xro23zdpkTu2QsUXf63i+HWQ/yidz2xhEVQXbi7rF47eNsvZhXjAOvb2yk1JN4MAHbYrXq2PoEyc4/p0yy7Vj23WBzzFU32r71y07aukvmHLKTcW8OMbYNjGv6lPUmRXZK3j0ib6zs3Cfvmc97+7hYqvbZuu77x5nfRzRp6o9KkZ2sDayL9M9fImvSyE7Bm/WydIMmVm4wVhPJTju2pG65ZC55Y5YX0ia8RyCjvcCYY54y5hhvjBlkUp58BcyhMn6RZfR5LpkzeaT9jHnaTGD+sr7ukbGQt1ARO6f868KfU3+zfbhxzgyRjzUtNtQXjAhL5Xvl8Gq1bBn0KzhTNmsBsg3ZzNig3jyDPK5x8TV2HG9dKW2X8XjIIblsmwr41lTK5j1eW7jf+dcGu1kM+UMbCpQuQ7Qti/PXmd+0k/5nHBAYo8y5HRv3jnPWdi8wN2jXhtkzRcbXM0eecpqVs8hYxjyYILsIjP3dcr47Ie/h8g0ic5oxi2z0xjN5vPw2o/yj/t431tJhg0zVbhfbJL6lWIv41uH5XVs2WwytbJC+ZX4SaOtO1kCpyyG5ctu+sAm+f95aZNdvKZfxhawGP4K3FjHXea+3Xm6YOdX2EX1A34OV16/Ix21r5DtCvimtjJRviZQxI33MmuWVwzuY62VkTnjrP+uQf53hvVvkm26n9EO+oiVSpSGHWU8Ys/QVfUJdj2h8qszPnbYd3rcReIAX88L7niKOMnLnL2jnG3j8tWCelWnMddbfXVs2Uc3ANccm+v6x3jIvGE+MS7C1mIq8QoZ5gfeyxpQ8oaGtJ2OKMUEeviH9c3fmWy+aaS89YfNV6tRNyM9nZA2fYsfRUWec5RWpv4qAIqAIKAKKgCKgCCgCioAioAgoAoqAIqAI7FcEMpUIRUk06ZG7bQNQVFbqeK6Z/8UHaRpU7Ji6ZsPMaeaUF9+zCiPIldiemFWyL+y/9+zQ82asssrE+V98aJUzNS65xqz6+ce9Sl5Rdp/ywrtm4sN3WYIGkgllEuG3x+8zK8Q1F4qq2tfeYsmdAafWNhVatTfr5Z1Fq9cSl70fm9INT9qnFCtiGgkxS/jhiq6WDNi9fasoeXabyp3PM8fefI9N2zh3lpn+6tOm8NGVhUD4zRJn1B9yCcXs4VVqmJlvvWAVXXM+elOUQHss2XUIytJ9CvUO300yayeOM7/ceZ2QZ6tMYVFil23R0j6zdOhAqyREyW6VjqKkPPWl963yKZcodVE0jeje1myBMBDFMQq95m9+bkmI8ff1tERj1XMvMYsGfG5mf/C6VVCVrt/EknebhRhGeXlY2fJWsT3/8/etAhRi6aRn3rTt+7x2GVFWHm66jJ1j7znrdfHXfU3F9udYTKjrelEo/rN1i0FJ/7co0Cp3Od9U6nS+mfbi46bJ06+ZsbdcbYk3lH1HCPmIVQBEaJHKVa0y8R9R1IF7netuNXM+eMOsFlIa5XWFszrbvkZ5X/DIoyxZvWHWNNunVc650FRo09Es7PepWTSoj20XBC/kCIpEFOWFhew76anXzdrfxps/pW8KSH+gUERB+ocoZatdcKXJK8q6lWN+sMrqVWO+t4pIFIqVOp0rz/xuVowaYY698S5z5KmnWXJhpeSZ+9FbQn5VMPXvf8Iqc0ffcLElJAoLsdXi3b4Wp8lPP2TWTZloUKiiSD3j469t/PeXdjZrJvxir/l30tNvWMKF8TPl2YdFYb7JtHjnS9GCx8wYcSO3VciLPVJfsDvhjl72nF0UyKe+8qElpqa/+pSQbseZ42+73xKDKH3nfvKO4PKJfQbCs5rMAxTO8z971zCPICvApWiN2mZir9vNitHfWYKk/YiJZtHAPkLav2NJDBSfm5csMife/YgloqgHJBEk33YhuXiesf/H0EF27O2StkJUEY696R47tjYtnGcJ92KSF2Un+K0aO9oSMEed2VaUx81MqfqNrcKX8cs4xTKk6vmXmY3S18WERIKkmv3uqxaTo9t2MdUvusq+48v6layS99ib7jblz2xnlcuD255sxwfzgs0UKNjZEICCmXPKwJm5C1GRW+QFY2Fh/09NCSH7IfwnPXqvlUGQLSWPb2AJnfwlZdyKHGEeMf7nyjxm80LRmnXMshHfmlInNjS7/t5slg772pIajH8wI/x8y1VWSc14BK/V40bbdrB5ADlBfdgkAhkHtsgMNniUOLaenUcQCWwkAfvl3w+1+Jaq11jKOsa6GK/cpbslGxo8+LSZ9fZLlrxYOXqkOeOTvWeyDenU3I5BlPjlRdYdf+v9Zu7Hb5t1kydYXBhX3pid+eYLdsMGBCahrGzEaPzEq+bPqZPs2Fr3+0RL0J768l7ZPfKijmaXzPvcIscYE2VOaioy5g17f8JdD5vfHr3HjrsqXS80pURRDhGF8v6HK7tZYhIiGPK87Kmn2/nHWOJdZZu3NI0ffUmufzPj/+9mS4RAPLQfNt6Mu7uHjJ9RlhQqeUID24bjbrnP9i8ELRs/2AhiCWrBc2jnFjI3d1qSgc0xEBKHCZFQ9bzLRFbPs0QLZVdo1cGSZrPeedmSnbkLFDB1/3e7jL9j7bPIDsiAMTddJmtIVSGNWpitQhryLoh0NroUqlDRKvc9ghTZCRlwzvj5Fk/6kXwVO+xdT+h75BkkxfoZU+2cKt+yval8zgVWdiIbcCUJoUI/QVQhOyG+eRZCBPKE+VNH1rQ5H79lNkg5EMXIRkgGiJ1CIqvWTBxr75GzVc6+wBzd7myzWOTmApGfHkkPIccmhb0bQY626wx9sGbiLyI7S1mZZ4Rfph3IFEiW1eN+shuMVv8yyvYBa1LlTueZ9VLO8u+HyaameyyRwsaNP0Z8YxaJ/Mkv5GDDh561BAhjCDKdsd/inb62vshBxhq4gJ8nO+l31qh8Qs41ePBfDxNgAvFatEYtu2YP6dDUbJdNPRCRhStWtsQYBB39Qp2ZY8xPSMxZ775i1zzm5ra1q0xDIWe4Jkx5rrfM78EWS9z5l2/ZTuZkd4tZ/f97zKz86Xu7ntBHELqQ3mAF5hCubJA47f0BVh5DADHOmAfIQTbCsL4wHsvK2sJ3RLPXP7VrhX25/Jv0yF12bdr+5zobVfOy66wcmnD/LbYNrNGMhakvPmbXU2QdY5P1D3KKQB3o64m97rBz98zPh9pvHdKYG7zXC5zPuG3NStkElt/KOYiw5m99YZN/vOpcu96YXGwIKW9J+CnPPmL+EXnf6OHnzF8L54rc+siukxC91AEcOQoBWYM8RkZUlrEHBT1dvIQsGznErqm0mw0GE2QtYiMG63374RMsacY6zTcF8/ovqWu9ex+1bWYNY22jTNrKuxgHOzdttGPBEquynjCmkffM3c2L5tn6IstLndjYynHiIUL5JsxfoqRsVmtsxzFr2feXdpG65BNZcanZJOQqrltz5c1nZr/3ih1H1S+6OmVDEnO9iMzT5m/1kW+VcoZ1qFLHbrYsvjn5NqJM5g5zt969ve13AJsZxtx8ha0/myBY/1b9MtquebSJdYtNB3yD8P3I2lC8zglCRAtpL2sz69CKUcNlDi4wVURuQC6yBo+6trslbgseIRtYZC6wWYBvitM++EqI2GJ23CNTCh9dScjvFZYAr3HptfIN+7tZxjojfb/q5x/s92q501tb4pu6lRe5AtFe797HBE8hYNevlW+AZ6Qfj5Y5+bQdz0NZc2Q+Mg+ObtPJ4k+dxt1zo3x37f0OYlDV7XGHnTNsmKghm248otkOOP2nCCgCioAioAgoAoqAIqAIKAKKgCKgCCgCisB+QiBTiVAUMCjSUPCg2IR0RGkI6WWDKOmxEFkzfqy9RVGDghdLoPhQ/77HzdQXHrMWFqRBMqEs8gJKr6nPP2pvUXqe/es8e/1th1OFtNp73W7oOKu8WTzoS3POhAWmb4PUFmI8ABFyzoSF9lmUXP6A4hiLBawiNokCsHSjU6xS1KsHxKG1YhLyA0Uaisz4elIe7cTyDaJl26qVVnkLQegFyDeUrQQUf15a5bO7m3KntbYKwOJCgo28pJP3iFUm5RNCAIJhyeABVvmKwgtlGMpiAiTaT9fvtczgvmLHrkJMFExFTh93y/+ZWlfcYLy2d520yBJHWCOOvLiTbZe1RBPlLuVCcEPuYMFAAAOsdFE6Y+VBsJY8YuFHvD9AbEE8orQdcEptq4z+9d6bUrXZKslkHBHO/HSwJe+oS63LbzCbxQrhNyGwsJDBoskfal7+P0two4iDJMdaBMsEyAsINpTlW1eLZY6v7jyPRR7ts9fSxlpX9LAkASQm5Cbp5YSsXicKzm1CXhNQJDMGUDpTJ8a9F7qMm2PHi4enFw8mZZudaQkFrEAIkP0EFOUjzmtjr/nHePEsfbiGHKMdYAPR+PfKP0yz1z61iv1R111gn0MZ6Vm6eFYmWOTmypPbFK5Q2b7De8FZX/9kJjx4m1k76VcbBWk2+ZmH7BiCuI9JezxLaaxxIWaYpzNee1YI3dfN2Nuu9Yqy+EAygqsXmGsoqCH0f7j8bEsQVut+hc0LoY2GnPFDPSFJISGYP7Thn33WSODebbJYXUkY2Pw4S/gzN7rKXOVdX9araNOIw4qQOP4oxysDzHkZ85g2ef2J9Yu1orMl/Pvv5GffstbcWDwjMzjHeMxNl6cen/uygyEkAO1hYwcW69+03qtc/7fEvVeMv2pC+DIe6UPI6RmvP2fJMeqLxSR4UKejTm9jiVyvDG98er+MmS+OO8omIycaPfK8qSQbNrzxxhg47f3+shlkhCUhvLHNA1hlQybPE5Jpkmwi8QfmLwTxctkQQLk1Lhbl/2ltrLz2yvbyg6uHsX+sIvPBFkvfFm9/KYr/y1Nk8d60AjLXdoqF9YliIX2lYeyC3d/Ll6bICq/f/e8EP8YKWNHH9DnjE1kLUQlJwlwkQBpCVtkgWEOE+zFo1e87a8kIEYu8Gnf3jQYZSPv/kM0oG2ZNt+VjKYXVJ7IKYsbKPRnn3lpF/k6jptrXeHVlDWItggxh0wqEGFjy65edxNGOZGQn1rRVu11kDhMiwspOISN+FfLYv174ZWfLL4YKcTLCWhbXvOx/dg5OeOA2S+hBHvsD42L+F+/bPj35+XeE+JhvZrzx/F7ZKWPzULHYxtLaWq1Jvb3gjUnuaSPEKuN32Ujk416rQjbbbBJLto2zZ9jHIO4ZA2yYghjxy84zPh5kLc76Napm5QcPIJuQ7eOFFFwrMhnyF6K/psw3MCa0GTjKDOnYzF77/9UTEpM+Zm72b1LDJkF8YzlX68oelvRnAwJWqXh/gJyjXwiQ7VhL4sFi1xY2Ach6Zi0W91of2kzyr2jN2rZtfOuwJnlym3Q2EbGZyAuW5JPNGlgYQnZWbN/VbuLwxo+Xz1pii7zyZBTfDeDE9wU455eNH1XPvdR+H3nPQBzOeF1I531kKmV0GTvbJqct/3BzlMztpbJhBJlI8NaiRHm9dZy5ziYW+pa+x3IW62PWQzxtTHjwdlsWdYTAs0HmILJv2ktP2jmGLPav3by3X+Pqe9c3eYDNFGxUs3Nd2mw3kjHXZTML35KlG54s69Y4KyOZt5C0XvCPR+LAue23Y+04o7yhXU63mz4KlilnH2HDCWuOJy+QJWyWYq5TT28MI2dY0wgePt7a1Of48nYO4qEiZZ7vG2PkRx7wrcC3md14IniwKYv10R/Y+MOYpM5jb73aVOt+uV17UvLIc4yBhkJG0w9sguLbr3SDk+y3g/WsIpb8XmDMYKHOpgLWNTZizH7/Nem/nfZ5Nudh5UmZjHnPqhYZAibIKPsrMo8+GnDKMTaPZ/F8dLsuprSQyePvv9W+ko2KEMKrfh4lY/7LVMQ7Gco2O8P2HfPWyimvovqrCCgCioAioAgoAoqAIqAIKAKKgCKgCCgCisB+QiBzidB9lUZpiZKlhuykx8oyJexT5qTcB1yUFMurdWLdFxVQsi4VKzUCO9VRQkLcoIiOD56CLT6+0aMvClFU0SqqsWDKjGCJF5/CGMsB/lzalOj9WAJhSZpVAWUhRNvwc1vbV6A09BT+WfVOysVqM14pH/Y+S6KLMhyLHaz+CB4p4ymkievw/e+WHENZiLITcthTEJOeKHjPY+21ZeniRFmc47DMwRVoVMBCmED9hnVtmTC7Zz2dMDEkMhUhtC8fhPthYnGLZW3nMTPNqKvPFyvavWRoSFFOSdY1psxvrNOwhIKEwWqljFjlQCBgITr5qV5OZXmZcDGN1TMWNl81rWujvf728mTVL+/Je1jhvcprh5egBD9i30YJ/7jG+sg/9opUqSYWPReKa9RjxbLzRUsSQQx4GwuCXgWRCGlxRKOThdz6OVW2RJigCMeNZnyAsClQ+kjbH/Fp/vt2Q34xi2UMQ+ZA8AaFROMsKK8XHzSmUaYzHhmjJ9z5kBl0+oneIxn+xe0zGwOsNalY7/MeiDcs67COWjTwi5S1xCNeo16KNRvuKdkkAMlCgETxNqJEPZ+RdAharNxcA6Q+bS7fsq3IzsGpHvOvtymyU6yJl4tnBSs7E4wjfwFY/ONaPKsCLmwhdILWQTwn/NTj0jSvb/F2H9mAVMASlXiP8If0rHEeMeQvB2s3SD5C/Lrvzxd0nZ75E1RWfDxlQ+4t6PtJfFKq+0a9X7AWqBBi0195yiz6aq91aKpMcoPs8FuWxqcnuqcOyH+PcPXy4DIVopFNc2ePm5tCMHrpGfmFMMXKmDHJRjK+ASAD+W5g0xEWqljVEwqWOVKIULGijAhY9WOdz0Y2NqSlZ/xEvCJVMgS8t/EqVULcDdapWImyOcCzwozfKMbmFzbbFJcNI3PEy8V6sf7GhbJHtMcVmerWkzN1b7jdTHv5qVRpQTfxpKyXD28WNS+9TolQDxD9VQQUAUVAEVAEFAFFQBFQBBQBRUARUAQUgf2KQJYQobgLRRGPQmb+Z++bpq9+ZL67oN1eC5BMbB4WO9ZSLp1lskt9xajv9ipmZGd8ZoU6/7vVWqKmpzzcq3EW1P4MkDNYqXnK/Mx4dyLCJjPKjS8jkdINxX4RwfH42x4QV5RTrJvSWe+8Ev/of36PwpbAWZWe1U18pXCbOfa2a+Kj03WPu0zcBeJauJy4JR3c9iQnZaj/ZbgF3iFn2GEt5Q9YgkEyea6tvbTGj78sVid7rNvDaS8+4UU7/1JfrIJQmGdmwNUgVsNZHQ4Xi3Jr+bbvRdznE3L0RHEpy9moWCAtGdwvDbmZ0XqlyLZ0FgQ+1ppJSD6sg/xt8BeJW3I2HGRGwAoV6z1crPP+cXfdkHSx/s0x/ocpe86He92Ae/G4Ni5zUnM7njfNny3vfd8m+S30vbyJftk0gWVq48deCtzIkOi5qLisJhbD3o/sxCUqFoZYkXFOqLVkDnsoO6c5br5yaQIeFXb8+WfgJgKPlHIpKzvlwQoRwgv3vbiR9iwh4+uIm2LP6jM+Ldl7XDrjppx1D5LNs7RMphw8FbDBJj5wPulWcf2LVbwXsMbFJT+WmJxv6Y1pCNlFX/XxsoX+4h6b9Qw35BkNuN9l01BWhETkLucrH1qkiDlOLKz5Ll8rrp05amKhuMHNisCmIM659ge8uOB9hA0DGhQBRUARUAQUAUVAEVAEFAFFQBFQBBQBRUAR2N8IZAkRipXMtrVrhGTZaM9KOq7n/9ld+YmsNuIbjDtUz+WdPw3lCa7PMtNSMd7Np/99GbmOtwJLpizPdZ/3DBZGuJv03Kl68Zn161mxQGLFk1su74Dwpm4prtX2PfRfKvOpgueKExIHF63xruhc2ra/8lhCH1d5Cch4zxIw2brghpgzTuNDnetvs+TnEeJiEJeVU555OD5L6D1zMMi1bKIHsVbE0og+oC/2Z8DyELIzkbVlVlpiubQR8mGPyElkJTItn++CfQAAQABJREFUs60I491EutQpKI9nkZcoPV5eJcqTKA4SMp40J9/pcrbdsu+HiBvfm82Ak2slejQ0Lp54TsmcgBCj7gRkl3+MJIud5+I25V2OF4wBzm6Ol51+d8OORWVqNghw6wo4B8jORA0/um1ne2b3VDm7OjMDbqdxUx5v3ei9I9lxk5HvBO+dmf3rWQ4nKjeR2/9E+eLjcOvM2avxodWXw62bbs6R5Yxlz6IxPl/QfTL4YbGPm2w718UVvucCOVnLzmS/k/BqwPm7fvfctMfvNSCofVkVj1tvzlj3sPCOesjs98XPB1x0lxdX+LgixoJVgyKgCCgCioAioAgoAoqAIqAIKAKKgCKgCCgC+xOBLCFCEzWA8z6xLsE1mUvwiCzPvSOWQqXEWuWXO//nTBqEKZtqi3XAYeKudtpLTzi5vyxR9wTnunvtw60kVhZLhwy0Z415rs5QCK2ZOFZcMk72sqb59ZRIuE9FMf3b4/eluKxDgW7Pm0rzVOoI3JBxLlRYiFduYvWwYfb0sEdS0iAz6t54116CS4iG9LqyTOQqs/DRle2ZU7wskUI7yBoEyw/OUIt3H5pS6XReJKswTedrMvyYR6J44ye+QJT5+UuVtopZzkGMV9DiShE3zpzTFhU8l5qe+zxcR0KS8u5kiHu/q+Owd+IucIecgxZf50TPMEea4xpT3DzTnv5Natqz2hLlTU8c4w+rS8hmzi10DZx9HO+m0/XZsHyuMiGsjKxO88vjINe9WFkyfnZt2pRGxpEGUQPeLm7GPVeenpW93VSSv4B1oe5KonB235LB/Z2gSUZ2clbycT3vtSQ47R3Y4nind8RnwmJ69bifUkWDU6UOXQXHQ82U53qnSuOmbPMzU1nLeRkYQ8z/zLYSC5JF3nuT/aXvcufLL+dTLkv4KNbWWL1BrhHC3o9VPuSWd0Z3wgLjIlkzKwq+66f9Jh4HphrWKs4aJeAueVjXMwM3FXl1qXrepWIJeYfdLDb4rJPss4eVPSqwTTbDvn9Y9+EJAYu+nBA4tmDLH0vSVBV5fmihIuYfOdc7kZtn3Dgfkit3isvqNAX4Ikqe0MCs+32CHHNQycoHcGYTjokZs1vOpOVc2MwMflkWVC6EY6u+I+R7dZt8wxWx52wG5XWNB7PyLdvbdv722P+lELr+58PkEGdKc7bwfxHoky4/z7Kb1P6L9+s7FQFFQBFQBBQBRUARUAQUAUVAEVAEFAFF4OBGYL8RocCMG7NR13SPRBxlLEQoZzv5SQ9c0y35pn8aC5qgAjmrcNl336ZJTqQ8TpMpLqL+A0+aib3uSIkNOwsOJVmhchVMi3f7WqU7lk3HXH2TmfnmC/Z5XIRtXjw/0CUbilXOw9y9c6d1k4urs+1CAK2d9Ku1GgxTdPGCci1amuU/DE+pa9gFCtk1v/5kz5kin0cwhrXPK6/CWZ3EVeBa60qvtJxdOOttcYOajpCIFDlr0Gghj480Y2+92roPpVjGBa5ECfHPeJYaidzC2QfS8c9/Jl0YIeIpt+NfEV+XZNzwxZcVf3+IWLfkFYV8LnHNmVfmyu4d2+xZZ5AricgPyECsQDgXLEwpDElylJyrNv7+W+Nfae8h5T3r2mZvfGrnc8s+w8XF9HBRzpe01lJ7RPHsnZuXsJAkIv0KZ84h3bRofqDrRn+xkGCFK0JQLDIn3v2I+f7SLv7kDF3XuvIGIbH+zxItf6/4w25oQOlesd05Zn6fD9OU7R8fmWUpjRUxLlyXfvuVfZ93Fl6al/sicIG9acE8X8y/lxBCW1evcDqX7t+ngq+YjwTGJoTc3yuXmfr/97iMq1vSPIRFJUQBlnac8xwUIIqqX3ilzbNYzrlNdLafXzbWvu4WM+O1Z81Z34wReThMNkiUtOQqZyCWEuLEhfCLcqFctunpZsXokbbKKbJTLE3D5hiZcQ0Kqb/r783Sj6fbega1Oyw+kWVz6wHfi0VkdTP6fxenuA4t06RpinvpeNnpbZ5wJYfD6uOlsUmCs7qxOmOd8Mapl57ym8BSNyUt4AILZSyo4883TrShhiLC1vvjbr3PbBZ3sP6xgJyB4IwPEKCQzLj95PzzPIUKmf6Na8iZvxeknMOJxf0icTcaT9J65/jiXpZ+XzjgM1OkUlVzSJ689juHd3kbS4LmaZmTm5udcrZjorrF17V43eNDN1r519L4Z5O9BxesLbGwzlPgMEvu0sags3bZOIMV/E5xse7/vot/L0cMIOdYz/wW214+v6V687c+Nz9edZ5p89WPcgbot/J9UNqS0RDUnEMe76bVKyOZX/93lXdeedjzbMoqVL6ivH+JqSSbxn5//P6w7M5pp3800G4IwcMKZ3Ezx8C+opxN7m1gij8ywN8XfAuwCSqzgnWDO/5n+20a5ZId2VS0+jGZ9WotRxFQBBQBRUARUAQUAUVAEVAEFAFFQBFQBBQBZwT2CxE6+ZmHzPFyNlG/xtVTnel5wp29zO9PPGBQGJWoc7x1x/ePnEn3j+zeX/nTyDSER/M3PxOCtLBV/sx65+VIQhSCBj3rmknjrHJy45yZpt3QcdbCEEuDHRv+tFYVNS//n5zXNNkqygsJCfnn5AlpLAo9EqvZ658KGTPPlBbXorhy2zBzqlVgeucfoqxs8sSr1ooIpT1KqkVffW5+k3Z6LvU6jPzNfNuhqSiO9pjqF1xp8oqVHucFohjkfFWUWl3GzJROPMTM/fgtiw/KK5T6fwz/xnYu52BBuqC0PVoUYMVqHWu2Cyn56//dZJq+8pFVwH19Zn2bl7O4Di18uFhXHGKtL9aMH5syQCBpCH6FZJOnXjO4Tl08qK+h71DaVz33Ukveotj74Yqu9pnW/UdaBTJWcbTbs1Bp0Otpq6gbff1Fpv59ey1uV40dJSR2P/vcae8PEGKqs0E5j6XvX/Nmm5lvv5jKiua8GavMV83qprjd9awJhnRuYc/187vag6TmjMqvmta15Uf9w2oHAqvQUUebNRPGmnF397CPQFziwhUr5CZPvGIx8awnIGFqXXWjbRcEPQSE9xxjG5ziQ9Gatc3G2TNSortOWmy+rFfR3mPVwxl8HllDJOXgSo/+R1E5+n8X2bzx/7AKafnFsL1nbckAZyyvF/d7DHYspiGxsT6mLEueSwFgVP6MtpYM/arZsfLeW2U8PWNwI7lk8AA5T/V+sYwqZib0ut3kEstOFNUoNcvKWaJY2I697VqLh+dKuVHvF8zGubPsOO80aqq93iiWxBXadLJzd+wd10l1ctk6esQp7ah67iUyBrdawv2X26+TcVtXiMqHLZGweNCX1tKKcYLrQtoJsWXP8fWB0OH7382eHdvNN22a2FjIBdz7lTm5hZn+ypMyRwaLpfKdpkLrjgZrK0g+3BN64czPvrVnxHFe2Q5xTbpFFNXIIS9gyb34676GcZy/RCmzaGAfs2zEYC/ZoHTnnFX/WXFgsFjqjRzZtXlzCgHFQx1/5Jzan5zOvGQeHXNlD3OoyIPZ770qc/DLlPd6JCpjr2WfYWbSI3fZtpIB+VSp03liBVXItmmdyLAZrz+X8iwXWOwijxKFLuPmmNiuf8yAU2vL2D7SEpP+M1QhK+v2uEvGf0M7R4Z3a5WoGBvHBhDeX+WcC+3Y/GPEN6aMWC7O7/ORbZNXD49EbPvtWDm/rqh4ht5jrctXjxstc+tGK9sKliknxMYQew4n8w3SBQsrSC/IX+bwIbnz2A0TvJyxX1zWEs48/rpVQyGsrjLH3XKfjIunTJ3rb7dllarX2Hzb7mQ7nrHY97slbiFWxBC3Iy/pZNty8vNvWzIXkoXxWK5FazP/8/dtGuOKs1M9uU5ko0dfNEdKHy4dOshgscVmHM5RXTd5osFqzSPksRRjkw595D+T9MR7elusRl13gcFl6DY565A5vKDvJ/adkCAjL+po5dAxIo82yYaaWW+/JLJ/nU3nH7Jz4GnHWzlGfzNnu/wyR9acU03ZpmemclN6wh0P2vXDVXa2HfyzJZPBnTZ55xeDDdZ329asMlidsVHDykdx900aro5LC+64PeYMUu/81+Nu+T8z5dlHbN0hr0rKWkV/hwVkZsW2Z9t5S15vLegocuHr1o0s5jsED8gvNkFMeb63nVPI1FUyDyHGvOCRaVhqI/+2iLUxc3D4ua1tv/nPv2XeF69zgqzRvUz9+5+wc3rz4oX2nvWTDRJVu15sxx39Xrz2cdYine+bIlVqmEGnnWD7Btm2Uwj/JUO+MsVq1Lb4fNO6sa0Sc7z2NT1Fjl9vKnc+z5LkbOjg/O5zxs+3rnkZy3M/ftvmh4TC6p0yvU1CJPg3X9iMcf8oq2/DqjbWW4vYaLZ44F55w7dZqXpNhOAUi0zxaOGdqRlXjF03kJesPch7I2ONM87xKsH4LyB9iitU1mf6ijWujGxogoxnbA5sfpwdy5DafMcg+5G7fMuwsYpNNeSr1v1yuxbkLVzYjLnpClsNz2083xNTX3zMyoVWX46w30V8H0FG55MNGYPkO4gywMjvBrae9PlW2aDBtxFka60rrrdrxrCuLW35fpe+kNP0mX+e8R3B9+qQjs3sOsZcYvPW2onj7IYPiFzGAX3n36jS/K0v7LpZpeuFMkfXWBnifT/yYo8QRxYUlu8tNhD6xyF5mONszFvQ92PbLuJYg5AVfG+yfvjXDtb7at0vM8htVxK0Vb/vbJvZjDT1+UftOOA9BP95uKe931822MxN8XTAZim+fcs2O9NuXGIDyvoZk81KsWAu3eAkc6x4EdGgCCgCioAioAgoAoqAIqAIKAKKgCKgCCgCisD+RmC/EKFeo4Z3aylWR6tEcbPbKpdRakNOotRBsYfiCmUSFg/kJaAk3rZ6pSVauMd6BaUYSu1BZwjBJ4quaudfZhXiKKVR0KKs/+asJqbzTzOsQu7wytXFcu5QM+6eHpZ0Q/GHkpnwee0y1opg+PltRAHd1FodYiVJHVAC/tzzKnPqyx+YIpWr2bNLOcOUAEmBInjF6O+sQp3zHSEQsXxBqYeyFqsRAqSKp/iFnCUs/VbIp9sfMJN632PJISyPsF7AhXAdUVqhPCX8ePV5QiY+bonNoV1Os2Rppc7drbKLeJRN8z5912LybftTzKaF803HH0TpJJaTvz9xv7XeA18CSsDc4hpy/hcfCIlytyVPcucrIAr5wVbBBy4QCbhP3Thnhmny5GvmFyG0Oozc687YKtWFTAEz2odrP0gJznTFVSFkE893+O43aw2C4hElPO3ifac8/44oQ78Vhdndti7nTl1uiQGUoic/97YZcV4bGR8r7TOQGRAFEAYQaWsn/mIV1bhRRWHd5/jy8nu4pG2x+OAurr9Y3p7+wQCrlJwnZEWxGsfY8Tap9922zH+2bjW4TeT8TBSfWE+OufkKsVCoZUnZkic0tApYiMJ2Q36xGKB0haxlXP7+5AOWLIdAi0l/f1G3rMUVYqdMk2am0WMvmhViiTvng9etcvOkZ95MIWjAAWJyzYRfDATyhlnThUwrbVaNHW3mfPiGtWBBuZ5LLIToIyxOhgrpy5g+87MhguECa6nZt0EVsZIpbDGGdMDtJwFlbJuBo8zndY40501fafsIEgCFMmMUC7gT7+5tybCvWzawcwbSveTx9c06sdw6TqyUi4pSftS13c05ExaYaS8/KW3uZeZ89KYooOsKKXuB9NlWS3Bg5VdLyDpIfIgayHEvcOYlinOU2uPFBR/5KH+yYIe1H5gQGIu/PXavEApP2jruEeKVMQu5hDtnxiIkVR7BAnfaKFeZI5a4krynvvS+JTkhhkoe38DiWkKsoP4RSzEssBnzzOHprz5lia0/p06y5DDKbogxNjGwuYCNBBMevN0cfVZnw4YB8IXsmfPhm4JVLpEfM0yDB56y4wfyHoInf/FSdpzTfsZ/EbG+g3SBlEDOgA/Ehucys92wX2WsFjXDRCEOgb1+5hTBbbXgfYzM3Xesm1KwgYBkrkG8IvOwImfTARZn5Vt1sHVAXkB4bl+32rChAawgdiEfGCuMZayXIYdw+43injbWu/cxW+cVP45IcTXd7felps8JFWx/YM24ce5Mi3dtUeBTztCzz7BtgVTpLBszIM4LV6xqN0YwT9locexNd1vCBwukPUKkIrchD8uf2c66u8T6C8IYUqhSx25mqtTp5KffEKLuBDsWJj50hylR90Rz4j2PyHw4wrpthDgxIjvWz5hilfzII4g85I4n29jIgPzBMhTrdzY04I6ZPkUWsHmj+DHH2vFuG7jv3/BzW9k+YIxi/fyXkPlY57HBZNfmTebcaStkQ8cP5udbr5HNANvNGR8Nsr/IC3CI/bPbEnDMPZT9PMc1hD0bGKgr47Xpyx9a2UJ9CWwsgLBCbrG+IIewzmZMYfUGeUL5bJKBfIecRZayJo6763rT9NWPLfH2+1MPWiLPys7LulgrbOTqj1d2s/3PZpfitUV2CunEWoPFPhsu2GzDuXy5heRlQxL1hMSh/yp36W5+6nGJqX3tLVYeIDuLVq1ptm/4U8iW2y3RzHyFwDjmmptTZCfrKaQmm2bYGIQV4ICmdUw7IbbZJDHmpsul7PNNw4efs7IzX7ESpuZl11kZR196AevERo+9ZPFnzkx7+SlZM78UUrS+Hcusw9QVovS7C9rbuc2axZhFVlI33LKzmQhSHVKOwDs4c/bnW6+Scs4WMq617QfmHcQvZBlzbEzPK6wMa/L4K7KufmE3yfA9wrzxXKyf8cnXloCucfE1Qoa3MngLoG8Yv55bXfqauIVCTjUUMhgykHHhBdby5m9+busw4cHbbJuOu0m8Qwj5Sh9TL+TfWnHx2uy1T6zMWyLfCVjQId+RdciFIxqdajcsUC5yDgvUSkKagttyIZqRkTVlzWJTz8SH7rSv7zR6WspGIWQU30QbZI3vNnmpHcMQoIfKt9WKH4fb8Vjj4qstPuBLYE0sKIT2STJ3kROlTmxs64D7fb5j1spmMzYYIP9HXNDONH/jc7vZC3KOfmj8+Mt2MwJEId8syE7mwxDZEAYxOueDN+x7qBtyaeYbz1s5xcY1NnxBoELG8s2IHGKusyaADQRupQ7dzHKpO98HXmAzA/1PgDyGlGSNQbZDQGKduPa38dYjBlbd1Jk5h4xFzjO2/xg2yMolu5lG5jUufLG2hfQF55OffcvKSYhlL+zc/Je1FN67Bk2xY4SNM1ilI+PYyMN6xLpFgJjEurPZ659YLyDIVdYgvuuw5KTO5D3ulnvlG+cY636eeV5UxhZW13w7sZmMdYhvMI5xQIYgC/s1qibXJS1erMV8k0Ius24g59mggxvyYrXqmD/ke2v+Z+/ZcQmxf8JdD9n8YFdM5DcbcGa+8Zzg2FYIY1mPZAMK/c7mjrbyvbRh5jT5Xr7SWqO36vud/ZZFJh4usoT8bIj5+eYr7RhCPmtQBBQBRUARUAQUAUVAEVAEFAFFQBFQBBQBRWB/IrBfiVAU4tY6TCx/cGuIsgmlDTvKIYawzkJJ5rccxboE4mDnXxutwrm8WHnlEyIMRQpKH6w6eYbgWZShVPasziAhIZfIz651ztZEyYNyGCUoSp6F/T+zSm1IISyTlg4daMkGrFKLi5IeqwJ2xfPcgn6fmGqiyCbgpnOWWDKunz7FWiFV7ny+KEKXWmVo4aOrWOUPSlkU6yjed4hbOxSAY0RZhNIdJRrK6d+ffNASbbZQ3z/i695wu1X+EQ0RV/7MtqIcK2EGtz1ZFNc9rRIbsoGAdQ6KWMjgXHnzWOsfFMqnilKe4CkrKRfLFwheLNhQyP941bkGC4iK7c+2yjow2Sl1xBrFI3RtIfLPU+hyT7/s3rnDKlz/nDJRLLWOtUp+FIxHnXmWtbagn8ASRS9EjOeGEAsFlGS4LkQBzjmokGq7tmwy1btfYWYJ2fyPkKBYRkAQQ/phMVTwyKPM90ICYG2Cy02UovQdZDVWphCaEEEoCbGMKFq9piUJOL8SZT8Biy2Uc1iqYhU0691XLOnDGYSrxc0briXBC1d/jKU6/7vNEnso4yEPlgqR9tf82TYPSkr6CcUgCnQsI2kjilBP4Y9SEdd4WGBCMI+58TJzyovvWSIEy7tTnn/XKtdt5eQfVoq5xe0thAZEPxYZnLU2QaxAeD9kLJYikAEEFLSciwfJDUFjlc9CzFoLQZkjEOuc00YZlEs/kefcqcvMDFE6F6lUzZKtuLSl3li9QdigpIVIxtITEpdNDBABtBHC5UhxDRoU1giOnK+INRtlLez/qSVcIZY59/Vw6a9d4g6V+oArmx4gFnGfeuI9j5qxt1xpNzyMvLiTbRu4QYDll/G/cd4sS3KhiPcHxvWCfvIeIbkhBxkzvAuyBWKG/sdCD/ITS1IIqqEil2pf11OU+HuEpL9TFOBHWSUz86imEKcQPHOFEC53mlg1ibKY5wuLW0tIrNM/HGitclCsY/VG/RZKe1FeM65XCgmNMricWNaWkb5C3m1etMD8I66Ml3zdT2Rgbksq7C2/td3QAG4QYWCLnFgn82qTuO+EAIUYAS9IOjZfbBHrNkh6iCGwrtjxXEtMQfCDDSQ71pEQtRButA2SFvK+areLzLzP3rfwsali0qP3mjYDfjCjb7hYNhc8Icr1WWa2kPoNez1r+4aM/rpBmCELUXCjeJ/08F1iobjAkodsZLBWkDIvIU3/lrH32xP3mZafD7WKczaLQO79MXyQadRbZKiQ1pA4kCmlG55kiRGscLGixEU49WO8QgZhmYWFFX2H/EX+lK5/kp0rxcQKm40XbDrASt6TjbaR8g/rTSzJIFmx/PzhinOsvNwua09MiA2I6HW/CzkiJHN+IS0Y78hyz7p6yTd9rXzZtHCuyP8FBmKMcQDhhwVsPiEdINNwYYosY6z7A2PwlBfetVHMWcig8Q/cajZI+5mjJ9z5kCWa2AiA61RkJwQKpNzKMT+mWD9WO/9SGdtV7VykjePv62nJCogyzqCe99m7du42ePBpS4gzlsGSfmKzA6QXcnO7rIfFZUwimyHykWXITvDBXTGbD7b8sdiOF2QgwZOdlnRh48K7r4qcKWhKy/PIU+Y1/QtpBcHPXGROs4kJ2QVxzbrDuIa8hMghIGsgbwisz6xL1IkNNbgXLSTnPzIGkE9sypknpA2yDiKU97KGMAdwPU8Ydc35dh62eOdL2+fIdDYHgDEbPFjXGKOMGQg/2o1sQxaxUQJZQJ8cKZbme4TgAw82TCwQYg5CmDaw3s565yX7HN8hWJKyoQICHZKe9jNG/OHXe2+Sdp0sm0XOsZsb+C7By8QRshELGck9462ikHsESKvVv/wk82iFtZ7km4I+3yB9xMYSiEJIXUL/k2pYop+xR3uQc4TT3usna+bZ9rrhQ89If9xqiS6+dyDRsMwdJUQtaygbKWgDdafPCMgPNhYgQ5jvEKZ4EmgsBDZrA3jxLUNg/lhcJT+bGn6950a7cYU+hTBHdrHmIZ+wzuXbig08Vc7ubvvBbhATWcK6QV+vGvuj9QLB2sD6Rx8sGviFXRMOk28BZBkW4h6xaCvBP5GPHimO5SSEMfXCOhXL4GavfWzlDd8WWDjuko0+uJsvK0cLYCVKfkhfNvVgtcwGGjZ6YIkNCcl3od2sIe8hzguMYzYS7fWaMFPO89z7bcO31U83XGKqyfrBZrepLzxqy+Q5Nk9AfDL+WPunyZrFWs17IGTxpLB11XLb/3xLbpONMHh9wJvJBvn+nPXeK9LH/e2cwLMI6xxy8O/lS+36x/xn3YGkZZML7riRoRCzrC3IUNzqQi6zRtG/rHF8ZxDoc8hzAoTrUrFm5lua7waeRe4UPrqS/RaGzGaDI+Q38w05V/nsC6Qtx1giFAtizkjWoAgoAoqAIqAIKAKKgCKgCCgCioAioAgoAorA/kRgvxKhC4VEzCeKWJRmuCxE0QxRsOirPlbB7TUcog0FDZadKGkt0SWKOY+IrCwKMxRVBM9yhmt26EN6+uMgErDGQ/ntBZTh/4gyDpddKFQhtOy5RfssSSBPUdbwPlynoYD1gl85SBzvQrGH0gmlKWSbZwnpPWPzidIeawmUwygHsdQrLOVCnEAOY20HEeQPuATFPakX7LlbYnmFAhZlWMUO54jiUqxd97m3RVG4S5TC4qTOKm7BECUx7yRwzhZKKpT+WNrZ+H3KQgg38qMQRlFGXSGGUBKimPQHj0zwx0GIoizOI5ahYE2fYXWEkpIAsQYhgjVvTCxVcJ1JnqNFOch5epB4YILyu6BYjVA36oCVGVYakJL0A3UkoNDDFSOkE0o1CAsIYpRy9AF9R99DNFAfrOzoU8aCP5AP/FAGQ8BCohKIh0iDCKBOWPRBvGCdBOFJ2dQRSyXql0viULpaHGQconjFxSHKaMqCgID4x22mtWKS56gnViw7BQcsevwhHmPIfcYX7cNVLXXwhxmvP2vHMMpNAu6K/5HxAFl8hBC9YApmWIR5Vj4Qm1ieooRl/GOtCw6QFf5x413Tfm8MM28Yb/555a+Pdw1OO0QxS8BqmD/GBSSBp+gnjbK8eqFIpx+YF3mERMTScf20yfasQeoCluTH9aZHolCGF6ijHx/bf/JOxj3PoxSGuITwIGC5tVE2YqBMp2wU0ViCFhZFNO52aTeyi7GLpTSWswTaBjHAvITIgMQj8A6ssawiXu7pM6/dNsO+f4x/rHuRWRAC1Iex5A/gjAUPmy0gsrz5xLjivRC1PE9gLHryZzfXMu69ccTct/JR+p/NHGVFEc65fmz64JxCxgdWT8xD6oUlEvWfL+/xSBavXowtrKrjA5aRzAHGnEdAeHlw53rqKx/avscKCaIMGY4rUDAmpLxXriG2IFNpD1ZZkBFsWkExz3y1/Sv12ylzFvKCe9poZa/IHPJ4c9sWnuAf/cqcZ5whF/KK23UsWyGbwYJx4g/I/r347t5bvrwPGYCrbIjF/MVKCnlQReaI9Jn0/xRxl80mDn/w+sMfR7lYwHqyChnCe5DVBGQn60T1C6+SLokJ0TTBykrrklTukU0QclhV5xcrc8gMcNjDuBN5DtaHyZnV9DHBk530A64qGRfIFPAiP79+2cl6CPnkjT1biPyjncRB3DHH2UTiBYjt4jKf2EzDfAdrLKwZq3tlZ0EZr9vs87Q1UfDLBG9th5SF5CN489re7PvHOgwhSgDr9WKlhozzAnIUa85EwV8ez/KNsGXpYjsWmNPgSohf38GTscMYQj7QHtYqcOHcZDuXfC/EWhb5wwYcAtjQ9wSsHfMKOUnfghuB/qAvFwrBbi3xcuW2BCXfHfSXN+/JyxqKDCPQHvreElGyvkAcM15JxwsD/UUeSGz6BQKfeG9zjS0kwT/aT/2Z45QVv6ayqYpNXshGyoc4Zpzg5prvGerAGGfcegEijU1LEJxVZUMWGziYQ8x3f/u8bzvGBvPWk+H+PF6Z/l+eIw+b7ViH6UvbZ1IvNml566Z9RuYUbQN35DJzmnfxDBtO2BwH2ciaST1+lnPMOY7AHxLO831ylT7i24L1AjLR+6bheUhtNgewFrFm4Hr5rwVzTEGRyxDtkMnIRQIEJvLaG5deHfm+hAD11iPG1+6dsnFmT8wetVBNNpkxnw6V/vHWXFug/GONBBfGI26KIcXjZbmXlzaydvIN6o1xyGPGNfVCNiPj/d9xyAz6wauzV5b+KgKKgCKgCCgCioAioAgoAoqAIqAIKAKKgCKQ1QjsVyI0qxuj5SsCioAioAgoAoqAIqAIKAKKgCKgCCgCioAioAgoAoqAIqAIKAKKgCKgCCgCioAiAAJKhOo4UAQUAUVAEVAEFAFFQBFQBBQBRUARUAQUAUVAEVAEFAFFQBFQBBQBRUARUAQUgQMOASVCD7gu1QYpAoqAIqAIKAKKgCKgCCgCioAioAgoAoqAIqAIKAKKgCKgCCgCioAioAgoAoqAEqE6BhQBRUARUAQUAUVAEVAEFAFFQBFQBBQBRUARUAQUAUVAEVAEFAFFQBFQBBQBReCAQ0CJ0AOuS7VBioAioAgoAoqAIqAIHHgIrFu3zqxevTqwYYceeqipVq1aYHp2SNiwYYNZsWJFYFUKFChgKleuHJiuCYqAIqAIKAKKgCKgCCgCioAioAgoAoqAIqAIKALJIaBEaHJ4aW5FQBFQBBQBRUARUAQUgf2MQCwWMw0bNjQTJ04MfPO1115rXnvttcD07JAwZ84cU6tWLUN7EoW8efMa8lSqVClRssYpAoqAIqAIKAKKgCKgCCgCioAioAgoAoqAIqAIJImAEqFJAqbZFYEDFYESJUqYzZs3hzbvkEMOMTt27AjNo4mKgCKgCCgCBxcCRYoUMdu3bw9tNNaaW7ZsCc0Tlvj555+b888/PzBLrly5zOzZs7O9RSgNaNOmjRk6dGhgWy666CLz4YcfBqZrgiKgCCgCioAioAgoAoqAIqAIKAKKgCKgCCgCioA7AkqEumOlORWBAxoBFNkuROiePXsOaBy0cYqAIqAIKALJIYA7VxciNL0baXbu3Glq1qxpFi1aFFixzp07m/79+wemZ6cESFDI0KAAqTt16lRTu3btoCwarwgoAoqAIqAIKAKKgCKgCCgCioAioAgoAoqAIuCIgBKhjkBpNkXgQEdAidADvYe1fYqAIqAIZA0CWU2EPvfcc+aWW24JrfzYsWNNkyZNQvNkl0Tc4kLszp07N7BKHTt2NF999VVguiYoAoqAIqAIKAKKgCKgCCgCioAioAgoAoqAIqAIuCGgRKgbTppLETjgEVAi9IDvYm2gIqAIKAJZgkBWEqEbN240VapUMevXrw+s+0knnWR+/vnnwPTsmPDyyy+bHj16hFZt3LhxplGjRqF5NFERUAQUAUVAEVAEFAFFQBFQBBQBRUARUAQUAUUgHAElQsPx0VRF4KBBQInQg6artaGKgCKgCGQqAllJhN55553mySefDK3vgAEDTKdOnULzZLdEzkstV66c2bRpU2DVWrRoYb7//vvAdE1QBBQBRUARUAQUAUVAEVAEFAFFQBFQBBQBRUARiEZAidBojDSHInBQIKBE6EHRzdpIRUARUAQyHYGsIkKXLl1qatSoEXr+aPXq1c2sWbMM52rmtNCzZ0/z/PPPh1Z7+PDh5swzzwzNo4mKgCKgCCgCioAioAgoAoqAIqAIKAKKgCKgCCgCwQgoERqMjaYoAgcVAkqEHlTdrY1VBBQBRSDTEMgqIvTmm282L7zwQmg9Sb/xxhtD82TXxPnz55tq1aqFVq9Zs2bmxx9/DM2jiYqAIqAIKAKKgCKgCCgCioAioAgoAoqAIqAIKALBCCgRGoyNpigCBxUCSoQeVN2tjVUEFAFFINMQyAoidPfu3eaoo44yq1atCq3nkiVLTIUKFULzZOfEunXrmunTpwdW8ZBDDjEQppUrVw7MowmKgCKgCCgCioAioAgoAoqAIqAIKAKKgCKgCCgCwQgoERqMjaYoAgcVAkqEHlTdrY1VBBQBRSDTEMgKInTkyJHmjDPOCK3jsccea6ZMmRKaJ7snupyB+sADD5gHH3wwuzdF66cIKAKKgCKgCCgCioAioAgoAoqAIqAIKAKKQLZEQInQbNktWilFYP8joETo/sdc36gIKAKKwIGAQFYQoVdeeaV55513QuG59957zSOPPBKaJ7snjh492uD+NixUqlTJLFiwwGAdqkERUAQUAUVAEVAEFAFFQBFQBBQBRUARUAQUAUUgOQSUCE0OL82tCBywCCgResB2rTZMEVAEFIEsRSCzidCdO3eaMmXKmA0bNoTWe9y4caZRo0ahebJ74j///GNKlSplNm7cGFrVUaNGmaZNm4bm0URFQBFQBBQBRUARUAQUAUVAEVAEFAFFQBFQBBSBtAgoEZoWE41RBA5KBJQIPSi7XRutCCgCikCGEchsInTQoEGmY8eOofU64ogjzMqVKw8IK8lzzz3X9OnTJ7S9l19+eaSFbGgBmqgIKAKKgCKgCCgCioAioAgoAoqAIqAIKAKKwEGKgBKhB2nHBzV7/fr15s8//zRFixY1xYsXN7lz5w7KqvERCGzatMmsWbPGlChRwhQrViwit1tyLBYzK1assIrfI488MlMVwJlNhGLJs27dOtt+xlJ2Cd4Yp1+yU73C8KHOW7duNUcddVRYNue0HTt22LG5e/dua3WVP39+52dzWsbt27enkCX0N+M8Owevvvny5TMQPdlZBnsyjvWC+ZSd3HZ6dStcuLC1tsuVK1d27naDVeDy5csNMh4sqfd/Ffbs2WNWr15tGItly5Y1jMWokNlE6Pnnn28+//zz0Ndedtll5t133w3Nk5mJWdlHH3zwgbn00ktDq8uYWLVqlSlYsGBoPk1UBBQBRUARUAQUAUVAEVAEFAFFQBFQBBQBRUARSI2AEqGp8chxdxAkS5cujax33bp1EyrUJ06caD799FMzdOhQs2TJEku2eIWh1D788MPNcccdZ1q3bm3/jj/+eC85qd+ZM2caXN1FhaB6Rj2XGeVDCk2bNi3qVaZy5coJyZQ5c+ZYa40hQ4bYPkER7wWIpnLlypkzzjjDdO3a1TRv3jxhf3j5/b/Dhg0zr7/+uqGN9BEkFoEyK1asaOtDnU488URbdqFChfyPO19nhAiFpBs+fLjBigf3fZC1KNG9QF1r1aplOnToYDp37mzHlJeWlb/0CXUaPHiwWbhwoVXu+8ch9ULRz9/pp59uLrzwQlO1atUMV2ny5MmRZfDO0qVLJ8w3f/5889JLL5nffvvN0Ia1a9fafCjC+/fvb8dRwgfjIrdt22bb//XXX5tly5bZ9qNIj3fBCFEPsc4f9WrXrp21xnIhQOJe+Z/dTp061cqx6dOn2/GHpRh/8a418+TJYzcm0GaI5VatWpm2bdua2rVrp7vuvAfiKCzw3jp16qTJwpzGEox+nTt3rkGmewHyDjIU2dGyZUs7PplHGQmMrS1btoQWgdznTML4wHj84osv7Hyi3v5yDj30UDt+jj76aDvHzzvvPEuyx5eRFffIG8Y4c33WrFmWLGLsewHsvbHduHFji2P9+vW95HT/Mjf970lUEOR7hQoV0iT9/fffZuDAgXb9RV4whiAgvQCeuIZlrWD9pf8hSLMisGHns88+M/369TOLFi2y+EH6eaFkyZLmmGOOMeecc45dY6hXfMhMIhRsGPf8hgXmDOtJWMgpfUQfgCtEeFj46KOP7PgNy6NpioAioAgoAoqAIqAIKAKKgCKgCCgCioAioAgoAnEIiNJFQw5G4J133kFrFvknZECqVgrxGatZs2bkc/FlC5EXE8IhVVkuN6Icd3pXfD1dyiaPEIFO5Yu1a2CRQjY5lSEK91RlTJkyJSbndjk96+EpCs+YKO1TlRN/I9YwMSFOkipXiLLYjTfeGBMSNr64yHue9eoX9CvkeKpyhAiJ3XnnnTFRgkc+6y+TcQRuWRF27doVe+2112I1atRIqk5e/eS8udgbb7wRE2I83dUDJ6+8oN+nnnoqTflCxMfEEiomVoCBz4vyP81z/gjqPXLkyJhYS8WE3A4sJ6heXrwQOLEePXrEfv/9d3/x2eqaOXvffffFhLxNdzu99sqmgtj1118fEyI/6TYyB7xygn7lDMBU5QoxHRPCOfK5+PJOOOGEmJBWqcpK5ubUU0+NfKe4JE1V5Pjx42OySSXyOX9dGcNC3sV+/fXXVGVl5o0QiTHmq8t889eNa+TDI488EkOGpTfIJqFITC666KJUxcumkVjPnj1jhx12WOSz/jqT/6GHHorxfGYF2TQQk00AMSGKnesi5HxMNvPEhLhNVQ3ZVBJZhpC7qZ4Juunbt29kWWDz119/BRWREp+T+qhevXqR7RYyOqVteqEIKAKKgCKgCCgCioAioAgoAoqAIqAIKAKKgCLghgC7zzXkYASSJUJR+l577bWRyja/Ajb+GgV3IhInDMYDlQh98cUXYy4K4HgMvfubb745JhaeqaDj/qqrrspQH0Hq/Pzzz6nKjbpJlggV66GYWNSlu54o1G+66aaYWB5FVc05HXJZLObSXSevX/ht0qRJbPbs2c7v9md0IWbi59Bbb70VSoB6dQsjQn/66aeYWPJlSvu99/HboEGDmFgk+5v4n16LVW/snnvuiYmLyExvK+0Va8aYWHg6tzFZIlSsumLiTjZDdYesjCejXCqcDBEKzvfee6/TuPSPF/8168Udd9wRE8tJl+o55YGYTXbzib9O/ms20aSH/KaiyZJs48aNS/cGDa/OyPZ58+Y54RSUic0ivXv3jkFMeuUm+8v4Fbe0Ka9wWQddidDbbrstsl58U7iEnNRHV1xxRWS7xTrcpdmaRxFQBBQBRUARUAQUAUVAEVAEFAFFQBFQBBQBRcCHgBKhPjBy4mUyRKi4mYthTZSswjMo/6OPPuoM2YFIhMp5XpmC5Q033JCCo5ypaS2cgjBPJl5c5MYmTZqUUnbURTJEqLhTTpcVVqL6t2/fPsbYzEgQN7wxcWubKf3hryPK/eeffz7pqiVLhPbq1cu57kFE6LPPPpuUZZe/nS7XjKcvv/wyaSwy+4HFixfHxL2pM14ubUuUByvTBQsWOFU/GSL0/fffz7S6Y7Wb7IaHZIjQq6++OtPqKq6HY+LC1gnPsExYRbrMr0R9GhRHeVjSQxAmE5Ih2b799tsMEcr+ujM2xeVrMlVNybt58+bYKaeckmn9+sILL9iyM5MIFXfAkfU766yzUtoUdpGT+uiZZ56JbDfjQNxShzVZ0xQBRUARUAQUAUVAEVAEFAFFQBFQBBQBRUARUATiEFAiNA6QnHbrSoTKuXOx7t27OynZ/ArXqGtXS5oDjQjFHWcUNq7pWEb+8ssv1jLUhaRwLZd8uOB1tWxzJUK///77DFkSJar/ySefHMP6LD0B96iZqdhPVL/HH388qaq5EDWeRSiWjYneGRSXiAiFmA7Kn5nxWPeNGDEiKSwyM/Mff/wRk7Me90tbwQ3ru+XLl0c2wZUIxSJQzl3N1PrLeZ4xOes5so5eBhcZg7Xpq6++mqn1BE85ZzLGfE1PwFIeN7OZOZ7jy7rgggtick6nc/VcSTYsODNqARxfVzkTOmn33bjVbdasWaZiiEz45ptvnDwjuFiEgr+LS+/bb7/dqZ9yUh9xZEF8Pye6x22+BkVAEVAEFAFFQBFQBBQBRUARUAQUAUVAEVAEFAF3BJQIdccqW+Z0JUJdFPWJFG5RcSgZXVybHkhEaOfOnZ2UlVHY+dM5CzQrLBp5B+5nXYILEUp5WAb6655Z17fccotLNVPl4czXatWqZUl94tvFuaGuwZUInTx5ctJWYvFEKC5rs8pFbDwG3BcrVszZUtIVL5d8uPU+/vjj90tf+9t9+eWXR1bPRb5yjm5WkbglSpSIzZo1K7KeZHAhQsuXLx/LmzdvlmCNVwKsEpMJWGpyrrC/X7Lq2m+hH1VHF5KNMziTPevZtW3JyCQIxtatW2cJhpxf6iLzXIhQxrFL+7Gsdgk5qY/Y6OHSdtc13QUfzaMIKAKKgCKgCCgCioAioAgoAoqAIqAIKAKKwMGAwCE0UhQvGnIoAnJGl5Fzpf7T2n/99demXbt2oXUQyyoj7txC85C4YcMGI5YzkfniM1SpUsUsXLgwPjrNvRBnRtxJpoknQtzSmlKlSiVMy8mRYoFm5s+fb+Q8z9BmiBWOEYIiNE9WJooi3YhlkRGXh06vEcW+EZLBiBWNU/6MZhLLXTNkyBDTsmXLyKLIGyVan3jiCTNw4EAzduzYyPL8GYQINULGp0QJUWfee++9lPuwCyG7jRBhpkaNGsbrb3FXambMmGGmTZsW9miqNLGcMx9//HGquKy+kXMDjbiOdH6NWEObevXqmQoVKpjSpUubTZs2Gea/nKNqFi1a5FyOEIJWtoTNn7vuusvQn/9lkDNtjbjJNcyjsCBna1oMwvJkdVrPnj2NuHJ2fk2yfe9ccEBGxplszAhI/TdaiHkzZcqUfyP285Wcb2rEfbPTW4U0NXI+uFPerMokRKgRy97Q4pErYvkbmodEsYK28zsqY07qI9oiFt5WVoW1q2HDhubXX38Ny6JpioAioAgoAoqAIqAIKAKKgCKgCCgCioAioAgoAj4ElAj1gZETLzNKhIqVkhF3hUYsisz06dMNpEiyASJGLFNDHzvQiVCIL8hYsU60ZOKyZcuSIlvCwKNcyByxujHi5taIBaCRMzXDHkmT9uKLL5oePXqkifdHeMSYP871ukGDBkasjWw9IV7FssWMHz/eDB482IjFsGsxhnEibiRNnjx5Ip954IEHjJwXGJmPDJR32mmnWRIQgow68h45Z89MmDDBua+qVq1qSUMU+mHBhQitWbOmmT17dlgxCdP8ROhff/1l5LxAIy4vE+b1R0I+iYtfE1R3xpW46zViaeV/LOE1eELAMC73R2CDBO8Sq9DI14nVpR0XF198cWBbxUWtEQtsZxLpueeeMzfffHPguzNChCJ7u3btahhb1H3jxo1m6dKlhg0m9Eky4c033zRXXXVV6CMZIUKRb+I21/ZFyZIlzapVqyxJLGfHWtkU+mJforhTNXJ+sRFrPV9s4st+/fqZc845J3FiglhIolatWtl5gUyD9Gaei/W1M9mPrGVuhpHfvDqjJBv9LWenGuYx6++2bdsStCg8inZF4Ug/1apVy46t8NL+TWXTxNlnn22QU+XKlTNyDrNhXYNsHzlyZORGj39L+vfKhQhlnsm5o/8+lOAKsh9ZIJbwCVJTR+WUPvJqzYYG5FNYYHMGGzvkXNawbJqmCCgCioAioAgoAoqAIqAIKAKKgCKgCCgCioAi4CFwMJi9HshtdHWNK/2d4nKNM70efvjh2Ny5c9OcMcb5baKEjAnRkZLf/2yia7GijIT4QHKN68dACC97bp1Yo6bBgHP7GjVq5Iyjv1yuOcvt999/T1MuLkLFmirGu+OfCbpv3759mnLiI1xd4/rfIZZ2MVGMxxeVci+K89hJJ53kXE/KFouglOeDLqZOnerkipHyhPgJPeeRs0l79erlfO7po48+GlStlHgXN5F+HJO59rvG5aw4l2c7dOiQUreoC7G+cyoTzPZXeOyxx5zqJMSA83mZixcvjgmJ7FTujTfeGNpUF9e48f3EGHnyySdjQjAFli0WyNYVcfyzQfdi7R4TIjWwPBJcXOPGl49sEOvlwPMzOb+TdSMZmcS5vlFBCELn9guRHMPVdFgQy2nn8s4777ywomyai9vVeCyrV68eGzZsWAy33v6Ai3ncXDdv3txpTHrlymYQfzEJr8VrRFJlCrEfY50JCnw7CMGYVJnUV4jQoCJT4jkv2mtb0K9Ywqbkj7rIKX3ktQNX3EHt9seLZbv3iP4qAoqAIqAIKAKKgCKgCCgCioAioAgoAoqAIqAIRCCgZ4RGAJTdk5MlQjmjbtSoUZHNQlGbDDGGwjosHIhEKEr/4cOHhzU7JpY4Mc7b8yswXa4hK8TqM7Rs+t6VcBPLqNCySEymv2mDWAnFxGoqslzOA4TUdWk3eY499tjIMsWCzqk8CCzOF3QJ4mrQaQMA5+HRr2HBtV8SYQKhA7EmLn9j4nYztnLlyhhnx4nr2phYCcbEwi3l1RBpicqIj2OsuAbOEoTgji8j/j4ZctX13UH5xMIvsj7UTyxeg4pIGC9Wsk7lihVkwue9yGSJUMaHWG96j4f+iuVkDIIzHv+g+9deey20vGSJUGTHL7/8Elqml/jhhx8mdeYtGxrCAht2gtrpjxfX7JEEsPee5cuXO41vyg/b5EF5yZJs3bp1i4kln1eVhL9szLjkkkuc2k0dyRsWIMaTOUPYdQ6tX78+Vr9+fed6UtcoIhQy2KWuyAPXkBP6yN+Wp59+2gnTV1991f+YXisCioAioAgoAoqAIqAIKAKKgCKgCCgCioAioAiEIKBEaAg4OSEpWSIUK0XXcMcddzgp5FBwRhFiByIRet999zlBKa5XnXEES3FFGKks91583XXXOZcNIRkWkiFCIXfFNWpYcanSIHVbtGjhXNcwaxc5z9KJAL7yyitT1cHlxpXQkjMEQ4tLDxHKM1h3QUS6BohexkzU3+uvv+5apM3XvXv3yDKZ0/sriIvSyPqAAWMjmfDJJ584lYuVWlhwHTfUkX5OhpjmvViGiwtdp7o2btw4rKpJWYTKeYUxNggkE8AUrwNRY5J0OYczsGgIQxcCmPYmM2d4oWu/R5GMyZBsWMa7BnGRG5Ozsp0wlDOLQ4t95ZVXnMqhP8SFemhZ8YmQrMl4PYgiQtnw4TJuzj333PiqBN7nhD7yV/6jjz5ywoBNAhoUAUVAEVAEFAFFQBFQBBQBRUARUAQUAUVAEVAE3BBQItQNp2ybKxkiNBlFLA3GTZ+LUpI8P/zwQyhGBxoRivId6xXXkIxVqJzT6FpsTM7gdO4jXIGGhWSI0LfeeiusqIRpkFSu4+nBBx9MWAaRLm4ecZGKW95kg5y16WTBe+KJJ4YWnSwRWqhQodiAAQNCy0yUeMEFFzhhWrdu3Rhtcw1Yn8r5w6F/uBlNloByfb8/H4QYhFzUH+4yk60PJJ/LmMxMIrRt27b+5jlfY+npUlfyhG1MScYitHfv3s7182e86KKLnOqK5XGQxTaudl3aG7X2+Ovlv5YzgyPLRyaGzZtkSDbcWCcTXDe5MLfDgpzfHNlOcJazKcOKCUyT8yydyucdUUQoro1d+lzOwQ2sT3xCTugjf51xQe2CgZyl6n9MrxUBRUARUAQUAUVAEVAEFAFFQBFQBBQBRUARUARCEFAiNAScnJCUDBGarCKW9terV89JKffpp5+GwnWgEaHJWnR16dLFCUcUoH7Xp6GgSiKWlvny5XMqGxebYcGVCMVSKcptb9B7XM+/w5VuUHA51zHqTMegsom/9dZbnfAMI5uSIULpvygXoUH1xaLORWlOHiyN+/XrF1TUQRmP3HLBLzOJUP8Zr8mADiGMW2aX+oZZ9rkSoVh14kY2PWHMmDFO9aQtQV4KXNwhI0/SGz744AOnOvbp0yfwFa4kGzIriPANKhy3vC59XbJkyaAirGcB13Nb2diQ3gAZ61LXKCL0+++/dyoHGe0asnsfxbcDYt8FSzYbaFAEFAFFQBFQBBQBRUARUAQUAUVAEVAEFAFFQBFwQ0CJUDecsm0uVyI0T548Mc4eSza4uMhEaffss8+GFn2gEaErVqwIbW98Yq9evZyUmy7nY8aXDcHlojiNOufPlQjNiCUKpIJLXSEHcQ8ZH7BUdHkeq5r0BldlPOdzBoVkiNDLLrssqJjI+JdeeskJDz9mWIgxXzl/NFkLysgK5aAMWAxjRerHJug6s4jQMAtIF+hw9xxUR3/8xRdfHFicKxGaXstV78W1a9d2qmsit83M/QIFCkQ+nxH3oKtXr465kIQXXnih16Q0v64kW48ePdI8GxWxbt26yPbT58iaoLV95MiRTmWwuSXM8jWqrhDv/vEXdB1FhH755ZdO5eBC3DVk9z6KbwcbloLw88efddZZ8Y/qvSKgCCgCioAioAgoAoqAIqAIKAKKgCKgCCgCikAAAkqEBgCTU6JdidBy5cqlq0k9e/Z0UspxnmhYOJCI0Lx584Y1NWEaZ0r6lZhB123atEn4fFgkblqDyvPHZxYRml7rRdqAVVSxYsWc6svZqvHBFcelS5fGP+p8D6lQpEiRyDqGWeQkQ4RC7qY3QMizycHfz8lclypVKtatW7fYc889F2N8bN++Pb1VyTHPTZ8+PXbppZdaN52uWGUWEZqRTQQA7OrK95hjjgnsD1ciNMwSMrBwXwJjygXfRGf5jhgxwunZb775xvfG5C8bNmwY+R6ItKDgSrI98cQTQUUExrNJwXVuB7kBx7WxSx8k42o2UYX//PNPp/dEEaFvvPGGUznPP/98omokjMvufRRf6Xnz5jlhEHUWcHy5ev5ajIYAACwdSURBVK8IKAKKgCKgCCgCioAioAgoAoqAIqAIKAKKwMGMgBKhObz3XYlQXNymJzz22GNOSrmbbroptPgDiQg98sgjQ9uaKNHVYibM+ihRucS5EhuZQYRC8GWULHN1tzxkyJA0TcbSzUWxD4EAYZ3eP5d3hJ0T6kqEtmzZMk0bk42AxHCpr0seLHE5S/iBBx6wxGgy5+AmW++szI8bWQj7QYMGxSBNrr766tgpp5wSK1GiRLqwyiwi9M0338xQs5l7Lv2IpWMii2pe7iovIIwzElxdfNavXz/Na55++mmndmZ0nrvMU+ZE0DxwJdlww5uewFrj0t8LFixIWPwll1zi9Dx4ZzRwhm9UXaOI0EcffTSyDN7B+cWuIbv3UXw7sFSOwpH0atWqxT+q94qAIqAIKAKKgCKgCCgCioAioAgoAoqAIqAIKAIBCCgRGgBMTol2JULbtWuXria9/fbbTkq5g4kIrVKlStJYvvbaa5mCY6IXQ6a5KE4zgwjFgjCjoWPHjk71/eSTT9K8qnXr1k7PuuCR0Ty47ty9e3eaOhLhQrDwfiygMhqwsm3fvn2W4FK8ePHY+eefHxs3blxGq5llz2P9i0vN22+/PcbZsuklO8PGQ2YRoV9//XWGceBMyLC6emlBVoKuRChWfhkJc+fOdapnhQoV0rwGDwNeO7LD75w5c9LUkQhXkm348OEJn4+KxFW6S/uDiFBXufDZZ59FVSUy3cVFexQRettttzm1t2/fvpH18TJk9z7y6un9soHBpc+RzRoUAUVAEVAEFAFFQBFQBBQBRUARUAQUAUVAEVAE3BBQItQNp2yby5UITeR+0KVR77//vpNSTonQcDRdXf5B5iQbWrVq5dRHmUGEhllButb7hhtucKov51/GB1c3wC6K5MzIs2rVqvgq2ntXInTw4MEJn082EuX56aef7oRretvNmXTjx49PtmpZkn/z5s3W0tP1jM/0ttl7LrOI0ETunpMFyJXYCbLodCFCowgrlzr//fffTuMRN9TxAdfFHvbZ4TeIyHTti/S6E3eVd0FEKOPWBb/Ro0fHd0HS9y1atIh8V9S44rxkl/om8hYQVOHs3keJ6o0ngygcorBMVK7GKQKKgCKgCCgCioAioAgoAoqAIqAIKAKKgCJwsCKgRGgO73lXIpSzPtMTlAg1aRSS6bEIPVCI0A4dOqRnGKV65vHHH0+DaSKlb69evVI9x0358uWdnk1UXlbELV++PE0diXAlQqdMmZLw+fREbtmyJfbQQw9liUWkH7srrrgixvmF/0XAbeTdd9/tfM6sv94Zuc4sIjTISjMZLCGkXdry008/JSzWhQhNZKWZsLCIyKJFi0bWlbkS73q2bdu2kc+5YJBZeYKIN1eSbdGiRRFIJU7OKBFap04dJxyDiNTEtUoci+V4FN5R5J1LGbyjf//+iSuRIDa791GCKsdwxxyFJZbhGhQBRUARUAQUAUVAEVAEFAFFQBFQBBQBRUARUATcEFAi1A2nbJtLidC9XVOpUqVIxSGKxTB3j2vXrnUq42AmQiEoMhp69+7thDP54oPrWbNRSuTMSv/jjz/iq2jvXYnQdevWJXw+I5EQos8++2ysXLlyTjinB4v0bqzISLuwqsvMNmGJ6Hq+amYRoUHjJRlccHPu0mcjRoxIWKwLEcqGg8wIuO90qSvWo/7g6tLVpezMyBNkuZ3dSbZGjRo54T9jxgw//Om67tSpU+S7oojQ66+/PrIM+pMNWq4hu/dRfDt27NjhhEH16tXjH9V7RUARUAQUAUVAEVAEFAFFQBFQBBQBRUARUAQUgQAElAgNACanRCsRurenXCyPUKAqERo8sgsXLhypgOXMuoyGa6+9NvI99NXrr7+e5lX16tVzejYzyA+XMpYsWZKmjkS4EKFY/WRl4PxSXNlCKHN2pou7RZc2e3mefPLJrKx+qrLnz58fO/zwwzPU94UKFYphYXf55ZfHPvrooxgk9LRp05zKzCwiNDPOWnWdA0FueF2I0Dx58gSef5uqY0Jutm/f7oQt4zI+uLpI9cZiVv8Gne2a3Uk21zOVgyxe4/sl7L5x48aR/R1FhN5///2RZdDXL774YlhVUqVl9z5KVVm5WbNmjRMGkNwaFAFFQBFQBBQBRUARUAQUAUVAEVAEFAFFQBFQBNwQOIRsoljSkEMRePfdd424qoysvVhwGbESi8wXn+GDDz4wcl5bfHSaezkj1Dz//PNp4r2IihUrGiGNvNvAX3F9aUqXLh2YnihBFO6mQIECiZLSxAkRasRKKU08EUKMmFKlSiVM80eKRagRYsYfFXn95ptvmmuuuSYyn5wRaoRgisznzyDKbjNs2DB/VMJrOSPUiLI6YRqRYiFn5OzFwHQSihUrZtavXx+aJypRLNqMWFhFZTN9+vQxXbt2TZWvTZs2ZujQoaniEt2IxZBtT6K0zIyT81lNwYIF0xSZK1cuNpmkifdHCPFsNm3a5I/K0muxFDVjx441Y8aMMeI21fz6669GzhZN9zuF7DXi2tfUrVs33WW4PCiErmnatKmtu0t+8iBDmjdvboQANsccc4ypVq2aEWvSNI/LOZpO9Rci1OKWpoB9EXfddZd54okngpJT4vv162e6dOmScp+eC9qxYsWKyEfF3amRM1TT5ANL+j8qrFy50pQpUyYqW2A68h65HxWOOOIII2ftpsp25513OslBcZ/t1H+pCk/HDXLzyCOPTPPk8ccfb+dAmoS4CHGN64RF3GNGSG/z22+/xUenuQ/q6wsuuMB8+umnafLHR4jrdnP11VfHRyd1T19HrfFChBqxeAwsVwhOw7dEVJDNHeaee+6JymbTs3sfxTeCvqxatWp8dJp71n0hsNPEa4QioAgoAoqAIqAIKAKKgCKgCCgCioAioAgoAopAAgTc+FLNlV0RONAsQrHQSjZw/poMbac/tQgNRtfFIhSccb2akYBVqUt/fffdd2lec+GFFzo9K6Rvmmf3Z4SLRSh4/5dh586dsZ9//jkmJF6sRo0aTrjG99vNN9+c5U3o27evc91wkS2bQ2K7du1yqtf+tghNxpItUQOw8s2dO7cTHhs2bEhURMzFIpR+njhxYsLnXSOZg/HjJdF9rVq10hSJtXGivPFxnL38X4bsbm142223OeF47733ZhhGl3MtoyxCP/74Y6f6ClHuXN/s3kfxDZk0aZITBt27d49/VO8VAUVAEVAEFAFFQBFQBBQBRUARUAQUAUVAEVAEAhBQ17gBwOSU6JxChIpVlpNyLxH5FdUXrgp3lOhKhAaj6UqEijVZcCERKWIBGRMLSqexINZ6aUpzJUjeeuutNM/uz4icQITG4zFr1qyYWIU5ufX1CCmxBo0vJtPvXc4epD5i/WjdSiZTAbGKdRqLmeUaV6z3k6lemrzMCQ/7sF+x5EzzrBfhSoSytmQkiBW8U13FQjbNa8Tq2+nZHj16pHl2f0Zkd5Ltiy++cMIxanxHYeq6oSCKCP3222+d6nvddddFVSklPbv3UUpF91388MMPThhwnqoGRUARUAQUAUVAEVAEFAFFQBFQBBQBRUARUAQUATcElAh1wynb5sopROjpp5/upNz75JNPksaaZ8JIAX+aEqHB8LoSoVhlpje8+uqrTn0l7osTnlEobiKdnhf3iumtYqY8lxOJUK/h4jo3hmWlf94EXdNPWRmwgIQ8CXq/P57zUJMN4qLZqewooggLNX9dgq45p1TcTydbzZT8t956q9N7OnbsmPJM/IUrEdqkSZP4R5O65/kgHPzx4lI4Tbl///23U7+3aNEizbP7MyK7k2yLFy926gP6Y/LkyemGztXyNIoIdd2YIC5/neua3fsoviFfffWVU5/dd9998Y/qvSKgCCgCioAioAgoAoqAIqAIKAKKgCKgCCgCikAAAnpGqGgAc3LIKWeEXnTRRUbc3kVCLQpV89RTT0Xm82c444wzzMiRI/1Rgdd6RmjGzggFWHGBaP744w+n81TjO4LzJDmXMSqIFaAZMGBAmmwix+x76cewUL9+fTNhwoSwLKFpf/31V+Q5sEcddZThfMNEYX+cEfr5558bIZYTvT4ljnpwpmr+/PlT4lwuOGP1sssui8xK+f/884/hvNCsCJwdmehsxvh3HX744UZcwSZdj+eee87ccsst8cWluc+sM0IpOL3nMYq7X3vO6dq1a9PULz4i7AxF1zNCKVMs/UydOnXii4+8nzlzpqldu3ZkPjKIBZw9zzU+M2e8jho1Kj461T1nFi9btizhOb2pMgbciHto28aAZBtdokSJwPM9c8L5k5zzytnbUeHKK680YkkflS1NOmf4Igvjz3lNk1EihAgNPSPU9XzM9u3bm0GDBiV6RZq4nNBH/kp/9NFH5uKLL/ZHJbzmTHaX81QTPqyRioAioAgoAoqAIqAIKAKKgCKgCCgCioAioAgcbAgEEKQanUMQyCkWoa4WI7h0dD3fjy6aMWOGk/WEzGubTy1Cgwe2q0UoWD722GPBBQWkCKnh3FcvvPBCQCmx2Pnnn+9UTnqsi72XYnHkjZmg37BzSPeHRajr2ZngnmzAajFv3ryRGAhJGVg07isbN27s9BdkjeZqAdysWbPAeoQlUL+g/vXHZ5ZFKGXWq1cvrEqBaV9++aVTXXnHuHHjAstxtQilnBtuuCGwnLCEnj17OtUVC1msPxMFZIy/D4KukzkvMv49WKMGlevFh51DmhOsDa+99trINtJWXJavW7cuHqLI+2+++capfN4RZRGK3JHNFZHlJeOSOyf0kR/kp59+OrL9YCmbv/yP6bUioAgoAoqAIqAIKAKKgCKgCCgCioAioAgoAopACALqGjcEnJyQlFOI0GeeecZJuYeCTyw9nKG/9NJLnculbCVCg6FNhgiFwOAsM9ewdOnSWNWqVZ36ChJxzpw5gUVD8tCXUX+Q6hs3bgwsJygBxX4UkSlWckGP2/io56k7eGckTJkyJRID3vPwww8n/Zq5c+c6ld2gQYPAsiEno/rISw86d9a1r6tUqRJYj6CEZNyGZiYRSpvFCjWoWgnjORuU8ezhFfbLecxhIRkiNE+ePLFPP/00rLg0aRD0LiQ6bQg7M1UsX2OHHXZYZJt5Fxtikg1gKpbEoeXzfs41Dgo5gWTDZXTYePGniSV9bP369UHNTROPnGYzhL+MsOsoIpQXIFvDyiBNvBLExBI9TX0SReSEPvLX2+WbhvUlPWub/z16rQgoAoqAIqAIKAKKgCKgCCgCioAioAgoAorAwYSAEqE5vLdzChGKMj1Kuemlly5dOtSiiS7DcuS8885zLtMrW4nQ4AGfDBEKngUKFIgNGTIkuMB9KYsWLXI+c5Jy27VrF1mmuEN26vs2bdrExI1vZHleBuYT5I83XoJ+wyxWKWt/EKFY0kEIBNXRi2c+zZs3z2ui06+4XYwsl/K7desWWF5mEKGMHa8dUb9r1qwJrEuihLPPPtu57MwmQmnLVVddlfAc3Pi6YhVbsmRJ57qy6SQsJEOEUk8s9N58882wIlPSxP15LHfu3M51DbOqplAI46h+J/3YY49N6ozLH3/8MVa0aNHIssOIWuqXU0g2F3LRw1lcycYgoaNCsiQo5bsQocwLry5hv2GbZfx1zyl95NUZMjqs3aSxqUiDIqAIKAKKgCKgCCgCioAioAgoAoqAIqAIKAKKgDsCSoS6Y5Utc+YUItTVes1TAMqZhjFcxP36668prhMhP7EQe/vtt2M1atSIVBZ6Zfl/lQgNHsbJEqHgimL75ZdfTukjf+l79uyxRGn58uWT6qsxY8b4i0l4jTWqv1/DrrHqevzxx2Pbtm1LWBaR3333Xez00093KrNChQqxrVu3BpZFwv4gQnmPnCXnVOfKlSvHli9fziORASyKFCniVC7uWoNCZhCh4OyCJf0PseliJYbr7RtvvNGpfd64OvHEE4OaaeNxz+rlTea3S5cugdaMjNcPP/zQibDz3km/RZFYyRKhXtl33313TM6BTIgDLlUfeughJ7emXnkQPlGBMetC9lMmBCyufMNkPOsQrrVdyFreu3DhwtAq5hSS7YMPPkhqfMr5rrERI0bEkOHxgfnTv3//pCxBvT53IULfe+89p7rKGdLxVUt4n1P6iMrLeavWRbGHV9Avm8A0KAKKgCKgCCgCioAioAgoAoqAIqAIKAKKgCKgCLgjcAhZRdmiIYci8O677xqxWomsvZzZZp599tnIfPEZRIFqxFVbfHSa+5tuusmIFVmaeH+EuK80olj2Rzldi0WSEas2s3r1aoh7p2eCMomS3BQvXjxhsijzTalSpRKm+SNpx/z58/1RkddiUWWuueaayHy33367efLJJyPz+TO0bt3aDBs2zB+V8Fqsr4yciZgwjUghUYyQzYHpYQniYtI0bdrUCEloRNltli1bZiZOnGjEoi/ssTRpQtKY0aNHp4lPFAGe4OoahPwwFStWNNWqVbN/otC341HcwBpxk+pajPnss8+MKKJD8zNmo8aqEM9G3G6GlhOVCMbinjYqm00XQthcdtll5uabbzaM4fgwdepUw3wXYtvs3LkzPjnN/RFHHGHE2taIa9I0aUQ0b97cyPmkCdPiI8U1rjnllFPio+29WGOasWPHJkyLj2zfvr2R84gN40gI1FTJO3bsMAMHDrRyUDZYpEqLuoma83fddZeR8yajiglMl3NDjWzuMGXLljVbtmyx84c2i5vSwGcSJdB3119/faKklDjmKXinJ4i1tO0n5hEyWUhXI26vjWxeMODrGpgf9IGQoZGPvPLKK0YIzsh8Xgb6vVy5cnaOV69e3Qihaef5ggULzKxZs7xskb9C/JpHH300NJ9YTxohV0PzkIgcBLNkA+NCLIIjH6NtstkhMB+yiH6nn5IJYnloaCNynf5FrourXbNy5cpkiknJy9oQNU7E0tPUrFkz5Zmgi969e5t77rknKDklPqf0ERXmu4L1KSo89dRTVs5F5dN0RUARUAQUAUVAEVAEFAFFQBFQBBQBRUARUAQUgX0IiIJMQw5GIKdYhAKxkHxOlh4yNJPOh/tGl+fCrIWwpHIpQ0iRpEfMG2+84VQ2GCUbWrVq5VR2lBvK9FiEuuDlmof3czala8Bi7oQTTnBqu2sdovIJ6exUPRcrRtqbGaFTp05JYyCbAWJYOeKGuEmTJjEhjv6/vfsLkbLq4wB+0ptEkswwQksMI4r+YqRURCkFFSSVGGJYeSGS3ZUQCRVkSCFFYRldhX8gqMCim0KlEi8qyCAro/9YEV2UhvZPad7nNy8T2+4+z5zZHXXP+34Glt19ztlnfs/nzMzCfOec0/M5qsC+sfx+zAiNO6je9O+5tthP87LLLmtfX8z0jRlusa9tt/Gta4+laZtuI50RWnd/Izke1xszyrrdRjojdCQ11f1NzMjt5XbbbbeNeOzqamg6XgWo7eXXu9VY0mzD6oMOWct+N7mMti1nRmjMQp0yZUrX8V6yZEm34Wm3lzRGMcs1x3jHjh1Z164TAQIECBAgQIAAAQIECBAgQIDAfwUsjVv4I6GkILSa0dmqZg5mvdGX82Zgp0+EOLH0aef3pu+C0PoHfE4QGqFZbujcNA7DtW3atKm+uJqWagZNq5rFmzX2w91nL8eqWUqt/fv311Ty78PHMgiNmqpZRMfEoOMVgfBwy2YOVOhXEBpLYp977rnH9Po619n5Xs16HXhpQ37ODUIjkO2cs5/f4zmwd+/eIXUNdyA3CD1atcaSuDGmvdyi/wUXXHBU7AaPw+TJk1v/q/tPVrNrj4phvN7FPrqDLQf/nhOExuPixhtv7Hqu+BBMzq2kIPSRRx7pet1hnft/KMdHHwIECBAgQIAAAQIECBAgQIDA/4OAILTwUS4pCA3qJ598susbfYPfPG36PfZxi31Ec/cVE4TWP+BzgtCHHnqolfNmbdOYDddWLWdaX1iXlmrZyfaMv+HO269j1bKWrQhdc2/HMgiNmvbs2dOqllXt63Orzi5CyW77UEZN/QpC41zVkqatnMdnXc11x2NPzdw9bJvCu9wgdMOGDa277767r+MUwd3u3buDKeuWG4TGfsyXX355X2uNMLPpNbjpAg4cONDKnf1eN97djscHdWL/4dxbSSFb55qq5X77OqZhGvvD5pw3Nwitlr3tWuOECROyZkCXNEaLFi3qet3xoRc3AgQIECBAgAABAgQIECBAgACB3gQEob15jbnepQWhMYusX0FAzNLauHFje0wEod2XE+7H0rgRhMYY5szY6RY6RHsEhuvWrRv18ypCkuuvv77rm8g5NQ3uM2/evFa1f2xPNR7rIDSKq/bty5qVNfj6evk9xj2sc279DELj/l5++eW+jm+1J2c7YF22bFnWeSMYrLv1EoTG8rW33HJL1n12G5sIv6s9G+vKGvZ4bhBa7X3Zftz3azZutZdtK1YFGM3tyJEjrWq/0L7YDbaNGd+5s2o711BSyNapOb5HaFnt99oXx5tvvrn9P6GfQWi1l2lWbdUeyQMva9ifSxqjap/Xrte9fPnyYa/TQQIECBAgQIAAAQIECBAgQIAAgXoBQWi9TREtpQWhHdTVq1eP6o3YmFn0wQcfdE5nRmjGvqr9CkID/c8//2ytWbOmFbNyBgcKub+feeaZra1bt/4zhv34IfZYO//880dc08DaI7jZsmVLK8KXXm/HIwiNGv/666/2rOvYI3PgtYz25wjc1q9fnzUDq2PV7yA0zvvCCy9kz+Csu+YIgJYuXfrP8pJPPPFEltVTTz3VubQh33sJQuOPIwyN802cODHrvoe7lrvuuqv1yy+/DKml24FegtA4V8yEXblyZftDC8PV0e1YzNpfu3btiJ5HddcSr2XXXHPNiO0G1hx7PsdYHDx4sO7uao+XFLINvoj4/5lb/0Cvzs8xuzP+Bxw+fLh96n4GofFhm5kzZ3Yd34cffnjwZQ35PfcaY2WBkdxir+WOSdP3L7/8svH0n3zySdZ53nrrrcbzaCRAgAABAgQIECBAgAABAgQIEBgqIAgdalLUkVKD0ECOfdhiNsn48eOz3gCMNxlnzZrVns0SQdzAmxmhx25G6ED3r776qrV48eKe9n6N/QzjTfPff/994Kn69nOETJs3b25dd911rRNPPDH7sRWPr3gsLly4sLVr165R1XO8gtBO0b/99lsr9gOcP39+K2ZON71BX9cWgWGEmRGAjmSsjkYQGtcXz/1nn32250D05JNPbt17772tb7/9tsPU/v7hhx9m+USgUnfrNQjtnCeeP0uWLMkORCNUjNmk27Zt65yi5++9BqGdO3jnnXfaz6nc1+tYsjdmr8WyxkfrFg633nprT68/ncf71Vdf3f4gRrxejPRWSshWd33xwYl4Ls2dOzfrORB2EYDGzPCPPvroX6ftZxAaJ47VBzpjVfc9PqzS7VbKGD322GNdrzeW8e62N3M3D+0ECBAgQIAAAQIECBAgQIAAgf9HgRPioqs3mdwIHDeBaqnNtGPHjrR9+/b0zTffpJ9//jlV+8ilP/74I1Uz0dL06dNTtS9WqgKAdOmllx63Ot1xvUA1azJVs7TSm2++mT7//PNU7SHZ/qpmrKVTTz21PY7VEptpwYIF6Yorrkjjxo2rP1kfW6oAL1UzaNqPr++++65d008//ZT279+fTjvttFTt/ZlmzJjR/oqfL7nkkvbjrY8lHPdTVTP6UhXspn379qXvv/8+/fDDD/98VUv+pilTpqTTTz/9X1/VbN101VVXpWrPxONef10BVYiT3njjjVTt3ZqqQDFVM7raX4cOHWpf0ymnnNJ+3M2ZMydVe12mahZ5qkK8utON6vj999+fqiCj6zmqPULTihUrhvSrguv0+uuvt18D43Ea4xTPnalTp7avIV4HZ8+enaqQPlWB7pC/7+VAjOvOnTu7/km1NG668MILh/SL50+1THGqluRt1xm1xvMsaoyvadOmpSpkTDfccEOqQrMhf380DsTrT7V0cfv1Jx4H8foTdcbjOx4HA5/j8XM1azxVSyMfjVKKPWc8h1566aX263e8RnQeg9UHV1I1w7w9ttUs3FSFoMfkdSHqqT74FB/WqzWtPnCSqiXB26/ltZ0Kaag+oJCqJYEbq121alV6/PHHG/toJECAAAECBAgQIECAAAECBAgQGCogCB1q4ggBAgQIEMgWGG0Qmn1Hfeg42iC0DyU4BYEsgQjU33777ca+1WoQ6c4772zsM9Yb44Nf8cGcanZyY6m7d+9OF198cWMfjQQIECBAgAABAgQIECBAgAABAkMFBKFDTRwhQIAAAQLZAoLQbCodCWQLRMi5bNmyxv7V0sjtGcqNncZ446ZNm1K1b3Fjleedd176+OOPG/toJECAAAECBAgQIECAAAECBAgQGF5AEDq8i6MECBAgQCBLQBCaxaQTgZ4EDh482F6WN5a7rrtNmjSpvQRytRdyXZcxf3zRokXtZYmbCl2zZk1avXp1UxdtBAgQIECAAAECBAgQIECAAAECNQKC0BoYhwkQIECAQI6AIDRHSR8CvQvccccdaePGjY1/GPuLz5s3r7HPWG2MvY5jH9Zff/21scTYM3XmzJmNfTQSIECAAAECBAgQIECAAAECBAgMLyAIHd7FUQIECBAgkCUgCM1i0olAzwLvvvtumjt3buPfLVmyJG3evLmxz1htfOWVV9LChQsby5s/f37atm1bYx+NBAgQIECAAAECBAgQIECAAAEC9QKC0HobLQQIECBAoKuAILQrkQ4ERiywYMGC9Nprr9X+fSyL+/XXX6dp06bV9hmrDVdeeWXatWtXbXknnHBCev/999Ps2bNr+2ggQIAAAQIECBAgQIAAAQIECBBoFhCENvtoJUCAAAECjQKC0EYejQRGJbBnz5500UUXpb///rv2PPEcXLt2bW37WGx477330pw5cxpLu/3229OmTZsa+2gkQIAAAQIECBAgQIAAAQIECBBoFhCENvtoJUCAAAECjQKC0EYejQRGLbB06dLGQHDy5Mlp3759aeLEiaO+r2N1gsWLF6cXX3yx9u4mTJiQPvvss3TGGWfU9tFAgAABAgQIECBAgAABAgQIECDQXUAQ2t1IDwIECBAgUCsgCK2l0UCgLwKx9O0555yTDh8+XHu+9evXp5UrV9a2j6WGCG3POuusdOTIkdqyHnjggfToo4/WtmsgQIAAAQIECBAgQIAAAQIECBDIExCE5jnpRYAAAQIEhhUQhA7L4iCBvgrcc8896Zlnnqk959lnn5327t2bxo0bV9tnrDSsWrUqrVu3rracqVOnpi+++CKddNJJtX00ECBAgAABAgQIECBAgAABAgQI5AkIQvOc9CJAgAABAsMKCEKHZXGQQF8FfvzxxzRr1qx06NCh2vO++uqr6aabbqptHwsNBw8eTNOnT08HDhyoLWfDhg1pxYoVte0aCBAgQIAAAQIECBAgQIAAAQIE8gUEoflWehIgQIAAgSECW7ZsSVu3bh1yfPCB5cuXp2uvvXbw4WP6+4MPPpg+/fTTrvcZs9VmzJjRtZ8OBI6lwHPPPZe2b99ee5dz5sxJ9913X237WGjYuXNnevrpp2tLmTRpUnr++efT+PHja/toIECAAAECBAgQIECAAAECBAgQyBcQhOZb6UmAAAECBAgQIECAAAECBAgQIECAAAECBAgQIECAQCECgtBCBkqZBAgQIECAAAECBAgQIECAAAECBAgQIECAAAECBAjkCwhC8630JECAAAECBAgQIECAAAECBAgQIECAAAECBAgQIECgEAFBaCEDpUwCBAgQIECAAAECBAgQIECAAAECBAgQIECAAAECBPIFBKH5VnoSIECAAAECBAgQIECAAAECBAgQIECAAAECBAgQIFCIgCC0kIFSJgECBAgQIECAAAECBAgQIECAAAECBAgQIECAAAEC+QKC0HwrPQkQIECAAAECBAgQIECAAAECBAgQIECAAAECBAgQKERAEFrIQCmTAAECBAgQIECAAAECBAgQIECAAAECBAgQIECAAIF8AUFovpWeBAgQIECAAAECBAgQIECAAAECBAgQIECAAAECBAgUIiAILWSglEmAAAECBAgQIECAAAECBAgQIECAAAECBAgQIECAQL6AIDTfSk8CBAgQIECAAAECBAgQIECAAAECBAgQIECAAAECBAoREIQWMlDKJECAAAECBAgQIECAAAECBAgQIECAAAECBAgQIEAgX0AQmm+lJwECBAgQIECAAAECBAgQIECAAAECBAgQIECAAAEChQgIQgsZKGUSIECAAAECBAgQIECAAAECBAgQIECAAAECBAgQIJAvIAjNt9KTAAECBAgQIECAAAECBAgQIECAAAECBAgQIECAAIFCBAShhQyUMgkQIECAAAECBAgQIECAAAECBAgQIECAAAECBAgQyBcQhOZb6UmAAAECBAgQIECAAAECBAgQIECAAAECBAgQIECAQCECgtBCBkqZBAgQIECAAAECBAgQIECAAAECBAgQIECAAAECBAjkCwhC8630JECAAAECBAgQIECAAAECBAgQIECAAAECBAgQIECgEAFBaCEDpUwCBAgQIECAAAECBAgQIECAAAECBAgQIECAAAECBPIFBKH5VnoSIECAAAECBAgQIECAAAECBAgQIECAAAECBAgQIFCIgCC0kIFSJgECBAgQIECAAAECBAgQIECAAAECBAgQIECAAAEC+QKC0HwrPQkQIECAAAECBAgQIECAAAECBAgQIECAAAECBAgQKERAEFrIQCmTAAECBAgQIECAAAECBAgQIECAAAECBAgQIECAAIF8AUFovpWeBAgQIECAAAECBAgQIECAAAECBAgQIECAAAECBAgUIiAILWSglEmAAAECBAgQIECAAAECBAgQIECAAAECBAgQIECAQL6AIDTfSk8CBAgQIECAAAECBAgQIECAAAECBAgQIECAAAECBAoREIQWMlDKJECAAAECBAgQIECAAAECBAgQIECAAAECBAgQIEAgX0AQmm+lJwECBAgQIECAAAECBAgQIECAAAECBAgQIECAAAEChQgIQgsZKGUSIECAAAECBAgQIECAAAECBAgQIECAAAECBAgQIJAvIAjNt9KTAAECBAgQIECAAAECBAgQIECAAAECBAgQIECAAIFCBAShhQyUMgkQIECAAAECBAgQIECAAAECBAgQIECAAAECBAgQyBcQhOZb6UmAAAECBAgQIECAAAECBAgQIECAAAECBAgQIECAQCECgtBCBkqZBAgQIECAAAECBAgQIECAAAECBAgQIECAAAECBAjkCwhC8630JECAAAECBAgQIECAAAECBAgQIECAAAECBAgQIECgEAFBaCEDpUwCBAgQIECAAAECBAgQIECAAAECBAgQIECAAAECBPIFBKH5VnoSIECAAAECBAgQIECAAAECBAgQIECAAAECBAgQIFCIgCC0kIFSJgECBAgQIECAAAECBAgQIECAAAECBAgQIECAAAEC+QKC0HwrPQkQIECAAAECBAgQIECAAAECBAgQIECAAAECBAgQKERAEFrIQCmTAAECBAgQIECAAAECBAgQIECAAAECBAgQIECAAIF8AUFovpWeBAgQIECAAAECBAgQIECAAAECBAgQIECAAAECBAgUIiAILWSglEmAAAECBAgQIECAAAECBAgQIECAAAECBAgQIECAQL6AIDTfSk8CBAgQIECAAAECBAgQIECAAAECBAgQIECAAAECBAoREIQWMlDKJECAAAECBAgQIECAAAECBAgQIECAAAECBAgQIEAgX0AQmm+lJwECBAgQIECAAAECBAgQIECAAAECBAgQIECAAAEChQgIQgsZKGUSIECAAAECBAgQIECAAAECBAgQIECAAAECBAgQIJAvIAjNt9KTAAECBAgQIECAAAECBAgQIECAAAECBAgQIECAAIFCBAShhQyUMgkQIECAAAECBAgQIECAAAECBAgQIECAAAECBAgQyBcQhOZb6UmAAAECBAgQIECAAAECBAgQIECAAAECBAgQIECAQCECgtBCBkqZBAgQIECAAAECBAgQIECAAAECBAgQIECAAAECBAjkCwhC8630JECAAAECBAgQIECAAAECBAgQIECAAAECBAgQIECgEAFBaCEDpUwCBAgQIECAAAECBAgQIECAAAECBAgQIECAAAECBPIFBKH5VnoSIECAAAECBAgQIECAAAECBAgQIECAAAECBAgQIFCIgCC0kIFSJgECBAgQIECAAAECBAgQIECAAAECBAgQIECAAAEC+QKC0HwrPQkQIECAAAECBAgQIECAAAECBAgQIECAAAECBAgQKERAEFrIQCmTAAECBAgQIECAAAECBAgQIECAAAECBAgQIECAAIF8AUFovpWeBAgQIECAAAECBAgQIECAAAECBAgQIECAAAECBAgUIiAILWSglEmAAAECBAgQIECAAAECBAgQIECAAAECBAgQIECAQL6AIDTfSk8CBAgQIECAAAECBAgQIECAAAECBAgQIECAAAECBAoREIQWMlDKJECAAAECBAgQIECAAAECBAgQIECAAAECBAgQIEAgX0AQmm+lJwECBAgQIECAAAECBAgQIECAAAECBAgQIECAAAEChQgIQgsZKGUSIECAAAECBAgQIECAAAECBAgQIECAAAECBAgQIJAvIAjNt9KTAAECBAgQIECAAAECBAgQIECAAAECBAgQIECAAIFCBAShhQyUMgkQIECAAAECBAgQIECAAAECBAgQIECAAAECBAgQyBcQhOZb6UmAAAECBAgQIECAAAECBAgQIECAAAECBAgQIECAQCECgtBCBkqZBAgQIECAAAECBAgQIECAAAECBAgQIECAAAECBAjkCwhC8630JECAAAECBAgQIECAAAECBAgQIECAAAECBAgQIECgEAFBaCEDpUwCBAgQIECAAAECBAgQIECAAAECBAgQIECAAAECBPIFBKH5VnoSIECAAAECBAgQIECAAAECBAgQIECAAAECBAgQIFCIgCC0kIFSJgECBAgQIECAAAECBAgQIECAAAECBAgQIECAAAEC+QL/AfIV+vo+SRULAAAAAElFTkSuQmCC)"
      ],
      "metadata": {
        "id": "f2gNuCbfSq2J"
      }
    },
    {
      "cell_type": "markdown",
      "metadata": {
        "id": "WbIqyqqlLfgA"
      },
      "source": [
        "> note: List Comprehensions: List and dictionary comprehensions are a wonderful feature of Python. Many Python programmers use them every day, including the authors of this book—they are part of \"idiomatic Python.\" But programmers coming from other languages may have never seen them before. There are a lot of great tutorials just a web search away, so we won't spend a long time discussing them now. Here is a quick explanation and example to get you started. A list comprehension looks like this: `new_list = [f(o) for o in a_list if o>0]`. This will return every element of `a_list` that is greater than 0, after passing it to the function `f`. There are three parts here: the collection you are iterating over (`a_list`), an optional filter (`if o>0`), and something to do to each element (`f(o)`). It's not only shorter to write but way faster than the alternative ways of creating the same list with a loop."
      ]
    },
    {
      "cell_type": "markdown",
      "metadata": {
        "id": "AIeNVyV8LfgA"
      },
      "source": [
        "We'll also check that one of the images looks okay. Since we now have tensors (which Jupyter by default will print as values), rather than PIL images (which Jupyter by default will display as images), we need to use fastai's `show_image` function to display it:"
      ]
    },
    {
      "cell_type": "code",
      "execution_count": null,
      "metadata": {
        "id": "sJbsue_-LfgB",
        "outputId": "e9d1e7c9-73dd-41fa-c3eb-f5dbf8f9225b",
        "colab": {
          "base_uri": "https://localhost:8080/"
        }
      },
      "outputs": [
        {
          "output_type": "display_data",
          "data": {
            "image/png": "[encoded data removed]",
            "text/plain": [
              "<Figure size 72x72 with 1 Axes>"
            ]
          },
          "metadata": {
            "needs_background": "light"
          }
        }
      ],
      "source": [
        "# 텐서를 이미지로 보여줌\n",
        "# show_image 함수는 fastai에 있음\n",
        "show_image(three_tensors[1]);"
      ]
    },
    {
      "cell_type": "markdown",
      "metadata": {
        "id": "DbJ9La5VLfgB"
      },
      "source": [
        "For every pixel position, we want to compute the average over all the images of the intensity of that pixel. To do this we first combine all the images in this list into a single three-dimensional tensor. The most common way to describe such a tensor is to call it a *rank-3 tensor*. We often need to stack up individual tensors in a collection into a single tensor. Unsurprisingly, PyTorch comes with a function called `stack` that we can use for this purpose.\n",
        "\n",
        "Some operations in PyTorch, such as taking a mean, require us to *cast* our integer types to float types. Since we'll be needing this later, we'll also cast our stacked tensor to `float` now. Casting in PyTorch is as simple as typing the name of the type you wish to cast to, and treating it as a method.\n",
        "\n",
        "Generally when images are floats, the pixel values are expected to be between 0 and 1, so we will also divide by 255 here:"
      ]
    },
    {
      "cell_type": "code",
      "execution_count": null,
      "metadata": {
        "id": "ZgzgsxDrLfgC",
        "outputId": "cc724526-bf95-450b-f294-ab3bdccf8a9e",
        "colab": {
          "base_uri": "https://localhost:8080/"
        }
      },
      "outputs": [
        {
          "output_type": "execute_result",
          "data": {
            "text/plain": [
              "torch.Size([6131, 28, 28])"
            ]
          },
          "metadata": {},
          "execution_count": 14
        }
      ],
      "source": [
        "# 3차원 텐서로 쌓아올림\n",
        "# rank-3 텐서라고 부름\n",
        "# torch.stack()에서 그 작업을 해줌\n",
        "stacked_sevens = torch.stack(seven_tensors).float()/255 # 텐서 내용물을 float 형변환 후에 /255 해줌\n",
        "stacked_threes = torch.stack(three_tensors).float()/255\n",
        "stacked_threes.shape # 각 축의 길이를 표현. 이미지 6131장, 28x28 픽셀로 구성"
      ]
    },
    {
      "cell_type": "markdown",
      "metadata": {
        "id": "1NqKT3AYLfgC"
      },
      "source": [
        "Perhaps the most important attribute of a tensor is its *shape*. This tells you the length of each axis. In this case, we can see that we have 6,131 images, each of size 28×28 pixels. There is nothing specifically about this tensor that says that the first axis is the number of images, the second is the height, and the third is the width—the semantics of a tensor are entirely up to us, and how we construct it. As far as PyTorch is concerned, it is just a bunch of numbers in memory.\n",
        "\n",
        "The *length* of a tensor's shape is its rank:"
      ]
    },
    {
      "cell_type": "code",
      "execution_count": null,
      "metadata": {
        "id": "mYiYSLDKLfgC",
        "outputId": "39bc6fff-582b-412a-956c-8003a0884050",
        "colab": {
          "base_uri": "https://localhost:8080/"
        }
      },
      "outputs": [
        {
          "output_type": "execute_result",
          "data": {
            "text/plain": [
              "3"
            ]
          },
          "metadata": {},
          "execution_count": 15
        }
      ],
      "source": [
        "len(stacked_threes.shape) # 3축, 3차원"
      ]
    },
    {
      "cell_type": "markdown",
      "metadata": {
        "id": "7qlGHSa_LfgD"
      },
      "source": [
        "It is really important for you to commit to memory and practice these bits of tensor jargon: _rank_ is the number of axes or dimensions in a tensor; _shape_ is the size of each axis of a tensor.\n",
        "\n",
        "> A: Watch out because the term \"dimension\" is sometimes used in two ways. Consider that we live in \"three-dimensonal space\" where a physical position can be described by a 3-vector `v`. But according to PyTorch, the attribute `v.ndim` (which sure looks like the \"number of dimensions\" of `v`) equals one, not three! Why? Because `v` is a vector, which is a tensor of rank one, meaning that it has only one _axis_ (even if that axis has a length of three). In other words, sometimes dimension is used for the size of an axis (\"space is three-dimensional\"); other times, it is used for the rank, or the number of axes (\"a matrix has two dimensions\"). When confused, I find it helpful to translate all statements into terms of rank, axis, and length, which are unambiguous terms."
      ]
    },
    {
      "cell_type": "markdown",
      "metadata": {
        "id": "rTWC40mLLfgD"
      },
      "source": [
        "We can also get a tensor's rank directly with `ndim`:"
      ]
    },
    {
      "cell_type": "code",
      "execution_count": null,
      "metadata": {
        "id": "aYpxEYwMLfgD",
        "outputId": "058f633e-d327-4f4a-f192-ab3aebb05b01",
        "colab": {
          "base_uri": "https://localhost:8080/"
        }
      },
      "outputs": [
        {
          "output_type": "execute_result",
          "data": {
            "text/plain": [
              "3"
            ]
          },
          "metadata": {},
          "execution_count": 16
        }
      ],
      "source": [
        "stacked_threes.ndim # nidm 으로 랭크 확인. 위의 코드랑 똑같음"
      ]
    },
    {
      "cell_type": "markdown",
      "metadata": {
        "id": "K-ikFWLULfgD"
      },
      "source": [
        "Finally, we can compute what the ideal 3 looks like. We calculate the mean of all the image tensors by taking the mean along dimension 0 of our stacked, rank-3 tensor. This is the dimension that indexes over all the images.\n",
        "\n",
        "In other words, for every pixel position, this will compute the average of that pixel over all images. The result will be one value for every pixel position, or a single image. Here it is:"
      ]
    },
    {
      "cell_type": "code",
      "execution_count": null,
      "metadata": {
        "id": "RZadDdD7LfgE",
        "outputId": "f7e19e53-ed5f-41e4-f011-e9b2dfb2af15",
        "colab": {
          "base_uri": "https://localhost:8080/"
        }
      },
      "outputs": [
        {
          "output_type": "display_data",
          "data": {
            "image/png": "[encoded data removed]",
            "text/plain": [
              "<Figure size 72x72 with 1 Axes>"
            ]
          },
          "metadata": {
            "needs_background": "light"
          }
        }
      ],
      "source": [
        "# 평균 이미지\n",
        "# 0을 넣으면서, 0번째 차원 = 색인 이라고 하는데 무슨 말인지 잘 모르겠음. 0을 넣어야 제대로된 이미지 구할 수 있음\n",
        "mean3 = stacked_threes.mean(0)\n",
        "show_image(mean3);"
      ]
    },
    {
      "cell_type": "markdown",
      "metadata": {
        "id": "lpjWbWScLfgE"
      },
      "source": [
        "According to this dataset, this is the ideal number 3! (You may not like it, but this is what peak number 3 performance looks like.) You can see how it's very dark where all the images agree it should be dark, but it becomes wispy and blurry where the images disagree. \n",
        "\n",
        "Let's do the same thing for the 7s, but put all the steps together at once to save some time:"
      ]
    },
    {
      "cell_type": "code",
      "execution_count": null,
      "metadata": {
        "id": "ALUOdu9WLfgE",
        "outputId": "a18da980-f8f4-407a-b14a-327690a08654",
        "colab": {
          "base_uri": "https://localhost:8080/"
        }
      },
      "outputs": [
        {
          "output_type": "display_data",
          "data": {
            "image/png": "[encoded data removed]",
            "text/plain": [
              "<Figure size 72x72 with 1 Axes>"
            ]
          },
          "metadata": {
            "needs_background": "light"
          }
        }
      ],
      "source": [
        "mean7 = stacked_sevens.mean(0)\n",
        "show_image(mean7);"
      ]
    },
    {
      "cell_type": "markdown",
      "metadata": {
        "id": "Yb6lRxDXLfgF"
      },
      "source": [
        "Let's now pick an arbitrary 3 and measure its *distance* from our \"ideal digits.\"\n",
        "\n",
        "> stop: Stop and Think!: How would you calculate how similar a particular image is to each of our ideal digits? Remember to step away from this book and jot down some ideas before you move on! Research shows that recall and understanding improves dramatically when you are engaged with the learning process by solving problems, experimenting, and trying new ideas yourself\n",
        "\n",
        "Here's a sample 3:"
      ]
    },
    {
      "cell_type": "code",
      "execution_count": null,
      "metadata": {
        "id": "42ftqSPPLfgF",
        "outputId": "b3a7f006-3cde-4d75-ffcc-873db02ba8ca",
        "colab": {
          "base_uri": "https://localhost:8080/"
        }
      },
      "outputs": [
        {
          "output_type": "display_data",
          "data": {
            "image/png": "[encoded data removed]",
            "text/plain": [
              "<Figure size 72x72 with 1 Axes>"
            ]
          },
          "metadata": {
            "needs_background": "light"
          }
        }
      ],
      "source": [
        "# 임의로 숫자 선택\n",
        "a_3 = stacked_threes[1]\n",
        "show_image(a_3);"
      ]
    },
    {
      "cell_type": "markdown",
      "metadata": {
        "id": "cI4HNC99LfgF"
      },
      "source": [
        "How can we determine its distance from our ideal 3? We can't just add up the differences between the pixels of this image and the ideal digit. Some differences will be positive while others will be negative, and these differences will cancel out, resulting in a situation where an image that is too dark in some places and too light in others might be shown as having zero total differences from the ideal. That would be misleading!\n",
        "\n",
        "To avoid this, there are two main ways data scientists measure distance in this context:\n",
        "\n",
        "- Take the mean of the *absolute value* of differences (absolute value is the function that replaces negative values with positive values). This is called the *mean absolute difference* or *L1 norm* 차이 절대값의 평균. 평균절대차\n",
        "- Take the mean of the *square* of differences (which makes everything positive) and then take the *square root* (which undoes the squaring). This is called the *root mean squared error* (RMSE) or *L2 norm*. 차이의 제곱에 루트 씌우기. 평균제곱근오차\n",
        "\n",
        "> important: It's Okay to Have Forgotten Your Math: In this book we generally assume that you have completed high school math, and remember at least some of it... But everybody forgets some things! It all depends on what you happen to have had reason to practice in the meantime. Perhaps you have forgotten what a _square root_ is, or exactly how they work. No problem! Any time you come across a maths concept that is not explained fully in this book, don't just keep moving on; instead, stop and look it up. Make sure you understand the basic idea, how it works, and why we might be using it. One of the best places to refresh your understanding is Khan Academy. For instance, Khan Academy has a great [introduction to square roots](https://www.khanacademy.org/math/algebra/x2f8bb11595b61c86:rational-exponents-radicals/x2f8bb11595b61c86:radicals/v/understanding-square-roots)."
      ]
    },
    {
      "cell_type": "markdown",
      "metadata": {
        "id": "sVLhJRaSLfgF"
      },
      "source": [
        "Let's try both of these now:"
      ]
    },
    {
      "cell_type": "code",
      "execution_count": null,
      "metadata": {
        "id": "NGiOQkbmLfgG",
        "outputId": "62a89e5f-fd43-411e-8da2-5742a7bcc979",
        "colab": {
          "base_uri": "https://localhost:8080/"
        }
      },
      "outputs": [
        {
          "output_type": "execute_result",
          "data": {
            "text/plain": [
              "(tensor(0.1114), tensor(0.2021))"
            ]
          },
          "metadata": {},
          "execution_count": 20
        }
      ],
      "source": [
        "# a_3는 앞에서 선언한 임의의 이미지\n",
        "\n",
        "dist_3_abs = (a_3 - mean3).abs().mean()\n",
        "dist_3_sqr = ((a_3 - mean3)**2).mean().sqrt()\n",
        "dist_3_abs,dist_3_sqr"
      ]
    },
    {
      "cell_type": "code",
      "execution_count": null,
      "metadata": {
        "id": "f9vRzkpqLfgG",
        "outputId": "f8448edf-54f0-46d5-cde1-a539cf2a7365",
        "colab": {
          "base_uri": "https://localhost:8080/"
        }
      },
      "outputs": [
        {
          "output_type": "execute_result",
          "data": {
            "text/plain": [
              "(tensor(0.1586), tensor(0.3021))"
            ]
          },
          "metadata": {},
          "execution_count": 21
        }
      ],
      "source": [
        "dist_7_abs = (a_3 - mean7).abs().mean()\n",
        "dist_7_sqr = ((a_3 - mean7)**2).mean().sqrt()\n",
        "dist_7_abs,dist_7_sqr"
      ]
    },
    {
      "cell_type": "markdown",
      "metadata": {
        "id": "aSmA1wWCLfgG"
      },
      "source": [
        "In both cases, the distance between our 3 and the \"ideal\" 3 is less than the distance to the ideal 7. So our simple model will give the right prediction in this case."
      ]
    },
    {
      "cell_type": "markdown",
      "metadata": {
        "id": "xeuREAMMLfgG"
      },
      "source": [
        "PyTorch already provides both of these as *loss functions*. You'll find these inside `torch.nn.functional`, which the PyTorch team recommends importing as `F` (and is available by default under that name in fastai):"
      ]
    },
    {
      "cell_type": "code",
      "execution_count": null,
      "metadata": {
        "id": "NOT0vXXELfgG",
        "outputId": "e88cfae4-5a04-4f98-da68-9e0662892d9a",
        "colab": {
          "base_uri": "https://localhost:8080/"
        }
      },
      "outputs": [
        {
          "output_type": "execute_result",
          "data": {
            "text/plain": [
              "(tensor(0.1586), tensor(0.3021))"
            ]
          },
          "metadata": {},
          "execution_count": 22
        }
      ],
      "source": [
        "# 손실 함수 돌려보기\n",
        "# 이걸 사용하면 위와 같은 식을 직접 작성하지 않아도 됨\n",
        "\n",
        "F.l1_loss(a_3.float(),mean7), F.mse_loss(a_3,mean7).sqrt()"
      ]
    },
    {
      "cell_type": "markdown",
      "metadata": {
        "id": "HCUe37_sLfgH"
      },
      "source": [
        "Here `mse` stands for *mean squared error*, and `l1` refers to the standard mathematical jargon for *mean absolute value* (in math it's called the *L1 norm*)."
      ]
    },
    {
      "cell_type": "markdown",
      "metadata": {
        "id": "2jdAsqwuLfgH"
      },
      "source": [
        "> S: Intuitively, the difference between L1 norm and mean squared error (MSE) is that the latter will penalize bigger mistakes more heavily than the former (and be more lenient with small mistakes).\n",
        "\n",
        "평균제곱오차는 L1 노름 보다 실수에 더 강한 패널티 줌"
      ]
    },
    {
      "cell_type": "markdown",
      "metadata": {
        "id": "brydJlFULfgH"
      },
      "source": [
        "> J: When I first came across this \"L1\" thingie, I looked it up to see what on earth it meant. I found on Google that it is a _vector norm_ using _absolute value_, so looked up _vector norm_ and started reading: _Given a vector space V over a field F of the real or complex numbers, a norm on V is a nonnegative-valued any function p: V → \\[0,+∞) with the following properties: For all a ∈ F and all u, v ∈ V, p(u + v) ≤ p(u) + p(v)..._ Then I stopped reading. \"Ugh, I'll never understand math!\" I thought, for the thousandth time. Since then I've learned that every time these complex mathy bits of jargon come up in practice, it turns out I can replace them with a tiny bit of code! Like, the _L1 loss_ is just equal to `(a-b).abs().mean()`, where `a` and `b` are tensors. I guess mathy folks just think differently than me... I'll make sure in this book that every time some mathy jargon comes up, I'll give you the little bit of code it's equal to as well, and explain in common-sense terms what's going on."
      ]
    },
    {
      "cell_type": "markdown",
      "metadata": {
        "id": "tN7JYsvzLfgH"
      },
      "source": [
        "We just completed various mathematical operations on PyTorch tensors. If you've done some numeric programming in NumPy before, you may recognize these as being similar to NumPy arrays. Let's have a look at those two very important data structures."
      ]
    },
    {
      "cell_type": "markdown",
      "metadata": {
        "id": "trKyPhluLfgI"
      },
      "source": [
        "### NumPy Arrays and PyTorch Tensors"
      ]
    },
    {
      "cell_type": "markdown",
      "source": [
        "* 책에서는 넘파이 보다 파이토치 텐서를 사용해서 설명함. 파이토치에 딥러닝을 위한 GPU 활용 기능이 더 많음\n",
        "* 넘파이, 파이토치 써야하는 이유: 빠른 속도\n",
        "* 넘파이: 다차원 테이블 표현 쉬움\n",
        "* 파이토치 텐서\n",
        "  * 넘파이 배열과 거의 같음\n",
        "  * 하지만 기본적 수치형 데이터만 사용가능\n",
        "  * 크기가 들쭉날쭉하면 안됨\n",
        "  * GPU 최적화된 계산\n"
      ],
      "metadata": {
        "id": "Z4hkRgkVmo4v"
      }
    },
    {
      "cell_type": "markdown",
      "metadata": {
        "id": "eyPzp0d5LfgI"
      },
      "source": [
        "[NumPy](https://numpy.org/) is the most widely used library for scientific and numeric programming in Python. It provides very similar functionality and a very similar API to that provided by PyTorch; however, it does not support using the GPU or calculating gradients, which are both critical for deep learning. Therefore, in this book we will generally use PyTorch tensors instead of NumPy arrays, where possible.\n",
        "\n",
        "(Note that fastai adds some features to NumPy and PyTorch to make them a bit more similar to each other. If any code in this book doesn't work on your computer, it's possible that you forgot to include a line like this at the start of your notebook: `from fastai.vision.all import *`.)\n",
        "\n",
        "But what are arrays and tensors, and why should you care?"
      ]
    },
    {
      "cell_type": "markdown",
      "metadata": {
        "id": "llKPCzZuLfgI"
      },
      "source": [
        "Python is slow compared to many languages. Anything fast in Python, NumPy, or PyTorch is likely to be a wrapper for a compiled object written (and optimized) in another language—specifically C. In fact, **NumPy arrays and PyTorch tensors can finish computations many thousands of times faster than using pure Python.**\n",
        "\n",
        "A NumPy array is a multidimensional table of data, with all items of the same type. Since that can be any type at all, they can even be arrays of arrays, with the innermost arrays potentially being different sizes—this is called a \"jagged array.\" By \"multidimensional table\" we mean, for instance, a list (dimension of one), a table or matrix (dimension of two), a \"table of tables\" or \"cube\" (dimension of three), and so forth. If the items are all of some simple type such as integer or float, then NumPy will store them as a compact C data structure in memory. This is where NumPy shines. NumPy has a wide variety of operators and methods that can run computations on these compact structures at the same speed as optimized C, because they are written in optimized C.\n",
        "\n",
        "A PyTorch tensor is nearly the same thing as a NumPy array, but with an additional restriction that unlocks some additional capabilities. It's the same in that it, too, is a multidimensional table of data, with all items of the same type. However, the restriction is that a tensor cannot use just any old type—it has to use a single basic numeric type for all components. For example, a PyTorch tensor cannot be jagged. It is always a regularly shaped multidimensional rectangular structure.\n",
        "\n",
        "The vast majority of methods and operators supported by NumPy on these structures are also supported by PyTorch, but PyTorch tensors have additional capabilities. One major capability is that these structures can live on the GPU, in which case their computation will be optimized for the GPU and can run much faster (given lots of values to work on). In addition, PyTorch can automatically calculate derivatives of these operations, including combinations of operations. As you'll see, it would be impossible to do deep learning in practice without this capability.\n",
        "\n",
        "> S: If you don't know what C is, don't worry as you won't need it at all. In a nutshell, it's a low-level  (low-level means more similar to the language that computers use internally) language that is very fast compared to Python. To take advantage of its speed while programming in Python, try to avoid as much as possible writing loops, and replace them by commands that work directly on arrays or tensors.\n",
        "\n",
        "Perhaps the most important new coding skill for a Python programmer to learn is how to effectively use the array/tensor APIs. We will be showing lots more tricks later in this book, but here's a summary of the key things you need to know for now."
      ]
    },
    {
      "cell_type": "markdown",
      "metadata": {
        "id": "OArLXUIrLfgI"
      },
      "source": [
        "To create an array or tensor, pass a list (or list of lists, or list of lists of lists, etc.) to `array()` or `tensor()`:"
      ]
    },
    {
      "cell_type": "code",
      "execution_count": null,
      "metadata": {
        "id": "66nDpTJOLfgJ"
      },
      "outputs": [],
      "source": [
        "data = [[1,2,3],[4,5,6]] # 중첩 가능\n",
        "arr = array (data)\n",
        "tns = tensor(data)"
      ]
    },
    {
      "cell_type": "code",
      "execution_count": null,
      "metadata": {
        "id": "kMkULHMlLfgJ",
        "outputId": "b2e2b39a-9735-47be-ca97-15a9f72824ab",
        "colab": {
          "base_uri": "https://localhost:8080/"
        }
      },
      "outputs": [
        {
          "output_type": "execute_result",
          "data": {
            "text/plain": [
              "array([[1, 2, 3],\n",
              "       [4, 5, 6]])"
            ]
          },
          "metadata": {},
          "execution_count": 24
        }
      ],
      "source": [
        "arr  # numpy"
      ]
    },
    {
      "cell_type": "code",
      "execution_count": null,
      "metadata": {
        "id": "Etp_rErGLfgJ",
        "outputId": "023cb6b4-c241-4567-c5f4-71f9073fb9ca",
        "colab": {
          "base_uri": "https://localhost:8080/"
        }
      },
      "outputs": [
        {
          "output_type": "execute_result",
          "data": {
            "text/plain": [
              "tensor([[1, 2, 3],\n",
              "        [4, 5, 6]])"
            ]
          },
          "metadata": {},
          "execution_count": 25
        }
      ],
      "source": [
        "tns  # pytorch"
      ]
    },
    {
      "cell_type": "markdown",
      "metadata": {
        "id": "2y4Easf1LfgJ"
      },
      "source": [
        "All the operations that follow are shown on tensors, but the syntax and results for NumPy arrays is identical.\n",
        "\n",
        "You can select a row (note that, like lists in Python, tensors are 0-indexed so 1 refers to the second row/column):"
      ]
    },
    {
      "cell_type": "code",
      "execution_count": null,
      "metadata": {
        "id": "M-2hLPHqLfgK",
        "outputId": "a3912c10-2210-4413-b2a6-a0321744bdbe",
        "colab": {
          "base_uri": "https://localhost:8080/"
        }
      },
      "outputs": [
        {
          "output_type": "execute_result",
          "data": {
            "text/plain": [
              "tensor([4, 5, 6])"
            ]
          },
          "metadata": {},
          "execution_count": 26
        }
      ],
      "source": [
        "tns[1]"
      ]
    },
    {
      "cell_type": "markdown",
      "metadata": {
        "id": "wjJlU8A-LfgK"
      },
      "source": [
        "or a column, by using `:` to indicate *all of the first axis* (we sometimes refer to the dimensions of tensors/arrays as *axes*):"
      ]
    },
    {
      "cell_type": "code",
      "execution_count": null,
      "metadata": {
        "id": "_x8OsEEHLfgK",
        "outputId": "455da1bd-c04c-48ca-fe57-83ee30415b6d",
        "colab": {
          "base_uri": "https://localhost:8080/"
        }
      },
      "outputs": [
        {
          "output_type": "execute_result",
          "data": {
            "text/plain": [
              "tensor([2, 5])"
            ]
          },
          "metadata": {},
          "execution_count": 27
        }
      ],
      "source": [
        "tns[:,1] # 1번 축"
      ]
    },
    {
      "cell_type": "markdown",
      "metadata": {
        "id": "rjm1iVNULfgK"
      },
      "source": [
        "You can combine these with Python slice syntax (`[start:end]` with `end` being excluded) to select part of a row or column:"
      ]
    },
    {
      "cell_type": "code",
      "execution_count": null,
      "metadata": {
        "id": "t5OAHBtLLfgK",
        "outputId": "2e4e40dd-590e-414c-dbe0-07e9aba1c47a",
        "colab": {
          "base_uri": "https://localhost:8080/"
        }
      },
      "outputs": [
        {
          "output_type": "execute_result",
          "data": {
            "text/plain": [
              "tensor([5, 6])"
            ]
          },
          "metadata": {},
          "execution_count": 28
        }
      ],
      "source": [
        "tns[1,1:3] # 1행, 1이상 ~ 3미만"
      ]
    },
    {
      "cell_type": "markdown",
      "metadata": {
        "id": "LhxROKeQLfgL"
      },
      "source": [
        "And you can use the standard operators such as `+`, `-`, `*`, `/`:"
      ]
    },
    {
      "cell_type": "code",
      "execution_count": null,
      "metadata": {
        "id": "10mSH5eILfgL",
        "outputId": "1808c784-976d-4760-b1ea-791dff740c6c",
        "colab": {
          "base_uri": "https://localhost:8080/"
        }
      },
      "outputs": [
        {
          "output_type": "execute_result",
          "data": {
            "text/plain": [
              "tensor([[2, 3, 4],\n",
              "        [5, 6, 7]])"
            ]
          },
          "metadata": {},
          "execution_count": 29
        }
      ],
      "source": [
        "tns+1 # operator 바로 사용하는게 장점으로 보임"
      ]
    },
    {
      "cell_type": "markdown",
      "metadata": {
        "id": "k8-KeLEULfgL"
      },
      "source": [
        "Tensors have a type:"
      ]
    },
    {
      "cell_type": "code",
      "execution_count": null,
      "metadata": {
        "id": "OpytyoamLfgL",
        "outputId": "9b144d40-601b-43c7-d87b-32078ce32a25",
        "colab": {
          "base_uri": "https://localhost:8080/"
        }
      },
      "outputs": [
        {
          "output_type": "execute_result",
          "data": {
            "application/vnd.google.colaboratory.intrinsic+json": {
              "type": "string"
            },
            "text/plain": [
              "'torch.LongTensor'"
            ]
          },
          "metadata": {},
          "execution_count": 30
        }
      ],
      "source": [
        "tns.type()"
      ]
    },
    {
      "cell_type": "markdown",
      "metadata": {
        "id": "YtKzIYw_LfgM"
      },
      "source": [
        "And will automatically change type as needed, for example from `int` to `float`:"
      ]
    },
    {
      "cell_type": "code",
      "execution_count": null,
      "metadata": {
        "id": "MFrvyldrLfgM",
        "outputId": "e72ce24a-7339-4109-d9ee-816f3440dccc",
        "colab": {
          "base_uri": "https://localhost:8080/"
        }
      },
      "outputs": [
        {
          "output_type": "execute_result",
          "data": {
            "text/plain": [
              "tensor([[1.5000, 3.0000, 4.5000],\n",
              "        [6.0000, 7.5000, 9.0000]])"
            ]
          },
          "metadata": {},
          "execution_count": 31
        }
      ],
      "source": [
        "tns*1.5"
      ]
    },
    {
      "cell_type": "markdown",
      "metadata": {
        "id": "GwGBqDYgLfgM"
      },
      "source": [
        "So, is our baseline model any good? To quantify this, we must define a metric."
      ]
    },
    {
      "cell_type": "markdown",
      "metadata": {
        "id": "Hv8eEFSmLfgM"
      },
      "source": [
        "## Computing Metrics Using Broadcasting"
      ]
    },
    {
      "cell_type": "markdown",
      "source": [
        "* **평가지표**: 모델이 얼마나 좋은지 평가\n",
        "* **정확도**를 평가 지표로 사용\n",
        "* 평가 지표를 계산하려는 대상: **검증용 데이터셋**"
      ],
      "metadata": {
        "id": "T76-cUcYpGP7"
      }
    },
    {
      "cell_type": "markdown",
      "metadata": {
        "id": "Q0T1T_R3LfgM"
      },
      "source": [
        "Recall that a metric is a number that is calculated based on the predictions of our model, and the correct labels in our dataset, in order to tell us how good our model is. For instance, we could use either of the functions we saw in the previous section, mean squared error, or mean absolute error, and take the average of them over the whole dataset. However, neither of these are numbers that are very understandable to most people; in practice, we normally use *accuracy* as the metric for classification models.\n",
        "\n",
        "As we've discussed, we want to calculate our metric over a *validation set*. This is so that we don't inadvertently overfit—that is, train a model to work well only on our training data. This is not really a risk with the pixel similarity model we're using here as a first try, since it has no trained components, but we'll use a validation set anyway to follow normal practices and to be ready for our second try later.\n",
        "\n",
        "To get a validation set we need to remove some of the data from training entirely, so it is not seen by the model at all. As it turns out, the creators of the MNIST dataset have already done this for us. Do you remember how there was a whole separate directory called *valid*? That's what this directory is for!\n",
        "\n",
        "So to start with, let's create tensors for our 3s and 7s from that directory. These are the tensors we will use to calculate a metric measuring the quality of our first-try model, which measures distance from an ideal image:"
      ]
    },
    {
      "cell_type": "code",
      "execution_count": null,
      "metadata": {
        "id": "SNT0ZzwkLfgN",
        "outputId": "be8de33d-d3f6-4be9-b15d-79acaea891fb",
        "colab": {
          "base_uri": "https://localhost:8080/"
        }
      },
      "outputs": [
        {
          "output_type": "execute_result",
          "data": {
            "text/plain": [
              "(torch.Size([1010, 28, 28]), torch.Size([1028, 28, 28]))"
            ]
          },
          "metadata": {},
          "execution_count": 32
        }
      ],
      "source": [
        "# 검증용 텐서 만들기\n",
        "valid_3_tens = torch.stack([tensor(Image.open(o)) \n",
        "                            for o in (path/'valid'/'3').ls()])\n",
        "valid_3_tens = valid_3_tens.float()/255\n",
        "valid_7_tens = torch.stack([tensor(Image.open(o)) \n",
        "                            for o in (path/'valid'/'7').ls()])\n",
        "valid_7_tens = valid_7_tens.float()/255\n",
        "valid_3_tens.shape,valid_7_tens.shape # shape 점검하는 습관 들이면 좋다고 함"
      ]
    },
    {
      "cell_type": "markdown",
      "metadata": {
        "id": "cGxYEzjfLfgN"
      },
      "source": [
        "It's good to get in the habit of checking shapes as you go. Here we see two tensors, one representing the 3s validation set of 1,010 images of size 28×28, and one representing the 7s validation set of 1,028 images of size 28×28.\n",
        "\n",
        "We ultimately want to write a function, `is_3`, that will decide if an arbitrary image is a 3 or a 7. It will do this by deciding which of our two \"ideal digits\" this arbitrary image is closer to. For that we need to define a notion of distance—that is, a function that calculates the distance between two images.\n",
        "\n",
        "We can write a simple function that calculates the mean absolute error using an expression very similar to the one we wrote in the last section:"
      ]
    },
    {
      "cell_type": "code",
      "execution_count": null,
      "metadata": {
        "id": "_jaNtfM1LfgN",
        "outputId": "d906c49a-541a-4db8-9a34-6670958ff4af",
        "colab": {
          "base_uri": "https://localhost:8080/"
        }
      },
      "outputs": [
        {
          "output_type": "execute_result",
          "data": {
            "text/plain": [
              "tensor(0.1114)"
            ]
          },
          "metadata": {},
          "execution_count": 33
        }
      ],
      "source": [
        "def mnist_distance(a,b): return (a-b).abs().mean((-1,-2))\n",
        "mnist_distance(a_3, mean3)"
      ]
    },
    {
      "cell_type": "markdown",
      "metadata": {
        "id": "-XhjSMIzLfgN"
      },
      "source": [
        "This is the same value we previously calculated for the distance between these two images, the ideal 3 `mean3` and the arbitrary sample 3 `a_3`, which are both single-image tensors with a shape of `[28,28]`.\n",
        "\n",
        "But in order to calculate a metric for overall accuracy, we will need to calculate the distance to the ideal 3 for _every_ image in the validation set. How do we do that calculation? We could write a loop over all of the single-image tensors that are stacked within our validation set tensor, `valid_3_tens`, which has a shape of `[1010,28,28]` representing 1,010 images. But there is a better way.\n",
        "\n",
        "Something very interesting happens when we take this exact same distance function, designed for comparing two single images, but pass in as an argument `valid_3_tens`, the tensor that represents the 3s validation set:"
      ]
    },
    {
      "cell_type": "code",
      "execution_count": null,
      "metadata": {
        "id": "PHv-81FyLfgO",
        "outputId": "0b6e330f-0083-4819-c348-aec1f2c1ce4c",
        "colab": {
          "base_uri": "https://localhost:8080/"
        }
      },
      "outputs": [
        {
          "output_type": "execute_result",
          "data": {
            "text/plain": [
              "(tensor([0.1423, 0.1137, 0.1228,  ..., 0.1493, 0.1169, 0.1230]),\n",
              " torch.Size([1010]))"
            ]
          },
          "metadata": {},
          "execution_count": 34
        }
      ],
      "source": [
        "# 랭크가 서로 다른 두 텐서 뺄셈을 수행할 때 브로드캐스팅이 발생함\n",
        "# 더 낮은 랭크의 텐서를 더 높은 랜크의 텐서와 같은 크기로 확장\n",
        "\n",
        "valid_3_dist = mnist_distance(valid_3_tens, mean3)\n",
        "valid_3_dist, valid_3_dist.shape"
      ]
    },
    {
      "cell_type": "markdown",
      "metadata": {
        "id": "7Ds5YGKHLfgO"
      },
      "source": [
        "Instead of complaining about shapes not matching, it returned the distance for every single image as a vector (i.e., a rank-1 tensor) of length 1,010 (the number of 3s in our validation set). How did that happen?\n",
        "\n",
        "Take another look at our function `mnist_distance`, and you'll see we have there the subtraction `(a-b)`. The magic trick is that PyTorch, when it tries to perform a simple subtraction operation between two tensors of different ranks, will use *broadcasting*. That is, it will automatically expand the tensor with the smaller rank to have the same size as the one with the larger rank. Broadcasting is an important capability that makes tensor code much easier to write.\n",
        "\n",
        "After broadcasting so the two argument tensors have the same rank, PyTorch applies its usual logic for two tensors of the same rank: it performs the operation on each corresponding element of the two tensors, and returns the tensor result. For instance:"
      ]
    },
    {
      "cell_type": "code",
      "execution_count": null,
      "metadata": {
        "id": "_MYXwlCFLfgO",
        "outputId": "09ac189b-e3a6-4d7c-c4e0-46deee9383ef",
        "colab": {
          "base_uri": "https://localhost:8080/"
        }
      },
      "outputs": [
        {
          "output_type": "execute_result",
          "data": {
            "text/plain": [
              "tensor([2, 3, 4])"
            ]
          },
          "metadata": {},
          "execution_count": 35
        }
      ],
      "source": [
        "# 브로드캐스팅 예시\n",
        "\n",
        "tensor([1,2,3]) + tensor(1) # tensor([1, 1, 1]) 인것처럼 작동함. 다행히 메모리 추가는 일어나지 않음"
      ]
    },
    {
      "cell_type": "markdown",
      "metadata": {
        "id": "7xeTLc2LLfgO"
      },
      "source": [
        "So in this case, PyTorch treats `mean3`, a rank-2 tensor representing a single image, as if it were 1,010 copies of the same image, and then subtracts each of those copies from each 3 in our validation set. What shape would you expect this tensor to have? Try to figure it out yourself before you look at the answer below:"
      ]
    },
    {
      "cell_type": "code",
      "source": [
        "valid_3_tens.shape"
      ],
      "metadata": {
        "colab": {
          "base_uri": "https://localhost:8080/"
        },
        "id": "L4kmq_RAwSko",
        "outputId": "a486c729-ac98-4a14-b056-70967cc94244"
      },
      "execution_count": null,
      "outputs": [
        {
          "output_type": "execute_result",
          "data": {
            "text/plain": [
              "torch.Size([1010, 28, 28])"
            ]
          },
          "metadata": {},
          "execution_count": 36
        }
      ]
    },
    {
      "cell_type": "code",
      "source": [
        "mean3.shape"
      ],
      "metadata": {
        "colab": {
          "base_uri": "https://localhost:8080/"
        },
        "id": "A7ZscPxrwVbn",
        "outputId": "db4a370b-02ef-4f6d-a524-00ef94131235"
      },
      "execution_count": null,
      "outputs": [
        {
          "output_type": "execute_result",
          "data": {
            "text/plain": [
              "torch.Size([28, 28])"
            ]
          },
          "metadata": {},
          "execution_count": 37
        }
      ]
    },
    {
      "cell_type": "code",
      "execution_count": null,
      "metadata": {
        "id": "wdQkhIxRLfgP",
        "outputId": "c0e30381-f32c-4e48-a52c-1d9be51dff31",
        "colab": {
          "base_uri": "https://localhost:8080/"
        }
      },
      "outputs": [
        {
          "output_type": "execute_result",
          "data": {
            "text/plain": [
              "torch.Size([1010, 28, 28])"
            ]
          },
          "metadata": {},
          "execution_count": 38
        }
      ],
      "source": [
        "(valid_3_tens-mean3).shape"
      ]
    },
    {
      "cell_type": "markdown",
      "metadata": {
        "id": "dAKnR1OKLfgP"
      },
      "source": [
        "We are calculating the difference between our \"ideal 3\" and each of the 1,010 3s in the validation set, for each of 28×28 images, resulting in the shape `[1010,28,28]`.\n",
        "\n",
        "There are a couple of important points about how broadcasting is implemented, which make it valuable not just for expressivity but also for performance:\n",
        "\n",
        "- PyTorch doesn't *actually* copy `mean3` 1,010 times. It *pretends* it were a tensor of that shape, but doesn't actually allocate any additional memory\n",
        "- It does the whole calculation in C (or, if you're using a GPU, in CUDA, the equivalent of C on the GPU), tens of thousands of times faster than pure Python (up to millions of times faster on a GPU!).\n",
        "\n",
        "This is true of all broadcasting and elementwise operations and functions done in PyTorch. *It's the most important technique for you to know to create efficient PyTorch code.*\n",
        "\n",
        "Next in `mnist_distance` we see `abs`. You might be able to guess now what this does when applied to a tensor. It applies the method to each individual element in the tensor, and returns a tensor of the results (that is, it applies the method \"elementwise\"). So in this case, we'll get back 1,010 matrices of absolute values.\n",
        "\n",
        "* `abs`는 각 요소별로 적용됨\n",
        "\n",
        "Finally, our function calls `mean((-1,-2))`. The tuple `(-1,-2)` represents a range of axes. In Python, `-1` refers to the last element, and `-2` refers to the second-to-last. So in this case, this tells PyTorch that we want to take the mean ranging over the values indexed by the last two axes of the tensor. The last two axes are the horizontal and vertical dimensions of an image. After taking the mean over the last two axes, we are left with just the first tensor axis, which indexes over our images, which is why our final size was `(1010)`. In other words, for every image, we averaged the intensity of all the pixels in that image.\n",
        "\n",
        "* 이게 이해가 안가서 자세히 들여다 봤습니다.\n",
        "* (-1, -2) 튜플은 축의 범위를 의미함\n",
        "* -1 = 마지막\n",
        "* -2 = 마지막에서 두번째\n",
        "* (-1, -2) = 가로와 세로\n",
        "* 그냥 (1, 2) 이렇게 하면 안되나;;\n",
        "* 무튼 2개의 축을 기준으로 평균을 구함\n",
        "* 앞으로 더 연습한다고 합니다ㅎ\n",
        "\n",
        "We'll be learning lots more about broadcasting throughout this book, especially in <<chapter_foundations>>, and will be practicing it regularly too.\n",
        "\n",
        "We can use `mnist_distance` to figure out whether an image is a 3 or not by using the following logic: if the distance between the digit in question and the ideal 3 is less than the distance to the ideal 7, then it's a 3. This function will automatically do broadcasting and be applied elementwise, just like all PyTorch functions and operators:"
      ]
    },
    {
      "cell_type": "code",
      "execution_count": null,
      "metadata": {
        "id": "lEEmO8DQLfgP"
      },
      "outputs": [],
      "source": [
        "def is_3(x): return mnist_distance(x,mean3) < mnist_distance(x,mean7) # 가까운 거리로 판단"
      ]
    },
    {
      "cell_type": "markdown",
      "metadata": {
        "id": "yHZ16lIkLfgP"
      },
      "source": [
        "Let's test it on our example case:"
      ]
    },
    {
      "cell_type": "code",
      "execution_count": null,
      "metadata": {
        "id": "xHtBXtLPLfgQ",
        "outputId": "b22a7d40-8912-4ac9-a5bc-3db4c9d4f7da",
        "colab": {
          "base_uri": "https://localhost:8080/"
        }
      },
      "outputs": [
        {
          "output_type": "execute_result",
          "data": {
            "text/plain": [
              "(tensor(True), tensor(1.))"
            ]
          },
          "metadata": {},
          "execution_count": 40
        }
      ],
      "source": [
        "is_3(a_3), is_3(a_3).float()"
      ]
    },
    {
      "cell_type": "markdown",
      "metadata": {
        "id": "_LGMlGckLfgQ"
      },
      "source": [
        "Note that when we convert the Boolean response to a float, we get `1.0` for `True` and `0.0` for `False`. Thanks to broadcasting, we can also test it on the full validation set of 3s:"
      ]
    },
    {
      "cell_type": "code",
      "execution_count": null,
      "metadata": {
        "id": "T84vEFYnLfgQ",
        "outputId": "31f0fff6-77e7-46e9-8db7-5d07c14c38ab",
        "colab": {
          "base_uri": "https://localhost:8080/"
        }
      },
      "outputs": [
        {
          "output_type": "execute_result",
          "data": {
            "text/plain": [
              "tensor([ True,  True, False,  ...,  True,  True,  True])"
            ]
          },
          "metadata": {},
          "execution_count": 41
        }
      ],
      "source": [
        "is_3(valid_3_tens)"
      ]
    },
    {
      "cell_type": "markdown",
      "metadata": {
        "id": "ea3jY8xOLfgQ"
      },
      "source": [
        "Now we can calculate the accuracy for each of the 3s and 7s by taking the average of that function for all 3s and its inverse for all 7s:"
      ]
    },
    {
      "cell_type": "code",
      "execution_count": null,
      "metadata": {
        "id": "ERPoIC4yLfgQ",
        "outputId": "890c6835-baea-4c96-b517-6447f3b4f16f",
        "colab": {
          "base_uri": "https://localhost:8080/"
        }
      },
      "outputs": [
        {
          "output_type": "execute_result",
          "data": {
            "text/plain": [
              "(tensor(0.9168), tensor(0.9854), tensor(0.9511))"
            ]
          },
          "metadata": {},
          "execution_count": 42
        }
      ],
      "source": [
        "# 정확도 계산하기\n",
        "\n",
        "accuracy_3s =      is_3(valid_3_tens).float() .mean()\n",
        "accuracy_7s = (1 - is_3(valid_7_tens).float()).mean()\n",
        "\n",
        "accuracy_3s,accuracy_7s,(accuracy_3s+accuracy_7s)/2"
      ]
    },
    {
      "cell_type": "markdown",
      "metadata": {
        "id": "w3ju6KvvLfgR"
      },
      "source": [
        "This looks like a pretty good start! We're getting over 90% accuracy on both 3s and 7s, and we've seen how to define a metric conveniently using broadcasting.\n",
        "\n",
        "But let's be honest: 3s and 7s are very different-looking digits. And we're only classifying 2 out of the 10 possible digits so far. So we're going to need to do better!\n",
        "\n",
        "To do better, perhaps it is time to try a system that does some real learning—that is, that can automatically modify itself to improve its performance. In other words, it's time to talk about the training process, and SGD.\n",
        "\n",
        "* 더 나은 결과를 얻기 위해, 시스템이 자동으로 파라미터를 수정하는 기법이 필요함!\n",
        "* SGD!!!"
      ]
    },
    {
      "cell_type": "markdown",
      "metadata": {
        "id": "tEDVObi4LfgR"
      },
      "source": [
        "## Stochastic Gradient Descent (SGD)\n",
        "\n",
        "* 컴퓨터가 가중치를 스스로 수정하며 학습해서 모델 개선\n",
        "* 그러려면 **풀고자 하는 문제를 정의**해야 함\n",
        "\n",
        "### 문제 정의\n",
        "* 이미지 간 유사도 찾지 말고\n",
        "* 가중치 설정해보자\n",
        "* 숫자 이미지 부분 = 검은색 픽셀\n",
        "* 검은색 픽셀에 매칭되도록 가중치 높이기\n",
        "* 7 우측 하단 활성화 가능성 낮음. 3 우측 하단 활성화 가능성 높음\n",
        "* 7 우측 하단 가중치 낮게, 3 우측 하단 가중치 높게"
      ]
    },
    {
      "cell_type": "markdown",
      "metadata": {
        "id": "rvIvDyCoLfgR"
      },
      "source": [
        "Do you remember the way that Arthur Samuel described machine learning, which we quoted in <<chapter_intro>>?\n",
        "\n",
        "> : Suppose we arrange for some automatic means of testing the effectiveness of any current weight assignment in terms of actual performance and provide a mechanism for altering the weight assignment so as to maximize the performance. We need not go into the details of such a procedure to see that it could be made entirely automatic and to see that a machine so programmed would \"learn\" from its experience.\n",
        "\n",
        "As we discussed, this is the key to allowing us to have a model that can get better and better—that can learn. But our pixel similarity approach does not really do this. We do not have any kind of weight assignment, or any way of improving based on testing the effectiveness of a weight assignment. In other words, we can't really improve our pixel similarity approach by modifying a set of parameters. In order to take advantage of the power of deep learning, we will first have to represent our task in the way that Arthur Samuel described it.\n",
        "\n",
        "Instead of trying to find the similarity between an image and an \"ideal image,\" we could instead look at each individual pixel and come up with a set of weights for each one, such that the highest weights are associated with those pixels most likely to be black for a particular category. For instance, pixels toward the bottom right are not very likely to be activated for a 7, so they should have a low weight for a 7, but they are likely to be activated for an 8, so they should have a high weight for an 8. This can be represented as a function and set of weight values for each possible category—for instance the probability of being the number 8:\n",
        "\n",
        "```\n",
        "# 픽셀 x, 가중치 w\n",
        "def pr_eight(x,w): return (x*w).sum()\n",
        "```"
      ]
    },
    {
      "cell_type": "markdown",
      "metadata": {
        "id": "gH20zZl1LfgR"
      },
      "source": [
        "Here we are assuming that `x` is the image, represented as a vector—in other words, with all of the rows stacked up end to end into a single long line. And we are assuming that the weights are a vector `w`. If we have this function, then we just need some way to update the weights to make them a little bit better. With such an approach, we can repeat that step a number of times, making the weights better and better, until they are as good as we can make them.\n",
        "\n",
        "We want to find the specific values for the vector `w` that causes the result of our function to be high for those images that are actually 8s, and low for those images that are not. Searching for the best vector `w` is a way to search for the best function for recognising 8s. (Because we are not yet using a deep neural network, we are limited by what our function can actually do—we are going to fix that constraint later in this chapter.) \n",
        "\n",
        "To be more specific, here are the steps that we are going to require, to turn this function into a machine learning classifier:\n",
        "\n",
        "1. *Initialize* the weights.\n",
        "1. For each image, use these weights to *predict* whether it appears to be a 3 or a 7.\n",
        "1. Based on these predictions, calculate how good the model is (its *loss*).\n",
        "1. Calculate the *gradient*, which measures for each weight, how changing that weight would change the loss\n",
        "1. *Step* (that is, change) all the weights based on that calculation.\n",
        "1. Go back to the step 2, and *repeat* the process.\n",
        "1. Iterate until you decide to *stop* the training process (for instance, because the model is good enough or you don't want to wait any longer)."
      ]
    },
    {
      "cell_type": "markdown",
      "metadata": {
        "id": "4FOZvgFrLfgS"
      },
      "source": [
        "These seven steps, illustrated in <<gradient_descent>>, are the key to the training of all deep learning models. That deep learning turns out to rely entirely on these steps is extremely surprising and counterintuitive. It's amazing that this process can solve such complex problems. But, as you'll see, it really does!"
      ]
    },
    {
      "cell_type": "code",
      "execution_count": null,
      "metadata": {
        "hide_input": true,
        "id": "N-aWDMEHLfgS",
        "outputId": "75759025-e612-4e20-f80e-4480b6ca5910",
        "colab": {
          "base_uri": "https://localhost:8080/"
        }
      },
      "outputs": [
        {
          "output_type": "execute_result",
          "data": {
            "text/plain": [
              "<graphviz.files.Source at 0x7f4aae6ddb50>"
            ],
            "image/svg+xml": "<?xml version=\"1.0\" encoding=\"UTF-8\" standalone=\"no\"?>\n<!DOCTYPE svg PUBLIC \"-//W3C//DTD SVG 1.1//EN\"\n \"http://www.w3.org/Graphics/SVG/1.1/DTD/svg11.dtd\">\n<!-- Generated by graphviz version 2.40.1 (20161225.0304)\n -->\n<!-- Title: G Pages: 1 -->\n<svg width=\"597pt\" height=\"78pt\"\n viewBox=\"0.00 0.00 596.69 78.00\" xmlns=\"http://www.w3.org/2000/svg\" xmlns:xlink=\"http://www.w3.org/1999/xlink\">\n<g id=\"graph0\" class=\"graph\" transform=\"scale(1 1) rotate(0) translate(4 74)\">\n<title>G</title>\n<polygon fill=\"#ffffff\" stroke=\"transparent\" points=\"-4,4 -4,-74 592.6863,-74 592.6863,4 -4,4\"/>\n<!-- init -->\n<g id=\"node1\" class=\"node\">\n<title>init</title>\n<ellipse fill=\"none\" stroke=\"#000000\" cx=\"27\" cy=\"-18\" rx=\"27\" ry=\"18\"/>\n<text text-anchor=\"middle\" x=\"27\" y=\"-14.3\" font-family=\"Times,serif\" font-size=\"14.00\" fill=\"#000000\">init</text>\n</g>\n<!-- predict -->\n<g id=\"node2\" class=\"node\">\n<title>predict</title>\n<ellipse fill=\"none\" stroke=\"#000000\" cx=\"127.3968\" cy=\"-18\" rx=\"36.2938\" ry=\"18\"/>\n<text text-anchor=\"middle\" x=\"127.3968\" y=\"-14.3\" font-family=\"Times,serif\" font-size=\"14.00\" fill=\"#000000\">predict</text>\n</g>\n<!-- init&#45;&gt;predict -->\n<g id=\"edge1\" class=\"edge\">\n<title>init&#45;&gt;predict</title>\n<path fill=\"none\" stroke=\"#000000\" d=\"M54.1688,-18C62.3543,-18 71.5827,-18 80.6596,-18\"/>\n<polygon fill=\"#000000\" stroke=\"#000000\" points=\"80.7795,-21.5001 90.7795,-18 80.7795,-14.5001 80.7795,-21.5001\"/>\n</g>\n<!-- loss -->\n<g id=\"node3\" class=\"node\">\n<title>loss</title>\n<ellipse fill=\"none\" stroke=\"#000000\" cx=\"227.7935\" cy=\"-52\" rx=\"27\" ry=\"18\"/>\n<text text-anchor=\"middle\" x=\"227.7935\" y=\"-48.3\" font-family=\"Times,serif\" font-size=\"14.00\" fill=\"#000000\">loss</text>\n</g>\n<!-- predict&#45;&gt;loss -->\n<g id=\"edge2\" class=\"edge\">\n<title>predict&#45;&gt;loss</title>\n<path fill=\"none\" stroke=\"#000000\" d=\"M157.5191,-28.2011C168.9806,-32.0826 182.1139,-36.5303 193.9014,-40.5222\"/>\n<polygon fill=\"#000000\" stroke=\"#000000\" points=\"192.8259,-43.8532 203.4202,-43.7458 195.0713,-37.2231 192.8259,-43.8532\"/>\n</g>\n<!-- gradient -->\n<g id=\"node4\" class=\"node\">\n<title>gradient</title>\n<ellipse fill=\"none\" stroke=\"#000000\" cx=\"365.7399\" cy=\"-52\" rx=\"40.8928\" ry=\"18\"/>\n<text text-anchor=\"middle\" x=\"365.7399\" y=\"-48.3\" font-family=\"Times,serif\" font-size=\"14.00\" fill=\"#000000\">gradient</text>\n</g>\n<!-- loss&#45;&gt;gradient -->\n<g id=\"edge3\" class=\"edge\">\n<title>loss&#45;&gt;gradient</title>\n<path fill=\"none\" stroke=\"#000000\" d=\"M255.0473,-52C272.0415,-52 294.4481,-52 314.6545,-52\"/>\n<polygon fill=\"#000000\" stroke=\"#000000\" points=\"314.671,-55.5001 324.671,-52 314.671,-48.5001 314.671,-55.5001\"/>\n</g>\n<!-- step -->\n<g id=\"node5\" class=\"node\">\n<title>step</title>\n<ellipse fill=\"none\" stroke=\"#000000\" cx=\"470.6863\" cy=\"-18\" rx=\"27\" ry=\"18\"/>\n<text text-anchor=\"middle\" x=\"470.6863\" y=\"-14.3\" font-family=\"Times,serif\" font-size=\"14.00\" fill=\"#000000\">step</text>\n</g>\n<!-- gradient&#45;&gt;step -->\n<g id=\"edge4\" class=\"edge\">\n<title>gradient&#45;&gt;step</title>\n<path fill=\"none\" stroke=\"#000000\" d=\"M398.9456,-41.2422C410.9558,-37.3512 424.5297,-32.9536 436.6132,-29.0388\"/>\n<polygon fill=\"#000000\" stroke=\"#000000\" points=\"437.9112,-32.2975 446.3457,-25.8857 435.7537,-25.6382 437.9112,-32.2975\"/>\n</g>\n<!-- step&#45;&gt;predict -->\n<g id=\"edge6\" class=\"edge\">\n<title>step&#45;&gt;predict</title>\n<path fill=\"none\" stroke=\"#000000\" d=\"M443.4266,-18C384.9297,-18 246.7861,-18 174.0495,-18\"/>\n<polygon fill=\"#000000\" stroke=\"#000000\" points=\"173.8098,-14.5001 163.8098,-18 173.8097,-21.5001 173.8098,-14.5001\"/>\n<text text-anchor=\"middle\" x=\"289.7935\" y=\"-21.8\" font-family=\"Times,serif\" font-size=\"14.00\" fill=\"#000000\">repeat</text>\n</g>\n<!-- stop -->\n<g id=\"node6\" class=\"node\">\n<title>stop</title>\n<ellipse fill=\"none\" stroke=\"#000000\" cx=\"561.6863\" cy=\"-18\" rx=\"27\" ry=\"18\"/>\n<text text-anchor=\"middle\" x=\"561.6863\" y=\"-14.3\" font-family=\"Times,serif\" font-size=\"14.00\" fill=\"#000000\">stop</text>\n</g>\n<!-- step&#45;&gt;stop -->\n<g id=\"edge5\" class=\"edge\">\n<title>step&#45;&gt;stop</title>\n<path fill=\"none\" stroke=\"#000000\" d=\"M497.9893,-18C506.2676,-18 515.508,-18 524.3268,-18\"/>\n<polygon fill=\"#000000\" stroke=\"#000000\" points=\"524.4026,-21.5001 534.4025,-18 524.4025,-14.5001 524.4026,-21.5001\"/>\n</g>\n</g>\n</svg>\n"
          },
          "metadata": {},
          "execution_count": 43
        }
      ],
      "source": [
        "#id gradient_descent\n",
        "#caption The gradient descent process\n",
        "#alt Graph showing the steps for Gradient Descent\n",
        "gv('''\n",
        "init->predict->loss->gradient->step->stop\n",
        "step->predict[label=repeat]\n",
        "''')"
      ]
    },
    {
      "cell_type": "markdown",
      "source": [
        "## 머신러닝 분류 모델 만드는데 필요한 단계\n",
        "\n",
        "1. 가중치 **초기화**: 파라미터 값 무작위로 초기화\n",
        "2. **예측(predict)**: 현재 가중치로 3 or 7 인지 예측\n",
        "3. **손실 측정(loss)**: 모델이 얼마나 좋은지\n",
        "4. **그레이디언트(gradient)**계산: 가중치 갱신 정도가 손실에 미치는 영향\n",
        "5. 4번에서 계산한 그레이디언트로 가중치 값을 **한 단계(step)** 조정\n",
        "6. 2번으로 돌아가서 **반복(repeat)**\n",
        "7. **멈춰도 좋다**는 판단이 설 때 까지 반복: 에포크 횟수를 정하고 시작함. 성능 충분 or 시간 제약일 때 멈추게됨"
      ],
      "metadata": {
        "id": "mu21dn44bE7Q"
      }
    },
    {
      "cell_type": "markdown",
      "metadata": {
        "id": "ED9nWxG8LfgS"
      },
      "source": [
        "There are many different ways to do each of these seven steps, and we will be learning about them throughout the rest of this book. These are the details that make a big difference for deep learning practitioners, but it turns out that the general approach to each one generally follows some basic principles. Here are a few guidelines:\n",
        "\n",
        "- Initialize:: We initialize the parameters to random values. This may sound surprising. There are certainly other choices we could make, such as initializing them to the percentage of times that pixel is activated for that category—but since we already know that we have a routine to improve these weights, it turns out that just starting with random weights works perfectly well.\n",
        "- Loss:: This is what Samuel referred to when he spoke of *testing the effectiveness of any current weight assignment in terms of actual performance*. We need some function that will return a number that is small if the performance of the model is good (the standard approach is to treat a small loss as good, and a large loss as bad, although this is just a convention).\n",
        "- Step:: A simple way to figure out whether a weight should be increased a bit, or decreased a bit, would be just to try it: increase the weight by a small amount, and see if the loss goes up or down. Once you find the correct direction, you could then change that amount by a bit more, and a bit less, until you find an amount that works well. However, this is slow! As we will see, the magic of calculus allows us to directly figure out in which direction, and by roughly how much, to change each weight, without having to try all these small changes. The way to do this is by calculating *gradients*. This is just a performance optimization, we would get exactly the same results by using the slower manual process as well.\n",
        "- Stop:: Once we've decided how many epochs to train the model for (a few suggestions for this were given in the earlier list), we apply that decision. This is where that decision is applied. For our digit classifier, we would keep training until the accuracy of the model started getting worse, or we ran out of time."
      ]
    },
    {
      "cell_type": "markdown",
      "metadata": {
        "id": "ho9F0vXSLfgS"
      },
      "source": [
        "### 위의 단계를 간단한 예로 설명\n",
        "\n",
        "Before applying these steps to our image classification problem, let's illustrate what they look like in a simpler case. First we will define a very simple function, the quadratic—let's pretend that this is our loss function, and `x` is a weight parameter of the function:"
      ]
    },
    {
      "cell_type": "code",
      "execution_count": null,
      "metadata": {
        "id": "Jdh05lNoLfgT"
      },
      "outputs": [],
      "source": [
        "def f(x): return x**2"
      ]
    },
    {
      "cell_type": "markdown",
      "metadata": {
        "id": "DwUdzYOgLfgT"
      },
      "source": [
        "Here is a graph of that function:"
      ]
    },
    {
      "cell_type": "code",
      "execution_count": null,
      "metadata": {
        "id": "HoVOkZ-RLfgT",
        "outputId": "9874cb29-d460-4a66-9cbc-ebb18ef265ed",
        "colab": {
          "base_uri": "https://localhost:8080/",
          "height": 334
        }
      },
      "outputs": [
        {
          "output_type": "stream",
          "name": "stderr",
          "text": [
            "/usr/local/lib/python3.7/dist-packages/fastbook/__init__.py:74: UserWarning: Not providing a value for linspace's steps is deprecated and will throw a runtime error in a future release. This warning will appear only once per process. (Triggered internally at  ../aten/src/ATen/native/RangeFactories.cpp:23.)\n",
            "  x = torch.linspace(min,max)\n"
          ]
        },
        {
          "output_type": "display_data",
          "data": {
            "image/png": "[encoded data removed]",
            "text/plain": [
              "<Figure size 432x288 with 1 Axes>"
            ]
          },
          "metadata": {
            "needs_background": "light"
          }
        }
      ],
      "source": [
        "# 별거 아니고 그래프로 표현한 것\n",
        "plot_function(f, 'x', 'x**2')"
      ]
    },
    {
      "cell_type": "markdown",
      "metadata": {
        "id": "xnY3vCmRLfgT"
      },
      "source": [
        "The sequence of steps we described earlier starts by picking some random value for a parameter, and calculating the value of the loss:"
      ]
    },
    {
      "cell_type": "code",
      "execution_count": null,
      "metadata": {
        "id": "hiBkF1DTLfgT",
        "outputId": "547dbfff-f175-4b94-ef00-6575fc3fa24b",
        "colab": {
          "base_uri": "https://localhost:8080/",
          "height": 279
        }
      },
      "outputs": [
        {
          "output_type": "display_data",
          "data": {
            "image/png": "[encoded data removed]",
            "text/plain": [
              "<Figure size 432x288 with 1 Axes>"
            ]
          },
          "metadata": {
            "needs_background": "light"
          }
        }
      ],
      "source": [
        "plot_function(f, 'x', 'x**2')\n",
        "plt.scatter(-1.5, f(-1.5), color='red'); # 임의의 파라미터 선택"
      ]
    },
    {
      "cell_type": "markdown",
      "metadata": {
        "id": "yanm5yP6LfgU"
      },
      "source": [
        "Now we look to see what would happen if we increased or decreased our parameter by a little bit—the *adjustment*. This is simply the slope at a particular point:\n",
        "\n",
        "살짝 조정해보고 기울기 구해서 조정 방향 정함"
      ]
    },
    {
      "cell_type": "markdown",
      "metadata": {
        "id": "18idhKbJLfgU"
      },
      "source": [
        "<img alt=\"A graph showing the squared function with the slope at one point\" width=\"400\" src=\"https://github.com/fastai/fastbook/blob/master/images/grad_illustration.svg?raw=1\"/>"
      ]
    },
    {
      "cell_type": "markdown",
      "metadata": {
        "id": "abA98VdeLfgU"
      },
      "source": [
        "We can change our weight by a little in the direction of the slope, calculate our loss and adjustment again, and repeat this a few times. Eventually, we will get to the lowest point on our curve:\n",
        "\n",
        "계속 반복하면, 가장 낮은 곳에 도달"
      ]
    },
    {
      "cell_type": "markdown",
      "metadata": {
        "id": "Mi2X_d2pLfgU"
      },
      "source": [
        "<img alt=\"An illustration of gradient descent\" width=\"400\" src=\"https://github.com/fastai/fastbook/blob/master/images/chapter2_perfect.svg?raw=1\"/>"
      ]
    },
    {
      "cell_type": "markdown",
      "metadata": {
        "id": "hjwj0ClJLfgU"
      },
      "source": [
        "This basic idea goes all the way back to Isaac Newton, who pointed out that we can optimize arbitrary functions in this way. Regardless of how complicated our functions become, this basic approach of gradient descent will not significantly change. The only minor changes we will see later in this book are some handy ways we can make it faster, by finding better steps."
      ]
    },
    {
      "cell_type": "markdown",
      "metadata": {
        "id": "xiTv2i74LfgV"
      },
      "source": [
        "### Calculating Gradients"
      ]
    },
    {
      "cell_type": "markdown",
      "source": [
        "* 그레이디언트는 모델이 더 나아지려면 갱신해야할 가중치의 정도를 알려줌\n",
        "* 미분: 값의 변화 정도를 계산\n",
        "* 그레이디언트: **y의 변화량 / x의 변화량**\n",
        "* 함수의 그레이디언트를 더 작게 만드는 것 = 머신러닝의 핵심\n",
        "* 파이토치로는 미분 계산하기 완전 편하다고함. 아래 코드를 봅시다"
      ],
      "metadata": {
        "id": "wC_0phrVguYp"
      }
    },
    {
      "cell_type": "markdown",
      "metadata": {
        "id": "bH2Sy319LfgV"
      },
      "source": [
        "The one magic step is the bit where we calculate the gradients. As we mentioned, we use calculus as a performance optimization; it allows us to more quickly calculate whether our loss will go up or down when we adjust our parameters up or down. In other words, the gradients will tell us how much we have to change each weight to make our model better.\n",
        "\n",
        "You may remember from your high school calculus class that the *derivative* of a function tells you how much a change in its parameters will change its result. If not, don't worry, lots of us forget calculus once high school is behind us! But you will have to have some intuitive understanding of what a derivative is before you continue, so if this is all very fuzzy in your head, head over to Khan Academy and complete the [lessons on basic derivatives](https://www.khanacademy.org/math/differential-calculus/dc-diff-intro). You won't have to know how to calculate them yourselves, you just have to know what a derivative is.\n",
        "\n",
        "The key point about a derivative is this: for any function, such as the quadratic function we saw in the previous section, we can calculate its derivative. The derivative is another function. It calculates the change, rather than the value. For instance, the derivative of the quadratic function at the value 3 tells us how rapidly the function changes at the value 3. More specifically, you may recall that gradient is defined as *rise/run*, that is, the change in the value of the function, divided by the change in the value of the parameter. When we know how our function will change, then we know what we need to do to make it smaller. This is the key to machine learning: having a way to change the parameters of a function to make it smaller. Calculus provides us with a computational shortcut, the derivative, which lets us directly calculate the gradients of our functions."
      ]
    },
    {
      "cell_type": "markdown",
      "metadata": {
        "id": "CBkTijf1LfgV"
      },
      "source": [
        "One important thing to be aware of is that our function has lots of weights that we need to adjust, so when we calculate the derivative we won't get back one number, but lots of them—a gradient for every weight. But there is nothing mathematically tricky here; you can calculate the derivative with respect to one weight, and treat all the other ones as constant, then repeat that for each other weight. This is how all of the gradients are calculated, for every weight.\n",
        "\n",
        "We mentioned just now that you won't have to calculate any gradients yourself. How can that be? Amazingly enough, PyTorch is able to automatically compute the derivative of nearly any function! What's more, it does it very fast. Most of the time, it will be at least as fast as any derivative function that you can create by hand. Let's see an example.\n",
        "\n",
        "First, let's pick a tensor value which we want gradients at:"
      ]
    },
    {
      "cell_type": "code",
      "execution_count": null,
      "metadata": {
        "id": "GVLLXw2qLfgV",
        "colab": {
          "base_uri": "https://localhost:8080/"
        },
        "outputId": "3079b67d-ecff-41e4-aa4d-6c06cca09751"
      },
      "outputs": [
        {
          "output_type": "execute_result",
          "data": {
            "text/plain": [
              "tensor(3.)"
            ]
          },
          "metadata": {},
          "execution_count": 47
        }
      ],
      "source": [
        "tensor(3.)"
      ]
    },
    {
      "cell_type": "code",
      "source": [
        "# 명쾌한건 아니지만 이렇게 하면 텐서 내부에서 gradient를 알아서 계산해준다고 함\n",
        "tensor(3.).requires_grad_() # requires_grad=True 옵션을 활성화"
      ],
      "metadata": {
        "colab": {
          "base_uri": "https://localhost:8080/"
        },
        "id": "oQKifdKPjPTP",
        "outputId": "f0ecbdd4-6281-498b-91b5-8125b913388e"
      },
      "execution_count": null,
      "outputs": [
        {
          "output_type": "execute_result",
          "data": {
            "text/plain": [
              "tensor(3., requires_grad=True)"
            ]
          },
          "metadata": {},
          "execution_count": 48
        }
      ]
    },
    {
      "cell_type": "code",
      "source": [
        "xt = tensor(3.).requires_grad_()"
      ],
      "metadata": {
        "id": "HDMZeWndjSnN"
      },
      "execution_count": null,
      "outputs": []
    },
    {
      "cell_type": "markdown",
      "metadata": {
        "id": "gG8nPAtvLfgV"
      },
      "source": [
        "Notice the special method `requires_grad_`? That's the magical incantation we use to tell PyTorch that we want to calculate gradients with respect to that variable at that value. It is essentially tagging the variable, so PyTorch will remember to keep track of how to compute gradients of the other, direct calculations on it that you will ask for.\n",
        "\n",
        "> a: This API might throw you off if you're coming from math or physics. In those contexts the \"gradient\" of a function is just another function (i.e., its derivative), so you might expect gradient-related APIs to give you a new function. But in deep learning, \"gradients\" usually means the _value_ of a function's derivative at a particular argument value. The PyTorch API also puts the focus on the argument, not the function you're actually computing the gradients of. It may feel backwards at first, but it's just a different perspective.\n",
        "\n",
        "Now we calculate our function with that value. Notice how PyTorch prints not just the value calculated, but also a note that it has a gradient function it'll be using to calculate our gradients when needed:"
      ]
    },
    {
      "cell_type": "code",
      "execution_count": null,
      "metadata": {
        "id": "VzTYcB3iLfgW",
        "outputId": "515101ae-4a78-4cc8-d284-2b7da7705dbc",
        "colab": {
          "base_uri": "https://localhost:8080/"
        }
      },
      "outputs": [
        {
          "output_type": "execute_result",
          "data": {
            "text/plain": [
              "tensor(9., grad_fn=<PowBackward0>)"
            ]
          },
          "metadata": {},
          "execution_count": 50
        }
      ],
      "source": [
        "yt = f(xt)\n",
        "yt"
      ]
    },
    {
      "cell_type": "markdown",
      "metadata": {
        "id": "cw0OwCrQLfgW"
      },
      "source": [
        "Finally, we tell PyTorch to calculate the gradients for us:"
      ]
    },
    {
      "cell_type": "code",
      "execution_count": null,
      "metadata": {
        "id": "EaBMIi_sLfgW"
      },
      "outputs": [],
      "source": [
        "yt.backward() # 그레이디언트 계산"
      ]
    },
    {
      "cell_type": "markdown",
      "metadata": {
        "id": "EpQy5bzILfgW"
      },
      "source": [
        "The \"backward\" here refers to *backpropagation*, which is the name given to the process of calculating the derivative of each layer. We'll see how this is done exactly in chapter <<chapter_foundations>>, when we calculate the gradients of a deep neural net from scratch. This is called the \"backward pass\" of the network, as opposed to the \"forward pass,\" which is where the activations are calculated. Life would probably be easier if `backward` was just called `calculate_grad`, but deep learning folks really do like to add jargon everywhere they can!"
      ]
    },
    {
      "cell_type": "markdown",
      "metadata": {
        "id": "25X5bedWLfgW"
      },
      "source": [
        "We can now view the gradients by checking the `grad` attribute of our tensor:"
      ]
    },
    {
      "cell_type": "code",
      "execution_count": null,
      "metadata": {
        "id": "th8JPKyyLfgX",
        "outputId": "09537d76-8076-4d8e-fa68-972ed8953c62",
        "colab": {
          "base_uri": "https://localhost:8080/"
        }
      },
      "outputs": [
        {
          "output_type": "execute_result",
          "data": {
            "text/plain": [
              "tensor(6.)"
            ]
          },
          "metadata": {},
          "execution_count": 52
        }
      ],
      "source": [
        "xt.grad # 그레이디언트 결과값"
      ]
    },
    {
      "cell_type": "markdown",
      "metadata": {
        "id": "zEmH-o1wLfgX"
      },
      "source": [
        "If you remember your high school calculus rules, the derivative of `x**2` is `2*x`, and we have `x=3`, so the gradients should be `2*3=6`, which is what PyTorch calculated for us!\n",
        "\n",
        "Now we'll repeat the preceding steps, but with a vector argument for our function:"
      ]
    },
    {
      "cell_type": "code",
      "execution_count": null,
      "metadata": {
        "id": "WSi95KCxLfgX",
        "outputId": "8adc2f0e-c459-4b03-a7f6-2b484c9a2b73",
        "colab": {
          "base_uri": "https://localhost:8080/"
        }
      },
      "outputs": [
        {
          "output_type": "execute_result",
          "data": {
            "text/plain": [
              "tensor([ 3.,  4., 10.], requires_grad=True)"
            ]
          },
          "metadata": {},
          "execution_count": 53
        }
      ],
      "source": [
        "# 벡터 그레디언트 계산해보기\n",
        "xt = tensor([3.,4.,10.]).requires_grad_()\n",
        "xt"
      ]
    },
    {
      "cell_type": "markdown",
      "metadata": {
        "id": "Oxs9AyB0LfgX"
      },
      "source": [
        "And we'll add `sum` to our function so it can take a vector (i.e., a rank-1 tensor), and return a scalar (i.e., a rank-0 tensor):"
      ]
    },
    {
      "cell_type": "code",
      "execution_count": null,
      "metadata": {
        "id": "FDxWVl58LfgX",
        "outputId": "23df8ca7-2253-4440-f580-3de3396cb707",
        "colab": {
          "base_uri": "https://localhost:8080/"
        }
      },
      "outputs": [
        {
          "output_type": "execute_result",
          "data": {
            "text/plain": [
              "tensor(125., grad_fn=<SumBackward0>)"
            ]
          },
          "metadata": {},
          "execution_count": 54
        }
      ],
      "source": [
        "def f(x): return (x**2).sum()\n",
        "\n",
        "yt = f(xt)\n",
        "yt"
      ]
    },
    {
      "cell_type": "markdown",
      "metadata": {
        "id": "Rh2a-ZwwLfgY"
      },
      "source": [
        "Our gradients are `2*xt`, as we'd expect!"
      ]
    },
    {
      "cell_type": "code",
      "execution_count": null,
      "metadata": {
        "id": "VeJ8MaU8LfgY",
        "outputId": "57f7387f-1219-4921-b111-e74446440445",
        "colab": {
          "base_uri": "https://localhost:8080/"
        }
      },
      "outputs": [
        {
          "output_type": "execute_result",
          "data": {
            "text/plain": [
              "tensor([ 6.,  8., 20.])"
            ]
          },
          "metadata": {},
          "execution_count": 55
        }
      ],
      "source": [
        "yt.backward()\n",
        "xt.grad"
      ]
    },
    {
      "cell_type": "markdown",
      "metadata": {
        "id": "__QY1-vPLfgY"
      },
      "source": [
        "The gradients only tell us the slope of our function, they don't actually tell us exactly how far to adjust the parameters. But it gives us some idea of how far; if the slope is very large, then that may suggest that we have more adjustments to do, whereas if the slope is very small, that may suggest that we are close to the optimal value."
      ]
    },
    {
      "cell_type": "markdown",
      "metadata": {
        "id": "H9Ozdjz8LfgY"
      },
      "source": [
        "### Stepping With a Learning Rate: 학습률을 사용해 단계 밟아 나가기"
      ]
    },
    {
      "cell_type": "markdown",
      "source": [
        "* 학습률을 그레이디언트에 곱하는 아이디어\n",
        "* 학습률: 대부분 0.001 ~ 0.1 사이의 값\n",
        "* 이 과정을 최적화 단계(optimization step)를 사용한 파라미터의 **갱신단계(stepping)** 라고 함"
      ],
      "metadata": {
        "id": "QfhNgpwbb741"
      }
    },
    {
      "cell_type": "markdown",
      "metadata": {
        "id": "8R8I1r9XLfgY"
      },
      "source": [
        "Deciding how to change our parameters based on the values of the gradients is an important part of the deep learning process. Nearly all approaches start with the basic idea of multiplying the gradient by some small number, called the *learning rate* (LR). The learning rate is often a number between 0.001 and 0.1, although it could be anything. Often, people select a learning rate just by trying a few, and finding which results in the best model after training (we'll show you a better approach later in this book, called the *learning rate finder*). Once you've picked a learning rate, you can adjust your parameters using this simple function:\n",
        "\n",
        "```\n",
        "w -= gradient(w) * lr\n",
        "```\n",
        "\n",
        "This is known as *stepping* your parameters, using an *optimizer step*.\n",
        "\n",
        "If you pick a learning rate that's too low, it can mean having to do a lot of steps. <<descent_small>> illustrates that."
      ]
    },
    {
      "cell_type": "markdown",
      "metadata": {
        "id": "4YjYBu1aLfgZ"
      },
      "source": [
        "<img alt=\"An illustration of gradient descent with a LR too low\" width=\"400\" caption=\"Gradient descent with low LR\" src=\"https://github.com/fastai/fastbook/blob/master/images/chapter2_small.svg?raw=1\" id=\"descent_small\"/>\n",
        "\n",
        "작은 학습률로 수행되는 경사하강\n"
      ]
    },
    {
      "cell_type": "markdown",
      "metadata": {
        "id": "6P864OTdLfgZ"
      },
      "source": [
        "But picking a learning rate that's too high is even worse—it can actually result in the loss getting *worse*, as we see in <<descent_div>>!"
      ]
    },
    {
      "cell_type": "markdown",
      "metadata": {
        "id": "9BbRoCYYLfgZ"
      },
      "source": [
        "<img alt=\"An illustration of gradient descent with a LR too high\" width=\"400\" caption=\"Gradient descent with high LR\" src=\"https://github.com/fastai/fastbook/blob/master/images/chapter2_div.svg?raw=1\" id=\"descent_div\"/>\n",
        "\n",
        "큰 학습률로 수행되는 경사하강\n"
      ]
    },
    {
      "cell_type": "markdown",
      "metadata": {
        "id": "taYNwr7qLfgZ"
      },
      "source": [
        "If the learning rate is too high, it may also \"bounce\" around, rather than actually diverging; <<descent_bouncy>> shows how this has the result of taking many steps to train successfully."
      ]
    },
    {
      "cell_type": "markdown",
      "metadata": {
        "id": "aC8fRwypLfgZ"
      },
      "source": [
        "<img alt=\"An illustation of gradient descent with a bouncy LR\" width=\"400\" caption=\"Gradient descent with bouncy LR\" src=\"https://github.com/fastai/fastbook/blob/master/images/chapter2_bouncy.svg?raw=1\" id=\"descent_bouncy\"/>\n",
        "\n",
        "학습률이 지나치면 이리저리 뛰어나니는 현상 발생 😅"
      ]
    },
    {
      "cell_type": "markdown",
      "metadata": {
        "id": "38cpVCm9Lfga"
      },
      "source": [
        "Now let's apply all of this in an end-to-end example."
      ]
    },
    {
      "cell_type": "markdown",
      "metadata": {
        "id": "ufScM3N9Lfga"
      },
      "source": [
        "### An End-to-End SGD Example: SGD를 활용한 시작부터 끝까지를 보여주는 예제"
      ]
    },
    {
      "cell_type": "markdown",
      "source": [
        "* 지금까지 그레이디언트로 손실을 최소화 하는 방법 알아봄\n",
        "* 이제부터 SGD 살펴보기"
      ],
      "metadata": {
        "id": "MhQ3ZPkRdReN"
      }
    },
    {
      "cell_type": "markdown",
      "metadata": {
        "id": "wtJFhcwJLfga"
      },
      "source": [
        "### 롤러코스터 속도 계산 예시\n",
        "\n",
        "- 빠르다가 경사로 올라가면서 느려짐\n",
        "\n",
        "We've seen how to use gradients to find a minimum. Now it's time to look at an SGD example and see how finding a minimum can be used to train a model to fit data better.\n",
        "\n",
        "Let's start with a simple, synthetic, example model. Imagine you were measuring the speed of a roller coaster as it went over the top of a hump. It would start fast, and then get slower as it went up the hill; it would be slowest at the top, and it would then speed up again as it went downhill. You want to build a model of how the speed changes over time. If you were measuring the speed manually every second for 20 seconds, it might look something like this:"
      ]
    },
    {
      "cell_type": "code",
      "execution_count": null,
      "metadata": {
        "id": "5Si9Uo4ULfga",
        "outputId": "eb084c4e-483a-423a-b08a-136ead5fd93f",
        "colab": {
          "base_uri": "https://localhost:8080/"
        }
      },
      "outputs": [
        {
          "output_type": "execute_result",
          "data": {
            "text/plain": [
              "tensor([ 0.,  1.,  2.,  3.,  4.,  5.,  6.,  7.,  8.,  9., 10., 11., 12., 13., 14., 15., 16., 17., 18., 19.])"
            ]
          },
          "metadata": {},
          "execution_count": 56
        }
      ],
      "source": [
        "time = torch.arange(0,20).float(); time # 20초 동안 측정한다고 가정"
      ]
    },
    {
      "cell_type": "code",
      "execution_count": null,
      "metadata": {
        "id": "MiQB6yvdLfga",
        "outputId": "a08c46e7-473e-4392-fdb9-d18284f2f4c1",
        "colab": {
          "base_uri": "https://localhost:8080/",
          "height": 265
        }
      },
      "outputs": [
        {
          "output_type": "display_data",
          "data": {
            "image/png": "[encoded data removed]",
            "text/plain": [
              "<Figure size 432x288 with 1 Axes>"
            ]
          },
          "metadata": {
            "needs_background": "light"
          }
        }
      ],
      "source": [
        "speed = torch.randn(20)*3 + 0.75*(time-9.5)**2 + 1 # torch.randn(20)*3 예제를 위한 노이즈\n",
        "plt.scatter(time,speed);"
      ]
    },
    {
      "cell_type": "markdown",
      "metadata": {
        "id": "GN5dGe0oLfgb"
      },
      "source": [
        "We've added a bit of random noise, since measuring things manually isn't precise. This means it's not that easy to answer the question: what was the roller coaster's speed? Using SGD we can try to find a function that matches our observations. We can't consider every possible function, so let's use a guess that it will be quadratic; i.e., a function of the form `a*(time**2)+(b*time)+c`.\n",
        "\n",
        "We want to distinguish clearly between the function's input (the time when we are measuring the coaster's speed) and its parameters (the values that define *which* quadratic we're trying). So, let's collect the parameters in one argument and thus separate the input, `t`, and the parameters, `params`, in the function's signature: \n",
        "\n",
        "* SGD를 활용하면 관측 데이터에 들어맞는 함수를 찾을 수 있음\n",
        "* 하지만 모든 함수를 고려하기는 불가능해서, 여기서는 2차 함수라고 가정"
      ]
    },
    {
      "cell_type": "code",
      "execution_count": null,
      "metadata": {
        "id": "gWFnshxnLfgb"
      },
      "outputs": [],
      "source": [
        "# - t: 입력\n",
        "# - params: 나머지 파라미터\n",
        "def f(t, params): \n",
        "    a,b,c = params\n",
        "    return a*(t**2) + (b*t) + c"
      ]
    },
    {
      "cell_type": "markdown",
      "metadata": {
        "id": "VmS7ygi1Lfgb"
      },
      "source": [
        "* 위와 같이 제한하면 가장 적합한 a, b, c를 찾는 문제로 단순해짐\n",
        "* 가장 적합한 = 올바른 손실 함수를 골라야 함\n",
        "* 연속적인 값을 예측할 때는 일반적으로 평균제곱오차 사용함\n",
        "\n",
        "In other words, we've restricted the problem of finding the best imaginable function that fits the data, to finding the best *quadratic* function. This greatly simplifies the problem, since every quadratic function is fully defined by the three parameters `a`, `b`, and `c`. Thus, to find the best quadratic function, we only need to find the best values for `a`, `b`, and `c`.\n",
        "\n",
        "If we can solve this problem for the three parameters of a quadratic function, we'll be able to apply the same approach for other, more complex functions with more parameters—such as a neural net. Let's find the parameters for `f` first, and then we'll come back and do the same thing for the MNIST dataset with a neural net.\n",
        "\n",
        "We need to define first what we mean by \"best.\" We define this precisely by choosing a *loss function*, which will return a value based on a prediction and a target, where lower values of the function correspond to \"better\" predictions. For continuous data, it's common to use *mean squared error*:"
      ]
    },
    {
      "cell_type": "code",
      "execution_count": null,
      "metadata": {
        "id": "1P29BlnfLfgc"
      },
      "outputs": [],
      "source": [
        "# 이걸 손실함수로 쓰기로함\n",
        "def mse(preds, targets): return ((preds-targets)**2).mean().sqrt()"
      ]
    },
    {
      "cell_type": "markdown",
      "metadata": {
        "id": "7VsvANblLfgc"
      },
      "source": [
        "Now, let's work through our 7 step process."
      ]
    },
    {
      "cell_type": "markdown",
      "metadata": {
        "id": "5qodIQgwLfgc"
      },
      "source": [
        "#### Step 1: Initialize the parameters"
      ]
    },
    {
      "cell_type": "markdown",
      "metadata": {
        "id": "aTe09lO3Lfgc"
      },
      "source": [
        "First, we initialize the parameters to random values, and tell PyTorch that we want to track their gradients, using `requires_grad_`:"
      ]
    },
    {
      "cell_type": "code",
      "execution_count": null,
      "metadata": {
        "id": "m9XwUbL3Lfgc"
      },
      "outputs": [],
      "source": [
        "params = torch.randn(3).requires_grad_() # 임의값으로 초기화, 그레이디언트 추적 활성화"
      ]
    },
    {
      "cell_type": "code",
      "execution_count": null,
      "metadata": {
        "id": "phG9YigALfgd"
      },
      "outputs": [],
      "source": [
        "#hide\n",
        "orig_params = params.clone()"
      ]
    },
    {
      "cell_type": "markdown",
      "metadata": {
        "id": "vO41-eEPLfgd"
      },
      "source": [
        "#### Step 2: Calculate the predictions"
      ]
    },
    {
      "cell_type": "markdown",
      "metadata": {
        "id": "ZXgmRIUkLfgd"
      },
      "source": [
        "Next, we calculate the predictions:"
      ]
    },
    {
      "cell_type": "code",
      "execution_count": null,
      "metadata": {
        "id": "a03lrD8_Lfgd"
      },
      "outputs": [],
      "source": [
        "preds = f(time, params)"
      ]
    },
    {
      "cell_type": "markdown",
      "metadata": {
        "id": "klIM16CULfgd"
      },
      "source": [
        "Let's create a little function to see how close our predictions are to our targets, and take a look:"
      ]
    },
    {
      "cell_type": "code",
      "execution_count": null,
      "metadata": {
        "id": "CHW0Z-EgLfge"
      },
      "outputs": [],
      "source": [
        "def show_preds(preds, ax=None):\n",
        "    if ax is None: ax=plt.subplots()[1]\n",
        "    ax.scatter(time, speed)\n",
        "    ax.scatter(time, to_np(preds), color='red')\n",
        "    ax.set_ylim(-300,100)"
      ]
    },
    {
      "cell_type": "code",
      "execution_count": null,
      "metadata": {
        "id": "g8ko0lBxLfge",
        "outputId": "df9a250a-e2d6-4d3e-c2e8-e0c19c261217",
        "colab": {
          "base_uri": "https://localhost:8080/"
        }
      },
      "outputs": [
        {
          "output_type": "display_data",
          "data": {
            "image/png": "[encoded data removed]",
            "text/plain": [
              "<Figure size 432x288 with 1 Axes>"
            ]
          },
          "metadata": {
            "needs_background": "light"
          }
        }
      ],
      "source": [
        "show_preds(preds) # 임의의 값으로 초기화 되어 있어서, 완전히 다른 값을 예측함"
      ]
    },
    {
      "cell_type": "markdown",
      "metadata": {
        "id": "IA6z6KCbLfge"
      },
      "source": [
        "This doesn't look very close—our random parameters suggest that the roller coaster will end up going backwards, since we have negative speeds!"
      ]
    },
    {
      "cell_type": "markdown",
      "metadata": {
        "id": "2Gkkvb-GLfge"
      },
      "source": [
        "#### Step 3: Calculate the loss"
      ]
    },
    {
      "cell_type": "markdown",
      "metadata": {
        "id": "C-yzMF4mLfgf"
      },
      "source": [
        "We calculate the loss as follows:"
      ]
    },
    {
      "cell_type": "code",
      "execution_count": null,
      "metadata": {
        "id": "uIhVGFt8Lfgf",
        "outputId": "d36ec96e-9ee2-4c3c-903e-9a3199b52c50",
        "colab": {
          "base_uri": "https://localhost:8080/"
        }
      },
      "outputs": [
        {
          "output_type": "execute_result",
          "data": {
            "text/plain": [
              "tensor(160.6979, grad_fn=<SqrtBackward0>)"
            ]
          },
          "metadata": {},
          "execution_count": 65
        }
      ],
      "source": [
        "loss = mse(preds, speed)\n",
        "loss"
      ]
    },
    {
      "cell_type": "markdown",
      "metadata": {
        "id": "OPiF2AHYLfgf"
      },
      "source": [
        "Our goal is now to improve this. To do that, we'll need to know the gradients."
      ]
    },
    {
      "cell_type": "markdown",
      "metadata": {
        "id": "65lECzXALfgf"
      },
      "source": [
        "#### Step 4: Calculate the gradients"
      ]
    },
    {
      "cell_type": "markdown",
      "metadata": {
        "id": "Re_GW7o1Lfgf"
      },
      "source": [
        "The next step is to calculate the gradients. In other words, calculate an approximation of how the parameters need to change:"
      ]
    },
    {
      "cell_type": "code",
      "execution_count": null,
      "metadata": {
        "id": "0g70XbZ9Lfgg",
        "outputId": "1e7a289b-5b0f-4b73-9144-d7c1d36b98dd",
        "colab": {
          "base_uri": "https://localhost:8080/"
        }
      },
      "outputs": [
        {
          "output_type": "execute_result",
          "data": {
            "text/plain": [
              "tensor([-165.5151,  -10.6402,   -0.7900])"
            ]
          },
          "metadata": {},
          "execution_count": 66
        }
      ],
      "source": [
        "loss.backward()\n",
        "params.grad"
      ]
    },
    {
      "cell_type": "code",
      "execution_count": null,
      "metadata": {
        "id": "X8WFvxk5Lfgg",
        "outputId": "ce81c919-9729-4555-cc52-128994352dd0",
        "colab": {
          "base_uri": "https://localhost:8080/"
        }
      },
      "outputs": [
        {
          "output_type": "execute_result",
          "data": {
            "text/plain": [
              "tensor([-1.6552e-03, -1.0640e-04, -7.8996e-06])"
            ]
          },
          "metadata": {},
          "execution_count": 67
        }
      ],
      "source": [
        "params.grad * 1e-5 # le-5(0.00001) = 일단 선택된 학습률"
      ]
    },
    {
      "cell_type": "markdown",
      "metadata": {
        "id": "-Cp5MkRTLfgg"
      },
      "source": [
        "We can use these gradients to improve our parameters. We'll need to pick a learning rate (we'll discuss how to do that in practice in the next chapter; for now we'll just use 1e-5, or 0.00001):"
      ]
    },
    {
      "cell_type": "code",
      "execution_count": null,
      "metadata": {
        "id": "85W9RjdcLfgg",
        "outputId": "e174d560-d612-4812-d617-062d721bec06",
        "colab": {
          "base_uri": "https://localhost:8080/"
        }
      },
      "outputs": [
        {
          "output_type": "execute_result",
          "data": {
            "text/plain": [
              "tensor([-0.7658, -0.7506,  1.3525], requires_grad=True)"
            ]
          },
          "metadata": {},
          "execution_count": 68
        }
      ],
      "source": [
        "params"
      ]
    },
    {
      "cell_type": "markdown",
      "metadata": {
        "id": "xEuQPB-tLfgg"
      },
      "source": [
        "#### Step 5: Step the weights : 가중치 갱신하기"
      ]
    },
    {
      "cell_type": "markdown",
      "metadata": {
        "id": "5DW4K19JLfgh"
      },
      "source": [
        "Now we need to update the parameters based on the gradients we just calculated:"
      ]
    },
    {
      "cell_type": "code",
      "execution_count": null,
      "metadata": {
        "id": "u_pgcIcOLfgh"
      },
      "outputs": [],
      "source": [
        "lr = 1e-5\n",
        "params.data -= lr * params.grad.data\n",
        "params.grad = None"
      ]
    },
    {
      "cell_type": "markdown",
      "metadata": {
        "id": "VKB5UYm3Lfgh"
      },
      "source": [
        "> a: Understanding this bit depends on remembering recent history. To calculate the gradients we call `backward` on the `loss`. But this `loss` was itself calculated by `mse`, which in turn took `preds` as an input, which was calculated using `f` taking as an input `params`, which was the object on which we originally called `required_grads_`—which is the original call that now allows us to call `backward` on `loss`. This chain of function calls represents the mathematical composition of functions, which enables PyTorch to use calculus's chain rule under the hood to calculate these gradients."
      ]
    },
    {
      "cell_type": "markdown",
      "metadata": {
        "id": "dDtSZ2ewLfgh"
      },
      "source": [
        "Let's see if the loss has improved:"
      ]
    },
    {
      "cell_type": "code",
      "execution_count": null,
      "metadata": {
        "id": "sOxkYzYfLfgh",
        "outputId": "4778b6e1-badb-476b-8d4c-707c4dea9014",
        "colab": {
          "base_uri": "https://localhost:8080/"
        }
      },
      "outputs": [
        {
          "output_type": "execute_result",
          "data": {
            "text/plain": [
              "tensor(160.4228, grad_fn=<SqrtBackward0>)"
            ]
          },
          "metadata": {},
          "execution_count": 70
        }
      ],
      "source": [
        "preds = f(time,params)\n",
        "mse(preds, speed)"
      ]
    },
    {
      "cell_type": "markdown",
      "metadata": {
        "id": "HP3NU6FCLfgi"
      },
      "source": [
        "And take a look at the plot:"
      ]
    },
    {
      "cell_type": "code",
      "execution_count": null,
      "metadata": {
        "id": "Xn1bvXE0Lfgi",
        "outputId": "c5796b1e-09aa-47f0-a3e3-9002b44ce987",
        "colab": {
          "base_uri": "https://localhost:8080/"
        }
      },
      "outputs": [
        {
          "output_type": "display_data",
          "data": {
            "image/png": "[encoded data removed]",
            "text/plain": [
              "<Figure size 432x288 with 1 Axes>"
            ]
          },
          "metadata": {
            "needs_background": "light"
          }
        }
      ],
      "source": [
        "show_preds(preds)"
      ]
    },
    {
      "cell_type": "markdown",
      "metadata": {
        "id": "z28tfwsVLfgi"
      },
      "source": [
        "We need to repeat this a few times, so we'll create a function to apply one step:"
      ]
    },
    {
      "cell_type": "code",
      "execution_count": null,
      "metadata": {
        "id": "-DnNLs1QLfgi"
      },
      "outputs": [],
      "source": [
        "# 앞의 과정을 반복해야 해서 함수로 만듦\n",
        "def apply_step(params, prn=True):\n",
        "    preds = f(time, params)\n",
        "    loss = mse(preds, speed)\n",
        "    loss.backward()\n",
        "    params.data -= lr * params.grad.data\n",
        "    params.grad = None\n",
        "    if prn: print(loss.item())\n",
        "    return preds"
      ]
    },
    {
      "cell_type": "markdown",
      "metadata": {
        "id": "KvN5VsINLfgi"
      },
      "source": [
        "#### Step 6: Repeat the process "
      ]
    },
    {
      "cell_type": "markdown",
      "metadata": {
        "id": "uO-7rpEOLfgj"
      },
      "source": [
        "Now we iterate. By looping and performing many improvements, we hope to reach a good result:"
      ]
    },
    {
      "cell_type": "code",
      "execution_count": null,
      "metadata": {
        "id": "dKwy2JvFLfgj",
        "outputId": "60c3cb3c-2d0f-4755-aae1-66c14baf707a",
        "colab": {
          "base_uri": "https://localhost:8080/"
        }
      },
      "outputs": [
        {
          "output_type": "stream",
          "name": "stdout",
          "text": [
            "160.42279052734375\n",
            "160.14772033691406\n",
            "159.87269592285156\n",
            "159.59768676757812\n",
            "159.3227081298828\n",
            "159.04774475097656\n",
            "158.7728271484375\n",
            "158.4979248046875\n",
            "158.22305297851562\n",
            "157.9481964111328\n"
          ]
        }
      ],
      "source": [
        "for i in range(10): apply_step(params)\n",
        "\n",
        "# loss가 점점 낮아지는 것을 볼 수 있음"
      ]
    },
    {
      "cell_type": "code",
      "execution_count": null,
      "metadata": {
        "id": "bFNfOF2JLfgj"
      },
      "outputs": [],
      "source": [
        "#hide\n",
        "params = orig_params.detach().requires_grad_()"
      ]
    },
    {
      "cell_type": "markdown",
      "metadata": {
        "id": "YApHxLHYLfgj"
      },
      "source": [
        "The loss is going down, just as we hoped! But looking only at these loss numbers disguises the fact that each iteration represents an entirely different quadratic function being tried, on the way to finding the best possible quadratic function. We can see this process visually if, instead of printing out the loss function, we plot the function at every step. Then we can see how the shape is approaching the best possible quadratic function for our data:"
      ]
    },
    {
      "cell_type": "code",
      "execution_count": null,
      "metadata": {
        "id": "RE5vgQKTLfgj",
        "outputId": "98cfd36b-1216-4574-f8b8-d1155af17516",
        "colab": {
          "base_uri": "https://localhost:8080/"
        }
      },
      "outputs": [
        {
          "output_type": "display_data",
          "data": {
            "image/png": "[encoded data removed]",
            "text/plain": [
              "<Figure size 864x216 with 4 Axes>"
            ]
          },
          "metadata": {
            "needs_background": "light"
          }
        }
      ],
      "source": [
        "_,axs = plt.subplots(1,4,figsize=(12,3))\n",
        "for ax in axs: show_preds(apply_step(params, False), ax)\n",
        "plt.tight_layout()"
      ]
    },
    {
      "cell_type": "markdown",
      "metadata": {
        "id": "P2AG9xKALfgk"
      },
      "source": [
        "#### Step 7: stop"
      ]
    },
    {
      "cell_type": "markdown",
      "metadata": {
        "id": "UA8yHJDsLfgk"
      },
      "source": [
        "* 여기서는 10번의 에포크 후에 학습 종료\n",
        "* 실전에서는 손실 및 평가지표를 보면서 학습 종료 시점을 결정해줘야 함\n",
        "\n",
        "We just decided to stop after 10 epochs arbitrarily. In practice, we would watch the training and validation losses and our metrics to decide when to stop, as we've discussed."
      ]
    },
    {
      "cell_type": "markdown",
      "metadata": {
        "id": "t-HZCLTMLfgk"
      },
      "source": [
        "### Summarizing Gradient Descent"
      ]
    },
    {
      "cell_type": "code",
      "execution_count": null,
      "metadata": {
        "hide_input": false,
        "id": "dnu8R5_sLfgk",
        "outputId": "ec862726-9169-4dd9-d70e-4a44819ccc4d",
        "colab": {
          "base_uri": "https://localhost:8080/"
        }
      },
      "outputs": [
        {
          "output_type": "execute_result",
          "data": {
            "text/plain": [
              "<graphviz.files.Source at 0x7f4aa4b4c750>"
            ],
            "image/svg+xml": "<?xml version=\"1.0\" encoding=\"UTF-8\" standalone=\"no\"?>\n<!DOCTYPE svg PUBLIC \"-//W3C//DTD SVG 1.1//EN\"\n \"http://www.w3.org/Graphics/SVG/1.1/DTD/svg11.dtd\">\n<!-- Generated by graphviz version 2.40.1 (20161225.0304)\n -->\n<!-- Title: G Pages: 1 -->\n<svg width=\"597pt\" height=\"78pt\"\n viewBox=\"0.00 0.00 596.69 78.00\" xmlns=\"http://www.w3.org/2000/svg\" xmlns:xlink=\"http://www.w3.org/1999/xlink\">\n<g id=\"graph0\" class=\"graph\" transform=\"scale(1 1) rotate(0) translate(4 74)\">\n<title>G</title>\n<polygon fill=\"#ffffff\" stroke=\"transparent\" points=\"-4,4 -4,-74 592.6863,-74 592.6863,4 -4,4\"/>\n<!-- init -->\n<g id=\"node1\" class=\"node\">\n<title>init</title>\n<ellipse fill=\"none\" stroke=\"#000000\" cx=\"27\" cy=\"-18\" rx=\"27\" ry=\"18\"/>\n<text text-anchor=\"middle\" x=\"27\" y=\"-14.3\" font-family=\"Times,serif\" font-size=\"14.00\" fill=\"#000000\">init</text>\n</g>\n<!-- predict -->\n<g id=\"node2\" class=\"node\">\n<title>predict</title>\n<ellipse fill=\"none\" stroke=\"#000000\" cx=\"127.3968\" cy=\"-18\" rx=\"36.2938\" ry=\"18\"/>\n<text text-anchor=\"middle\" x=\"127.3968\" y=\"-14.3\" font-family=\"Times,serif\" font-size=\"14.00\" fill=\"#000000\">predict</text>\n</g>\n<!-- init&#45;&gt;predict -->\n<g id=\"edge1\" class=\"edge\">\n<title>init&#45;&gt;predict</title>\n<path fill=\"none\" stroke=\"#000000\" d=\"M54.1688,-18C62.3543,-18 71.5827,-18 80.6596,-18\"/>\n<polygon fill=\"#000000\" stroke=\"#000000\" points=\"80.7795,-21.5001 90.7795,-18 80.7795,-14.5001 80.7795,-21.5001\"/>\n</g>\n<!-- loss -->\n<g id=\"node3\" class=\"node\">\n<title>loss</title>\n<ellipse fill=\"none\" stroke=\"#000000\" cx=\"227.7935\" cy=\"-52\" rx=\"27\" ry=\"18\"/>\n<text text-anchor=\"middle\" x=\"227.7935\" y=\"-48.3\" font-family=\"Times,serif\" font-size=\"14.00\" fill=\"#000000\">loss</text>\n</g>\n<!-- predict&#45;&gt;loss -->\n<g id=\"edge2\" class=\"edge\">\n<title>predict&#45;&gt;loss</title>\n<path fill=\"none\" stroke=\"#000000\" d=\"M157.5191,-28.2011C168.9806,-32.0826 182.1139,-36.5303 193.9014,-40.5222\"/>\n<polygon fill=\"#000000\" stroke=\"#000000\" points=\"192.8259,-43.8532 203.4202,-43.7458 195.0713,-37.2231 192.8259,-43.8532\"/>\n</g>\n<!-- gradient -->\n<g id=\"node4\" class=\"node\">\n<title>gradient</title>\n<ellipse fill=\"none\" stroke=\"#000000\" cx=\"365.7399\" cy=\"-52\" rx=\"40.8928\" ry=\"18\"/>\n<text text-anchor=\"middle\" x=\"365.7399\" y=\"-48.3\" font-family=\"Times,serif\" font-size=\"14.00\" fill=\"#000000\">gradient</text>\n</g>\n<!-- loss&#45;&gt;gradient -->\n<g id=\"edge3\" class=\"edge\">\n<title>loss&#45;&gt;gradient</title>\n<path fill=\"none\" stroke=\"#000000\" d=\"M255.0473,-52C272.0415,-52 294.4481,-52 314.6545,-52\"/>\n<polygon fill=\"#000000\" stroke=\"#000000\" points=\"314.671,-55.5001 324.671,-52 314.671,-48.5001 314.671,-55.5001\"/>\n</g>\n<!-- step -->\n<g id=\"node5\" class=\"node\">\n<title>step</title>\n<ellipse fill=\"none\" stroke=\"#000000\" cx=\"470.6863\" cy=\"-18\" rx=\"27\" ry=\"18\"/>\n<text text-anchor=\"middle\" x=\"470.6863\" y=\"-14.3\" font-family=\"Times,serif\" font-size=\"14.00\" fill=\"#000000\">step</text>\n</g>\n<!-- gradient&#45;&gt;step -->\n<g id=\"edge4\" class=\"edge\">\n<title>gradient&#45;&gt;step</title>\n<path fill=\"none\" stroke=\"#000000\" d=\"M398.9456,-41.2422C410.9558,-37.3512 424.5297,-32.9536 436.6132,-29.0388\"/>\n<polygon fill=\"#000000\" stroke=\"#000000\" points=\"437.9112,-32.2975 446.3457,-25.8857 435.7537,-25.6382 437.9112,-32.2975\"/>\n</g>\n<!-- step&#45;&gt;predict -->\n<g id=\"edge6\" class=\"edge\">\n<title>step&#45;&gt;predict</title>\n<path fill=\"none\" stroke=\"#000000\" d=\"M443.4266,-18C384.9297,-18 246.7861,-18 174.0495,-18\"/>\n<polygon fill=\"#000000\" stroke=\"#000000\" points=\"173.8098,-14.5001 163.8098,-18 173.8097,-21.5001 173.8098,-14.5001\"/>\n<text text-anchor=\"middle\" x=\"289.7935\" y=\"-21.8\" font-family=\"Times,serif\" font-size=\"14.00\" fill=\"#000000\">repeat</text>\n</g>\n<!-- stop -->\n<g id=\"node6\" class=\"node\">\n<title>stop</title>\n<ellipse fill=\"none\" stroke=\"#000000\" cx=\"561.6863\" cy=\"-18\" rx=\"27\" ry=\"18\"/>\n<text text-anchor=\"middle\" x=\"561.6863\" y=\"-14.3\" font-family=\"Times,serif\" font-size=\"14.00\" fill=\"#000000\">stop</text>\n</g>\n<!-- step&#45;&gt;stop -->\n<g id=\"edge5\" class=\"edge\">\n<title>step&#45;&gt;stop</title>\n<path fill=\"none\" stroke=\"#000000\" d=\"M497.9893,-18C506.2676,-18 515.508,-18 524.3268,-18\"/>\n<polygon fill=\"#000000\" stroke=\"#000000\" points=\"524.4026,-21.5001 534.4025,-18 524.4025,-14.5001 524.4026,-21.5001\"/>\n</g>\n</g>\n</svg>\n"
          },
          "metadata": {},
          "execution_count": 76
        }
      ],
      "source": [
        "#hide_input\n",
        "#id gradient_descent\n",
        "#caption The gradient descent process\n",
        "#alt Graph showing the steps for Gradient Descent\n",
        "gv('''\n",
        "init->predict->loss->gradient->step->stop\n",
        "step->predict[label=repeat]\n",
        "''')"
      ]
    },
    {
      "cell_type": "markdown",
      "source": [
        "* init\n",
        "  * 모델 가중치 임의로 설정: from scratch\n",
        "  * 또는 사전 학습된 모델로 설정: 전이 학습(transfer learning) \n",
        "* 더 나은 가중치를 학습\n",
        "  * 손실 함수로 출력과 목표를 비교\n",
        "  * 그레이디언트 계산: 기울기 계산\n",
        "  * 기울기 * 학습률 = 한번에 움직여야 하는 양\n",
        "  * 이 과정을 반복\n",
        "  * 도달하면 멈춤"
      ],
      "metadata": {
        "id": "kx5IOxpcjjL_"
      }
    },
    {
      "cell_type": "markdown",
      "metadata": {
        "id": "0Qg3YkqKLfgk"
      },
      "source": [
        "To summarize, at the beginning, the weights of our model can be random (training *from scratch*) or come from a pretrained model (*transfer learning*). In the first case, the output we will get from our inputs won't have anything to do with what we want, and even in the second case, it's very likely the pretrained model won't be very good at the specific task we are targeting. So the model will need to *learn* better weights.\n",
        "\n",
        "We begin by comparing the outputs the model gives us with our targets (we have labeled data, so we know what result the model should give) using a *loss function*, which returns a number that we want to make as low as possible by improving our weights. To do this, we take a few data items (such as images) from the training set and feed them to our model. We compare the corresponding targets using our loss function, and the score we get tells us how wrong our predictions were. We then change the weights a little bit to make it slightly better.\n",
        "\n",
        "To find how to change the weights to make the loss a bit better, we use calculus to calculate the *gradients*. (Actually, we let PyTorch do it for us!) Let's consider an analogy. Imagine you are lost in the mountains with your car parked at the lowest point. To find your way back to it, you might wander in a random direction, but that probably wouldn't help much. Since you know your vehicle is at the lowest point, you would be better off going downhill. By always taking a step in the direction of the steepest downward slope, you should eventually arrive at your destination. We use the magnitude of the gradient (i.e., the steepness of the slope) to tell us how big a step to take; specifically, we multiply the gradient by a number we choose called the *learning rate* to decide on the step size. We then *iterate* until we have reached the lowest point, which will be our parking lot, then we can *stop*.\n",
        "\n",
        "All of that we just saw can be transposed directly to the MNIST dataset, except for the loss function. Let's now see how we can define a good training objective. "
      ]
    },
    {
      "cell_type": "markdown",
      "metadata": {
        "id": "z8g9ZvKJLfgl"
      },
      "source": [
        "## The MNIST Loss Function"
      ]
    },
    {
      "cell_type": "markdown",
      "metadata": {
        "id": "mZYPdHnjLfgl"
      },
      "source": [
        "We already have our independent variables `x`—these are the images themselves. We'll concatenate them all into a single tensor, and also change them from a list of matrices (a rank-3 tensor) to a list of vectors (a rank-2 tensor). We can do this using `view`, which is a PyTorch method that changes the shape of a tensor without changing its contents. `-1` is a special parameter to `view` that means \"make this axis as big as necessary to fit all the data\":"
      ]
    },
    {
      "cell_type": "code",
      "execution_count": null,
      "metadata": {
        "id": "KMXGR9tBLfgl"
      },
      "outputs": [],
      "source": [
        "train_x = torch.cat([stacked_threes, stacked_sevens]).view(-1, 28*28) # torch.Size([12396, 784]) rank2 텐서로 표현해줌\n",
        "# 왜 Rank2로 표현해야하는지는 모르겠음..."
      ]
    },
    {
      "cell_type": "markdown",
      "metadata": {
        "id": "fnA54MnvLfgl"
      },
      "source": [
        "We need a label for each image. We'll use `1` for 3s and `0` for 7s:"
      ]
    },
    {
      "cell_type": "code",
      "execution_count": null,
      "metadata": {
        "id": "c4yRYoFGLfgm",
        "outputId": "f69227f6-2a63-4709-ae61-47255685fbe1",
        "colab": {
          "base_uri": "https://localhost:8080/"
        }
      },
      "outputs": [
        {
          "output_type": "execute_result",
          "data": {
            "text/plain": [
              "(torch.Size([12396, 784]), torch.Size([12396, 1]))"
            ]
          },
          "metadata": {},
          "execution_count": 78
        }
      ],
      "source": [
        "train_y = tensor([1]*len(threes) + [0]*len(sevens)).unsqueeze(1) # 레이블 만들기. '숫자 3' = 0, '숫자 7' = 1\n",
        "train_x.shape,train_y.shape"
      ]
    },
    {
      "cell_type": "markdown",
      "metadata": {
        "id": "yYigEQhcLfgm"
      },
      "source": [
        "A `Dataset` in PyTorch is required to return a tuple of `(x,y)` when indexed. Python provides a `zip` function which, when combined with `list`, provides a simple way to get this functionality:"
      ]
    },
    {
      "cell_type": "code",
      "execution_count": null,
      "metadata": {
        "id": "ZhXTbMFhLfgm",
        "outputId": "51f5b73d-da51-4555-8ff3-df9fc3a55ea2",
        "colab": {
          "base_uri": "https://localhost:8080/"
        }
      },
      "outputs": [
        {
          "output_type": "execute_result",
          "data": {
            "text/plain": [
              "(torch.Size([784]), tensor([1]))"
            ]
          },
          "metadata": {},
          "execution_count": 79
        }
      ],
      "source": [
        "dset = list(zip(train_x,train_y)) # 파이토치 Dataset (x,y) 튜플이 필요함\n",
        "x,y = dset[0]\n",
        "x.shape,y"
      ]
    },
    {
      "cell_type": "code",
      "execution_count": null,
      "metadata": {
        "id": "1S-5lpxOLfgm"
      },
      "outputs": [],
      "source": [
        "# 검증용\n",
        "valid_x = torch.cat([valid_3_tens, valid_7_tens]).view(-1, 28*28)\n",
        "valid_y = tensor([1]*len(valid_3_tens) + [0]*len(valid_7_tens)).unsqueeze(1)\n",
        "valid_dset = list(zip(valid_x,valid_y))"
      ]
    },
    {
      "cell_type": "markdown",
      "metadata": {
        "id": "0zvwKHkMLfgn"
      },
      "source": [
        "Now we need an (initially random) weight for every pixel (this is the *initialize* step in our seven-step process):"
      ]
    },
    {
      "cell_type": "code",
      "execution_count": null,
      "metadata": {
        "id": "0jlHlBecLfgn"
      },
      "outputs": [],
      "source": [
        "# init (초기화) 단계: 임의로 초기화 된 가중치\n",
        "def init_params(size, std=1.0): return (torch.randn(size)*std).requires_grad_()"
      ]
    },
    {
      "cell_type": "code",
      "execution_count": null,
      "metadata": {
        "id": "gpNg4QkJLfgn"
      },
      "outputs": [],
      "source": [
        "weights = init_params((28*28,1))"
      ]
    },
    {
      "cell_type": "markdown",
      "metadata": {
        "id": "qyupponlLfgn"
      },
      "source": [
        "The function `weights*pixels` won't be flexible enough—it is always equal to 0 when the pixels are equal to 0 (i.e., its *intercept* is 0). You might remember from high school math that the formula for a line is `y=w*x+b`; we still need the `b`. We'll initialize it to a random number too:"
      ]
    },
    {
      "cell_type": "code",
      "execution_count": null,
      "metadata": {
        "id": "X7lSIHpsLfgn"
      },
      "outputs": [],
      "source": [
        "# 임의의 절편 값\n",
        "# 0에 가중치르 곱하면 결과물이 0으로 나오기 때문에 절편값 필요함\n",
        "# 신경망에서는 이걸 **편향(bias)**라고 부름\n",
        "bias = init_params(1)"
      ]
    },
    {
      "cell_type": "markdown",
      "metadata": {
        "id": "8iTNf495Lfgo"
      },
      "source": [
        "In neural networks, the `w` in the equation `y=w*x+b` is called the *weights*, and the `b` is called the *bias*. Together, the weights and bias make up the *parameters*."
      ]
    },
    {
      "cell_type": "markdown",
      "metadata": {
        "id": "K6KOM83DLfgo"
      },
      "source": [
        "> jargon: Parameters: The _weights_ and _biases_ of a model. The weights are the `w` in the equation `w*x+b`, and the biases are the `b` in that equation.\n",
        "\n",
        "- w = 가중치\n",
        "- b = 편향"
      ]
    },
    {
      "cell_type": "markdown",
      "metadata": {
        "id": "YRKfUJ7PLfgo"
      },
      "source": [
        "We can now calculate a prediction for one image:"
      ]
    },
    {
      "cell_type": "code",
      "execution_count": null,
      "metadata": {
        "id": "GSW9v7JZLfgo",
        "outputId": "362a75a2-aaf7-47be-c3aa-53f333fe86a2",
        "colab": {
          "base_uri": "https://localhost:8080/"
        }
      },
      "outputs": [
        {
          "output_type": "execute_result",
          "data": {
            "text/plain": [
              "tensor([20.2336], grad_fn=<AddBackward0>)"
            ]
          },
          "metadata": {},
          "execution_count": 84
        }
      ],
      "source": [
        "(train_x[0]*weights.T).sum() + bias"
      ]
    },
    {
      "cell_type": "markdown",
      "metadata": {
        "id": "qq5PijGKLfgo"
      },
      "source": [
        "While we could use a Python `for` loop to calculate the prediction for each image, that would be very slow. Because Python loops don't run on the GPU, and because Python is a slow language for loops in general, we need to represent as much of the computation in a model as possible using higher-level functions.\n",
        "\n",
        "In this case, there's an extremely convenient mathematical operation that calculates `w*x` for every row of a matrix—it's called *matrix multiplication*. <<matmul>> shows what matrix multiplication looks like."
      ]
    },
    {
      "cell_type": "markdown",
      "metadata": {
        "id": "H3_S1pfmLfgo"
      },
      "source": [
        "<img alt=\"Matrix multiplication\" width=\"400\" caption=\"Matrix multiplication\" src=\"https://github.com/fastai/fastbook/blob/master/images/matmul2.svg?raw=1\" id=\"matmul\"/>"
      ]
    },
    {
      "cell_type": "markdown",
      "metadata": {
        "id": "N3JUtF5ULfgp"
      },
      "source": [
        "This image shows two matrices, `A` and `B`, being multiplied together. Each item of the result, which we'll call `AB`, contains each item of its corresponding row of `A` multiplied by each item of its corresponding column of `B`, added together. For instance, row 1, column 2 (the orange dot with a red border) is calculated as $a_{1,1} * b_{1,2} + a_{1,2} * b_{2,2}$. If you need a refresher on matrix multiplication, we suggest you take a look at the [Intro to Matrix Multiplication](https://youtu.be/kT4Mp9EdVqs) on *Khan Academy*, since this is the most important mathematical operation in deep learning.\n",
        "\n",
        "In Python, matrix multiplication is represented with the `@` operator. Let's try it:"
      ]
    },
    {
      "cell_type": "code",
      "execution_count": null,
      "metadata": {
        "id": "zaiJwzC4Lfgp",
        "outputId": "d2abf0fc-475d-4499-aefd-153e27121f79",
        "colab": {
          "base_uri": "https://localhost:8080/"
        }
      },
      "outputs": [
        {
          "output_type": "execute_result",
          "data": {
            "text/plain": [
              "tensor([[20.2336],\n",
              "        [17.0644],\n",
              "        [15.2384],\n",
              "        ...,\n",
              "        [18.3804],\n",
              "        [23.8567],\n",
              "        [28.6816]], grad_fn=<AddBackward0>)"
            ]
          },
          "metadata": {},
          "execution_count": 85
        }
      ],
      "source": [
        "# @ operator를 써서 행렬곱 계산\n",
        "def linear1(xb): return xb@weights + bias\n",
        "preds = linear1(train_x)\n",
        "preds"
      ]
    },
    {
      "cell_type": "markdown",
      "metadata": {
        "id": "820qWEiRLfgp"
      },
      "source": [
        "The first element is the same as we calculated before, as we'd expect. This equation, `batch@weights + bias`, is one of the two fundamental equations of any neural network (the other one is the *activation function*, which we'll see in a moment).\n",
        "\n",
        "`batch@weights + bias` 모든 신경망의 가장 기본인 방정식 중 하나"
      ]
    },
    {
      "cell_type": "markdown",
      "metadata": {
        "id": "WCRz460jLfgp"
      },
      "source": [
        "Let's check our accuracy. To decide if an output represents a 3 or a 7, we can just check whether it's greater than 0.5, so our accuracy for each item can be calculated (using broadcasting, so no loops!) with:"
      ]
    },
    {
      "cell_type": "code",
      "source": [
        "train_y"
      ],
      "metadata": {
        "colab": {
          "base_uri": "https://localhost:8080/"
        },
        "id": "D8Yq4T7JmlJu",
        "outputId": "f0c59334-fd43-4de7-e07e-4f257acc1501"
      },
      "execution_count": null,
      "outputs": [
        {
          "output_type": "execute_result",
          "data": {
            "text/plain": [
              "tensor([[1],\n",
              "        [1],\n",
              "        [1],\n",
              "        ...,\n",
              "        [0],\n",
              "        [0],\n",
              "        [0]])"
            ]
          },
          "metadata": {},
          "execution_count": 86
        }
      ]
    },
    {
      "cell_type": "code",
      "execution_count": null,
      "metadata": {
        "id": "nX7Us5gELfgp",
        "outputId": "5bd70df9-7bbb-4454-b53f-812544b94482",
        "colab": {
          "base_uri": "https://localhost:8080/"
        }
      },
      "outputs": [
        {
          "output_type": "execute_result",
          "data": {
            "text/plain": [
              "tensor([[ True],\n",
              "        [ True],\n",
              "        [ True],\n",
              "        ...,\n",
              "        [False],\n",
              "        [False],\n",
              "        [False]])"
            ]
          },
          "metadata": {},
          "execution_count": 87
        }
      ],
      "source": [
        "# 정확도 검사\n",
        "\n",
        "corrects = (preds>0.5).float() == train_y\n",
        "corrects"
      ]
    },
    {
      "cell_type": "code",
      "execution_count": null,
      "metadata": {
        "id": "gQgmC7IgLfgq",
        "outputId": "eee98888-df1e-4b08-f413-fa978b108df2",
        "colab": {
          "base_uri": "https://localhost:8080/"
        }
      },
      "outputs": [
        {
          "output_type": "execute_result",
          "data": {
            "text/plain": [
              "0.49080348014831543"
            ]
          },
          "metadata": {},
          "execution_count": 88
        }
      ],
      "source": [
        "corrects.float().mean().item()"
      ]
    },
    {
      "cell_type": "markdown",
      "metadata": {
        "id": "GL6aU6pyLfgq"
      },
      "source": [
        "Now let's see what the change in accuracy is for a small change in one of the weights:"
      ]
    },
    {
      "cell_type": "code",
      "execution_count": null,
      "metadata": {
        "id": "bGomeZCLLfgq"
      },
      "outputs": [],
      "source": [
        "# 가중치 하나 바꿨을 때 정확도 변화 확인하기\n",
        "weights[0].data *= 1.0001 \n",
        "# 그런데... 저는 .data를 업데이트해야 에러가 안뜨더라구요\n",
        "# 관련 블로그 글: https://m.blog.naver.com/myincizor/221691061964"
      ]
    },
    {
      "cell_type": "markdown",
      "source": [
        ""
      ],
      "metadata": {
        "id": "b1suogg7rGYK"
      }
    },
    {
      "cell_type": "code",
      "execution_count": null,
      "metadata": {
        "id": "6tddg65xLfgq",
        "outputId": "aec89ae0-3307-42cc-80ef-7d6b35ad7970",
        "colab": {
          "base_uri": "https://localhost:8080/"
        }
      },
      "outputs": [
        {
          "output_type": "execute_result",
          "data": {
            "text/plain": [
              "0.4912068545818329"
            ]
          },
          "metadata": {},
          "execution_count": 90
        }
      ],
      "source": [
        "preds = linear1(train_x)\n",
        "((preds>0.0).float() == train_y).float().mean().item()"
      ]
    },
    {
      "cell_type": "markdown",
      "metadata": {
        "id": "wRBXrOXeLfgq"
      },
      "source": [
        "## 손실 함수 정하기\n",
        "\n",
        "(저는 이 부분 어렵네요 😭😭😭)\n",
        "\n",
        "### 이슈: 정확도를 손실 함수로 쓸 수 없음\n",
        "\n",
        "* 정확도를 손실함수로 쓰고 싶지만 쓸 수 없음\n",
        "* 기술적인 문제가 있음\n",
        "* 정확도는 예측 결과가 3 -> 7 변하거나, 7 -> 3 변할 때만 바뀌는 값\n",
        "\n",
        "### 그래서: '약간 더 나은 예측'을 도출한 가중치에 따라, '약간 더 나은 손실'을 계산하는 손실 함수가 필요함\n",
        "\n",
        "As we've seen, we need gradients in order to improve our model using SGD, and in order to calculate gradients we need some *loss function* that represents how good our model is. That is because the gradients are a measure of how that loss function changes with small tweaks to the weights.\n",
        "\n",
        "So, we need to choose a loss function. The obvious approach would be to use accuracy, which is our metric, as our loss function as well. In this case, we would calculate our prediction for each image, collect these values to calculate an overall accuracy, and then calculate the gradients of each weight with respect to that overall accuracy.\n",
        "\n",
        "Unfortunately, we have a significant technical problem here. The gradient of a function is its *slope*, or its steepness, which can be defined as *rise over run*—that is, how much the value of the function goes up or down, divided by how much we changed the input. We can write this in mathematically as: `(y_new - y_old) / (x_new - x_old)`. This gives us a good approximation of the gradient when `x_new` is very similar to `x_old`, meaning that their difference is very small. But accuracy only changes at all when a prediction changes from a 3 to a 7, or vice versa. The problem is that a small change in weights from `x_old` to `x_new` isn't likely to cause any prediction to change, so `(y_new - y_old)` will almost always be 0. In other words, the gradient is 0 almost everywhere."
      ]
    },
    {
      "cell_type": "markdown",
      "metadata": {
        "id": "TWsq1UatLfgr"
      },
      "source": [
        "A very small change in the value of a weight will often not actually change the accuracy at all. This means it is not useful to use accuracy as a loss function—if we do, most of the time our gradients will actually be 0, and the model will not be able to learn from that number.\n",
        "\n",
        "> S: In mathematical terms, accuracy is a function that is constant almost everywhere (except at the threshold, 0.5), so its derivative is nil almost everywhere (and infinity at the threshold). This then gives gradients that are 0 or infinite, which are useless for updating the model.\n",
        "\n",
        "Instead, we need a loss function which, when our weights result in slightly better predictions, gives us a slightly better loss. So what does a \"slightly better prediction\" look like, exactly? Well, in this case, it means that if the correct answer is a 3 the score is a little higher, or if the correct answer is a 7 the score is a little lower.\n",
        "\n",
        "Let's write such a function now. What form does it take?\n",
        "\n",
        "The loss function receives not the images themselves, but the predictions from the model. Let's make one argument, `prds`, of values between 0 and 1, where each value is the prediction that an image is a 3. It is a vector (i.e., a rank-1 tensor), indexed over the images.\n",
        "\n",
        "The purpose of the loss function is to measure the difference between predicted values and the true values — that is, the targets (aka labels). Let's make another argument, `trgts`, with values of 0 or 1 which tells whether an image actually is a 3 or not. It is also a vector (i.e., another rank-1 tensor), indexed over the images.\n",
        "\n",
        "So, for instance, suppose we had three images which we knew were a 3, a 7, and a 3. And suppose our model predicted with high confidence (`0.9`) that the first was a 3, with slight confidence (`0.4`) that the second was a 7, and with fair confidence (`0.2`), but incorrectly, that the last was a 7. This would mean our loss function would receive these values as its inputs:"
      ]
    },
    {
      "cell_type": "code",
      "execution_count": null,
      "metadata": {
        "id": "bv2YYd5oLfgr"
      },
      "outputs": [],
      "source": [
        "trgts  = tensor([1,0,1])\n",
        "prds   = tensor([0.9, 0.4, 0.2])"
      ]
    },
    {
      "cell_type": "markdown",
      "metadata": {
        "id": "bUTIAAHVLfgr"
      },
      "source": [
        "Here's a first try at a loss function that measures the distance between `predictions` and `targets`:"
      ]
    },
    {
      "cell_type": "code",
      "execution_count": null,
      "metadata": {
        "id": "ADLJ3XVzLfgr"
      },
      "outputs": [],
      "source": [
        "# predictions와 targets 사이의 거리를 측정하는 손실 함수\n",
        "# 정답 1 일 때: 예측 1과 떨어진 정도 측정\n",
        "# 정답 0 일 때: 예측 0과 떨어진 정도 측정\n",
        "\n",
        "def mnist_loss(predictions, targets):\n",
        "    return torch.where(targets==1, 1-predictions, predictions).mean()"
      ]
    },
    {
      "cell_type": "markdown",
      "metadata": {
        "id": "vAOACwQwLfgr"
      },
      "source": [
        "We're using a new function, `torch.where(a,b,c)`. This is the same as running the list comprehension `[b[i] if a[i] else c[i] for i in range(len(a))]`, except it works on tensors, at C/CUDA speed. In plain English, this function will measure how distant each prediction is from 1 if it should be 1, and how distant it is from 0 if it should be 0, and then it will take the mean of all those distances.\n",
        "\n",
        "> note: Read the Docs: It's important to learn about PyTorch functions like this, because looping over tensors in Python performs at Python speed, not C/CUDA speed! Try running `help(torch.where)` now to read the docs for this function, or, better still, look it up on the PyTorch documentation site."
      ]
    },
    {
      "cell_type": "markdown",
      "metadata": {
        "id": "r9S7r-JLLfgs"
      },
      "source": [
        "Let's try it on our `prds` and `trgts`:"
      ]
    },
    {
      "cell_type": "code",
      "execution_count": null,
      "metadata": {
        "id": "VWapUowNLfgs",
        "outputId": "c18d242e-d1a9-4b01-9e4e-3ad1a3b760f2",
        "colab": {
          "base_uri": "https://localhost:8080/"
        }
      },
      "outputs": [
        {
          "output_type": "execute_result",
          "data": {
            "text/plain": [
              "tensor([0.1000, 0.4000, 0.8000])"
            ]
          },
          "metadata": {},
          "execution_count": 93
        }
      ],
      "source": [
        "torch.where(trgts==1, 1-prds, prds)"
      ]
    },
    {
      "cell_type": "markdown",
      "metadata": {
        "id": "5PhmMmiULfgs"
      },
      "source": [
        "You can see that this function returns a lower number when predictions are more accurate, when accurate predictions are more confident (higher absolute values), and when inaccurate predictions are less confident. In PyTorch, we always assume that a lower value of a loss function is better. Since we need a scalar for the final loss, `mnist_loss` takes the mean of the previous tensor:"
      ]
    },
    {
      "cell_type": "code",
      "execution_count": null,
      "metadata": {
        "id": "MBd20lhWLfgs",
        "outputId": "aee1e809-168c-4f4b-ea63-6c8f4cfcfd69",
        "colab": {
          "base_uri": "https://localhost:8080/"
        }
      },
      "outputs": [
        {
          "output_type": "execute_result",
          "data": {
            "text/plain": [
              "tensor(0.4333)"
            ]
          },
          "metadata": {},
          "execution_count": 94
        }
      ],
      "source": [
        "mnist_loss(prds,trgts)"
      ]
    },
    {
      "cell_type": "markdown",
      "metadata": {
        "id": "-MXXw0rCLfgs"
      },
      "source": [
        "For instance, if we change our prediction for the one \"false\" target from `0.2` to `0.8` the loss will go down, indicating that this is a better prediction:"
      ]
    },
    {
      "cell_type": "code",
      "execution_count": null,
      "metadata": {
        "id": "_ZLqocQ7Lfgs",
        "outputId": "a72cf186-b3fc-4171-eb1c-db6a55789fb6",
        "colab": {
          "base_uri": "https://localhost:8080/"
        }
      },
      "outputs": [
        {
          "output_type": "execute_result",
          "data": {
            "text/plain": [
              "tensor(0.2333)"
            ]
          },
          "metadata": {},
          "execution_count": 95
        }
      ],
      "source": [
        "mnist_loss(tensor([0.9, 0.4, 0.8]),trgts) # 마지막값을 0.2 -> 0.8 변경하면 더 나은 예측"
      ]
    },
    {
      "cell_type": "markdown",
      "metadata": {
        "id": "D60rfi9dLfgt"
      },
      "source": [
        "One problem with `mnist_loss` as currently defined is that it assumes that predictions are always between 0 and 1. We need to ensure, then, that this is actually the case! As it happens, there is a function that does exactly that—let's take a look.\n",
        "\n",
        "현재 손실 함수 결과 값이 0~1 사이인데, 0 or 1로 강제해야함. 그걸 해주는 함수가 있음"
      ]
    },
    {
      "cell_type": "markdown",
      "metadata": {
        "id": "a4pA0shkLfgt"
      },
      "source": [
        "### Sigmoid"
      ]
    },
    {
      "cell_type": "markdown",
      "metadata": {
        "id": "Su1mECklLfgt"
      },
      "source": [
        "항상 0과 1 사이의 값을 출력해줌\n",
        "\n",
        "The `sigmoid` function always outputs a number between 0 and 1. It's defined as follows:"
      ]
    },
    {
      "cell_type": "code",
      "execution_count": null,
      "metadata": {
        "id": "2BWUkcuaLfgt"
      },
      "outputs": [],
      "source": [
        "def sigmoid(x): return 1/(1+torch.exp(-x))"
      ]
    },
    {
      "cell_type": "markdown",
      "metadata": {
        "id": "XFwClVIbLfgt"
      },
      "source": [
        "Pytorch defines an accelerated version for us, so we don’t really need our own. This is an important function in deep learning, since we often want to ensure values are between 0 and 1. This is what it looks like:"
      ]
    },
    {
      "cell_type": "code",
      "execution_count": null,
      "metadata": {
        "id": "5R4jdnoOLfgt",
        "outputId": "a61782e2-03c4-430f-9c17-f3a7a910806b",
        "colab": {
          "base_uri": "https://localhost:8080/",
          "height": 281
        }
      },
      "outputs": [
        {
          "output_type": "display_data",
          "data": {
            "image/png": "[encoded data removed]",
            "text/plain": [
              "<Figure size 432x288 with 1 Axes>"
            ]
          },
          "metadata": {
            "needs_background": "light"
          }
        }
      ],
      "source": [
        "plot_function(torch.sigmoid, title='Sigmoid', min=-4, max=4)"
      ]
    },
    {
      "cell_type": "markdown",
      "metadata": {
        "id": "i1ZyN4gcLfgt"
      },
      "source": [
        "As you can see, it takes any input value, positive or negative, and smooshes it onto an output value between 0 and 1. It's also a smooth curve that only goes up, which makes it easier for SGD to find meaningful gradients. \n",
        "\n",
        "Let's update `mnist_loss` to first apply `sigmoid` to the inputs:"
      ]
    },
    {
      "cell_type": "code",
      "execution_count": null,
      "metadata": {
        "id": "mdvySOSkLfgu"
      },
      "outputs": [],
      "source": [
        "def mnist_loss(predictions, targets):\n",
        "    predictions = predictions.sigmoid()\n",
        "    return torch.where(targets==1, 1-predictions, predictions).mean()"
      ]
    },
    {
      "cell_type": "markdown",
      "metadata": {
        "id": "RVShisvLLfgu"
      },
      "source": [
        "Now we can be confident our loss function will work, even if the predictions are not between 0 and 1. All that is required is that a higher prediction corresponds to higher confidence an image is a 3.\n",
        "\n",
        "Having defined a loss function, now is a good moment to recapitulate why we did this. After all, we already had a metric, which was overall accuracy. So why did we define a loss?\n",
        "\n",
        "The key difference is that the metric is to drive human understanding and the loss is to drive automated learning. To drive automated learning, the loss must be a function that has a meaningful derivative. It can't have big flat sections and large jumps, but instead must be reasonably smooth. This is why we designed a loss function that would respond to small changes in confidence level. This requirement means that sometimes it does not really reflect exactly what we are trying to achieve, but is rather a compromise between our real goal, and a function that can be optimized using its gradient. The loss function is calculated for each item in our dataset, and then at the end of an epoch the loss values are all averaged and the overall mean is reported for the epoch.\n",
        "\n",
        "Metrics, on the other hand, are the numbers that we really care about. These are the values that are printed at the end of each epoch that tell us how our model is really doing. It is important that we learn to focus on these metrics, rather than the loss, when judging the performance of a model.\n",
        "\n",
        "### 잘모르겠지만 정리해보면\n",
        "* 평가지표: 사람의 이해를 돕는 것. 사람을 위한 것\n",
        "* 손실: 자동화된 학습을 이끌어 가는 것. 시스템을 위한 것"
      ]
    },
    {
      "cell_type": "markdown",
      "metadata": {
        "id": "m4IobEVbLfgu"
      },
      "source": [
        "### SGD and Mini-Batches"
      ]
    },
    {
      "cell_type": "markdown",
      "metadata": {
        "id": "a9xHTAaYLfgu"
      },
      "source": [
        "* 최적화 단계!\n",
        "* 그레이디언트 기반 가중치 갱신\n",
        "\n",
        "### 계산하기\n",
        "* 전체 데이터셋에 대해 손실 평균 구하기 = 너무 오래걸림\n",
        "* 단일 데이터셋에 대해 손실 평균 구하기 = 부정확, 불안정\n",
        "* 일정 개수 데이터에 대해 손실 평균 구하기 = 미니배치학습! 절충안\n",
        "\n",
        "### 미니 배치\n",
        "* 데이터 개수 = **배치 크기(batch size)**\n",
        "* 배치 크기 클 수록 = 안정적, 오래 걸림\n",
        "* GPU 효율적으로 사용 가능\n",
        "\n",
        "### DataLoader\n",
        "* \b데이터 뒤섞은 다음 미니배치 만들어줌\n",
        "\n",
        "Now that we have a loss function that is suitable for driving SGD, we can consider some of the details involved in the next phase of the learning process, which is to change or update the weights based on the gradients. This is called an *optimization step*.\n",
        "\n",
        "In order to take an optimization step we need to calculate the loss over one or more data items. How many should we use? We could calculate it for the whole dataset, and take the average, or we could calculate it for a single data item. But neither of these is ideal. Calculating it for the whole dataset would take a very long time. Calculating it for a single item would not use much information, so it would result in a very imprecise and unstable gradient. That is, you'd be going to the trouble of updating the weights, but taking into account only how that would improve the model's performance on that single item.\n",
        "\n",
        "So instead we take a compromise between the two: we calculate the average loss for a few data items at a time. This is called a *mini-batch*. The number of data items in the mini-batch is called the *batch size*. A larger batch size means that you will get a more accurate and stable estimate of your dataset's gradients from the loss function, but it will take longer, and you will process fewer mini-batches per epoch. Choosing a good batch size is one of the decisions you need to make as a deep learning practitioner to train your model quickly and accurately. We will talk about how to make this choice throughout this book.\n",
        "\n",
        "Another good reason for using mini-batches rather than calculating the gradient on individual data items is that, in practice, we nearly always do our training on an accelerator such as a GPU. These accelerators only perform well if they have lots of work to do at a time, so it's helpful if we can give them lots of data items to work on. Using mini-batches is one of the best ways to do this. However, if you give them too much data to work on at once, they run out of memory—making GPUs happy is also tricky!\n",
        "\n",
        "As we saw in our discussion of data augmentation in <<chapter_production>>, we get better generalization if we can vary things during training. One simple and effective thing we can vary is what data items we put in each mini-batch. Rather than simply enumerating our dataset in order for every epoch, instead what we normally do is randomly shuffle it on every epoch, before we create mini-batches. PyTorch and fastai provide a class that will do the shuffling and mini-batch collation for you, called `DataLoader`.\n",
        "\n",
        "A `DataLoader` can take any Python collection and turn it into an iterator over many batches, like so:"
      ]
    },
    {
      "cell_type": "code",
      "execution_count": null,
      "metadata": {
        "id": "M7iplj5OLfgu",
        "outputId": "22a19a1b-6595-4af7-9f9f-1bfc29252be3",
        "colab": {
          "base_uri": "https://localhost:8080/"
        }
      },
      "outputs": [
        {
          "output_type": "execute_result",
          "data": {
            "text/plain": [
              "[tensor([ 3, 12,  8, 10,  2]),\n",
              " tensor([ 9,  4,  7, 14,  5]),\n",
              " tensor([ 1, 13,  0,  6, 11])]"
            ]
          },
          "metadata": {},
          "execution_count": 99
        }
      ],
      "source": [
        "coll = range(15)\n",
        "dl = DataLoader(coll, batch_size=5, shuffle=True)\n",
        "list(dl)"
      ]
    },
    {
      "cell_type": "markdown",
      "metadata": {
        "id": "U6VaXs7NLfgv"
      },
      "source": [
        "For training a model, we don't just want any Python collection, but a collection containing independent and dependent variables (that is, the inputs and targets of the model). A collection that contains tuples of independent and dependent variables is known in PyTorch as a `Dataset`. Here's an example of an extremely simple `Dataset`:"
      ]
    },
    {
      "cell_type": "code",
      "execution_count": null,
      "metadata": {
        "id": "jhfZKtqkLfgv",
        "outputId": "f5b00293-3caa-4b2d-e6e4-01b7859c26dd",
        "colab": {
          "base_uri": "https://localhost:8080/"
        }
      },
      "outputs": [
        {
          "output_type": "execute_result",
          "data": {
            "text/plain": [
              "(#26) [(0, 'a'),(1, 'b'),(2, 'c'),(3, 'd'),(4, 'e'),(5, 'f'),(6, 'g'),(7, 'h'),(8, 'i'),(9, 'j')...]"
            ]
          },
          "metadata": {},
          "execution_count": 100
        }
      ],
      "source": [
        "ds = L(enumerate(string.ascii_lowercase)) # 입력과 타겟이 쌍을 이루는 Dataset\n",
        "ds"
      ]
    },
    {
      "cell_type": "markdown",
      "metadata": {
        "id": "ptgVu1E3Lfgv"
      },
      "source": [
        "When we pass a `Dataset` to a `DataLoader` we will get back many batches which are themselves tuples of tensors representing batches of independent and dependent variables:"
      ]
    },
    {
      "cell_type": "code",
      "execution_count": null,
      "metadata": {
        "id": "-IkpTCc7Lfgv",
        "outputId": "7ddf2a99-be94-4f1d-bf44-b1a62423dadb",
        "colab": {
          "base_uri": "https://localhost:8080/"
        }
      },
      "outputs": [
        {
          "output_type": "execute_result",
          "data": {
            "text/plain": [
              "[(tensor([17, 18, 10, 22,  8, 14]), ('r', 's', 'k', 'w', 'i', 'o')),\n",
              " (tensor([20, 15,  9, 13, 21, 12]), ('u', 'p', 'j', 'n', 'v', 'm')),\n",
              " (tensor([ 7, 25,  6,  5, 11, 23]), ('h', 'z', 'g', 'f', 'l', 'x')),\n",
              " (tensor([ 1,  3,  0, 24, 19, 16]), ('b', 'd', 'a', 'y', 't', 'q')),\n",
              " (tensor([2, 4]), ('c', 'e'))]"
            ]
          },
          "metadata": {},
          "execution_count": 101
        }
      ],
      "source": [
        "# Dataset을 DataLoader에 넣어줌\n",
        "# 독립변수와 종속변수 쌍을 이루는 tensor를 얻을 수 있음\n",
        "dl = DataLoader(ds, batch_size=6, shuffle=True)\n",
        "list(dl)"
      ]
    },
    {
      "cell_type": "markdown",
      "metadata": {
        "id": "uNlaeONjLfgv"
      },
      "source": [
        "We are now ready to write our first training loop for a model using SGD!"
      ]
    },
    {
      "cell_type": "markdown",
      "metadata": {
        "id": "3xkw0bxHLfgv"
      },
      "source": [
        "## Putting It All Together"
      ]
    },
    {
      "cell_type": "markdown",
      "metadata": {
        "id": "Pnfd747ULfgw"
      },
      "source": [
        "It's time to implement the process we saw in <<gradient_descent>>. In code, our process will be implemented something like this for each epoch:\n",
        "\n",
        "```python\n",
        "for x,y in dl:\n",
        "    pred = model(x)\n",
        "    loss = loss_func(pred, y)\n",
        "    loss.backward()\n",
        "    parameters -= parameters.grad * lr\n",
        "```"
      ]
    },
    {
      "cell_type": "markdown",
      "metadata": {
        "id": "4lAnixEpLfgw"
      },
      "source": [
        "First, let's re-initialize our parameters:"
      ]
    },
    {
      "cell_type": "code",
      "execution_count": null,
      "metadata": {
        "id": "JoPPSyjCLfgw"
      },
      "outputs": [],
      "source": [
        "# 파라미터 초기화\n",
        "weights = init_params((28*28,1))\n",
        "bias = init_params(1)"
      ]
    },
    {
      "cell_type": "markdown",
      "metadata": {
        "id": "0s0cy_nnLfgw"
      },
      "source": [
        "A `DataLoader` can be created from a `Dataset`:"
      ]
    },
    {
      "cell_type": "code",
      "execution_count": null,
      "metadata": {
        "id": "ERWPksbzLfgw",
        "outputId": "e5109306-eea1-4499-dd3d-a0ba864a4811",
        "colab": {
          "base_uri": "https://localhost:8080/"
        }
      },
      "outputs": [
        {
          "output_type": "execute_result",
          "data": {
            "text/plain": [
              "(torch.Size([256, 784]), torch.Size([256, 1]))"
            ]
          },
          "metadata": {},
          "execution_count": 103
        }
      ],
      "source": [
        "# 학습용 데이터셋\n",
        "dl = DataLoader(dset, batch_size=256)\n",
        "xb,yb = first(dl)\n",
        "xb.shape,yb.shape"
      ]
    },
    {
      "cell_type": "markdown",
      "metadata": {
        "id": "nGQIN3MHLfgw"
      },
      "source": [
        "We'll do the same for the validation set:"
      ]
    },
    {
      "cell_type": "code",
      "execution_count": null,
      "metadata": {
        "id": "G0qbCR8dLfgx"
      },
      "outputs": [],
      "source": [
        "# 검증용 데이터셋\n",
        "valid_dl = DataLoader(valid_dset, batch_size=256)"
      ]
    },
    {
      "cell_type": "markdown",
      "metadata": {
        "id": "ltp7F2HsLfgx"
      },
      "source": [
        "Let's create a mini-batch of size 4 for testing:"
      ]
    },
    {
      "cell_type": "code",
      "execution_count": null,
      "metadata": {
        "id": "qcfqcgc3Lfgx",
        "outputId": "4846eed6-66ec-4694-e25d-7bd8e981346f",
        "colab": {
          "base_uri": "https://localhost:8080/"
        }
      },
      "outputs": [
        {
          "output_type": "execute_result",
          "data": {
            "text/plain": [
              "torch.Size([4, 784])"
            ]
          },
          "metadata": {},
          "execution_count": 105
        }
      ],
      "source": [
        "# 크기 4인 미니배치 만들기\n",
        "batch = train_x[:4]\n",
        "batch.shape"
      ]
    },
    {
      "cell_type": "code",
      "execution_count": null,
      "metadata": {
        "id": "49jL8zr9Lfgx",
        "outputId": "e09209af-6648-40c8-8f7b-59529867858c",
        "colab": {
          "base_uri": "https://localhost:8080/"
        }
      },
      "outputs": [
        {
          "output_type": "execute_result",
          "data": {
            "text/plain": [
              "tensor([[-2.1876],\n",
              "        [-8.3973],\n",
              "        [ 2.5000],\n",
              "        [-4.9473]], grad_fn=<AddBackward0>)"
            ]
          },
          "metadata": {},
          "execution_count": 106
        }
      ],
      "source": [
        "# 예측\n",
        "preds = linear1(batch)\n",
        "preds"
      ]
    },
    {
      "cell_type": "code",
      "execution_count": null,
      "metadata": {
        "id": "niUVRxQxLfgx",
        "outputId": "c381b76b-17e8-4f2b-f2d1-9c54ee4fe2f2",
        "colab": {
          "base_uri": "https://localhost:8080/"
        }
      },
      "outputs": [
        {
          "output_type": "execute_result",
          "data": {
            "text/plain": [
              "tensor(0.7419, grad_fn=<MeanBackward0>)"
            ]
          },
          "metadata": {},
          "execution_count": 107
        }
      ],
      "source": [
        "# 손실\n",
        "loss = mnist_loss(preds, train_y[:4])\n",
        "loss"
      ]
    },
    {
      "cell_type": "markdown",
      "metadata": {
        "id": "iaU7AeQYLfgy"
      },
      "source": [
        "Now we can calculate the gradients:"
      ]
    },
    {
      "cell_type": "code",
      "execution_count": null,
      "metadata": {
        "id": "O0C_lJttLfgy",
        "outputId": "af0a516c-5c60-424d-946f-8fe571d4ba3b",
        "colab": {
          "base_uri": "https://localhost:8080/"
        }
      },
      "outputs": [
        {
          "output_type": "execute_result",
          "data": {
            "text/plain": [
              "(torch.Size([784, 1]), tensor(-0.0061), tensor([-0.0420]))"
            ]
          },
          "metadata": {},
          "execution_count": 108
        }
      ],
      "source": [
        "# graident 계산\n",
        "loss.backward()\n",
        "weights.grad.shape,weights.grad.mean(),bias.grad"
      ]
    },
    {
      "cell_type": "markdown",
      "metadata": {
        "id": "z-r8newCLfgy"
      },
      "source": [
        "Let's put that all in a function:"
      ]
    },
    {
      "cell_type": "code",
      "execution_count": null,
      "metadata": {
        "id": "NP-LvJ6BLfgy"
      },
      "outputs": [],
      "source": [
        "# 위의 내용을 함수로 정의\n",
        "def calc_grad(xb, yb, model):\n",
        "    preds = model(xb)\n",
        "    loss = mnist_loss(preds, yb)\n",
        "    loss.backward()"
      ]
    },
    {
      "cell_type": "markdown",
      "metadata": {
        "id": "iZ8_yv89Lfgy"
      },
      "source": [
        "and test it:"
      ]
    },
    {
      "cell_type": "code",
      "execution_count": null,
      "metadata": {
        "id": "ykO_rK-iLfgy",
        "outputId": "96cb3294-0630-47b9-abc7-1f27f2aa9cb6",
        "colab": {
          "base_uri": "https://localhost:8080/"
        }
      },
      "outputs": [
        {
          "output_type": "execute_result",
          "data": {
            "text/plain": [
              "(tensor(-0.0121), tensor([-0.0840]))"
            ]
          },
          "metadata": {},
          "execution_count": 110
        }
      ],
      "source": [
        "calc_grad(batch, train_y[:4], linear1)\n",
        "weights.grad.mean(),bias.grad"
      ]
    },
    {
      "cell_type": "markdown",
      "metadata": {
        "id": "9nnNGQzGLfgz"
      },
      "source": [
        "But look what happens if we call it twice:"
      ]
    },
    {
      "cell_type": "code",
      "execution_count": null,
      "metadata": {
        "id": "HpCdXlY_Lfgz",
        "outputId": "9c2e14dd-e30d-44ee-ca2a-f2cb8fff5ab8",
        "colab": {
          "base_uri": "https://localhost:8080/"
        }
      },
      "outputs": [
        {
          "output_type": "execute_result",
          "data": {
            "text/plain": [
              "(tensor(-0.0182), tensor([-0.1260]))"
            ]
          },
          "metadata": {},
          "execution_count": 111
        }
      ],
      "source": [
        "# 한번 더 함수를 호출하면 결과값이 변함\n",
        "# loost.backward가 gradient를 누적시키기 때문\n",
        "calc_grad(batch, train_y[:4], linear1)\n",
        "weights.grad.mean(),bias.grad"
      ]
    },
    {
      "cell_type": "markdown",
      "metadata": {
        "id": "uaSlqDlCLfgz"
      },
      "source": [
        "The gradients have changed! The reason for this is that `loss.backward` actually *adds* the gradients of `loss` to any gradients that are currently stored. So, we have to set the current gradients to 0 first:"
      ]
    },
    {
      "cell_type": "code",
      "execution_count": null,
      "metadata": {
        "id": "WmSH4CJbLfgz"
      },
      "outputs": [],
      "source": [
        "# 이전의 그레이디언트를 0으로 설정\n",
        "# 파이토치 연산자 중에 _로 끝나는 경우 '제자리 연산자' 라고 부름\n",
        "weights.grad.zero_()\n",
        "bias.grad.zero_();"
      ]
    },
    {
      "cell_type": "markdown",
      "metadata": {
        "id": "wSyiToFiLfgz"
      },
      "source": [
        "> note: Inplace Operations: Methods in PyTorch whose names end in an underscore modify their objects _in place_. For instance, `bias.zero_()` sets all elements of the tensor `bias` to 0."
      ]
    },
    {
      "cell_type": "markdown",
      "metadata": {
        "id": "47EZT3wRLfg0"
      },
      "source": [
        "Our only remaining step is to update the weights and biases based on the gradient and learning rate. When we do so, we have to tell PyTorch not to take the gradient of this step too—otherwise things will get very confusing when we try to compute the derivative at the next batch! If we assign to the `data` attribute of a tensor then PyTorch will not take the gradient of that step. Here's our basic training loop for an epoch:"
      ]
    },
    {
      "cell_type": "code",
      "execution_count": null,
      "metadata": {
        "id": "B2pWWGtLLfg0"
      },
      "outputs": [],
      "source": [
        "# 하나의 에포크에서 수행되는 학습 루프\n",
        "def train_epoch(model, lr, params):\n",
        "    for xb,yb in dl:\n",
        "        calc_grad(xb, yb, model)\n",
        "        for p in params:\n",
        "            p.data -= p.grad*lr\n",
        "            p.grad.zero_()"
      ]
    },
    {
      "cell_type": "markdown",
      "metadata": {
        "id": "26pRufE5Lfg0"
      },
      "source": [
        "We also want to check how we're doing, by looking at the accuracy of the validation set. To decide if an output represents a 3 or a 7, we can just check whether it's greater than 0. So our accuracy for each item can be calculated (using broadcasting, so no loops!) with:"
      ]
    },
    {
      "cell_type": "code",
      "execution_count": null,
      "metadata": {
        "id": "VhjWbazULfg0",
        "outputId": "97314501-9b79-444b-9693-05005a4bef7f",
        "colab": {
          "base_uri": "https://localhost:8080/"
        }
      },
      "outputs": [
        {
          "output_type": "execute_result",
          "data": {
            "text/plain": [
              "tensor([[False],\n",
              "        [False],\n",
              "        [ True],\n",
              "        [False]])"
            ]
          },
          "metadata": {},
          "execution_count": 115
        }
      ],
      "source": [
        "# 정확도 확인\n",
        "(preds>0.5).float() == train_y[:4]"
      ]
    },
    {
      "cell_type": "markdown",
      "metadata": {
        "id": "6WksHt_tLfg0"
      },
      "source": [
        "That gives us this function to calculate our validation accuracy:"
      ]
    },
    {
      "cell_type": "code",
      "execution_count": null,
      "metadata": {
        "id": "doya1GzILfg0"
      },
      "outputs": [],
      "source": [
        "# 배치 단위의 평균 정확도\n",
        "def batch_accuracy(xb, yb):\n",
        "    preds = xb.sigmoid()\n",
        "    correct = (preds>0.5) == yb\n",
        "    return correct.float().mean()"
      ]
    },
    {
      "cell_type": "markdown",
      "metadata": {
        "id": "njWzbQk_Lfg1"
      },
      "source": [
        "We can check it works:"
      ]
    },
    {
      "cell_type": "code",
      "execution_count": null,
      "metadata": {
        "id": "DhgI8yiBLfg1",
        "outputId": "5411add5-509c-45f5-cc2a-269293154049",
        "colab": {
          "base_uri": "https://localhost:8080/"
        }
      },
      "outputs": [
        {
          "output_type": "execute_result",
          "data": {
            "text/plain": [
              "tensor(0.2500)"
            ]
          },
          "metadata": {},
          "execution_count": 117
        }
      ],
      "source": [
        "batch_accuracy(linear1(batch), train_y[:4])"
      ]
    },
    {
      "cell_type": "markdown",
      "metadata": {
        "id": "e4k9Fz5zLfg1"
      },
      "source": [
        "and then put the batches together:"
      ]
    },
    {
      "cell_type": "code",
      "execution_count": null,
      "metadata": {
        "id": "yuM8s4j7Lfg1"
      },
      "outputs": [],
      "source": [
        "# batch_accuracy 결과들의 평균 \n",
        "def validate_epoch(model):\n",
        "    accs = [batch_accuracy(model(xb), yb) for xb,yb in valid_dl]\n",
        "    return round(torch.stack(accs).mean().item(), 4)"
      ]
    },
    {
      "cell_type": "code",
      "execution_count": null,
      "metadata": {
        "id": "Cy-vXnxNLfg1",
        "outputId": "ea8d926f-b6de-4618-c59e-b17680404008",
        "colab": {
          "base_uri": "https://localhost:8080/"
        }
      },
      "outputs": [
        {
          "output_type": "execute_result",
          "data": {
            "text/plain": [
              "0.5263"
            ]
          },
          "metadata": {},
          "execution_count": 119
        }
      ],
      "source": [
        "validate_epoch(linear1)"
      ]
    },
    {
      "cell_type": "markdown",
      "metadata": {
        "id": "fMYc8W-8Lfg1"
      },
      "source": [
        "That's our starting point. Let's train for one epoch, and see if the accuracy improves:"
      ]
    },
    {
      "cell_type": "code",
      "execution_count": null,
      "metadata": {
        "id": "6jZCUmBxLfg2",
        "outputId": "52fa8b66-aa6c-4680-802f-f383880488bc",
        "colab": {
          "base_uri": "https://localhost:8080/"
        }
      },
      "outputs": [
        {
          "output_type": "execute_result",
          "data": {
            "text/plain": [
              "0.6663"
            ]
          },
          "metadata": {},
          "execution_count": 120
        }
      ],
      "source": [
        "# 에포크 한번만 돌려보자\n",
        "# 정확도 개선되는지 확인해보기\n",
        "lr = 1.\n",
        "params = weights,bias\n",
        "train_epoch(linear1, lr, params)\n",
        "validate_epoch(linear1)"
      ]
    },
    {
      "cell_type": "markdown",
      "metadata": {
        "id": "tfoLleAeLfg2"
      },
      "source": [
        "Then do a few more:"
      ]
    },
    {
      "cell_type": "code",
      "execution_count": null,
      "metadata": {
        "id": "n6hywcJALfg2",
        "outputId": "7d876715-373e-45ec-833b-3c458d48eec6",
        "colab": {
          "base_uri": "https://localhost:8080/"
        }
      },
      "outputs": [
        {
          "output_type": "stream",
          "name": "stdout",
          "text": [
            "0.8265 0.89 0.9183 0.9276 0.9398 0.9466 0.9505 0.9525 0.9559 0.9578 0.9598 0.9608 0.9613 0.9618 0.9632 0.9637 0.9647 0.9657 0.9671 0.9676 "
          ]
        }
      ],
      "source": [
        "# 에포크 여러번 반복\n",
        "for i in range(20):\n",
        "    train_epoch(linear1, lr, params)\n",
        "    print(validate_epoch(linear1), end=' ')"
      ]
    },
    {
      "cell_type": "markdown",
      "metadata": {
        "id": "Rz3-cFVwLfg2"
      },
      "source": [
        "Looking good! We're already about at the same accuracy as our \"pixel similarity\" approach, and we've created a general-purpose foundation we can build on. Our next step will be to create an object that will handle the SGD step for us. In PyTorch, it's called an *optimizer*.\n",
        "\n",
        "굳! 이 SGD 단계를 객체로 포장해봅시다"
      ]
    },
    {
      "cell_type": "markdown",
      "metadata": {
        "id": "QURotax4Lfg2"
      },
      "source": [
        "### Creating an Optimizer"
      ]
    },
    {
      "cell_type": "markdown",
      "metadata": {
        "id": "k6-O_dBtLfg2"
      },
      "source": [
        "Because this is such a general foundation, PyTorch provides some useful classes to make it easier to implement. The first thing we can do is replace our `linear1` function with PyTorch's `nn.Linear` module. A *module* is an object of a class that inherits from the PyTorch `nn.Module` class. Objects of this class behave identically to standard Python functions, in that you can call them using parentheses and they will return the activations of a model.\n",
        "\n",
        "`nn.Linear` does the same thing as our `init_params` and `linear` together. It contains both the *weights* and *biases* in a single class. Here's how we replicate our model from the previous section:"
      ]
    },
    {
      "cell_type": "code",
      "execution_count": null,
      "metadata": {
        "id": "kMPtEpLPLfg3"
      },
      "outputs": [],
      "source": [
        "# init_params 및 linear 작동을 수행\n",
        "# 클래스 내부에 가중치와 편향이 저장됨\n",
        "linear_model = nn.Linear(28*28,1)"
      ]
    },
    {
      "cell_type": "markdown",
      "metadata": {
        "id": "L8Ze-tCNLfg3"
      },
      "source": [
        "Every PyTorch module knows what parameters it has that can be trained; they are available through the `parameters` method:"
      ]
    },
    {
      "cell_type": "code",
      "execution_count": null,
      "metadata": {
        "id": "CMpMyRyNLfg3",
        "outputId": "eb7ae5ae-4c65-4e98-d140-397e65e1c32b",
        "colab": {
          "base_uri": "https://localhost:8080/"
        }
      },
      "outputs": [
        {
          "output_type": "execute_result",
          "data": {
            "text/plain": [
              "(torch.Size([1, 784]), torch.Size([1]))"
            ]
          },
          "metadata": {},
          "execution_count": 124
        }
      ],
      "source": [
        "# 파이토치 모듈은 '학습될 수 있는 파라미터'를 알고 있음\n",
        "w,b = linear_model.parameters()\n",
        "w.shape,b.shape"
      ]
    },
    {
      "cell_type": "markdown",
      "metadata": {
        "id": "Lf5p1FBXLfg3"
      },
      "source": [
        "We can use this information to create an optimizer:"
      ]
    },
    {
      "cell_type": "code",
      "execution_count": null,
      "metadata": {
        "id": "Ci820A0rLfg3"
      },
      "outputs": [],
      "source": [
        "# 이 파라미터를 Optimizer의 init에 넣어서 활용 \n",
        "class BasicOptim:\n",
        "    def __init__(self,params,lr): self.params,self.lr = list(params),lr\n",
        "\n",
        "    def step(self, *args, **kwargs):\n",
        "        for p in self.params: p.data -= p.grad.data * self.lr\n",
        "\n",
        "    def zero_grad(self, *args, **kwargs):\n",
        "        for p in self.params: p.grad = None"
      ]
    },
    {
      "cell_type": "markdown",
      "metadata": {
        "id": "YcY13yGjLfg4"
      },
      "source": [
        "We can create our optimizer by passing in the model's parameters:"
      ]
    },
    {
      "cell_type": "code",
      "execution_count": null,
      "metadata": {
        "id": "l_DM-m4pLfg4"
      },
      "outputs": [],
      "source": [
        "opt = BasicOptim(linear_model.parameters(), lr)"
      ]
    },
    {
      "cell_type": "markdown",
      "metadata": {
        "id": "ZXB7laHHLfg4"
      },
      "source": [
        "Our training loop can now be simplified to:"
      ]
    },
    {
      "cell_type": "code",
      "execution_count": null,
      "metadata": {
        "id": "mXV_qNCzLfg4"
      },
      "outputs": [],
      "source": [
        "# 이제 학습 루프 더 간소화 할 수 있음\n",
        "def train_epoch(model):\n",
        "    for xb,yb in dl:\n",
        "        calc_grad(xb, yb, model)\n",
        "        opt.step()\n",
        "        opt.zero_grad()"
      ]
    },
    {
      "cell_type": "markdown",
      "metadata": {
        "id": "XV6bH6WTLfg4"
      },
      "source": [
        "Our validation function doesn't need to change at all:"
      ]
    },
    {
      "cell_type": "code",
      "execution_count": null,
      "metadata": {
        "id": "fg9aBj7CLfg4",
        "outputId": "7765285d-944d-4ff9-80bb-d6bba79c6cb5",
        "colab": {
          "base_uri": "https://localhost:8080/"
        }
      },
      "outputs": [
        {
          "output_type": "execute_result",
          "data": {
            "text/plain": [
              "0.4606"
            ]
          },
          "metadata": {},
          "execution_count": 128
        }
      ],
      "source": [
        "validate_epoch(linear_model)"
      ]
    },
    {
      "cell_type": "markdown",
      "metadata": {
        "id": "O7PcKQ5BLfg4"
      },
      "source": [
        "Let's put our little training loop in a function, to make things simpler:"
      ]
    },
    {
      "cell_type": "code",
      "execution_count": null,
      "metadata": {
        "id": "LCuykqHbLfg5"
      },
      "outputs": [],
      "source": [
        "# 학습루프 + 정확도 보기\n",
        "def train_model(model, epochs):\n",
        "    for i in range(epochs):\n",
        "        train_epoch(model)\n",
        "        print(validate_epoch(model), end=' ')"
      ]
    },
    {
      "cell_type": "markdown",
      "metadata": {
        "id": "nek_TT3tLfg5"
      },
      "source": [
        "The results are the same as in the previous section:"
      ]
    },
    {
      "cell_type": "code",
      "execution_count": null,
      "metadata": {
        "id": "9VJvXof7Lfg5",
        "outputId": "92e466dd-e370-4815-ef20-169d3ffc72f9",
        "colab": {
          "base_uri": "https://localhost:8080/"
        }
      },
      "outputs": [
        {
          "output_type": "stream",
          "name": "stdout",
          "text": [
            "0.4932 0.7685 0.8554 0.9135 0.9345 0.9482 0.957 0.9633 0.9658 0.9677 0.9697 0.9716 0.9736 0.9745 0.976 0.977 0.9775 0.9775 0.978 0.9785 "
          ]
        }
      ],
      "source": [
        "train_model(linear_model, 20)"
      ]
    },
    {
      "cell_type": "markdown",
      "metadata": {
        "id": "wdP695COLfg5"
      },
      "source": [
        "fastai provides the `SGD` class which, by default, does the same thing as our `BasicOptim`:"
      ]
    },
    {
      "cell_type": "code",
      "execution_count": null,
      "metadata": {
        "id": "i-11XzAKLfg6",
        "outputId": "5e1541c7-2c4a-446c-8db7-71b28c8033ee",
        "colab": {
          "base_uri": "https://localhost:8080/"
        }
      },
      "outputs": [
        {
          "output_type": "stream",
          "name": "stdout",
          "text": [
            "0.4932 0.8178 0.8496 0.914 0.9345 0.9482 0.957 0.9619 0.9658 0.9672 0.9692 0.9711 0.9741 0.975 0.976 0.9775 0.9775 0.978 0.9785 0.9789 "
          ]
        }
      ],
      "source": [
        "# BasicOptim 대신 fastai.SGD 클래스 사용하기\n",
        "linear_model = nn.Linear(28*28,1)\n",
        "opt = SGD(linear_model.parameters(), lr)\n",
        "train_model(linear_model, 20)"
      ]
    },
    {
      "cell_type": "markdown",
      "metadata": {
        "id": "ZoFZwS1rLfg6"
      },
      "source": [
        "fastai also provides `Learner.fit`, which we can use instead of `train_model`. To create a `Learner` we first need to create a `DataLoaders`, by passing in our training and validation `DataLoader`s:"
      ]
    },
    {
      "cell_type": "code",
      "execution_count": null,
      "metadata": {
        "id": "2QYCrVS6Lfg6"
      },
      "outputs": [],
      "source": [
        "# train_model대신 fastai.Learner.fit사용하기\n",
        "# Learner 생성하려면 DataLoaders 필요 \n",
        "dls = DataLoaders(dl, valid_dl)"
      ]
    },
    {
      "cell_type": "markdown",
      "metadata": {
        "id": "i3X-YEi-Lfg6"
      },
      "source": [
        "To create a `Learner` without using an application (such as `cnn_learner`) we need to pass in all the elements that we've created in this chapter: the `DataLoaders`, the model, the optimization function (which will be passed the parameters), the loss function, and optionally any metrics to print:"
      ]
    },
    {
      "cell_type": "code",
      "execution_count": null,
      "metadata": {
        "id": "lqn2gdTYLfg6"
      },
      "outputs": [],
      "source": [
        "learn = Learner(dls, nn.Linear(28*28,1), opt_func=SGD,\n",
        "                loss_func=mnist_loss, metrics=batch_accuracy)"
      ]
    },
    {
      "cell_type": "markdown",
      "metadata": {
        "id": "1UWhvT7jLfg6"
      },
      "source": [
        "Now we can call `fit`:"
      ]
    },
    {
      "cell_type": "code",
      "execution_count": null,
      "metadata": {
        "id": "V0fZuFQyLfg7",
        "outputId": "1d0b0fa5-ecb0-48f8-af02-f00e3198c685",
        "colab": {
          "base_uri": "https://localhost:8080/",
          "height": 363
        }
      },
      "outputs": [
        {
          "output_type": "display_data",
          "data": {
            "text/html": [
              "<table border=\"1\" class=\"dataframe\">\n",
              "  <thead>\n",
              "    <tr style=\"text-align: left;\">\n",
              "      <th>epoch</th>\n",
              "      <th>train_loss</th>\n",
              "      <th>valid_loss</th>\n",
              "      <th>batch_accuracy</th>\n",
              "      <th>time</th>\n",
              "    </tr>\n",
              "  </thead>\n",
              "  <tbody>\n",
              "    <tr>\n",
              "      <td>0</td>\n",
              "      <td>0.636709</td>\n",
              "      <td>0.503144</td>\n",
              "      <td>0.495584</td>\n",
              "      <td>00:00</td>\n",
              "    </tr>\n",
              "    <tr>\n",
              "      <td>1</td>\n",
              "      <td>0.429828</td>\n",
              "      <td>0.248517</td>\n",
              "      <td>0.777233</td>\n",
              "      <td>00:00</td>\n",
              "    </tr>\n",
              "    <tr>\n",
              "      <td>2</td>\n",
              "      <td>0.161680</td>\n",
              "      <td>0.155361</td>\n",
              "      <td>0.861629</td>\n",
              "      <td>00:00</td>\n",
              "    </tr>\n",
              "    <tr>\n",
              "      <td>3</td>\n",
              "      <td>0.072948</td>\n",
              "      <td>0.097722</td>\n",
              "      <td>0.917566</td>\n",
              "      <td>00:00</td>\n",
              "    </tr>\n",
              "    <tr>\n",
              "      <td>4</td>\n",
              "      <td>0.040128</td>\n",
              "      <td>0.073205</td>\n",
              "      <td>0.936212</td>\n",
              "      <td>00:00</td>\n",
              "    </tr>\n",
              "    <tr>\n",
              "      <td>5</td>\n",
              "      <td>0.027210</td>\n",
              "      <td>0.059466</td>\n",
              "      <td>0.950442</td>\n",
              "      <td>00:00</td>\n",
              "    </tr>\n",
              "    <tr>\n",
              "      <td>6</td>\n",
              "      <td>0.021837</td>\n",
              "      <td>0.050799</td>\n",
              "      <td>0.957802</td>\n",
              "      <td>00:00</td>\n",
              "    </tr>\n",
              "    <tr>\n",
              "      <td>7</td>\n",
              "      <td>0.019398</td>\n",
              "      <td>0.044980</td>\n",
              "      <td>0.964181</td>\n",
              "      <td>00:00</td>\n",
              "    </tr>\n",
              "    <tr>\n",
              "      <td>8</td>\n",
              "      <td>0.018122</td>\n",
              "      <td>0.040853</td>\n",
              "      <td>0.966143</td>\n",
              "      <td>00:00</td>\n",
              "    </tr>\n",
              "    <tr>\n",
              "      <td>9</td>\n",
              "      <td>0.017330</td>\n",
              "      <td>0.037788</td>\n",
              "      <td>0.968106</td>\n",
              "      <td>00:00</td>\n",
              "    </tr>\n",
              "  </tbody>\n",
              "</table>"
            ],
            "text/plain": [
              "<IPython.core.display.HTML object>"
            ]
          },
          "metadata": {}
        }
      ],
      "source": [
        "learn.fit(10, lr=lr)"
      ]
    },
    {
      "cell_type": "markdown",
      "metadata": {
        "id": "51LEJlN1Lfg7"
      },
      "source": [
        "As you can see, there's nothing magic about the PyTorch and fastai classes. They are just convenient pre-packaged pieces that make your life a bit easier! (They also provide a lot of extra functionality we'll be using in future chapters.)\n",
        "\n",
        "With these classes, we can now replace our linear model with a neural network."
      ]
    },
    {
      "cell_type": "markdown",
      "metadata": {
        "id": "MYL5KS6LLfg7"
      },
      "source": [
        "## Adding a Nonlinearity: 선형모델 -> 신경망 모델로 바꿔보기"
      ]
    },
    {
      "cell_type": "markdown",
      "metadata": {
        "id": "mKq_3RiJLfg7"
      },
      "source": [
        "* 지금까지 배운 것\n",
        "  * 파라미터 최적화하는 일반적인 과정\n",
        "  * 단순 선형 분류 모델 구현\n",
        "\n",
        "* 선형 모델은 한계 있음\n",
        "* 복잡한 일을 위해 -> 모델을 더 복잡하게 바꿔야함\n",
        "* 2개의 선형 계층 사이에 비선형을 추가하면 됨 = 신경망\n",
        "\n",
        "So far we have a general procedure for optimizing the parameters of a function, and we have tried it out on a very boring function: a simple linear classifier. A linear classifier is very constrained in terms of what it can do. To make it a bit more complex (and able to handle more tasks), we need to add something nonlinear between two linear classifiers—this is what gives us a neural network.\n",
        "\n",
        "Here is the entire definition of a basic neural network:"
      ]
    },
    {
      "cell_type": "code",
      "execution_count": null,
      "metadata": {
        "id": "ZIvkUMjpLfg7"
      },
      "outputs": [],
      "source": [
        "def simple_net(xb): \n",
        "    res = xb@w1 + b1 # 선형\n",
        "    res = res.max(tensor(0.0)) # 비선형(nonlinear)\n",
        "    res = res@w2 + b2 # 선형\n",
        "    return res\n",
        "\n",
        "# 이렇게하면 선형 계층이 분리되어 각각 자신만의 유용한 일을 할 수 있게 된다고 함..."
      ]
    },
    {
      "cell_type": "markdown",
      "metadata": {
        "id": "W5_VLwMALfg7"
      },
      "source": [
        "That's it! All we have in `simple_net` is two linear classifiers with a `max` function between them.\n",
        "\n",
        "Here, `w1` and `w2` are weight tensors, and `b1` and `b2` are bias tensors; that is, parameters that are initially randomly initialized, just like we did in the previous section:"
      ]
    },
    {
      "cell_type": "code",
      "execution_count": null,
      "metadata": {
        "id": "u-nZgbm1Lfg8"
      },
      "outputs": [],
      "source": [
        "# 임의로 초기화\n",
        "# w: 가중치\n",
        "# b: 편향\n",
        "\n",
        "w1 = init_params((28*28,30)) # 출력 활성 30개 = 28x28 픽셀로 서로 다른 특징 30개 구성가능\n",
        "b1 = init_params(30)\n",
        "w2 = init_params((30,1)) # w1에 맞물밀 수 있게 입력 활성 30개\n",
        "b2 = init_params(1)"
      ]
    },
    {
      "cell_type": "markdown",
      "metadata": {
        "id": "g3aDY8EwLfg8"
      },
      "source": [
        "The key point about this is that `w1` has 30 output activations (which means that `w2` must have 30 input activations, so they match). That means that the first layer can construct 30 different features, each representing some different mix of pixels. You can change that `30` to anything you like, to make the model more or less complex.\n",
        "\n",
        "That little function `res.max(tensor(0.0))` is called a *rectified linear unit*, also known as *ReLU*. We think we can all agree that *rectified linear unit* sounds pretty fancy and complicated... But actually, there's nothing more to it than `res.max(tensor(0.0))`—in other words, replace every negative number with a zero. This tiny function is also available in PyTorch as `F.relu`:"
      ]
    },
    {
      "cell_type": "code",
      "execution_count": null,
      "metadata": {
        "id": "yS33D68hLfg8",
        "outputId": "c1b8732a-16a8-45af-8031-8a727cced343",
        "colab": {
          "base_uri": "https://localhost:8080/",
          "height": 265
        }
      },
      "outputs": [
        {
          "output_type": "display_data",
          "data": {
            "image/png": "[encoded data removed]",
            "text/plain": [
              "<Figure size 432x288 with 1 Axes>"
            ]
          },
          "metadata": {
            "needs_background": "light"
          }
        }
      ],
      "source": [
        "# res.max(tensor(0.0)) = F.relu 똑같음\n",
        "# 모든 음숫값을 0으로 교체해줌\n",
        "\n",
        "plot_function(F.relu)"
      ]
    },
    {
      "cell_type": "markdown",
      "metadata": {
        "id": "nIDRSEtxLfg8"
      },
      "source": [
        "> J: There is an enormous amount of jargon in deep learning, including terms like _rectified linear unit_. The vast vast majority of this jargon is no more complicated than can be implemented in a short line of code, as we saw in this example. The reality is that for academics to get their papers published they need to make them sound as impressive and sophisticated as possible. One of the ways that they do that is to introduce jargon. Unfortunately, this has the result that the field ends up becoming far more intimidating and difficult to get into than it should be. You do have to learn the jargon, because otherwise papers and tutorials are not going to mean much to you. But that doesn't mean you have to find the jargon intimidating. Just remember, when you come across a word or phrase that you haven't seen before, it will almost certainly turn out to be referring to a very simple concept."
      ]
    },
    {
      "cell_type": "markdown",
      "metadata": {
        "id": "wDjJjnCgLfg8"
      },
      "source": [
        "The basic idea is that by using more linear layers, we can have our model do more computation, and therefore model more complex functions. But there's no point just putting one linear layer directly after another one, because when we multiply things together and then add them up multiple times, that could be replaced by multiplying different things together and adding them up just once! That is to say, a series of any number of linear layers in a row can be replaced with a single linear layer with a different set of parameters.\n",
        "\n",
        "But if we put a nonlinear function between them, such as `max`, then this is no longer true. Now each linear layer is actually somewhat decoupled from the other ones, and can do its own useful work. The `max` function is particularly interesting, because it operates as a simple `if` statement."
      ]
    },
    {
      "cell_type": "markdown",
      "metadata": {
        "id": "8pJJUlEiLfg8"
      },
      "source": [
        "> S: Mathematically, we say the composition of two linear functions is another linear function. So, we can stack as many linear classifiers as we want on top of each other, and without nonlinear functions between them, it will just be the same as one linear classifier."
      ]
    },
    {
      "cell_type": "markdown",
      "metadata": {
        "id": "gzFfadt9Lfg9"
      },
      "source": [
        "Amazingly enough, it can be mathematically proven that this little function can solve any computable problem to an arbitrarily high level of accuracy, if you can find the right parameters for `w1` and `w2` and if you make these matrices big enough. For any arbitrarily wiggly function, we can approximate it as a bunch of lines joined together; to make it closer to the wiggly function, we just have to use shorter lines. This is known as the *universal approximation theorem*. The three lines of code that we have here are known as *layers*. The first and third are known as *linear layers*, and the second line of code is known variously as a *nonlinearity*, or *activation function*.\n",
        "\n",
        "Just like in the previous section, we can replace this code with something a bit simpler, by taking advantage of PyTorch:"
      ]
    },
    {
      "cell_type": "code",
      "execution_count": null,
      "metadata": {
        "id": "vGZUNm1HLfg9"
      },
      "outputs": [],
      "source": [
        "# 아래는 여러 계층을 표현함\n",
        "simple_net = nn.Sequential(\n",
        "    nn.Linear(28*28,30), # 선형 계층\n",
        "    nn.ReLU(), # 비선형성 or 활성화 함수\n",
        "    nn.Linear(30,1) # 선형 계층\n",
        ")"
      ]
    },
    {
      "cell_type": "markdown",
      "metadata": {
        "id": "OvYPnx5jLfg9"
      },
      "source": [
        "`nn.Sequential` creates a module that will call each of the listed layers or functions in turn.\n",
        "\n",
        "`nn.ReLU` is a PyTorch module that does exactly the same thing as the `F.relu` function. Most functions that can appear in a model also have identical forms that are modules. Generally, it's just a case of replacing `F` with `nn` and changing the capitalization. When using `nn.Sequential`, PyTorch requires us to use the module version. Since modules are classes, we have to instantiate them, which is why you see `nn.ReLU()` in this example. \n",
        "\n",
        "Because `nn.Sequential` is a module, we can get its parameters, which will return a list of all the parameters of all the modules it contains. Let's try it out! As this is a deeper model, we'll use a lower learning rate and a few more epochs."
      ]
    },
    {
      "cell_type": "code",
      "execution_count": null,
      "metadata": {
        "id": "n_AwKdZILfg9"
      },
      "outputs": [],
      "source": [
        "learn = Learner(dls, simple_net, opt_func=SGD,\n",
        "                loss_func=mnist_loss, metrics=batch_accuracy)"
      ]
    },
    {
      "cell_type": "code",
      "execution_count": null,
      "metadata": {
        "id": "5-qBUL4wLfg9",
        "outputId": "d62d74b5-8681-4e3a-e9c6-66ebc7a20f9d",
        "colab": {
          "base_uri": "https://localhost:8080/",
          "height": 1000
        }
      },
      "outputs": [
        {
          "output_type": "display_data",
          "data": {
            "text/html": [
              "<table border=\"1\" class=\"dataframe\">\n",
              "  <thead>\n",
              "    <tr style=\"text-align: left;\">\n",
              "      <th>epoch</th>\n",
              "      <th>train_loss</th>\n",
              "      <th>valid_loss</th>\n",
              "      <th>batch_accuracy</th>\n",
              "      <th>time</th>\n",
              "    </tr>\n",
              "  </thead>\n",
              "  <tbody>\n",
              "    <tr>\n",
              "      <td>0</td>\n",
              "      <td>0.281497</td>\n",
              "      <td>0.410105</td>\n",
              "      <td>0.505888</td>\n",
              "      <td>00:00</td>\n",
              "    </tr>\n",
              "    <tr>\n",
              "      <td>1</td>\n",
              "      <td>0.135123</td>\n",
              "      <td>0.221296</td>\n",
              "      <td>0.810599</td>\n",
              "      <td>00:00</td>\n",
              "    </tr>\n",
              "    <tr>\n",
              "      <td>2</td>\n",
              "      <td>0.076352</td>\n",
              "      <td>0.113494</td>\n",
              "      <td>0.916585</td>\n",
              "      <td>00:00</td>\n",
              "    </tr>\n",
              "    <tr>\n",
              "      <td>3</td>\n",
              "      <td>0.051061</td>\n",
              "      <td>0.077187</td>\n",
              "      <td>0.942591</td>\n",
              "      <td>00:00</td>\n",
              "    </tr>\n",
              "    <tr>\n",
              "      <td>4</td>\n",
              "      <td>0.039184</td>\n",
              "      <td>0.060455</td>\n",
              "      <td>0.955839</td>\n",
              "      <td>00:00</td>\n",
              "    </tr>\n",
              "    <tr>\n",
              "      <td>5</td>\n",
              "      <td>0.033039</td>\n",
              "      <td>0.051038</td>\n",
              "      <td>0.963199</td>\n",
              "      <td>00:00</td>\n",
              "    </tr>\n",
              "    <tr>\n",
              "      <td>6</td>\n",
              "      <td>0.029466</td>\n",
              "      <td>0.045099</td>\n",
              "      <td>0.965162</td>\n",
              "      <td>00:00</td>\n",
              "    </tr>\n",
              "    <tr>\n",
              "      <td>7</td>\n",
              "      <td>0.027121</td>\n",
              "      <td>0.041028</td>\n",
              "      <td>0.967615</td>\n",
              "      <td>00:00</td>\n",
              "    </tr>\n",
              "    <tr>\n",
              "      <td>8</td>\n",
              "      <td>0.025420</td>\n",
              "      <td>0.038060</td>\n",
              "      <td>0.968597</td>\n",
              "      <td>00:00</td>\n",
              "    </tr>\n",
              "    <tr>\n",
              "      <td>9</td>\n",
              "      <td>0.024097</td>\n",
              "      <td>0.035784</td>\n",
              "      <td>0.970069</td>\n",
              "      <td>00:00</td>\n",
              "    </tr>\n",
              "    <tr>\n",
              "      <td>10</td>\n",
              "      <td>0.023020</td>\n",
              "      <td>0.033972</td>\n",
              "      <td>0.971541</td>\n",
              "      <td>00:00</td>\n",
              "    </tr>\n",
              "    <tr>\n",
              "      <td>11</td>\n",
              "      <td>0.022118</td>\n",
              "      <td>0.032484</td>\n",
              "      <td>0.973013</td>\n",
              "      <td>00:00</td>\n",
              "    </tr>\n",
              "    <tr>\n",
              "      <td>12</td>\n",
              "      <td>0.021348</td>\n",
              "      <td>0.031229</td>\n",
              "      <td>0.973994</td>\n",
              "      <td>00:00</td>\n",
              "    </tr>\n",
              "    <tr>\n",
              "      <td>13</td>\n",
              "      <td>0.020681</td>\n",
              "      <td>0.030151</td>\n",
              "      <td>0.974975</td>\n",
              "      <td>00:00</td>\n",
              "    </tr>\n",
              "    <tr>\n",
              "      <td>14</td>\n",
              "      <td>0.020095</td>\n",
              "      <td>0.029210</td>\n",
              "      <td>0.975957</td>\n",
              "      <td>00:00</td>\n",
              "    </tr>\n",
              "    <tr>\n",
              "      <td>15</td>\n",
              "      <td>0.019577</td>\n",
              "      <td>0.028379</td>\n",
              "      <td>0.976448</td>\n",
              "      <td>00:00</td>\n",
              "    </tr>\n",
              "    <tr>\n",
              "      <td>16</td>\n",
              "      <td>0.019113</td>\n",
              "      <td>0.027640</td>\n",
              "      <td>0.977429</td>\n",
              "      <td>00:00</td>\n",
              "    </tr>\n",
              "    <tr>\n",
              "      <td>17</td>\n",
              "      <td>0.018695</td>\n",
              "      <td>0.026977</td>\n",
              "      <td>0.977429</td>\n",
              "      <td>00:00</td>\n",
              "    </tr>\n",
              "    <tr>\n",
              "      <td>18</td>\n",
              "      <td>0.018315</td>\n",
              "      <td>0.026380</td>\n",
              "      <td>0.978410</td>\n",
              "      <td>00:00</td>\n",
              "    </tr>\n",
              "    <tr>\n",
              "      <td>19</td>\n",
              "      <td>0.017969</td>\n",
              "      <td>0.025838</td>\n",
              "      <td>0.978901</td>\n",
              "      <td>00:00</td>\n",
              "    </tr>\n",
              "    <tr>\n",
              "      <td>20</td>\n",
              "      <td>0.017650</td>\n",
              "      <td>0.025346</td>\n",
              "      <td>0.978901</td>\n",
              "      <td>00:00</td>\n",
              "    </tr>\n",
              "    <tr>\n",
              "      <td>21</td>\n",
              "      <td>0.017355</td>\n",
              "      <td>0.024895</td>\n",
              "      <td>0.979882</td>\n",
              "      <td>00:00</td>\n",
              "    </tr>\n",
              "    <tr>\n",
              "      <td>22</td>\n",
              "      <td>0.017081</td>\n",
              "      <td>0.024483</td>\n",
              "      <td>0.980373</td>\n",
              "      <td>00:00</td>\n",
              "    </tr>\n",
              "    <tr>\n",
              "      <td>23</td>\n",
              "      <td>0.016825</td>\n",
              "      <td>0.024105</td>\n",
              "      <td>0.980864</td>\n",
              "      <td>00:00</td>\n",
              "    </tr>\n",
              "    <tr>\n",
              "      <td>24</td>\n",
              "      <td>0.016586</td>\n",
              "      <td>0.023756</td>\n",
              "      <td>0.980864</td>\n",
              "      <td>00:00</td>\n",
              "    </tr>\n",
              "    <tr>\n",
              "      <td>25</td>\n",
              "      <td>0.016360</td>\n",
              "      <td>0.023433</td>\n",
              "      <td>0.980864</td>\n",
              "      <td>00:00</td>\n",
              "    </tr>\n",
              "    <tr>\n",
              "      <td>26</td>\n",
              "      <td>0.016148</td>\n",
              "      <td>0.023135</td>\n",
              "      <td>0.981354</td>\n",
              "      <td>00:00</td>\n",
              "    </tr>\n",
              "    <tr>\n",
              "      <td>27</td>\n",
              "      <td>0.015948</td>\n",
              "      <td>0.022858</td>\n",
              "      <td>0.981845</td>\n",
              "      <td>00:00</td>\n",
              "    </tr>\n",
              "    <tr>\n",
              "      <td>28</td>\n",
              "      <td>0.015758</td>\n",
              "      <td>0.022601</td>\n",
              "      <td>0.982336</td>\n",
              "      <td>00:00</td>\n",
              "    </tr>\n",
              "    <tr>\n",
              "      <td>29</td>\n",
              "      <td>0.015577</td>\n",
              "      <td>0.022362</td>\n",
              "      <td>0.982336</td>\n",
              "      <td>00:00</td>\n",
              "    </tr>\n",
              "    <tr>\n",
              "      <td>30</td>\n",
              "      <td>0.015406</td>\n",
              "      <td>0.022139</td>\n",
              "      <td>0.982336</td>\n",
              "      <td>00:00</td>\n",
              "    </tr>\n",
              "    <tr>\n",
              "      <td>31</td>\n",
              "      <td>0.015242</td>\n",
              "      <td>0.021931</td>\n",
              "      <td>0.982826</td>\n",
              "      <td>00:00</td>\n",
              "    </tr>\n",
              "    <tr>\n",
              "      <td>32</td>\n",
              "      <td>0.015085</td>\n",
              "      <td>0.021736</td>\n",
              "      <td>0.982826</td>\n",
              "      <td>00:00</td>\n",
              "    </tr>\n",
              "    <tr>\n",
              "      <td>33</td>\n",
              "      <td>0.014936</td>\n",
              "      <td>0.021553</td>\n",
              "      <td>0.982826</td>\n",
              "      <td>00:00</td>\n",
              "    </tr>\n",
              "    <tr>\n",
              "      <td>34</td>\n",
              "      <td>0.014793</td>\n",
              "      <td>0.021380</td>\n",
              "      <td>0.982826</td>\n",
              "      <td>00:00</td>\n",
              "    </tr>\n",
              "    <tr>\n",
              "      <td>35</td>\n",
              "      <td>0.014655</td>\n",
              "      <td>0.021218</td>\n",
              "      <td>0.982826</td>\n",
              "      <td>00:00</td>\n",
              "    </tr>\n",
              "    <tr>\n",
              "      <td>36</td>\n",
              "      <td>0.014522</td>\n",
              "      <td>0.021065</td>\n",
              "      <td>0.982826</td>\n",
              "      <td>00:00</td>\n",
              "    </tr>\n",
              "    <tr>\n",
              "      <td>37</td>\n",
              "      <td>0.014395</td>\n",
              "      <td>0.020920</td>\n",
              "      <td>0.983317</td>\n",
              "      <td>00:00</td>\n",
              "    </tr>\n",
              "    <tr>\n",
              "      <td>38</td>\n",
              "      <td>0.014271</td>\n",
              "      <td>0.020783</td>\n",
              "      <td>0.983317</td>\n",
              "      <td>00:00</td>\n",
              "    </tr>\n",
              "    <tr>\n",
              "      <td>39</td>\n",
              "      <td>0.014152</td>\n",
              "      <td>0.020652</td>\n",
              "      <td>0.983317</td>\n",
              "      <td>00:00</td>\n",
              "    </tr>\n",
              "  </tbody>\n",
              "</table>"
            ],
            "text/plain": [
              "<IPython.core.display.HTML object>"
            ]
          },
          "metadata": {}
        }
      ],
      "source": [
        "# 이전보다 학습률 낮추고 에포크 횟수 높임 \n",
        "# 더 깊은 모델을 만들었기 때문이라고 함 (어떤 의미인지 잘 모르겠음)\n",
        "learn.fit(40, 0.1)"
      ]
    },
    {
      "cell_type": "markdown",
      "metadata": {
        "id": "lxR96NMmLfg9"
      },
      "source": [
        "We're not showing the 40 lines of output here to save room; the training process is recorded in `learn.recorder`, with the table of output stored in the `values` attribute, so we can plot the accuracy over training as:"
      ]
    },
    {
      "cell_type": "code",
      "execution_count": null,
      "metadata": {
        "id": "CUqVVv14Lfg-",
        "outputId": "5c61365c-732d-4e9a-ae06-4becf4888614"
      },
      "outputs": [
        {
          "data": {
            "image/png": "[encoded data removed]",
            "text/plain": [
              "<Figure size 432x288 with 1 Axes>"
            ]
          },
          "metadata": {
            "needs_background": "light"
          },
          "output_type": "display_data"
        }
      ],
      "source": [
        "# 학습 과정에 따른 정확도 그래프\n",
        "# - 위의 학습과정은 learn.recorder에 기록됨\n",
        "# - itemgot은 특정 index에 해당되는 값만 튜플로 만들어 줌\n",
        "\n",
        "plt.plot(L(learn.recorder.values).itemgot(2));"
      ]
    },
    {
      "cell_type": "markdown",
      "metadata": {
        "id": "s3BKPIyqLfg-"
      },
      "source": [
        "And we can view the final accuracy:"
      ]
    },
    {
      "cell_type": "code",
      "execution_count": null,
      "metadata": {
        "id": "sQBJ8xiJLfg-",
        "outputId": "5bd7b154-35ee-499b-d17c-549de7b40ae6",
        "colab": {
          "base_uri": "https://localhost:8080/"
        }
      },
      "outputs": [
        {
          "output_type": "execute_result",
          "data": {
            "text/plain": [
              "0.983316957950592"
            ]
          },
          "metadata": {},
          "execution_count": 144
        }
      ],
      "source": [
        "# 마지막 정확도\n",
        "learn.recorder.values[-1][2]"
      ]
    },
    {
      "cell_type": "markdown",
      "metadata": {
        "id": "to03tT01Lfg-"
      },
      "source": [
        "👍 딥러닝이 환상적인 일을 해낼 수 있는 이유\n",
        "1. 올바른 파라미터 -> 원하는 문제를 원하는 정확도로 풀어낼 수 있는 함수 (신경망)\n",
        "2. 모든 함수에 대한 최적의 파라미터 찾는 방법 (SGD)\n",
        "\n",
        "At this point we have something that is rather magical:\n",
        "\n",
        "1. A function that can solve any problem to any level of accuracy (the neural network) given the correct set of parameters\n",
        "1. A way to find the best set of parameters for any function (stochastic gradient descent)\n",
        "\n",
        "This is why deep learning can do things which seem rather magical, such fantastic things. Believing that this combination of simple techniques can really solve any problem is one of the biggest steps that we find many students have to take. It seems too good to be true—surely things should be more difficult and complicated than this? Our recommendation: try it out! We just tried it on the MNIST dataset and you have seen the results. And since we are doing everything from scratch ourselves (except for calculating the gradients) you know that there is no special magic hiding behind the scenes."
      ]
    },
    {
      "cell_type": "markdown",
      "metadata": {
        "id": "JrDnQaK6Lfg-"
      },
      "source": [
        "### Going Deeper: 좀 더 깊은 모델"
      ]
    },
    {
      "cell_type": "markdown",
      "metadata": {
        "id": "sQVX_1myLfg-"
      },
      "source": [
        "### 계층 추가\n",
        "* 계층은 계속 추가할 수 있음\n",
        "* 하지만 모델이 깊어지면 -> 파라미터 최적화 어려워짐 (나중에 배움)\n",
        "\n",
        "### 깊은 모델 필요한 이유\n",
        "* 선형 + 비선형 + 선형 = \b모든 함수를 근사하는데 충분\n",
        "* 그런데도 깊은 모델이 필표한 이유 = 성능\n",
        "* 더 많은 계층의 작은 행렬 > 적은 계층의 큰 행렬\n",
        "* 메모리를 덜 차지하는 방식\n",
        "\n",
        "There is no need to stop at just two linear layers. We can add as many as we want, as long as we add a nonlinearity between each pair of linear layers. As you will learn, however, the deeper the model gets, the harder it is to optimize the parameters in practice. Later in this book you will learn about some simple but brilliantly effective techniques for training deeper models.\n",
        "\n",
        "We already know that a single nonlinearity with two linear layers is enough to approximate any function. So why would we use deeper models? The reason is performance. With a deeper model (that is, one with more layers) we do not need to use as many parameters; it turns out that we can use smaller matrices with more layers, and get better results than we would get with larger matrices, and few layers.\n",
        "\n",
        "That means that we can train the model more quickly, and it will take up less memory. In the 1990s researchers were so focused on the universal approximation theorem that very few were experimenting with more than one nonlinearity. This theoretical but not practical foundation held back the field for years. Some researchers, however, did experiment with deep models, and eventually were able to show that these models could perform much better in practice. Eventually, theoretical results were developed which showed why this happens. Today, it is extremely unusual to find anybody using a neural network with just one nonlinearity.\n",
        "\n",
        "Here what happens when we train an 18-layer model using the same approach we saw in <<chapter_intro>>:"
      ]
    },
    {
      "cell_type": "code",
      "execution_count": null,
      "metadata": {
        "id": "Ur5JaWSMLfg_",
        "outputId": "f0dac7eb-2018-4fa9-a5e4-46b80135ce02",
        "colab": {
          "base_uri": "https://localhost:8080/",
          "height": 81
        }
      },
      "outputs": [
        {
          "output_type": "display_data",
          "data": {
            "text/html": [
              "<table border=\"1\" class=\"dataframe\">\n",
              "  <thead>\n",
              "    <tr style=\"text-align: left;\">\n",
              "      <th>epoch</th>\n",
              "      <th>train_loss</th>\n",
              "      <th>valid_loss</th>\n",
              "      <th>accuracy</th>\n",
              "      <th>time</th>\n",
              "    </tr>\n",
              "  </thead>\n",
              "  <tbody>\n",
              "    <tr>\n",
              "      <td>0</td>\n",
              "      <td>0.083911</td>\n",
              "      <td>0.014109</td>\n",
              "      <td>0.996565</td>\n",
              "      <td>03:37</td>\n",
              "    </tr>\n",
              "  </tbody>\n",
              "</table>"
            ],
            "text/plain": [
              "<IPython.core.display.HTML object>"
            ]
          },
          "metadata": {}
        }
      ],
      "source": [
        "# 1장과 같은 방식, 18계층 모델\n",
        "dls = ImageDataLoaders.from_folder(path)\n",
        "learn = cnn_learner(dls, resnet18, pretrained=False,\n",
        "                    loss_func=F.cross_entropy, metrics=accuracy)\n",
        "learn.fit_one_cycle(1, 0.1)"
      ]
    },
    {
      "cell_type": "markdown",
      "metadata": {
        "id": "Yna8BJs6Lfg_"
      },
      "source": [
        "Nearly 100% accuracy! That's a big difference compared to our simple neural net. But as you'll learn in the remainder of this book, there are just a few little tricks you need to use to get such great results from scratch yourself. You already know the key foundational pieces. (Of course, even once you know all the tricks, you'll nearly always want to work with the pre-built classes provided by PyTorch and fastai, because they save you having to think about all the little details yourself.)"
      ]
    },
    {
      "cell_type": "markdown",
      "metadata": {
        "id": "Pc5TDMj5Lfg_"
      },
      "source": [
        "## Jargon Recap"
      ]
    },
    {
      "cell_type": "markdown",
      "source": [
        "고생많으셨습니다😭😭😭 요약해봅시다!!\n",
        "\n",
        "## 🌟 가장 중요한 두 전문용어\n",
        "- **활성(Activations)**: (선형 및 비선형 계층에서) 계산된 수\n",
        "- **파라미터(Parameters)**: 임의로 초기화되고 최적화된 수 (즉 모델을 정의하는 수)\n",
        "\n",
        "## 🗂 텐서\n",
        "- 활성과 파라미터는 텐서로 저장됨\n",
        "- 텐서는 행렬같은 배열\n",
        "- 행렬은 행과 열로 구성 = 축 or 차원 이라고 부름\n",
        "- 랭크0 = 스칼라, 랭크1 = 벡터, 랭크2 = 행렬\n",
        "\n",
        "## 📚 계층\n",
        "- 선형 or 비선형\n",
        "- 선형 계층 1번 + 비선형 계층 1번 = 하나의 계층이라고 하는 사람도 있음\n",
        "- 비선형 = 활성화 함수\n",
        "\n",
        "## 📝 SGD 용어\n",
        "- ReLU: 양수 그대로, 음수 0으로 변환\n",
        "- 미니배치: 두 배열에 모인 입력과 타겟의 작은 그룹. 미니배치 단위로 경사하강 수행\n",
        "- 순전파(forward pass): 모델(입력) -> 예측\n",
        "- 손실(loss): 모델의 수행력을 값으로 표현\n",
        "- gardient: 손실을 미분한 값\n",
        "- 역전파(backward pass): 손실 그레이디언트를 계산하는 과정\n",
        "- 경사 하강: 그레이디언트의 반대 방향으로 나아가는 한번의 단계\n",
        "- 학습률: SGD를 적용하여 파라미터가 갱신되어야하는 크기"
      ],
      "metadata": {
        "id": "mtr1DruENW9E"
      }
    },
    {
      "cell_type": "markdown",
      "metadata": {
        "id": "YIkX0fflLfg_"
      },
      "source": [
        "Congratulations: you now know how to create and train a deep neural network from scratch! We've gone through quite a few steps to get to this point, but you might be surprised at how simple it really is.\n",
        "\n",
        "Now that we are at this point, it is a good opportunity to define, and review, some jargon and key concepts.\n",
        "\n",
        "A neural network contains a lot of numbers, but they are only of two types: numbers that are calculated, and the parameters that these numbers are calculated from. This gives us the two most important pieces of jargon to learn:\n",
        "\n",
        "\n",
        "- Activations:: Numbers that are calculated (both by linear and nonlinear layers)\n",
        "- Parameters:: Numbers that are randomly initialized, and optimized (that is, the numbers that define the model)\n",
        "\n",
        "We will often talk in this book about activations and parameters. Remember that they have very specific meanings. They are numbers. They are not abstract concepts, but they are actual specific numbers that are in your model. Part of becoming a good deep learning practitioner is getting used to the idea of actually looking at your activations and parameters, and plotting them and testing whether they are behaving correctly.\n",
        "\n",
        "Our activations and parameters are all contained in *tensors*. These are simply regularly shaped arrays—for example, a matrix. Matrices have rows and columns; we call these the *axes* or *dimensions*. The number of dimensions of a tensor is its *rank*. There are some special tensors:\n",
        "\n",
        "- Rank zero: scalar\n",
        "- Rank one: vector\n",
        "- Rank two: matrix\n",
        "\n",
        "A neural network contains a number of layers. Each layer is either *linear* or *nonlinear*. We generally alternate between these two kinds of layers in a neural network. Sometimes people refer to both a linear layer and its subsequent nonlinearity together as a single layer. Yes, this is confusing. Sometimes a nonlinearity is referred to as an *activation function*.\n",
        "\n",
        "<<dljargon1>> summarizes the key concepts related to SGD.\n",
        "\n",
        "```asciidoc\n",
        "[[dljargon1]]\n",
        ".Deep learning vocabulary\n",
        "[options=\"header\"]\n",
        "|=====\n",
        "| Term | Meaning\n",
        "|ReLU | Function that returns 0 for negative numbers and doesn't change positive numbers.\n",
        "|Mini-batch | A small group of inputs and labels gathered together in two arrays. A gradient descent step is updated on this batch (rather than a whole epoch).\n",
        "|Forward pass | Applying the model to some input and computing the predictions.\n",
        "|Loss | A value that represents how well (or badly) our model is doing.\n",
        "|Gradient | The derivative of the loss with respect to some parameter of the model.\n",
        "|Backward pass | Computing the gradients of the loss with respect to all model parameters.\n",
        "|Gradient descent | Taking a step in the directions opposite to the gradients to make the model parameters a little bit better.\n",
        "|Learning rate | The size of the step we take when applying SGD to update the parameters of the model.\n",
        "|=====\n",
        "```"
      ]
    },
    {
      "cell_type": "markdown",
      "metadata": {
        "id": "4RdZ6tsnLfg_"
      },
      "source": [
        "> note: _Choose Your Own Adventure_ Reminder: Did you choose to skip over chapters 2 & 3, in your excitement to peek under the hood? Well, here's your reminder to head back to chapter 2 now, because you'll be needing to know that stuff very soon!"
      ]
    },
    {
      "cell_type": "markdown",
      "metadata": {
        "id": "uLHTaFn3LfhA"
      },
      "source": [
        "## Questionnaire"
      ]
    },
    {
      "cell_type": "markdown",
      "metadata": {
        "id": "y_NeK-pqLfhA"
      },
      "source": [
        "1. How is a grayscale image represented on a computer? How about a color image?\n",
        "1. How are the files and folders in the `MNIST_SAMPLE` dataset structured? Why?\n",
        "1. Explain how the \"pixel similarity\" approach to classifying digits works.\n",
        "1. What is a list comprehension? Create one now that selects odd numbers from a list and doubles them.\n",
        "1. What is a \"rank-3 tensor\"?\n",
        "1. What is the difference between tensor rank and shape? How do you get the rank from the shape?\n",
        "1. What are RMSE and L1 norm?\n",
        "1. How can you apply a calculation on thousands of numbers at once, many thousands of times faster than a Python loop?\n",
        "1. Create a 3×3 tensor or array containing the numbers from 1 to 9. Double it. Select the bottom-right four numbers.\n",
        "1. What is broadcasting?\n",
        "1. Are metrics generally calculated using the training set, or the validation set? Why?\n",
        "1. What is SGD?\n",
        "1. Why does SGD use mini-batches?\n",
        "1. What are the seven steps in SGD for machine learning?\n",
        "1. How do we initialize the weights in a model?\n",
        "1. What is \"loss\"?\n",
        "1. Why can't we always use a high learning rate?\n",
        "1. What is a \"gradient\"?\n",
        "1. Do you need to know how to calculate gradients yourself?\n",
        "1. Why can't we use accuracy as a loss function?\n",
        "1. Draw the sigmoid function. What is special about its shape?\n",
        "1. What is the difference between a loss function and a metric?\n",
        "1. What is the function to calculate new weights using a learning rate?\n",
        "1. What does the `DataLoader` class do?\n",
        "1. Write pseudocode showing the basic steps taken in each epoch for SGD.\n",
        "1. Create a function that, if passed two arguments `[1,2,3,4]` and `'abcd'`, returns `[(1, 'a'), (2, 'b'), (3, 'c'), (4, 'd')]`. What is special about that output data structure?\n",
        "1. What does `view` do in PyTorch?\n",
        "1. What are the \"bias\" parameters in a neural network? Why do we need them?\n",
        "1. What does the `@` operator do in Python?\n",
        "1. What does the `backward` method do?\n",
        "1. Why do we have to zero the gradients?\n",
        "1. What information do we have to pass to `Learner`?\n",
        "1. Show Python or pseudocode for the basic steps of a training loop.\n",
        "1. What is \"ReLU\"? Draw a plot of it for values from `-2` to `+2`.\n",
        "1. What is an \"activation function\"?\n",
        "1. What's the difference between `F.relu` and `nn.ReLU`?\n",
        "1. The universal approximation theorem shows that any function can be approximated as closely as needed using just one nonlinearity. So why do we normally use more?"
      ]
    },
    {
      "cell_type": "markdown",
      "metadata": {
        "id": "iU2nL1s7LfhA"
      },
      "source": [
        "### Further Research"
      ]
    },
    {
      "cell_type": "markdown",
      "metadata": {
        "id": "2GajdAjsLfhA"
      },
      "source": [
        "1. Create your own implementation of `Learner` from scratch, based on the training loop shown in this chapter.\n",
        "1. Complete all the steps in this chapter using the full MNIST datasets (that is, for all digits, not just 3s and 7s). This is a significant project and will take you quite a bit of time to complete! You'll need to do some of your own research to figure out how to overcome some obstacles you'll meet on the way."
      ]
    },
    {
      "cell_type": "code",
      "execution_count": null,
      "metadata": {
        "id": "COoL7C8hLfhA"
      },
      "outputs": [],
      "source": [
        ""
      ]
    }
  ],
  "metadata": {
    "jupytext": {
      "split_at_heading": true
    },
    "kernelspec": {
      "display_name": "Python 3",
      "language": "python",
      "name": "python3"
    },
    "colab": {
      "name": "04_mnist_basics.ipynb의 사본",
      "provenance": [],
      "collapsed_sections": [
        "2pRp5to7Lffz",
        "hxU-ZuTOLff2",
        "xA6ClpvuLff_",
        "trKyPhluLfgI",
        "Hv8eEFSmLfgM",
        "tEDVObi4LfgR",
        "xiTv2i74LfgV",
        "H9Ozdjz8LfgY",
        "ufScM3N9Lfga",
        "5qodIQgwLfgc",
        "vO41-eEPLfgd",
        "2Gkkvb-GLfge",
        "65lECzXALfgf",
        "xEuQPB-tLfgg",
        "KvN5VsINLfgi",
        "P2AG9xKALfgk",
        "t-HZCLTMLfgk",
        "m4IobEVbLfgu",
        "iU2nL1s7LfhA"
      ],
      "include_colab_link": true
    }
  },
  "nbformat": 4,
  "nbformat_minor": 0
}